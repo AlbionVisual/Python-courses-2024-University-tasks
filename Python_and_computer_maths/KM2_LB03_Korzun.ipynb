{
 "cells": [
  {
   "cell_type": "markdown",
   "metadata": {},
   "source": [
    "# Лабораторная работа №3"
   ]
  },
  {
   "cell_type": "markdown",
   "metadata": {},
   "source": [
    "Корзун В. А. Вариант 3 07.04.2024"
   ]
  },
  {
   "cell_type": "markdown",
   "metadata": {},
   "source": [
    "## Анимированное построение линии на плоскости"
   ]
  },
  {
   "cell_type": "markdown",
   "metadata": {},
   "source": [
    "a) $\\color{Red}{Создание}$ $\\color{Red}{анимации}$ построения графика некторой явно заданной аналитической функции $y=y(x)$ по значениям $x$, последовательно изменяющимся от $x_{min}$ до $x_{max}$ с шагом $step$. Выполнение задания для $y(x) = (x - 5)^3$, $x_{min} = 0$, $x_{max} = 10$, $step = 0.1$."
   ]
  },
  {
   "cell_type": "markdown",
   "metadata": {},
   "source": [
    "b) $\\color{Red}{Создание}$ $\\color{Red}{анимации}$ построения графика параметрически заданной функции $x = x(t)$, $y = y(t)$ по значениям $t$, последовательно изменяющимся от $t_{min}$ до $t_{max}$ с шагом $step$. Выполнение задания для функции $x = arcsin (sit(t))$, $y = arccos(cos(t))$, где $t_{min} = 0$, $t_{max} = 10$, $step = 0.1$."
   ]
  },
  {
   "cell_type": "markdown",
   "metadata": {},
   "source": [
    "### А - явно заданная ф-ция"
   ]
  },
  {
   "cell_type": "code",
   "execution_count": 2,
   "metadata": {},
   "outputs": [],
   "source": [
    "import numpy as np"
   ]
  },
  {
   "cell_type": "code",
   "execution_count": 3,
   "metadata": {},
   "outputs": [],
   "source": [
    "import matplotlib.pyplot as plt"
   ]
  },
  {
   "cell_type": "code",
   "execution_count": 4,
   "metadata": {},
   "outputs": [],
   "source": [
    "from matplotlib.animation import FuncAnimation"
   ]
  },
  {
   "cell_type": "code",
   "execution_count": 5,
   "metadata": {},
   "outputs": [],
   "source": [
    "%matplotlib widget"
   ]
  },
  {
   "cell_type": "markdown",
   "metadata": {},
   "source": [
    "Будем строить анимацию для функции вида $y(x) = (x - 5)^3$ по значениям $x$, изменяющимся от $x_{min} = 0$ до $x_{max} = 10$ с шагом $step = 0.1$"
   ]
  },
  {
   "cell_type": "code",
   "execution_count": 11,
   "metadata": {},
   "outputs": [],
   "source": [
    "def y(x):\n",
    "    return (x-5)**3\n",
    "# или так\n",
    "y = lambda x: (x-5)**3\n",
    "dy = lambda x: 3*(x-5)**2"
   ]
  },
  {
   "cell_type": "code",
   "execution_count": 12,
   "metadata": {},
   "outputs": [],
   "source": [
    "x_min = 0; x_max = 10; step = 0.1"
   ]
  },
  {
   "cell_type": "markdown",
   "metadata": {},
   "source": [
    "Создадим массив x_array равномерно распределённых чисел на отрезке $[x_{min}, x_{max}]$ с шагом $step$ с помощью фунkции arange и также соответствующие y. "
   ]
  },
  {
   "cell_type": "code",
   "execution_count": 13,
   "metadata": {},
   "outputs": [],
   "source": [
    "x_array = np.arange(x_min, x_max, step)\n",
    "y_array = y(x_array)"
   ]
  },
  {
   "cell_type": "markdown",
   "metadata": {},
   "source": [
    "Из двух массивов x_array и y_array создадим матрицу matrix координат точек графика функции $y(x)$. Матрица состоит из двух столбцов. Первый столбец матрицы содержит $x$-координаты точек, второй столбец -- $y$ -координаты точек"
   ]
  },
  {
   "cell_type": "code",
   "execution_count": 14,
   "metadata": {},
   "outputs": [],
   "source": [
    "matrix = np.transpose([x_array, y_array])"
   ]
  },
  {
   "cell_type": "markdown",
   "metadata": {},
   "source": [
    "С помощью функции figure из модуля pyplot создадим графическое окно fig1, в котором в дальнейшем будет отображаться анимация"
   ]
  },
  {
   "cell_type": "code",
   "execution_count": 9,
   "metadata": {},
   "outputs": [
    {
     "data": {
      "application/vnd.jupyter.widget-view+json": {
       "model_id": "798af9fd82b9459b983b7e72166a5f1e",
       "version_major": 2,
       "version_minor": 0
      },
      "image/png": "[encoded data removed]",
      "text/html": [
       "\n",
       "            <div style=\"display: inline-block;\">\n",
       "                <div class=\"jupyter-widgets widget-label\" style=\"text-align: center;\">\n",
       "                    Figure\n",
       "                </div>\n",
       "                <img src='data:image/png;base64,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' width=640.0/>\n",
       "            </div>\n",
       "        "
      ],
      "text/plain": [
       "Canvas(toolbar=Toolbar(toolitems=[('Home', 'Reset original view', 'home', 'home'), ('Back', 'Back to previous …"
      ]
     },
     "metadata": {},
     "output_type": "display_data"
    }
   ],
   "source": [
    "fig1 = plt.figure()"
   ]
  },
  {
   "cell_type": "markdown",
   "metadata": {},
   "source": [
    "C помощью функции axes из модуля pyplot cоздадим графическую область ax1 и зададим для нее пределы по осям"
   ]
  },
  {
   "cell_type": "code",
   "execution_count": 10,
   "metadata": {},
   "outputs": [
    {
     "data": {
      "text/plain": [
       "(-1.0, 11.0, -126.0, 118.64900000000003)"
      ]
     },
     "execution_count": 10,
     "metadata": {},
     "output_type": "execute_result"
    }
   ],
   "source": [
    "y_min, y_max = np.min(y_array), np.max(y_array)\n",
    "\n",
    "ax1 = plt.axes()\n",
    "plt.axis([x_min - 1, x_max + 1, y_min - 1, y_max + 1])"
   ]
  },
  {
   "cell_type": "markdown",
   "metadata": {},
   "source": [
    "С помощью функции plot из пакета pyplot создадим в графической области ax1\n",
    "графический объект типа Line2D синего цвета, координаты которого пока не\n",
    "определены"
   ]
  },
  {
   "cell_type": "code",
   "execution_count": 11,
   "metadata": {},
   "outputs": [
    {
     "name": "stdout",
     "output_type": "stream",
     "text": [
      "<class 'matplotlib.lines.Line2D'>\n"
     ]
    },
    {
     "data": {
      "text/plain": [
       "(array([], dtype=float64), array([], dtype=float64))"
      ]
     },
     "execution_count": 11,
     "metadata": {},
     "output_type": "execute_result"
    }
   ],
   "source": [
    "line1, = ax1.plot([],[],'b')\n",
    "print(type(line1))\n",
    "line1.get_xdata(), line1.get_ydata()"
   ]
  },
  {
   "cell_type": "code",
   "execution_count": 12,
   "metadata": {},
   "outputs": [
    {
     "name": "stdout",
     "output_type": "stream",
     "text": [
      "\u001b[1;31mSignature:\u001b[0m  \u001b[0mline1\u001b[0m\u001b[1;33m.\u001b[0m\u001b[0mget_xdata\u001b[0m\u001b[1;33m(\u001b[0m\u001b[0morig\u001b[0m\u001b[1;33m=\u001b[0m\u001b[1;32mTrue\u001b[0m\u001b[1;33m)\u001b[0m\u001b[1;33m\u001b[0m\u001b[1;33m\u001b[0m\u001b[0m\n",
      "\u001b[1;31mDocstring:\u001b[0m\n",
      "Return the xdata.\n",
      "\n",
      "If *orig* is *True*, return the original data, else the\n",
      "processed data.\n",
      "\u001b[1;31mFile:\u001b[0m      f:\\apps\\anaconda\\lib\\site-packages\\matplotlib\\lines.py\n",
      "\u001b[1;31mType:\u001b[0m      method"
     ]
    }
   ],
   "source": [
    "? line1.get_xdata"
   ]
  },
  {
   "cell_type": "markdown",
   "metadata": {},
   "source": [
    "Определим пользовательскую функцию одного аргумента at_frame1 , которая будет\n",
    "вызываться в каждом кадре анимации"
   ]
  },
  {
   "cell_type": "markdown",
   "metadata": {},
   "source": [
    "Единственный аргумент функции at_frame1 является массивом из $x$ и $y$ координат точки графика функции. Функция at_frame1 добавляет к графическому объектy line1 точку с координатами $(x, y)$\n"
   ]
  },
  {
   "cell_type": "code",
   "execution_count": 13,
   "metadata": {},
   "outputs": [],
   "source": [
    "def at_frame1(point):\n",
    "    \"\"\"добавляет к объекту line1 точку с координатами (point[0],point[1])\n",
    "    \n",
    "    Arguments :\n",
    "    \n",
    "    point : массив из двух элементов\n",
    "    \n",
    "    Returns : None\n",
    "    \"\"\"\n",
    "    x_coord = list(line1.get_xdata())\n",
    "    y_coord = list(line1.get_ydata())\n",
    "\n",
    "    x_coord.append(point[0])\n",
    "    y_coord.append(point[1])\n",
    "\n",
    "    line1.set_data(x_coord, y_coord)"
   ]
  },
  {
   "cell_type": "code",
   "execution_count": 14,
   "metadata": {},
   "outputs": [
    {
     "name": "stdout",
     "output_type": "stream",
     "text": [
      "\u001b[1;31mSignature:\u001b[0m  \u001b[0mline1\u001b[0m\u001b[1;33m.\u001b[0m\u001b[0mset_data\u001b[0m\u001b[1;33m(\u001b[0m\u001b[1;33m*\u001b[0m\u001b[0margs\u001b[0m\u001b[1;33m)\u001b[0m\u001b[1;33m\u001b[0m\u001b[1;33m\u001b[0m\u001b[0m\n",
      "\u001b[1;31mDocstring:\u001b[0m\n",
      "Set the x and y data.\n",
      "\n",
      "Parameters\n",
      "----------\n",
      "*args : (2, N) array or two 1D arrays\n",
      "\u001b[1;31mFile:\u001b[0m      f:\\apps\\anaconda\\lib\\site-packages\\matplotlib\\lines.py\n",
      "\u001b[1;31mType:\u001b[0m      method"
     ]
    }
   ],
   "source": [
    "? line1.set_data"
   ]
  },
  {
   "cell_type": "code",
   "execution_count": 15,
   "metadata": {},
   "outputs": [
    {
     "name": "stdout",
     "output_type": "stream",
     "text": [
      "Help on function at_frame1 in module __main__:\n",
      "\n",
      "at_frame1(point)\n",
      "    добавляет к объекту line1 точку с координатами (point[0],point[1])\n",
      "    \n",
      "    Arguments :\n",
      "    \n",
      "    point : массив из двух элементов\n",
      "    \n",
      "    Returns : None\n",
      "\n"
     ]
    }
   ],
   "source": [
    "help(at_frame1)"
   ]
  },
  {
   "cell_type": "code",
   "execution_count": 16,
   "metadata": {},
   "outputs": [
    {
     "name": "stdout",
     "output_type": "stream",
     "text": [
      "\u001b[1;31mSignature:\u001b[0m  \u001b[0mat_frame1\u001b[0m\u001b[1;33m(\u001b[0m\u001b[0mpoint\u001b[0m\u001b[1;33m)\u001b[0m\u001b[1;33m\u001b[0m\u001b[1;33m\u001b[0m\u001b[0m\n",
      "\u001b[1;31mDocstring:\u001b[0m\n",
      "добавляет к объекту line1 точку с координатами (point[0],point[1])\n",
      "\n",
      "Arguments :\n",
      "\n",
      "point : массив из двух элементов\n",
      "\n",
      "Returns : None\n",
      "\u001b[1;31mFile:\u001b[0m      c:\\users\\huawei\\appdata\\local\\temp\\ipykernel_18980\\3591046323.py\n",
      "\u001b[1;31mType:\u001b[0m      function"
     ]
    }
   ],
   "source": [
    "? at_frame1"
   ]
  },
  {
   "cell_type": "code",
   "execution_count": 17,
   "metadata": {},
   "outputs": [
    {
     "name": "stdout",
     "output_type": "stream",
     "text": [
      "добавляет к объекту line1 точку с координатами (point[0],point[1])\n",
      "    \n",
      "    Arguments :\n",
      "    \n",
      "    point : массив из двух элементов\n",
      "    \n",
      "    Returns : None\n",
      "    \n"
     ]
    }
   ],
   "source": [
    "print(at_frame1.__doc__)"
   ]
  },
  {
   "cell_type": "markdown",
   "metadata": {},
   "source": [
    "Для построения анимации полагаем аргумент frames для функции FuncAnimation следующим образом: frames=matrix . Это означает, что количество кадров анимации будет совпадать с количеством строк матрицы matrix . При этом для каждого кадра анимации будет вызываться функция at_frame1 со значением аргумента, равным массиву со значениями строки матрицы matrix , соответствующей номеру кадра"
   ]
  },
  {
   "cell_type": "markdown",
   "metadata": {},
   "source": [
    "$\\color{Red}{Важная}$ $\\color{Red}{информация}$ $\\color{Red}{для}$ $\\color{Red}{построения}$ $\\color{Red}{анимации:}$ вызов функций figure , axes ,\n",
    "plot , необходимых для анимации, а также вызов функции FuncAnimation должны\n",
    "располагаться в одной ячейке кода"
   ]
  },
  {
   "cell_type": "code",
   "execution_count": 18,
   "metadata": {},
   "outputs": [
    {
     "data": {
      "text/plain": [
       "<matplotlib.animation.FuncAnimation at 0x23c3ad79d90>"
      ]
     },
     "execution_count": 18,
     "metadata": {},
     "output_type": "execute_result"
    },
    {
     "data": {
      "application/vnd.jupyter.widget-view+json": {
       "model_id": "9489dfe4df8148caa560c28382785fb6",
       "version_major": 2,
       "version_minor": 0
      },
      "image/png": "[encoded data removed]",
      "text/html": [
       "\n",
       "            <div style=\"display: inline-block;\">\n",
       "                <div class=\"jupyter-widgets widget-label\" style=\"text-align: center;\">\n",
       "                    Figure\n",
       "                </div>\n",
       "                <img src='data:image/png;base64,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' width=640.0/>\n",
       "            </div>\n",
       "        "
      ],
      "text/plain": [
       "Canvas(toolbar=Toolbar(toolitems=[('Home', 'Reset original view', 'home', 'home'), ('Back', 'Back to previous …"
      ]
     },
     "metadata": {},
     "output_type": "display_data"
    }
   ],
   "source": [
    "fig1 = plt.figure()\n",
    "ax1 = plt.axes()\n",
    "plt.axis([x_min-1, x_max+1, y_min-1, y_max+1])\n",
    "line1, = ax1.plot([], [],'b')\n",
    "FuncAnimation(fig1, at_frame1, frames=matrix, repeat=False, interval=30)"
   ]
  },
  {
   "cell_type": "markdown",
   "metadata": {},
   "source": [
    "Для повторного воспроизведения анимации нужно запустить предыдующую ячейку кода снова"
   ]
  },
  {
   "cell_type": "markdown",
   "metadata": {},
   "source": [
    "### B - параметрически заданная функция"
   ]
  },
  {
   "cell_type": "markdown",
   "metadata": {},
   "source": [
    "$\\color{Red}{Создание}$ $\\color{Red}{анимации}$ построения графика параметрически заданной функции $x = x(t)$, $y = y(t)$ по значениям $t$, последовательно изменяющимся от $t_{min}$ до $t_{max}$ с шагом $step$. Выполнение задания для функции $x = arcsin (sit(t))$, $y = arccos(cos(t))$, где $t_{min} = 0$, $t_{max} = 10$, $step = 0.1$."
   ]
  },
  {
   "cell_type": "markdown",
   "metadata": {},
   "source": [
    "Определим две функции $x(t)$ и $y(t)$"
   ]
  },
  {
   "cell_type": "code",
   "execution_count": 19,
   "metadata": {},
   "outputs": [],
   "source": [
    "def x2(t):\n",
    "    return np.arcsin(np.sin(t))\n",
    "def y2(t):\n",
    "    return np.arccos(np.cos(t))\n",
    "\n",
    "\n",
    "x2 = np.vectorize(lambda t: np.arcsin(np.sin(t)))\n",
    "dx2 = np.vectorize(lambda t: (1/np.sqrt(1-np.sin(t)**2) * np.cos(t)) if np.sin(t)**2 != 1 else 1000**(-2))\n",
    "y2 = np.vectorize(lambda t: np.arccos(np.cos(t)))\n",
    "dy2 = np.vectorize(lambda t: (1/np.sqrt(1-np.cos(t)**2) * np.sin(t)) if np.cos(t)**2 != 1 else 1000**(-2))"
   ]
  },
  {
   "cell_type": "markdown",
   "metadata": {},
   "source": [
    "Также зададим переменные:"
   ]
  },
  {
   "cell_type": "code",
   "execution_count": 20,
   "metadata": {},
   "outputs": [],
   "source": [
    "t_min = 0; t_max = 10; step = 0.1"
   ]
  },
  {
   "cell_type": "markdown",
   "metadata": {},
   "source": [
    "Создадим массив равномерно распределённых значений t и значения функций x и y для этих t:"
   ]
  },
  {
   "cell_type": "code",
   "execution_count": 21,
   "metadata": {},
   "outputs": [],
   "source": [
    "t_array = np.arange(t_min, t_max, step)\n",
    "x2_array = x2(t_array)\n",
    "y2_array = y2(t_array)"
   ]
  },
  {
   "cell_type": "markdown",
   "metadata": {},
   "source": [
    "Из двух массивов x_array и y_array создадим матрицу matrix координат точек графика функции . Матрица состоит из двух столбцов. Первый столбец матрицы\n",
    "содержит $x$-координаты точек, второй столбец -- $y$-координаты точек"
   ]
  },
  {
   "cell_type": "code",
   "execution_count": 22,
   "metadata": {},
   "outputs": [],
   "source": [
    "matrix2 = np.transpose([x2_array, y2_array])"
   ]
  },
  {
   "cell_type": "markdown",
   "metadata": {},
   "source": [
    "Повторяем действия из предыдущего пункта:"
   ]
  },
  {
   "cell_type": "code",
   "execution_count": 23,
   "metadata": {},
   "outputs": [
    {
     "data": {
      "text/plain": [
       "(-2.5584073464102026, 2.5415926535897913, -1.0, 4.116814692820414)"
      ]
     },
     "execution_count": 23,
     "metadata": {},
     "output_type": "execute_result"
    },
    {
     "data": {
      "application/vnd.jupyter.widget-view+json": {
       "model_id": "0ad0b232d6c14b67ac38a3753169d4a8",
       "version_major": 2,
       "version_minor": 0
      },
      "image/png": "[encoded data removed]",
      "text/html": [
       "\n",
       "            <div style=\"display: inline-block;\">\n",
       "                <div class=\"jupyter-widgets widget-label\" style=\"text-align: center;\">\n",
       "                    Figure\n",
       "                </div>\n",
       "                <img src='data:image/png;base64,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' width=640.0/>\n",
       "            </div>\n",
       "        "
      ],
      "text/plain": [
       "Canvas(toolbar=Toolbar(toolitems=[('Home', 'Reset original view', 'home', 'home'), ('Back', 'Back to previous …"
      ]
     },
     "metadata": {},
     "output_type": "display_data"
    }
   ],
   "source": [
    "fig2 = plt.figure()\n",
    "x_min, x_max = np.min(x2_array), np.max(x2_array)\n",
    "y_min, y_max = np.min(y2_array), np.max(y2_array)\n",
    "ax2 = plt.axes()\n",
    "plt.axis([x_min-1, x_max+1, y_min-1, y_max+1])"
   ]
  },
  {
   "cell_type": "code",
   "execution_count": 24,
   "metadata": {},
   "outputs": [
    {
     "name": "stdout",
     "output_type": "stream",
     "text": [
      "<class 'matplotlib.lines.Line2D'>\n"
     ]
    },
    {
     "data": {
      "text/plain": [
       "(array([], dtype=float64), array([], dtype=float64))"
      ]
     },
     "execution_count": 24,
     "metadata": {},
     "output_type": "execute_result"
    }
   ],
   "source": [
    "line2, = ax2.plot([],[],'b')\n",
    "print(type(line2))\n",
    "line2.get_xdata(), line2.get_ydata()"
   ]
  },
  {
   "cell_type": "code",
   "execution_count": 25,
   "metadata": {},
   "outputs": [],
   "source": [
    "def at_frame2(point):\n",
    "    \"\"\"добавляет к объекту line2 точку с координатами (point[0],point[1])\n",
    "    \n",
    "    Arguments :\n",
    "    \n",
    "    point : массив из двух элементов\n",
    "    \n",
    "    Returns : None\n",
    "    \"\"\"\n",
    "    x_coord = list(line2.get_xdata())\n",
    "    y_coord = list(line2.get_ydata())\n",
    "\n",
    "    x_coord.append(point[0])\n",
    "    y_coord.append(point[1])\n",
    "\n",
    "    line2.set_data(x_coord, y_coord)"
   ]
  },
  {
   "cell_type": "code",
   "execution_count": 26,
   "metadata": {},
   "outputs": [
    {
     "data": {
      "text/plain": [
       "<matplotlib.animation.FuncAnimation at 0x23c3ad5fd90>"
      ]
     },
     "execution_count": 26,
     "metadata": {},
     "output_type": "execute_result"
    },
    {
     "data": {
      "application/vnd.jupyter.widget-view+json": {
       "model_id": "78a003e51d58428abb92e216df9d6a15",
       "version_major": 2,
       "version_minor": 0
      },
      "image/png": "[encoded data removed]",
      "text/html": [
       "\n",
       "            <div style=\"display: inline-block;\">\n",
       "                <div class=\"jupyter-widgets widget-label\" style=\"text-align: center;\">\n",
       "                    Figure\n",
       "                </div>\n",
       "                <img src='data:image/png;base64,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' width=640.0/>\n",
       "            </div>\n",
       "        "
      ],
      "text/plain": [
       "Canvas(toolbar=Toolbar(toolitems=[('Home', 'Reset original view', 'home', 'home'), ('Back', 'Back to previous …"
      ]
     },
     "metadata": {},
     "output_type": "display_data"
    }
   ],
   "source": [
    "fig2 = plt.figure()\n",
    "ax2 = plt.axes()\n",
    "plt.axis([x_min-1, x_max+1, y_min-1, y_max+1])\n",
    "line2, = ax2.plot([], [],'b')\n",
    "FuncAnimation(fig2, at_frame2, frames=matrix2, repeat=False, interval=150)"
   ]
  },
  {
   "cell_type": "markdown",
   "metadata": {},
   "source": [
    "## Движение точки по линии на плоскости"
   ]
  },
  {
   "cell_type": "markdown",
   "metadata": {},
   "source": [
    "$\\color{Red}{Создайте}$ $\\color{Red}{анимацию}$ движения точки по графику функции $x = x(t)$, $y = y(t)$ по значениям $t$, последовательно изменяющихся от $t_{min}$ до $t_{max}$ с шагом $step$. Функция $x=x(t)$, $y=y(t)$ и значения переменных $t_{min}$, $t_{max}$, $step$ задаются такими же как и при выполнении предыдущего задания"
   ]
  },
  {
   "cell_type": "markdown",
   "metadata": {},
   "source": [
    "### Реализация для явно заданной функции"
   ]
  },
  {
   "cell_type": "markdown",
   "metadata": {},
   "source": [
    "Последовательно выполним следущие шаги с использованием функций из модуля\n",
    "pyplot :\n",
    "- с помощью функции figure создадим графическое окно, в котором в\n",
    "дальнейшем будет отображаться анимация\n",
    "- с помощью функции axes cоздадим графическую область и зададим для нее\n",
    "пределы по осям с помощью функции axis\n",
    "- с помощью функции plot создадим в графической области графический объект\n",
    "типа Line2D синего цвета 'b' , координаты которого описывают аналитическую\n",
    "функцию\n",
    "- с помощью функции plot создадим в графической области графический объект\n",
    "типа Line2D зеленого цвета с маркером в виде кружка 'go' , координаты\n",
    "которого пока неизвестны"
   ]
  },
  {
   "cell_type": "code",
   "execution_count": 18,
   "metadata": {},
   "outputs": [
    {
     "data": {
      "application/vnd.jupyter.widget-view+json": {
       "model_id": "c3d3c7a4b221472f9db6984515596d58",
       "version_major": 2,
       "version_minor": 0
      },
      "image/png": "[encoded data removed]",
      "text/html": [
       "\n",
       "            <div style=\"display: inline-block;\">\n",
       "                <div class=\"jupyter-widgets widget-label\" style=\"text-align: center;\">\n",
       "                    Figure\n",
       "                </div>\n",
       "                <img src='data:image/png;base64,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' width=640.0/>\n",
       "            </div>\n",
       "        "
      ],
      "text/plain": [
       "Canvas(toolbar=Toolbar(toolitems=[('Home', 'Reset original view', 'home', 'home'), ('Back', 'Back to previous …"
      ]
     },
     "metadata": {},
     "output_type": "display_data"
    }
   ],
   "source": [
    "fig3 = plt.figure()\n",
    "ax3 = plt.axes()\n",
    "x_min, x_max = np.min(x_array), np.max(x_array)\n",
    "y_min, y_max = np.min(y_array), np.max(y_array)\n",
    "plt.axis([x_min-1, x_max+1, y_min-1, y_max+1])\n",
    "line1, = ax3.plot(x_array, y_array,'b') # объект для графика функции\n",
    "line2, = ax3.plot([], [],'go') # объект для точки"
   ]
  },
  {
   "cell_type": "markdown",
   "metadata": {},
   "source": [
    "Определим пользовательскую функцию одного аргумента at_frame2 , которая будет вызываться в каждом кадре анимации.\n",
    "\n",
    "Единственный аргумент функции at_frame2 является массивом из $x$ и $y$ координат\n",
    "точки графика функции. Функция at_frame2 задает графический объект line2\n",
    "единственной точкой с координатами $(x, y)$"
   ]
  },
  {
   "cell_type": "code",
   "execution_count": 19,
   "metadata": {},
   "outputs": [],
   "source": [
    "def at_frame3(point):\n",
    "    \"\"\"задает объект line2 точкой с координатами (point[0],point[1])\n",
    "    \n",
    "     Arguments :\n",
    "\n",
    "     point : массив из двух элементов\n",
    "\n",
    "     Returns : None\n",
    "     \"\"\"\n",
    "    # print('clever')\n",
    "    line2.set_data([point[0]], [point[1]])"
   ]
  },
  {
   "cell_type": "markdown",
   "metadata": {},
   "source": [
    "Полагаем аргумент init_func функции FunAnimation равным пользовательской функции init : init_func=init . Функция init будет вызываться перед началом анимации"
   ]
  },
  {
   "cell_type": "code",
   "execution_count": 20,
   "metadata": {},
   "outputs": [
    {
     "data": {
      "text/plain": [
       "<matplotlib.animation.FuncAnimation at 0x287e5094510>"
      ]
     },
     "execution_count": 20,
     "metadata": {},
     "output_type": "execute_result"
    },
    {
     "data": {
      "application/vnd.jupyter.widget-view+json": {
       "model_id": "d31f7dee3031440aa3a3d09854233573",
       "version_major": 2,
       "version_minor": 0
      },
      "image/png": "[encoded data removed]",
      "text/html": [
       "\n",
       "            <div style=\"display: inline-block;\">\n",
       "                <div class=\"jupyter-widgets widget-label\" style=\"text-align: center;\">\n",
       "                    Figure\n",
       "                </div>\n",
       "                <img src='data:image/png;base64,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' width=640.0/>\n",
       "            </div>\n",
       "        "
      ],
      "text/plain": [
       "Canvas(toolbar=Toolbar(toolitems=[('Home', 'Reset original view', 'home', 'home'), ('Back', 'Back to previous …"
      ]
     },
     "metadata": {},
     "output_type": "display_data"
    }
   ],
   "source": [
    "fig3 = plt.figure()\n",
    "ax3 = plt.axes()\n",
    "plt.axis([x_min-1, x_max+1, y_min-1, y_max+1])\n",
    "def init():\n",
    "    \"\"\"создает начальное состояние графической области\"\"\"\n",
    "    global line2 # переменная сделана глобальной, чтобы она могла изменяться внутри at_frame3\n",
    "\n",
    "    line1, = ax3.plot(x_array, y_array,'b')\n",
    "    line2, = ax3.plot([], [],'go')\n",
    "    plt.legend(['$y(x) = (x-5)^3$','Мovable point'])\n",
    "FuncAnimation(fig3, at_frame3, frames=matrix, init_func=init, repeat=False, interval=30)"
   ]
  },
  {
   "cell_type": "markdown",
   "metadata": {},
   "source": [
    "### Реализация задания для функции заданной параметрически"
   ]
  },
  {
   "cell_type": "code",
   "execution_count": 30,
   "metadata": {},
   "outputs": [
    {
     "data": {
      "text/plain": [
       "<matplotlib.animation.FuncAnimation at 0x23c3bcf61d0>"
      ]
     },
     "execution_count": 30,
     "metadata": {},
     "output_type": "execute_result"
    },
    {
     "data": {
      "application/vnd.jupyter.widget-view+json": {
       "model_id": "a2c7236e0cdf44418ee28e9d740701ad",
       "version_major": 2,
       "version_minor": 0
      },
      "image/png": "[encoded data removed]",
      "text/html": [
       "\n",
       "            <div style=\"display: inline-block;\">\n",
       "                <div class=\"jupyter-widgets widget-label\" style=\"text-align: center;\">\n",
       "                    Figure\n",
       "                </div>\n",
       "                <img src='data:image/png;base64,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' width=640.0/>\n",
       "            </div>\n",
       "        "
      ],
      "text/plain": [
       "Canvas(toolbar=Toolbar(toolitems=[('Home', 'Reset original view', 'home', 'home'), ('Back', 'Back to previous …"
      ]
     },
     "metadata": {},
     "output_type": "display_data"
    }
   ],
   "source": [
    "fig4 = plt.figure()\n",
    "ax4 = plt.axes()\n",
    "\n",
    "x_min, x_max = np.min(x2_array), np.max(x2_array)\n",
    "y_min, y_max = np.min(y2_array), np.max(y2_array)\n",
    "\n",
    "plt.axis([x_min-1, x_max+1, y_min-1, y_max+1])\n",
    "\n",
    "def init():\n",
    "    \"\"\"создает начальное состояние графической области\"\"\"\n",
    "    global line2 # переменная сделана глобальной, чтобы она могла изменяться внутри at_frame2\n",
    "\n",
    "    line1, = ax4.plot(x2_array, y2_array,'b')\n",
    "    line2, = ax4.plot([], [],'go')\n",
    "    plt.legend(['$y(t) = arccos(cos(t)$\\n$x(t) = arcsin(sin(t))$','Мovable point'])\n",
    "FuncAnimation(fig4, at_frame3, frames=matrix2, init_func=init, repeat=False, interval=30)"
   ]
  },
  {
   "cell_type": "markdown",
   "metadata": {},
   "source": [
    "## Движение секущей прямой к заданной линии на плоскости"
   ]
  },
  {
   "cell_type": "markdown",
   "metadata": {},
   "source": [
    "Линия на плоскости задана графиком параметрической функции $x=x(t)$, $y=y(t)$ для $t\\in[t_{min},t_{max}]$ из предыдущего задания. Точка $B$ движется последовательно по линии от конечной точки кривой с координатами $(x(t_{max}), y(t_{max}))$ к неподвижной точке $A$.\n",
    "\n",
    "$\\color{Red}{Создание}$ $\\color{Red}{анимации}$ движения секущей прямой, проходящей через точки $A$ и $B$ до момента совпадения координат точек $A$ и $B$, когда секущая прямая становится касательной прямой к заданной линии в начальной точке $A$."
   ]
  },
  {
   "cell_type": "markdown",
   "metadata": {},
   "source": [
    "### Реализация задания для явно заданной функции"
   ]
  },
  {
   "cell_type": "markdown",
   "metadata": {},
   "source": [
    "Перед началом анимации графическая область должна содержать следующие графические объекты:\n",
    "\n",
    "- график заданной функции, которая определяет траекторию движения подвижной\n",
    "точки $B$;\n",
    "- неподвижную точку $A$;\n",
    "- начальное положение подвижной точки $B$;\n",
    "- секущую прямую, проходящую через точки $A$ и $B$;\n",
    "\n",
    "Начальное состояние графической области реализуем с помощью пользовательской функции init."
   ]
  },
  {
   "cell_type": "code",
   "execution_count": 31,
   "metadata": {},
   "outputs": [
    {
     "data": {
      "text/plain": [
       "<matplotlib.animation.FuncAnimation at 0x23c3ad76f50>"
      ]
     },
     "execution_count": 31,
     "metadata": {},
     "output_type": "execute_result"
    },
    {
     "data": {
      "application/vnd.jupyter.widget-view+json": {
       "model_id": "473771a65d9047b9ba513829a0748c93",
       "version_major": 2,
       "version_minor": 0
      },
      "image/png": "[encoded data removed]",
      "text/html": [
       "\n",
       "            <div style=\"display: inline-block;\">\n",
       "                <div class=\"jupyter-widgets widget-label\" style=\"text-align: center;\">\n",
       "                    Figure\n",
       "                </div>\n",
       "                <img src='data:image/png;base64,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' width=640.0/>\n",
       "            </div>\n",
       "        "
      ],
      "text/plain": [
       "Canvas(toolbar=Toolbar(toolitems=[('Home', 'Reset original view', 'home', 'home'), ('Back', 'Back to previous …"
      ]
     },
     "metadata": {},
     "output_type": "display_data"
    }
   ],
   "source": [
    "fig5 = plt.figure()\n",
    "ax5 = plt.axes()\n",
    "x_min, x_max = np.min(x_array), np.max(x_array)\n",
    "y_min, y_max = np.min(y_array), np.max(y_array)\n",
    "plt.axis([x_min-1, x_max+1, y_min-1, y_max+1])\n",
    "\n",
    "def init():\n",
    "    \"\"\"cоздает начальное состояние графической области перед началом анимации и возвращает Noglobal point_B, secant_line # переменные сделаны глобальными, чтобы они были доступны для дальнейшего изменения в других функциях\"\"\"\n",
    "    global point_B, secant_line, A\n",
    "    \n",
    "    curve, = ax5.plot(x_array, y_array,'b') # графический объект для исходной функции\n",
    "\n",
    "    A = np.array([x_array[0], y_array[0]])\n",
    "    point_A, = ax5.plot(A[0],A[1],'ro') # графический объект для неподвижной точки\n",
    "\n",
    "    B = np.array([x_array[-2], y_array[-2]])\n",
    "    point_B, = ax5.plot(B[0],B[1],'go') # графический объект для подвижной точки\n",
    "\n",
    "    secant_p = np.array([A + (B - A)*t for t in np.array([-2, 2])]) # две точки секущей прямой, проходящей через secant_p = np.array(secant_p)\n",
    "    secant_line, = ax5.plot(secant_p[:,0], secant_p[:,1],'g') # графический объект для секущей прямой\n",
    "    plt.legend(['$y(x) = (x-5)^3$','Unmovable point A','Мovable point B','Secant line throughdef at_frame5(point)'])\n",
    "\n",
    "def at_frame5(point):\n",
    "    \"\"\"заданные координаты записывает в переменную задающую подвижную точку B\n",
    "\n",
    "    Arguments :\n",
    "\n",
    "    point : массив из двух элементов, задающий координаты подвижной точки\n",
    "    \n",
    "    Returns : None\n",
    "    \"\"\"\n",
    "    point_B.set_data([point[0]], [point[1]])\n",
    "    B = point\n",
    "    if A[0] != B[0] and A[1] != B[1]:\n",
    "        secant_p = np.array([A + (B - A)*t for t in np.array([-10, 10])])\n",
    "        secant_line.set_data(secant_p[:,0], secant_p[:,1])\n",
    "    else:\n",
    "        x0 = A[0]\n",
    "        cas = lambda x: y(x0) + dy(x0) * (x - x0)\n",
    "        secant_p = np.array([A + (np.array[x0+1, cas(x0 + 1)] - A)*t for t in np.array([-100,100])])\n",
    "        secant_line.set_data(secant_p[:,0], secant_p[:,1])\n",
    "\n",
    "matrix = np.transpose([x_array, y_array])\n",
    "\n",
    "FuncAnimation(fig5, at_frame5, frames=matrix[::-1], init_func=init, repeat=False, interval = 50)"
   ]
  },
  {
   "cell_type": "markdown",
   "metadata": {},
   "source": [
    "### Реализация для функции заданной параметрически"
   ]
  },
  {
   "cell_type": "code",
   "execution_count": 32,
   "metadata": {},
   "outputs": [
    {
     "data": {
      "text/plain": [
       "<matplotlib.animation.FuncAnimation at 0x23c3bb80810>"
      ]
     },
     "execution_count": 32,
     "metadata": {},
     "output_type": "execute_result"
    },
    {
     "data": {
      "application/vnd.jupyter.widget-view+json": {
       "model_id": "5ef5249a7c684dab88f90afd34864b18",
       "version_major": 2,
       "version_minor": 0
      },
      "image/png": "[encoded data removed]",
      "text/html": [
       "\n",
       "            <div style=\"display: inline-block;\">\n",
       "                <div class=\"jupyter-widgets widget-label\" style=\"text-align: center;\">\n",
       "                    Figure\n",
       "                </div>\n",
       "                <img src='data:image/png;base64,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' width=640.0/>\n",
       "            </div>\n",
       "        "
      ],
      "text/plain": [
       "Canvas(toolbar=Toolbar(toolitems=[('Home', 'Reset original view', 'home', 'home'), ('Back', 'Back to previous …"
      ]
     },
     "metadata": {},
     "output_type": "display_data"
    }
   ],
   "source": [
    "fig6 = plt.figure()\n",
    "ax6 = plt.axes()\n",
    "x_min, x_max = np.min(x2_array), np.max(x2_array)\n",
    "y_min, y_max = np.min(y2_array), np.max(y2_array)\n",
    "plt.axis([x_min-1, x_max+1, y_min-1, y_max+1])\n",
    "\n",
    "def init():\n",
    "    \"\"\"cоздает начальное состояние графической области перед началом анимации и возвращает Noglobal point_A, secant_line, A # переменные сделаны глобальными, чтобы они были доступны для дальнейшего изменения в других функциях\"\"\"\n",
    "    global point_A, secant_line, B\n",
    "    \n",
    "    curve, = ax6.plot(x2_array, y2_array,'b') # графический объект для исходной функции\n",
    "\n",
    "    A = np.array([x2_array[-1], y2_array[-1]])\n",
    "    point_A, = ax6.plot(A[0],A[1],'ro') # графический объект для неподвижной точки\n",
    "\n",
    "    B = np.array([x2_array[0], y2_array[0]])\n",
    "    point_B, = ax6.plot(B[0],B[1],'go') # графический объект для подвижной точки\n",
    "\n",
    "    secant_p = np.array([B + (A - B)*t for t in np.array([-2, 2])]) # две точки секущей прямой, проходящей через secant_p = np.array(secant_p)\n",
    "    secant_line, = ax6.plot(secant_p[:,0], secant_p[:,1],'g') # графический объект для секущей прямой\n",
    "    plt.legend(['$x(t) = arcsin(sin(t))$\\n$y(t) = arccos(cos(t))$','Movable point A','Unmovable point B','Secant line throughdef at_frame4(point)'])\n",
    "\n",
    "def at_frame6(point):\n",
    "    \"\"\"заданные координаты записывает в переменную задающую подвижную точку A\n",
    "\n",
    "    Arguments :\n",
    "\n",
    "    point : массив из двух элементов, задающий координаты подвижной точки\n",
    "    \n",
    "    Returns : None\n",
    "    \"\"\"\n",
    "    A = point\n",
    "    point_A.set_data([point[0]], [point[1]])\n",
    "    if B[0] == A[0] and B[1] == A[1]:\n",
    "        vec = np.array([1, dy2(t_min) / dx2(t_min)])\n",
    "        secant_p = np.array([A + vec*t for t in np.array([-100,100])])\n",
    "        secant_line.set_data(secant_p[:,0], secant_p[:,1])\n",
    "    else:\n",
    "        secant_p = np.array([B + (A - B)*t for t in np.array([-100, 100])])\n",
    "        secant_line.set_data(secant_p[:,0], secant_p[:,1])\n",
    "\n",
    "\n",
    "FuncAnimation(fig6, at_frame6, frames=matrix2[::-1], init_func=init, repeat=False, interval=500)"
   ]
  },
  {
   "cell_type": "code",
   "execution_count": null,
   "metadata": {},
   "outputs": [],
   "source": []
  }
 ],
 "metadata": {
  "kernelspec": {
   "display_name": "base",
   "language": "python",
   "name": "python3"
  },
  "language_info": {
   "codemirror_mode": {
    "name": "ipython",
    "version": 3
   },
   "file_extension": ".py",
   "mimetype": "text/x-python",
   "name": "python",
   "nbconvert_exporter": "python",
   "pygments_lexer": "ipython3",
   "version": "3.11.5"
  }
 },
 "nbformat": 4,
 "nbformat_minor": 2
}
