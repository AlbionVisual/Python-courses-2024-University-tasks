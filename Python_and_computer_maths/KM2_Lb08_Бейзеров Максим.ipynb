{
 "cells": [
  {
   "cell_type": "markdown",
   "id": "898fb615-2189-48a7-879f-afa0dc5db77f",
   "metadata": {},
   "source": [
    "# Лабораторная работа 8"
   ]
  },
  {
   "cell_type": "markdown",
   "id": "d91a3ca0-15b0-45ce-8372-05cac34acc96",
   "metadata": {},
   "source": [
    "## Построение бинарного дерева поиска. Подсчет количества элементов в дереве"
   ]
  },
  {
   "cell_type": "markdown",
   "id": "75dde4da-3eb1-4516-bf66-5a4ecad87094",
   "metadata": {},
   "source": [
    "Бейзеров Максим Павлович, 8 май 2024 г."
   ]
  },
  {
   "cell_type": "markdown",
   "id": "2bebdcc5-884c-46da-8cb5-9a1b7ddb819a",
   "metadata": {},
   "source": [
    "### Задание 8.1 Определение классов"
   ]
  },
  {
   "cell_type": "code",
   "execution_count": 13,
   "id": "243a91b7-c63e-4c2b-9ee8-1f93085bdc09",
   "metadata": {
    "tags": []
   },
   "outputs": [],
   "source": [
    "class BinaryTree:\n",
    "    def __init__(self):\n",
    "        self.root = EmptyNode()\n",
    "\n",
    "    def __repr__(self):\n",
    "        return repr(self.root)\n",
    "\n",
    "    def insert(self, value):\n",
    "        self.root = self.root.insert(value)"
   ]
  },
  {
   "cell_type": "code",
   "execution_count": 14,
   "id": "a5cb0f48-e207-4a9c-be4f-e5ac6e1760e1",
   "metadata": {
    "tags": []
   },
   "outputs": [],
   "source": [
    "class BinaryNode:\n",
    "    def __init__(self, left, value, right):\n",
    "        self.left = left\n",
    "        self.value = value\n",
    "        self.right = right\n",
    "        \n",
    "\n",
    "    def __repr__(self):\n",
    "        return f'({self.left}, {self.value}, {self.right})'\n",
    "\n"
   ]
  },
  {
   "cell_type": "code",
   "execution_count": 15,
   "id": "69747a48-97f2-45bd-ba0d-80b7595bd474",
   "metadata": {
    "tags": []
   },
   "outputs": [],
   "source": [
    "class EmptyNode:\n",
    "    def __repr__(self):\n",
    "        return '*'\n",
    "\n",
    "    def insert(self, value):\n",
    "        return BinaryNode(self, value, self)"
   ]
  },
  {
   "cell_type": "markdown",
   "id": "ae7fd587-a95e-4417-b1a2-b8ba7fb4d887",
   "metadata": {},
   "source": [
    "### Задание 8.2 Метод вставки элемента в бинарное дерево поиска"
   ]
  },
  {
   "cell_type": "code",
   "execution_count": 16,
   "id": "31fb89bb-703e-42f8-9142-0323588745e5",
   "metadata": {
    "tags": []
   },
   "outputs": [],
   "source": [
    "class BinaryNode:\n",
    "    def __init__(self, left, value, right):\n",
    "        self.left = left\n",
    "        self.value = value\n",
    "        self.right = right\n",
    "\n",
    "    def __repr__(self):\n",
    "        return f'({self.left}, {self.value}, {self.right})'\n",
    "    \n",
    "    def insert(self, value):\n",
    "        if value < self.value:\n",
    "            self.left = self.left.insert(value)\n",
    "        elif value >= self.value:\n",
    "            self.right = self.right.insert(value)\n",
    "        return self"
   ]
  },
  {
   "cell_type": "code",
   "execution_count": 17,
   "id": "771c6eaf-6226-441e-af7c-2cb49f72af84",
   "metadata": {
    "tags": []
   },
   "outputs": [
    {
     "name": "stdout",
     "output_type": "stream",
     "text": [
      "((*, 3, *), 5, *)\n"
     ]
    }
   ],
   "source": [
    "tree = BinaryTree()\n",
    "numbers = [5, 3]\n",
    "for num in numbers:\n",
    "    tree.insert(num)\n",
    "print(tree)"
   ]
  },
  {
   "cell_type": "code",
   "execution_count": 18,
   "id": "2a084a07-83fb-4c35-a34b-585e0d165df9",
   "metadata": {
    "tags": []
   },
   "outputs": [
    {
     "name": "stdout",
     "output_type": "stream",
     "text": [
      "(((*, e, (*, e, *)), r, *), t, *)\n"
     ]
    }
   ],
   "source": [
    "tree = BinaryTree()\n",
    "text = \"tree\"\n",
    "for char in text:\n",
    "    tree.insert(char)\n",
    "print(tree)"
   ]
  },
  {
   "cell_type": "code",
   "execution_count": 19,
   "id": "8cc32ba5-d2c0-4eec-addc-58fb7ed664e2",
   "metadata": {
    "tags": []
   },
   "outputs": [
    {
     "name": "stdout",
     "output_type": "stream",
     "text": [
      "(*, 0, (*, 1, (*, 2, (*, 3, (*, 4, (*, 5, *))))))\n"
     ]
    }
   ],
   "source": [
    "tree = BinaryTree()\n",
    "for num in range(0, 6):\n",
    "    tree.insert(num)\n",
    "print(tree)"
   ]
  },
  {
   "cell_type": "markdown",
   "id": "0d76f685-e9dd-4ac9-a05a-9ad99e5ac6f9",
   "metadata": {
    "tags": []
   },
   "source": [
    "### Задание 8.3 Построение бинарного дерева поиска"
   ]
  },
  {
   "cell_type": "code",
   "execution_count": 20,
   "id": "02ac0d54-119f-4ff9-b95a-cc890c3d7297",
   "metadata": {
    "tags": []
   },
   "outputs": [],
   "source": [
    "def tree_column_file(filename):\n",
    "    tree = BinaryTree()\n",
    "    with open(filename, 'r') as file:\n",
    "        for line in file:\n",
    "            value = int(line.strip())\n",
    "            tree.insert(value)\n",
    "    return tree\n"
   ]
  },
  {
   "cell_type": "code",
   "execution_count": 21,
   "id": "16ffafed-3e14-43a9-b476-58b7c77f4789",
   "metadata": {
    "tags": []
   },
   "outputs": [],
   "source": [
    "def tree_spaced_lines_file(filename):\n",
    "    tree = BinaryTree()\n",
    "    with open(filename, 'r') as file:\n",
    "        for line in file:\n",
    "            values = map(int, line.strip().split())\n",
    "            for value in values:\n",
    "                tree.insert(value)\n",
    "    return tree\n"
   ]
  },
  {
   "cell_type": "code",
   "execution_count": 22,
   "id": "d34edc0c-3b1f-4e60-bca7-719cf70b1560",
   "metadata": {
    "tags": []
   },
   "outputs": [],
   "source": [
    "import json\n",
    "\n",
    "def tree_json_file(filename):\n",
    "    tree = BinaryTree()\n",
    "    with open(filename, 'r') as file:\n",
    "        data = json.load(file)\n",
    "        for value in data:\n",
    "            tree.insert(value)\n",
    "    return tree\n"
   ]
  },
  {
   "cell_type": "code",
   "execution_count": 27,
   "id": "ed37a42e-ad00-4a7e-94e1-2cc35dca3180",
   "metadata": {
    "tags": []
   },
   "outputs": [
    {
     "name": "stdout",
     "output_type": "stream",
     "text": [
      "Дерево из файла из Лб7:\n",
      "((((*, 0, (*, 0, (*, 0, ((*, 0, *), 1, ((*, 1, (*, 1, (*, 1, *))), 2, (*, 2, (*, 2, *))))))), 3, (*, 3, (*, 3, (*, 3, (*, 3, *))))), 4, (((*, 4, ((*, 4, (*, 4, (*, 4, *))), 5, (*, 5, *))), 6, (*, 6, (*, 6, (*, 6, *)))), 7, (((((((*, 7, (*, 7, (*, 7, (*, 7, *)))), 8, (*, 8, *)), 9, (*, 9, (*, 9, ((*, 9, (*, 9, (*, 10, *))), 16, ((*, 16, *), 19, *))))), 26, (*, 29, (((*, 35, *), 40, (*, 44, *)), 48, *))), 57, ((*, 59, *), 60, ((*, 60, (*, 61, (*, 62, *))), 64, (*, 66, *)))), 68, ((((((*, 69, *), 74, (((*, 75, *), 77, *), 82, *)), 93, (((*, 94, *), 97, (*, 98, *)), 99, *)), 116, (*, 132, ((*, 155, *), 258, *))), 263, (((*, 364, *), 377, *), 476, (*, 499, (((*, 532, *), 555, (*, 558, *)), 560, ((*, 575, *), 651, *))))), 654, (*, 674, ((*, 684, *), 688, ((*, 709, *), 721, *))))), 778, (((*, 781, (*, 784, *)), 798, (*, 809, (*, 902, *))), 926, (((*, 1127, *), 1611, *), 1949, ((*, 4065, (*, 4338, *)), 4441, *)))))), 5000, (((*, 5226, *), 5389, ((*, 6390, (*, 6548, ((*, 6782, *), 7301, ((*, 7389, (*, 7517, (*, 7685, (*, 7740, *)))), 7835, *)))), 7998, ((((*, 8042, (*, 8822, (*, 8841, (*, 9070, *)))), 9330, (*, 9666, *)), 11868, (*, 15537, ((*, 19766, (*, 20737, *)), 25538, (*, 28080, *)))), 32579, (*, 32615, ((*, 34124, *), 39677, (*, 43401, *)))))), 45520, ((((*, 46104, *), 56115, *), 58805, (*, 59791, (*, 62120, (*, 68264, (*, 70476, *))))), 73418, ((*, 76477, *), 78222, (*, 84804, (*, 84887, *))))))\n",
      "Дерево из файла с данными в столбец:\n",
      "((((((*, 0, *), 1, (*, 1, (*, 1, (*, 1, (*, 1, (*, 1, (*, 1, (*, 1, (*, 1, *))))))))), 2, ((*, 2, ((*, 2, (*, 2, ((*, 2, (*, 2, (*, 2, (*, 2, (*, 3, *))))), 4, *))), 5, (*, 5, (*, 6, (*, 6, *))))), 7, (((*, 7, (*, 7, *)), 8, (*, 8, (*, 8, (*, 8, *)))), 9, (*, 9, ((*, 9, ((*, 9, (*, 9, *)), 11, (*, 14, (*, 14, *)))), 18, ((*, 19, *), 29, *)))))), 30, (((((((*, 32, *), 42, ((*, 43, *), 44, (*, 63, (*, 67, (*, 67, *))))), 71, (((*, 71, *), 79, *), 80, ((*, 84, *), 95, *))), 102, ((*, 108, ((*, 117, *), 162, *)), 208, ((*, 238, *), 241, (*, 252, *)))), 257, ((((*, 287, *), 291, ((*, 387, *), 467, *)), 677, (*, 694, (*, 701, (((*, 804, *), 805, *), 807, *)))), 864, (*, 914, *))), 1512, ((((*, 1621, *), 2052, (((*, 3681, *), 3814, (*, 3880, *)), 4105, *)), 4459, (((*, 4617, (*, 5173, *)), 5675, (((*, 5747, *), 6352, (*, 6523, *)), 6587, ((((*, 6909, *), 7153, *), 7298, ((*, 7544, (*, 7695, *)), 8242, (*, 8274, (*, 8446, *)))), 8791, *))), 9856, (*, 16327, *))), 22212, (*, 23765, ((*, 27250, *), 28075, ((*, 31309, (*, 40132, *)), 42560, *))))), 48644, ((*, 51289, *), 52300, (((*, 52614, *), 52942, *), 54147, *)))), 56163, ((((*, 57502, *), 57612, *), 60529, *), 61007, ((*, 63349, *), 66629, *))), 76372, (((*, 79286, *), 79370, *), 80023, ((*, 84320, *), 90695, ((*, 90897, *), 92996, *))))\n",
      "\n",
      "Дерево из файла с данными в строки с пробелами:\n",
      "((((*, 0, (*, 0, (*, 0, ((*, 0, (*, 0, *)), 1, (*, 1, (*, 1, (*, 1, *))))))), 2, (*, 2, ((*, 2, (*, 2, *)), 3, (*, 4, (*, 4, (*, 4, *)))))), 5, ((((*, 5, *), 6, (((*, 6, (*, 6, *)), 7, ((*, 7, (*, 7, *)), 8, (*, 9, (*, 9, (*, 9, *))))), 11, ((*, 11, *), 15, *))), 16, (*, 22, *)), 24, ((((((*, 26, *), 31, *), 34, (*, 34, *)), 40, *), 51, (((*, 54, *), 59, *), 62, (*, 62, ((*, 64, (*, 68, (*, 68, *))), 73, (*, 73, (((*, 73, (*, 82, *)), 87, *), 99, (*, 124, (*, 134, *)))))))), 180, ((*, 192, ((*, 223, *), 236, *)), 240, (((*, 252, (*, 275, *)), 344, *), 403, (((*, 420, *), 425, (*, 437, *)), 444, (*, 448, *))))))), 450, (((((*, 454, *), 473, (*, 485, *)), 547, ((*, 633, ((*, 634, *), 658, *)), 666, ((*, 682, (*, 738, (*, 743, *))), 793, *))), 979, (((((*, 1341, ((*, 1948, (*, 2364, *)), 2625, (*, 3590, (*, 4165, *)))), 4393, *), 4470, (*, 4903, (*, 5576, *))), 6307, ((((*, 6413, *), 6617, (*, 6682, *)), 6690, *), 6709, *)), 6918, (((*, 7044, *), 7633, ((((*, 7814, *), 7971, ((*, 8031, *), 8126, *)), 8680, (*, 8982, *)), 9111, (*, 9460, (*, 13862, *)))), 18484, *))), 20722, ((*, 27166, *), 43654, (((*, 49100, ((*, 51601, *), 56578, *)), 56943, *), 59455, (((*, 61077, ((*, 65525, (*, 65939, *)), 67514, *)), 71157, (*, 74565, *)), 83934, ((((*, 87971, *), 89144, (*, 93483, *)), 94045, *), 94244, (*, 97674, (*, 97846, *))))))))\n",
      "\n",
      "Дерево из файла формата JSON:\n",
      "((((((*, 0, (*, 0, (*, 0, *))), 2, (*, 2, ((*, 2, (*, 2, (*, 2, (*, 2, (*, 2, *))))), 3, (*, 3, (*, 3, *))))), 4, (*, 4, *)), 5, (((*, 5, (*, 5, (*, 5, ((*, 5, (*, 5, (*, 5, *))), 6, (*, 6, *))))), 7, (*, 7, (*, 7, (*, 7, *)))), 8, ((((*, 8, (*, 8, (*, 8, *))), 9, (((((*, 9, (*, 9, *)), 15, ((*, 15, *), 19, (*, 23, *))), 25, ((*, 25, (*, 25, *)), 26, ((*, 30, *), 31, (*, 37, (*, 38, *))))), 40, *), 42, (*, 45, ((*, 45, ((*, 45, *), 47, *)), 49, *)))), 51, (*, 59, (*, 64, *))), 68, *))), 75, ((((*, 77, *), 78, (*, 78, ((*, 80, *), 84, *))), 90, ((((*, 92, *), 95, *), 99, ((*, 147, *), 173, *)), 278, (*, 292, (*, 331, *)))), 393, (((((*, 407, *), 482, (*, 496, *)), 541, *), 630, (*, 630, (*, 631, *))), 641, ((*, 659, (((*, 702, *), 758, ((*, 877, *), 882, *)), 891, *)), 929, ((*, 973, (*, 976, *)), 989, ((*, 1648, *), 2320, *)))))), 2547, (((*, 2688, *), 4468, *), 4670, (((((*, 5182, (*, 5308, *)), 5325, (*, 5364, *)), 5981, (*, 6405, ((*, 6476, *), 7054, (((*, 7414, *), 7969, *), 8139, *)))), 8488, (((*, 8695, *), 8698, ((*, 8859, *), 9801, (*, 14246, ((*, 21451, *), 33062, (*, 33466, *))))), 35795, (*, 40829, (*, 44919, *)))), 50037, ((((*, 52429, (*, 52968, *)), 55148, ((*, 58251, (*, 65677, *)), 67137, (*, 68582, *))), 68975, ((*, 82367, (*, 84782, *)), 88447, ((*, 91717, *), 92035, *))), 93239, ((*, 93826, *), 99602, *)))))\n"
     ]
    }
   ],
   "source": [
    "tree_column = tree_column_file(\"digits_column.txt\")\n",
    "tree_spaced_lines = tree_spaced_lines_file(\"digits_equal_rows.txt\")\n",
    "tree_json = tree_json_file(\"digits.json\")\n",
    "tree_lb7 = tree_spaced_lines_file(\"digits.txt\")\n",
    "\n",
    "# Визуализация деревьев\n",
    "print(\"Дерево из файла из Лб7:\")\n",
    "print(tree_lb7)\n",
    "print(\"Дерево из файла с данными в столбец:\")\n",
    "print(tree_column)\n",
    "print(\"\\nДерево из файла с данными в строки с пробелами:\")\n",
    "print(tree_spaced_lines)\n",
    "print(\"\\nДерево из файла формата JSON:\")\n",
    "print(tree_json)"
   ]
  },
  {
   "cell_type": "markdown",
   "id": "4b209e4d-77bf-437f-8167-fa7dbc0ba0bd",
   "metadata": {
    "tags": []
   },
   "source": [
    "### Задание 8.4 Перегрузка операции принадлежности in"
   ]
  },
  {
   "cell_type": "code",
   "execution_count": 28,
   "id": "9e02d1f8-114c-4070-8334-9f88f96f52cc",
   "metadata": {
    "tags": []
   },
   "outputs": [],
   "source": [
    "class BinaryTree:\n",
    "    def __init__(self):\n",
    "        self.root = EmptyNode()\n",
    "\n",
    "    def __repr__(self):\n",
    "        return repr(self.root)\n",
    "\n",
    "    def insert(self, value):\n",
    "        self.root = self.root.insert(value)\n",
    "        \n",
    "    def __contains__(self, value):\n",
    "        return value in self.root"
   ]
  },
  {
   "cell_type": "code",
   "execution_count": 29,
   "id": "b9842ba8-a395-4047-9602-30ff01eb9108",
   "metadata": {
    "tags": []
   },
   "outputs": [],
   "source": [
    "class BinaryNode:\n",
    "    def __init__(self, left, value, right):\n",
    "        self.left = left\n",
    "        self.value = value\n",
    "        self.right = right\n",
    "\n",
    "    def __repr__(self):\n",
    "        return f'({self.left}, {self.value}, {self.right})'\n",
    "    \n",
    "    def insert(self, value):\n",
    "        if value < self.value:\n",
    "            self.left = self.left.insert(value)\n",
    "        elif value >= self.value:\n",
    "            self.right = self.right.insert(value)\n",
    "        return self\n",
    "\n",
    "    def __contains__(self, value):\n",
    "        if self.value == value:\n",
    "            return True\n",
    "        if value < self.value:\n",
    "            return value in self.left\n",
    "        if value > self.value:\n",
    "            return value in self.right"
   ]
  },
  {
   "cell_type": "code",
   "execution_count": 34,
   "id": "b5afd5ac-8515-4c77-ae97-b36036d0e7ec",
   "metadata": {
    "tags": []
   },
   "outputs": [],
   "source": [
    "class EmptyNode:\n",
    "    def __repr__(self):\n",
    "        return '*'\n",
    "\n",
    "    def insert(self, value):\n",
    "        return BinaryNode(self, value, self)\n",
    "    \n",
    "    def __contains__(self, value):\n",
    "        return False"
   ]
  },
  {
   "cell_type": "code",
   "execution_count": 35,
   "id": "bfa26451-da36-42e8-9453-6839c79a6e56",
   "metadata": {
    "tags": []
   },
   "outputs": [
    {
     "name": "stdout",
     "output_type": "stream",
     "text": [
      "(*, 5, *)\n",
      "((*, 1, *), 5, *)\n",
      "((*, 1, *), 5, (*, 1000, *))\n",
      "((*, 1, (*, 3, *)), 5, (*, 1000, *))\n",
      "((*, 1, (*, 3, (*, 4, *))), 5, (*, 1000, *))\n",
      "(0, False) (1, True) (2, False) (3, True) (4, True) (5, True) (6, False) (7, False) (8, False) (9, False) "
     ]
    }
   ],
   "source": [
    "source_data = [5,1,1000,3,4]\n",
    "tree = BinaryTree()\n",
    "for i in source_data:\n",
    "    tree.insert(i)\n",
    "    print(tree)\n",
    "for i in range(10):\n",
    "    print((i, i in tree), end = ' ')"
   ]
  },
  {
   "cell_type": "code",
   "execution_count": 37,
   "id": "be701ab6-e06d-45f0-8684-c47ec7a80707",
   "metadata": {
    "tags": []
   },
   "outputs": [
    {
     "name": "stdout",
     "output_type": "stream",
     "text": [
      "((((*, 0, (*, 0, (*, 0, ((*, 0, *), 1, ((*, 1, (*, 1, (*, 1, *))), 2, (*, 2, (*, 2, *))))))), 3, (*, 3, (*, 3, (*, 3, (*, 3, *))))), 4, (((*, 4, ((*, 4, (*, 4, (*, 4, *))), 5, (*, 5, *))), 6, (*, 6, (*, 6, (*, 6, *)))), 7, (((((((*, 7, (*, 7, (*, 7, (*, 7, *)))), 8, (*, 8, *)), 9, (*, 9, (*, 9, ((*, 9, (*, 9, (*, 10, *))), 16, ((*, 16, *), 19, *))))), 26, (*, 29, (((*, 35, *), 40, (*, 44, *)), 48, *))), 57, ((*, 59, *), 60, ((*, 60, (*, 61, (*, 62, *))), 64, (*, 66, *)))), 68, ((((((*, 69, *), 74, (((*, 75, *), 77, *), 82, *)), 93, (((*, 94, *), 97, (*, 98, *)), 99, *)), 116, (*, 132, ((*, 155, *), 258, *))), 263, (((*, 364, *), 377, *), 476, (*, 499, (((*, 532, *), 555, (*, 558, *)), 560, ((*, 575, *), 651, *))))), 654, (*, 674, ((*, 684, *), 688, ((*, 709, *), 721, *))))), 778, (((*, 781, (*, 784, *)), 798, (*, 809, (*, 902, *))), 926, (((*, 1127, *), 1611, *), 1949, ((*, 4065, (*, 4338, *)), 4441, *)))))), 5000, (((*, 5226, *), 5389, ((*, 6390, (*, 6548, ((*, 6782, *), 7301, ((*, 7389, (*, 7517, (*, 7685, (*, 7740, *)))), 7835, *)))), 7998, ((((*, 8042, (*, 8822, (*, 8841, (*, 9070, *)))), 9330, (*, 9666, *)), 11868, (*, 15537, ((*, 19766, (*, 20737, *)), 25538, (*, 28080, *)))), 32579, (*, 32615, ((*, 34124, *), 39677, (*, 43401, *)))))), 45520, ((((*, 46104, *), 56115, *), 58805, (*, 59791, (*, 62120, (*, 68264, (*, 70476, *))))), 73418, ((*, 76477, *), 78222, (*, 84804, (*, 84887, *))))))\n",
      "(0, True) (1, True) (2, True) (3, True) (4, True) (5, True) (6, True) (7, True) (8, True) (9, True) (10, True) (11, False) (12, False) (13, False) (14, False) "
     ]
    }
   ],
   "source": [
    "tree2_lb7 = tree_spaced_lines_file(\"digits.txt\")\n",
    "print(tree2_lb7)\n",
    "for i in range(15):\n",
    "    print((i,i in tree2_lb7), end = ' ')"
   ]
  },
  {
   "cell_type": "code",
   "execution_count": 38,
   "id": "19759442-6222-422e-b9e5-2eb2b4319bc3",
   "metadata": {
    "tags": []
   },
   "outputs": [
    {
     "name": "stdout",
     "output_type": "stream",
     "text": [
      "(*, t, *)\n",
      "((*, r, *), t, *)\n",
      "(((*, e, *), r, *), t, *)\n",
      "(((*, e, (*, e, *)), r, *), t, *)\n",
      "('b', False) ('i', False) ('n', False) ('a', False) ('r', True) ('y', False) ('t', True) ('r', True) ('e', True) ('e', True) "
     ]
    }
   ],
   "source": [
    "tree = BinaryTree()\n",
    "text = \"tree\"\n",
    "for char in text:\n",
    "    tree.insert(char)\n",
    "    print(tree)\n",
    "for ch in \"binarytree\":\n",
    "    print((ch,ch in tree), end = ' ')"
   ]
  },
  {
   "cell_type": "markdown",
   "id": "b4dd24c2-8c9e-4bc0-8c4d-27ece499c037",
   "metadata": {
    "tags": []
   },
   "source": [
    "### Задание 8.5 Перегрузка встроенной функции len"
   ]
  },
  {
   "cell_type": "code",
   "execution_count": 39,
   "id": "2a71ccec-91c9-4553-8f4b-77ad5140b4f5",
   "metadata": {
    "tags": []
   },
   "outputs": [],
   "source": [
    "class BinaryTree:\n",
    "    \n",
    "    def __init__(self):\n",
    "        BinaryNode.numberOfNodes = 0\n",
    "        self.root = EmptyNode()\n",
    "        \n",
    "    def __len__(self):\n",
    "        return len(self.root)\n",
    "    \n",
    "    def __repr__(self):\n",
    "        return repr(self.root)\n",
    "\n",
    "    def insert(self, value):\n",
    "        self.root = self.root.insert(value)\n",
    "        \n",
    "    def __contains__(self, value):\n",
    "        return value in self.root"
   ]
  },
  {
   "cell_type": "code",
   "execution_count": 40,
   "id": "95550e6d-e663-423f-ad4e-0e1004fd6cef",
   "metadata": {
    "tags": []
   },
   "outputs": [],
   "source": [
    "class BinaryNode:\n",
    "    numberOfNodes = 0\n",
    "    \n",
    "    def __len__(self):\n",
    "        return self.numberOfNodes\n",
    "    \n",
    "    def __init__(self, left, value, right):\n",
    "        BinaryNode.numberOfNodes += 1\n",
    "        self.left = left\n",
    "        self.value = value\n",
    "        self.right = right\n",
    "\n",
    "    def __repr__(self):\n",
    "        return f'({self.left}, {self.value}, {self.right})'\n",
    "    \n",
    "    def insert(self, value):\n",
    "        if value < self.value:\n",
    "            self.left = self.left.insert(value)\n",
    "        elif value >= self.value:\n",
    "            self.right = self.right.insert(value)\n",
    "        return self\n",
    "\n",
    "    def __contains__(self, value):\n",
    "        if self.value == value:\n",
    "            return True\n",
    "        if value < self.value:\n",
    "            return value in self.left\n",
    "        if value > self.value:\n",
    "            return value in self.right"
   ]
  },
  {
   "cell_type": "code",
   "execution_count": 41,
   "id": "b024aab9-47c7-4cee-bcd3-db5fb17c0a2a",
   "metadata": {
    "tags": []
   },
   "outputs": [],
   "source": [
    "class EmptyNode:\n",
    "    def __repr__(self):\n",
    "        return '*'\n",
    "    def __len__(self):\n",
    "        return self.numberOfNodes\n",
    "    def __len__(self):\n",
    "        return 0\n",
    "    def insert(self, value):\n",
    "        return BinaryNode(self, value, self)\n",
    "    \n",
    "    def __contains__(self, value):\n",
    "        return False"
   ]
  },
  {
   "cell_type": "code",
   "execution_count": 42,
   "id": "08cc028f-1768-4ee4-b39a-195c3415d17b",
   "metadata": {
    "tags": []
   },
   "outputs": [
    {
     "data": {
      "text/plain": [
       "5"
      ]
     },
     "execution_count": 42,
     "metadata": {},
     "output_type": "execute_result"
    }
   ],
   "source": [
    "tree = BinaryTree()\n",
    "for i in source_data:\n",
    "    tree.insert(i)\n",
    "\n",
    "len(tree)"
   ]
  },
  {
   "cell_type": "code",
   "execution_count": 44,
   "id": "79210329-fd32-4d8a-a0d3-423afc2bb6aa",
   "metadata": {
    "tags": []
   },
   "outputs": [
    {
     "name": "stdout",
     "output_type": "stream",
     "text": [
      "Дерево из файла из Лб7:\n",
      "\n",
      "((((*, 0, (*, 0, (*, 0, ((*, 0, *), 1, ((*, 1, (*, 1, (*, 1, *))), 2, (*, 2, (*, 2, *))))))), 3, (*, 3, (*, 3, (*, 3, (*, 3, *))))), 4, (((*, 4, ((*, 4, (*, 4, (*, 4, *))), 5, (*, 5, *))), 6, (*, 6, (*, 6, (*, 6, *)))), 7, (((((((*, 7, (*, 7, (*, 7, (*, 7, *)))), 8, (*, 8, *)), 9, (*, 9, (*, 9, ((*, 9, (*, 9, (*, 10, *))), 16, ((*, 16, *), 19, *))))), 26, (*, 29, (((*, 35, *), 40, (*, 44, *)), 48, *))), 57, ((*, 59, *), 60, ((*, 60, (*, 61, (*, 62, *))), 64, (*, 66, *)))), 68, ((((((*, 69, *), 74, (((*, 75, *), 77, *), 82, *)), 93, (((*, 94, *), 97, (*, 98, *)), 99, *)), 116, (*, 132, ((*, 155, *), 258, *))), 263, (((*, 364, *), 377, *), 476, (*, 499, (((*, 532, *), 555, (*, 558, *)), 560, ((*, 575, *), 651, *))))), 654, (*, 674, ((*, 684, *), 688, ((*, 709, *), 721, *))))), 778, (((*, 781, (*, 784, *)), 798, (*, 809, (*, 902, *))), 926, (((*, 1127, *), 1611, *), 1949, ((*, 4065, (*, 4338, *)), 4441, *)))))), 5000, (((*, 5226, *), 5389, ((*, 6390, (*, 6548, ((*, 6782, *), 7301, ((*, 7389, (*, 7517, (*, 7685, (*, 7740, *)))), 7835, *)))), 7998, ((((*, 8042, (*, 8822, (*, 8841, (*, 9070, *)))), 9330, (*, 9666, *)), 11868, (*, 15537, ((*, 19766, (*, 20737, *)), 25538, (*, 28080, *)))), 32579, (*, 32615, ((*, 34124, *), 39677, (*, 43401, *)))))), 45520, ((((*, 46104, *), 56115, *), 58805, (*, 59791, (*, 62120, (*, 68264, (*, 70476, *))))), 73418, ((*, 76477, *), 78222, (*, 84804, (*, 84887, *))))))\n",
      "\n",
      "Длина дерева из файла из Лб7:\n",
      "\n",
      "145\n"
     ]
    }
   ],
   "source": [
    "tree_lb7 = tree_spaced_lines_file(\"digits.txt\")\n",
    "\n",
    "# Визуализация деревьев\n",
    "print(\"Дерево из файла из Лб7:\\n\")\n",
    "print(tree_lb7)\n",
    "print(\"\\nДлина дерева из файла из Лб7:\\n\")\n",
    "print(len(tree_lb7))"
   ]
  },
  {
   "cell_type": "code",
   "execution_count": 46,
   "id": "4793a4f5-75f2-4068-91d2-476944862537",
   "metadata": {
    "tags": []
   },
   "outputs": [
    {
     "name": "stdout",
     "output_type": "stream",
     "text": [
      "145\n",
      "145\n"
     ]
    }
   ],
   "source": [
    "print(len(tree_lb7))\n",
    "print(len(tree))"
   ]
  },
  {
   "cell_type": "code",
   "execution_count": 50,
   "id": "5336b861-3e06-40a8-a605-4d07b1fe642c",
   "metadata": {
    "tags": []
   },
   "outputs": [
    {
     "name": "stdout",
     "output_type": "stream",
     "text": [
      "(*, B, (((*, T, *), a, (*, e, (*, e, *))), i, (*, n, (*, r, ((*, r, *), y, *)))))\n",
      "----------------------------------------------------------------------------------------------------\n",
      "10 10\n"
     ]
    }
   ],
   "source": [
    "tree = BinaryTree()\n",
    "text = \"BinaryTree\"\n",
    "for char in text:\n",
    "    tree.insert(char)\n",
    "print(tree)\n",
    "print(\"-\"*100)\n",
    "print(len(tree), len(text))"
   ]
  },
  {
   "cell_type": "markdown",
   "id": "f4b19e39-98f1-4383-988c-36f75f2a6273",
   "metadata": {},
   "source": [
    "### Доп. задания по трассировке объектного уровня"
   ]
  },
  {
   "cell_type": "markdown",
   "id": "0099b41f-1768-48d4-ae4d-2ea15c7ff238",
   "metadata": {},
   "source": [
    "#### Задание 1."
   ]
  },
  {
   "cell_type": "code",
   "execution_count": 51,
   "id": "b34192ac-b991-4f71-a0d5-42eda3886ef5",
   "metadata": {
    "tags": []
   },
   "outputs": [
    {
     "name": "stdout",
     "output_type": "stream",
     "text": [
      "((*, 1, *), 5, *)\n"
     ]
    }
   ],
   "source": [
    "source_data = [5,1,10,3,4]\n",
    "tree = BinaryTree()\n",
    "tree.insert(source_data[0])\n",
    "tree.insert(source_data[1]) #вставляем вершину-значение в непустое дерево\n",
    "print(tree)"
   ]
  },
  {
   "cell_type": "markdown",
   "id": "56ea4483-41b4-48e8-8145-a9f231defcc1",
   "metadata": {},
   "source": [
    "Вставка новой вершины в непустое дерево происходит следующим образом:\n",
    "\n",
    "1. Вызывается метод `insert` у корневой вершины дерева (в данном случае, `self.root.insert(value)`), где `value` это значение новой вершины, которую мы хотим вставить.\n",
    "  \n",
    "2. В методе `insert` у корневой вершины проверяется условие: если значение новой вершины (`value`) меньше, чем значение текущей вершины, то новая вершина должна быть вставлена в левое поддерево. Если значение новой вершины больше или равно значению текущей вершины, она должна быть вставлена в правое поддерево.\n",
    "\n",
    "3. В случае, если значение новой вершины меньше значения текущей вершины, вызывается метод `insert` для левого поддерева: `self.left.insert(value)`.\n",
    "\n",
    "4. Если значение новой вершины больше или равно значению текущей вершины, вызывается метод `insert` для правого поддерева: `self.right.insert(value)`.\n",
    "\n",
    "5. Этот процесс рекурсивно повторяется до тех пор, пока не будет найдена \"пустая\" вершина, куда можно вставить новую вершину.\n",
    "\n",
    "6. Когда будет найдена \"пустая\" вершина, т.е экземпляр класса `EmptyNode`, создается новый экземпляр класса `BinaryNode`, где `left` и `right` будут указывать на \"пустые\" вершины, т.е экземпляр класса `EmptyNode`, а `value` будет равно значению новой вершины. Этот новый экземпляр будет вставлен на место \"пустой\" вершины.\n",
    "\n",
    "7. После вставки новой вершины происходит возврат по рекурсии, обновляются ссылки на поддеревья, и изменения отражаются на всем пути до корневой вершины.\n"
   ]
  },
  {
   "cell_type": "markdown",
   "id": "84ce9e25-7042-4a24-8a0f-594838097d3a",
   "metadata": {},
   "source": [
    "#### Задание 2."
   ]
  },
  {
   "cell_type": "code",
   "execution_count": 52,
   "id": "8dcd360c-665d-46dd-949a-64d2d73cc412",
   "metadata": {
    "tags": []
   },
   "outputs": [],
   "source": [
    "tree = BinaryTree()"
   ]
  },
  {
   "cell_type": "markdown",
   "id": "84264fa9-a70c-4be5-bd57-0e6f4beb2be0",
   "metadata": {
    "tags": []
   },
   "source": [
    "Создание \"пустого\" дерева происходит следующим образом:\n",
    "\n",
    "1. При создании экземпляра класса `BinaryTree` в его конструкторе вызывается метод `__init__`.\n",
    "   \n",
    "2. В методе `__init__` инициализируется переменная `self.root`, которая будет являться корневой вершиной дерева. Начально она устанавливается в экземпляр класса `EmptyNode()`.\n",
    "   \n",
    "3. При этом вызывается конструктор класса `EmptyNode()`, который возвращает объект, представляющий \"пустую\" вершину.\n",
    "\n",
    "4. Этот объект и будет корневой вершиной \"пустого\" дерева, так как в начале у дерева нет ни одной вершины с данными.\n",
    "\n",
    "5. Кроме того, в конструкторе класса `BinaryTree` инициализируется переменная `BinaryNode.numberOfNodes`, которая представляет собой счетчик количества вершин в дереве. Начально она устанавливается в 0.\n"
   ]
  },
  {
   "cell_type": "markdown",
   "id": "a6bb68f0-f3d2-42a9-be31-d9190ec70080",
   "metadata": {},
   "source": [
    "#### Задание 3."
   ]
  },
  {
   "cell_type": "markdown",
   "id": "1ab03afe-169d-4140-9762-00448a1905df",
   "metadata": {
    "tags": []
   },
   "source": [
    "Давайте выполним трассировку объектного уровня для выражения `tree.insert(6)`, чтобы увидеть, как происходит вставка новой вершины.\n",
    "\n",
    "Изначально у нас есть дерево `tree`, которое содержит вершину с данными `5`:\n",
    "\n",
    "```\n",
    "        (EmptyNode, 5, EmptyNode)\n",
    "```\n",
    "\n",
    "Теперь, когда мы выполняем `tree.insert(6)`, происходит следующее:\n",
    "\n",
    "1. Метод `insert` вызывается у корневой вершины дерева, которая является экземпляром класса `BinaryNode`. Текущее состояние дерева:\n",
    "\n",
    "```\n",
    "        (EmptyNode, 5, EmptyNode)\n",
    "```\n",
    "\n",
    "2. Так как `6` больше `5`, то мы переходим к правой подвершине текущей вершины.\n",
    "\n",
    "3. У правой подвершины вызывается метод `insert` с аргументом `6`.\n",
    "\n",
    "4. Теперь, так как правая подвершина пуста (`EmptyNode`), создается новая вершина с данными `6`, которая становится правой подвершиной текущей вершины:\n",
    "\n",
    "```\n",
    "         (EmptyNode, 5, (EmptyNode, 6, EmptyNode))\n",
    "```\n",
    "\n",
    "5. Возвращаемся обратно к корневой вершине.\n",
    "\n",
    "6. Обновляем ссылку на правую подвершину корневой вершины на новую вершину:\n",
    "\n",
    "```\n",
    "         (EmptyNode, 5, (EmptyNode, 6, EmptyNode))\n",
    "```\n"
   ]
  },
  {
   "cell_type": "code",
   "execution_count": null,
   "id": "26b1ee54-73a1-4640-9cb1-baca22816dc6",
   "metadata": {},
   "outputs": [],
   "source": []
  }
 ],
 "metadata": {
  "kernelspec": {
   "display_name": "Python 3 (ipykernel)",
   "language": "python",
   "name": "python3"
  },
  "language_info": {
   "codemirror_mode": {
    "name": "ipython",
    "version": 3
   },
   "file_extension": ".py",
   "mimetype": "text/x-python",
   "name": "python",
   "nbconvert_exporter": "python",
   "pygments_lexer": "ipython3",
   "version": "3.11.5"
  }
 },
 "nbformat": 4,
 "nbformat_minor": 5
}
