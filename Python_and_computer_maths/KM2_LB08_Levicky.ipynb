{
 "cells": [
  {
   "cell_type": "markdown",
   "id": "791837fd-102d-4a25-a377-cab7bdc473d8",
   "metadata": {},
   "source": [
    "# Лабораторная работа 8"
   ]
  },
  {
   "cell_type": "markdown",
   "id": "092b9ef0-37b6-42dd-933d-1b85819437a2",
   "metadata": {},
   "source": [
    "**Построение бинарного дерева поиска. Подсчет количества элементов в дереве**"
   ]
  },
  {
   "cell_type": "markdown",
   "id": "16dac798-e7b5-4f29-ad84-e12dc7cd21f7",
   "metadata": {},
   "source": [
    "Левицкий Я. А., май 2024"
   ]
  },
  {
   "cell_type": "markdown",
   "id": "596eeb94",
   "metadata": {},
   "source": [
    "## Задание 8.1 Определение классов"
   ]
  },
  {
   "cell_type": "markdown",
   "id": "de2d154e",
   "metadata": {},
   "source": [
    "Бинарное дерево поиска будем описывать с помощью трех классов: BinaryTree, BinaryNode , EmptyNode , связанных друг с друго на основе композиции. Проектирование классов представлено в лекции к теме Бинарное дерево поиска. Реализация на основе ООП."
   ]
  },
  {
   "cell_type": "markdown",
   "id": "c892f1dc",
   "metadata": {},
   "source": [
    "<span style='color:red'>Напишем</span> базовое определение классов BinaryTree, BinaryNode, EmptyNode на основе лекционных материалов:\n",
    "\n",
    "Базовое определение класса BinaryTree содержит метод инициализации \\_\\_init\\_\\_(self), метод строкового представления \\_\\_repr\\_\\_(self), метод вставки элемента в дерево insert(self, value).\n",
    "\n",
    "Базовое определение класса BinaryNode содержит метод инициализации \\_\\_init\\_\\_(self) и метод строкового представления \\_\\_repr\\_\\_(self).\n",
    "\n",
    "Базовое определение класса EmptyNode содержит метод строкового представления \\_\\_repr\\_\\_(self) и метод вставки элемента в дерево insert(self, value)."
   ]
  },
  {
   "cell_type": "markdown",
   "id": "2ef7ff56",
   "metadata": {},
   "source": [
    "### 1. Проектирование класса BinaryTree "
   ]
  },
  {
   "cell_type": "markdown",
   "id": "bb65445d",
   "metadata": {},
   "source": [
    "Класс BinaryTree определяет шаблон для создания объекта, представляющего\n",
    "бинарное дерево поиска\n",
    "\n",
    "Определение класса BinaryTree содержит ТРИ метода: \\_\\_init\\_\\_ , \\_\\_repr\\_\\_ и\n",
    "insert.\n",
    "\n",
    "_Метод инициализации_ экземпляра класса \\_\\_init\\_\\_ вызывается без аргументов и инициализирует единственный атрибут экземпляра класса root экземпляром класса EmptyNode:"
   ]
  },
  {
   "cell_type": "code",
   "execution_count": null,
   "id": "4c4541e8",
   "metadata": {},
   "outputs": [],
   "source": [
    "def __init__(self):\n",
    "    self.root = EmptyNode()"
   ]
  },
  {
   "cell_type": "markdown",
   "id": "7f05ca34",
   "metadata": {},
   "source": [
    "Назначение атрибута root - это хранение ссылки на корень дерева\n",
    "\n",
    "_Метод строкового представления_ экземпляра класса \\_\\_repr\\_\\_ возвращает строковое представление для корня дерева root:"
   ]
  },
  {
   "cell_type": "code",
   "execution_count": null,
   "id": "9b692f7a",
   "metadata": {},
   "outputs": [],
   "source": [
    "def __repr__(self):\n",
    "    return repr(self.root)"
   ]
  },
  {
   "cell_type": "markdown",
   "id": "707dd1c7",
   "metadata": {},
   "source": [
    "Метод insert(value) является методом вставки в дерево НОВОГО элемента. Новый элемент всегда является листом со значением value.\n",
    "\n",
    "Метод вставки элемента в дерево реализуется через метод вставки элемента в корневую вершину дерева root. При этом атрибут root переопределяется ссылкой на новый объект для представления корня:"
   ]
  },
  {
   "cell_type": "code",
   "execution_count": null,
   "id": "5c6ab4ac",
   "metadata": {},
   "outputs": [],
   "source": [
    "def insert(self, value):\n",
    "    self.root = self.root.insert(value)"
   ]
  },
  {
   "cell_type": "markdown",
   "id": "cf65e0e9",
   "metadata": {},
   "source": [
    "Определим класс BinaryTree:"
   ]
  },
  {
   "cell_type": "code",
   "execution_count": 2,
   "id": "92df2614",
   "metadata": {},
   "outputs": [],
   "source": [
    "class BinaryTree:\n",
    "    def __init__(self):\n",
    "        self.root = EmptyNode()\n",
    "\n",
    "    def __repr__(self):\n",
    "        return repr(self.root)\n",
    "\n",
    "    def insert(self, value):\n",
    "        self.root = self.root.insert(value) "
   ]
  },
  {
   "cell_type": "markdown",
   "id": "57e6798b",
   "metadata": {},
   "source": [
    "Создать экземпляр класса BinaryTree пока нельзя, так как не определен класс\n",
    "EmptyNode"
   ]
  },
  {
   "cell_type": "code",
   "execution_count": null,
   "id": "98a0a545",
   "metadata": {},
   "outputs": [],
   "source": [
    "tree = BinaryTree()"
   ]
  },
  {
   "cell_type": "markdown",
   "id": "24f5083f",
   "metadata": {},
   "source": [
    "### 1.2 Проектирование класса BinaryNode "
   ]
  },
  {
   "cell_type": "markdown",
   "id": "d90d69ae",
   "metadata": {},
   "source": [
    "Класс BinaryNode определяет шаблон для создания объекта, представляющего элемент бинарного дерева поиска.\n",
    "\n",
    "Определение класса BinaryNode содержит ТРИ метода: \\_\\_init\\_\\_, \\_\\_repr\\_\\_ и insert.\n",
    "\n",
    "_Метод инициализации_ экземпляра класса вызывается с тремя аргументами left, value и right для инициализации одноименных атрибутов экземпляра класса left, value и right соответствующими значениями"
   ]
  },
  {
   "cell_type": "code",
   "execution_count": null,
   "id": "2f40effa",
   "metadata": {},
   "outputs": [],
   "source": [
    "def __init__(self, left, value, right):\n",
    "    self.left = left\n",
    "    self.value = value\n",
    "    self.right = right"
   ]
  },
  {
   "cell_type": "markdown",
   "id": "7dd82b7e",
   "metadata": {},
   "source": [
    "Назначение атрибута left -- это хранение ссылки на корень левого поддерева.\n",
    "\n",
    "Назначение атрибута right -- это хранение ссылки на корень правого поддерева.\n",
    "\n",
    "Назначение атрибута value -- это хранение значения вершины\n",
    "\n",
    "Метод строкового представления экземпляра класса \\_\\_repr\\_\\_ возвращает кортеж, состоящий из строкового представления корня левого поддерева left, из строкового представления значения value вершины и из строкового представления корня правого поддерева right"
   ]
  },
  {
   "cell_type": "code",
   "execution_count": null,
   "id": "bf056047",
   "metadata": {},
   "outputs": [],
   "source": [
    "def __repr__(self):\n",
    "    return f'({self.left}, {self.value}, {self.right})'"
   ]
  },
  {
   "cell_type": "markdown",
   "id": "3a1b51ce",
   "metadata": {},
   "source": [
    "Метод insert(value) является методом вставки в текущую вершину НОВОЙ вершины со значением value . Метод insert содержит основной алгоритм построения бинарного дерева поиска и будет определен позже"
   ]
  },
  {
   "cell_type": "code",
   "execution_count": null,
   "id": "d47b3bc0",
   "metadata": {},
   "outputs": [],
   "source": [
    "def insert(self, value):\n",
    "    ..."
   ]
  },
  {
   "cell_type": "markdown",
   "id": "613c9b99",
   "metadata": {},
   "source": [
    "Определим класс BinaryNode:"
   ]
  },
  {
   "cell_type": "code",
   "execution_count": null,
   "id": "3145a41b",
   "metadata": {},
   "outputs": [],
   "source": [
    "class BinaryNode:\n",
    "    def __init__(self, left, value, right):\n",
    "        self.left = left\n",
    "        self.value = value\n",
    "        self.right = right\n",
    "\n",
    "    def __repr__(self):\n",
    "        return f'({self.left}, {self.value}, {self.right})'\n",
    "\n",
    "    def insert(self, value):\n",
    "        ..."
   ]
  },
  {
   "cell_type": "markdown",
   "id": "8ce768ed",
   "metadata": {},
   "source": [
    "Создадим экземпляр класса BinaryNode:"
   ]
  },
  {
   "cell_type": "code",
   "execution_count": null,
   "id": "a2428693",
   "metadata": {},
   "outputs": [],
   "source": [
    "node = BinaryNode(None, 5, None)"
   ]
  },
  {
   "cell_type": "markdown",
   "id": "9125df69",
   "metadata": {},
   "source": [
    "Сделаем вывод строкового представления для экземпляра класса BinaryNode:"
   ]
  },
  {
   "cell_type": "code",
   "execution_count": null,
   "id": "98e3deb6",
   "metadata": {},
   "outputs": [
    {
     "name": "stdout",
     "output_type": "stream",
     "text": [
      "(None, 5, None)\n"
     ]
    }
   ],
   "source": [
    "print(node)"
   ]
  },
  {
   "cell_type": "markdown",
   "id": "99b6474c",
   "metadata": {},
   "source": [
    "### 1.3 Проектирование класса EmptyNode"
   ]
  },
  {
   "cell_type": "markdown",
   "id": "050bd5d4",
   "metadata": {},
   "source": [
    "Класс EmptyNode определяет шаблон для создания объекта, представляющего\n",
    "\"пустой\" элемент (вершину) бинарного дерева поиска без значения и без поддеревьев.\n",
    "Экземпляры класса EmptyNode будут использоваться для представления пустого\n",
    "дерева и пустых поддеревьев.\n",
    "\n",
    "Класс EmptyNode определяется ДВУМЯ методами: \\_\\_repr\\_\\_ и insert.\n",
    "\n",
    "_Метод инициализации_ экземпляра класса отсутствует, так как экземпляры класса EmptyNode не хранят никаких данных.\n",
    "\n",
    "_Метод строкового представления_ экземпляра класса \\_\\_repr\\_\\_ возвращает один символ *."
   ]
  },
  {
   "cell_type": "code",
   "execution_count": null,
   "id": "779e41d9",
   "metadata": {},
   "outputs": [],
   "source": [
    "def __repr__(self):\n",
    "    return '*'"
   ]
  },
  {
   "cell_type": "markdown",
   "id": "588cb3ee",
   "metadata": {},
   "source": [
    "Метод insert(value) является методом вставки в пустую вершину НОВОЙ вершины со значением value. Метод insert возвращает новый экземпляр класса BinaryNode со значением value. Левое и правое поддерево определяются ссылками на пустую вершину:"
   ]
  },
  {
   "cell_type": "code",
   "execution_count": null,
   "id": "cdc933d7",
   "metadata": {},
   "outputs": [],
   "source": [
    "def insert(self, value):\n",
    "    return BinaryNode(self, value, self)"
   ]
  },
  {
   "cell_type": "markdown",
   "id": "1db560c3",
   "metadata": {},
   "source": [
    "При вставке НОВОГО элемента в бинарное дерево поиска ссылка на экземпляр класса EmptyNode будет заменяться на ссылку на новый экземпляр класса BinaryNode.\n",
    "\n",
    "Экземпляр класса EmptyNode создается только один раз при создании экземпляра класса BinaryTree. Каждое пустое поддерево для экземпляров класса BinaryNode будет ссылаться на ЕДИНСТВЕННЫЙ экземпляр класса EmptyNode.\n",
    "\n",
    "Определим класс EmptyNode:"
   ]
  },
  {
   "cell_type": "code",
   "execution_count": 3,
   "id": "afb077f0",
   "metadata": {},
   "outputs": [],
   "source": [
    "class EmptyNode:\n",
    "    def __repr__(self):\n",
    "        return '*'\n",
    "\n",
    "    def insert(self, value):\n",
    "        return BinaryNode(self, value, self)"
   ]
  },
  {
   "cell_type": "markdown",
   "id": "f1546385",
   "metadata": {},
   "source": [
    "Создадим экземпляр класса EmptyNode:"
   ]
  },
  {
   "cell_type": "code",
   "execution_count": null,
   "id": "410732dc",
   "metadata": {},
   "outputs": [],
   "source": [
    "empty_node = EmptyNode()"
   ]
  },
  {
   "cell_type": "markdown",
   "id": "69b5d32c",
   "metadata": {},
   "source": [
    "Сделаем вывод строкового представления для экземпляра класса EmptyNode:"
   ]
  },
  {
   "cell_type": "code",
   "execution_count": null,
   "id": "cbe74a16",
   "metadata": {},
   "outputs": [
    {
     "name": "stdout",
     "output_type": "stream",
     "text": [
      "*\n"
     ]
    }
   ],
   "source": [
    "print(empty_node)"
   ]
  },
  {
   "cell_type": "markdown",
   "id": "81013eb5",
   "metadata": {},
   "source": [
    "Создадим экземпляр класса BinaryTree:"
   ]
  },
  {
   "cell_type": "code",
   "execution_count": null,
   "id": "476eff3c",
   "metadata": {},
   "outputs": [],
   "source": [
    "tree = BinaryTree()"
   ]
  },
  {
   "cell_type": "markdown",
   "id": "f5bbaa44",
   "metadata": {},
   "source": [
    "Бинарное дерево поиска пусто, корень представлен экземпляром класса EmptyNode .\n",
    "Пустое дерево выводится с помощью символа *"
   ]
  },
  {
   "cell_type": "code",
   "execution_count": null,
   "id": "1a5b4b31",
   "metadata": {},
   "outputs": [
    {
     "name": "stdout",
     "output_type": "stream",
     "text": [
      "*\n"
     ]
    }
   ],
   "source": [
    "print(tree)"
   ]
  },
  {
   "cell_type": "markdown",
   "id": "9366d8c5",
   "metadata": {},
   "source": [
    "Вставим в дерево новый элемент со значением 10:"
   ]
  },
  {
   "cell_type": "code",
   "execution_count": null,
   "id": "e17255ee",
   "metadata": {},
   "outputs": [],
   "source": [
    "tree.insert(10)"
   ]
  },
  {
   "cell_type": "markdown",
   "id": "601eed4d",
   "metadata": {},
   "source": [
    "Сделаем вывод дерева:"
   ]
  },
  {
   "cell_type": "code",
   "execution_count": null,
   "id": "5b41c48b",
   "metadata": {},
   "outputs": [
    {
     "name": "stdout",
     "output_type": "stream",
     "text": [
      "(*, 10, *)\n"
     ]
    }
   ],
   "source": [
    "print(tree)"
   ]
  },
  {
   "cell_type": "markdown",
   "id": "75001e67-8c38-4eac-b9ae-ee981a3f2b10",
   "metadata": {
    "tags": []
   },
   "source": [
    "## Задание 8.2 Метод вставки элемента в бинарное дерево поиска"
   ]
  },
  {
   "cell_type": "markdown",
   "id": "25e01c2b-1f43-4c80-af77-2735546e33a3",
   "metadata": {},
   "source": [
    "$\\color{red}{Переопределите}$ класс BinaryNode за счет определения метода\n",
    "вставки insert(self, value) ."
   ]
  },
  {
   "cell_type": "code",
   "execution_count": 4,
   "id": "21431813-2aed-49b3-afe7-356c18bacff3",
   "metadata": {
    "tags": []
   },
   "outputs": [],
   "source": [
    "class BinaryNode:\n",
    "    def __init__(self, left, value, right):\n",
    "        self.left = left\n",
    "        self.value = value\n",
    "        self.right = right\n",
    "    def __repr__(self):\n",
    "        return f'({self.left}, {self.value}, {self.right})'\n",
    "    def insert(self, value):\n",
    "        if value < self.value:\n",
    "            self.left = self.left.insert(value)\n",
    "        elif value >= self.value:\n",
    "            self.right = self.right.insert(value)\n",
    "        return self"
   ]
  },
  {
   "cell_type": "markdown",
   "id": "cd8b6063-8172-4501-a153-e0421e87c4dd",
   "metadata": {
    "tags": []
   },
   "source": [
    "$\\color{red}{Протестируйте}$ корректность построения бинарного дерева поиска на\n",
    "основе вставки в дерево элементов некоторого итерируемого объекта. При этом\n",
    "важно, чтобы для элементов итерируемого объекта были определены операции\n",
    "сравнения. Приведите три примера построения бинарного дерева поиска на основе\n",
    "итерируемых объектов различных типов (например, str , range , list )."
   ]
  },
  {
   "cell_type": "code",
   "execution_count": 5,
   "id": "f3c44fce-71eb-4f8e-a24b-7be8c268e347",
   "metadata": {
    "tags": []
   },
   "outputs": [
    {
     "data": {
      "text/plain": [
       "((*, 3, *), 5, (*, 6, ((*, 8, *), 43, *)))"
      ]
     },
     "execution_count": 5,
     "metadata": {},
     "output_type": "execute_result"
    }
   ],
   "source": [
    "number_tree = BinaryTree()\n",
    "for num in [5, 3, 6, 43, 8]: number_tree.insert(num)\n",
    "number_tree"
   ]
  },
  {
   "cell_type": "code",
   "execution_count": 6,
   "id": "58673882-3e73-4d10-a1c4-e51f4c3ac7eb",
   "metadata": {
    "tags": []
   },
   "outputs": [
    {
     "data": {
      "text/plain": [
       "(*, dsf, (*, fsd, (*, hdf, ((*, jhdz, *), jys, *))))"
      ]
     },
     "execution_count": 6,
     "metadata": {},
     "output_type": "execute_result"
    }
   ],
   "source": [
    "string_tree = BinaryTree()\n",
    "for char in ['dsf', 'fsd', 'hdf', 'jys', 'jhdz']: string_tree.insert(char)\n",
    "string_tree"
   ]
  },
  {
   "cell_type": "code",
   "execution_count": 8,
   "id": "08120fca-6f46-4fac-8f28-48b6f3724f88",
   "metadata": {
    "tags": []
   },
   "outputs": [
    {
     "data": {
      "text/plain": [
       "(*, (1, 6), ((*, (3, 8), *), (7, 4), (*, (23, 8), *)))"
      ]
     },
     "execution_count": 8,
     "metadata": {},
     "output_type": "execute_result"
    }
   ],
   "source": [
    "tuple_tree = BinaryTree()\n",
    "for tup in [(1,6),(7,4),(23,8),(3,8)]: tuple_tree.insert(tup)\n",
    "tuple_tree"
   ]
  },
  {
   "cell_type": "markdown",
   "id": "ef7612ec-85e2-40cc-9b92-ae5a64092c18",
   "metadata": {
    "tags": []
   },
   "source": [
    "## Задание 8.3 Построение бинарного дерева поиска"
   ]
  },
  {
   "cell_type": "markdown",
   "id": "642a0890-99f0-49d6-8f36-66a9c13e5611",
   "metadata": {
    "tags": []
   },
   "source": [
    "$\\color{red}{Прочитайте}$ числовые данные, записанные в файлы, и $\\color{red}{постройте}$ на основании этих данных бинарные деревья поиска.\n",
    "\n",
    "$\\color{red}{Рассмотрите}$ четыре варианта хранения данных в файлах:\n",
    "1. числовые данные хранятся в текстовом файле и записаны в столбец;\n",
    "2. числовые данные хранятся в текстовом файле, записаны в строки, разделены\n",
    "пробелами, в каждой строке расположено одинаковое количество числовых\n",
    "значений;\n",
    "3. числовые данные хранятся в текстовом файле, записаны в строки, разделены\n",
    "пробелами, в каждой строке расположено различное количество числовых\n",
    "значений; текстовый файл генерируется в Лб7;\n",
    "4. числовые данные хранятся в файле формата json .\n"
   ]
  },
  {
   "cell_type": "markdown",
   "id": "7a58c9ec",
   "metadata": {},
   "source": [
    "Для случая если все числа стоят в столбик:"
   ]
  },
  {
   "cell_type": "code",
   "execution_count": 15,
   "id": "718eb964",
   "metadata": {},
   "outputs": [],
   "source": [
    "def build_tree_from_column(file_path):\n",
    "    tree = BinaryTree()\n",
    "    with open(file_path, 'r') as file:\n",
    "        for line in file:\n",
    "            tree.insert(int(line.strip()))\n",
    "    return tree"
   ]
  },
  {
   "cell_type": "markdown",
   "id": "9f22a58d",
   "metadata": {},
   "source": [
    "Если числа в строке разделены пробелом добавим вложенный цикл с split():"
   ]
  },
  {
   "cell_type": "code",
   "execution_count": 10,
   "id": "44e500a0",
   "metadata": {},
   "outputs": [],
   "source": [
    "def build_tree_from_spaced_rows(file_path):\n",
    "    tree = BinaryTree()\n",
    "    with open(file_path, 'r') as file:\n",
    "        for line in file:\n",
    "            for num in map(int, line.strip().split()):\n",
    "                tree.insert(num)\n",
    "    return tree"
   ]
  },
  {
   "cell_type": "markdown",
   "id": "c67e5c34",
   "metadata": {},
   "source": [
    "Вообще для случая с неравным кол-вом элементов в строке функция выглядит также:"
   ]
  },
  {
   "cell_type": "code",
   "execution_count": 16,
   "id": "8f91287b",
   "metadata": {},
   "outputs": [],
   "source": [
    "def build_tree_from_uneven_rows(file_path):\n",
    "    tree = BinaryTree()\n",
    "    with open(file_path, 'r') as file:\n",
    "        for line in file:\n",
    "            for num in map(int, line.strip().split()):\n",
    "                tree.insert(num)\n",
    "    return tree"
   ]
  },
  {
   "cell_type": "markdown",
   "id": "e53fd755",
   "metadata": {},
   "source": [
    "Для json воспользуемся функциями:"
   ]
  },
  {
   "cell_type": "code",
   "execution_count": 12,
   "id": "5d166260",
   "metadata": {},
   "outputs": [],
   "source": [
    "import json\n",
    "\n",
    "def build_tree_from_json(file_path):\n",
    "    tree = BinaryTree()\n",
    "    with open(file_path, 'r') as file:\n",
    "        data = json.load(file)\n",
    "        for num in data:\n",
    "            tree.insert(num)\n",
    "    return tree"
   ]
  },
  {
   "cell_type": "markdown",
   "id": "0797d9fd",
   "metadata": {},
   "source": [
    "Проверим:"
   ]
  },
  {
   "cell_type": "code",
   "execution_count": 40,
   "id": "17395a24-10f9-4896-b3cc-cd5a59f39fda",
   "metadata": {},
   "outputs": [
    {
     "name": "stdout",
     "output_type": "stream",
     "text": [
      "digits.txt:  (((*, 3, *), 4, ((*, 6, *), 7, ((((*, 26, *), 57, *), 68, ((*, 263, *), 654, (*, 674, *))), 778, ((*, 798, *), 926, *)))), 5000, ((*, 5389, (*, 7998, (((*, 9330, *), 11868, *), 32579, *))), 45520, ((*, 58805, *), 73418, (*, 78222, *))))\n",
      "digits_column.txt:  ((((((*, 0, *), 1, (*, 1, (*, 1, (*, 1, (*, 1, (*, 1, (*, 1, (*, 1, (*, 1, *))))))))), 2, ((*, 2, ((*, 2, (*, 2, ((*, 2, (*, 2, (*, 2, (*, 2, (*, 3, *))))), 4, *))), 5, (*, 5, (*, 6, (*, 6, *))))), 7, (((*, 7, (*, 7, *)), 8, (*, 8, (*, 8, (*, 8, *)))), 9, (*, 9, ((*, 9, ((*, 9, (*, 9, *)), 11, (*, 14, (*, 14, *)))), 18, ((*, 19, *), 29, *)))))), 30, (((((((*, 32, *), 42, ((*, 43, *), 44, (*, 63, (*, 67, (*, 67, *))))), 71, (((*, 71, *), 79, *), 80, ((*, 84, *), 95, *))), 102, ((*, 108, ((*, 117, *), 162, *)), 208, ((*, 238, *), 241, (*, 252, *)))), 257, ((((*, 287, *), 291, ((*, 387, *), 467, *)), 677, (*, 694, (*, 701, (((*, 804, *), 805, *), 807, *)))), 864, (*, 914, *))), 1512, ((((*, 1621, *), 2052, (((*, 3681, *), 3814, (*, 3880, *)), 4105, *)), 4459, (((*, 4617, (*, 5173, *)), 5675, (((*, 5747, *), 6352, (*, 6523, *)), 6587, ((((*, 6909, *), 7153, *), 7298, ((*, 7544, (*, 7695, *)), 8242, (*, 8274, (*, 8446, *)))), 8791, *))), 9856, (*, 16327, *))), 22212, (*, 23765, ((*, 27250, *), 28075, ((*, 31309, (*, 40132, *)), 42560, *))))), 48644, ((*, 51289, *), 52300, (((*, 52614, *), 52942, *), 54147, *)))), 56163, ((((*, 57502, *), 57612, *), 60529, *), 61007, ((*, 63349, *), 66629, *))), 76372, (((*, 79286, *), 79370, *), 80023, ((*, 84320, *), 90695, ((*, 90897, *), 92996, *))))\n",
      "digits_equal_rows.txt:  ((((*, 0, (*, 0, (*, 0, ((*, 0, (*, 0, *)), 1, (*, 1, (*, 1, (*, 1, *))))))), 2, (*, 2, ((*, 2, (*, 2, *)), 3, (*, 4, (*, 4, (*, 4, *)))))), 5, ((((*, 5, *), 6, (((*, 6, (*, 6, *)), 7, ((*, 7, (*, 7, *)), 8, (*, 9, (*, 9, (*, 9, *))))), 11, ((*, 11, *), 15, *))), 16, (*, 22, *)), 24, ((((((*, 26, *), 31, *), 34, (*, 34, *)), 40, *), 51, (((*, 54, *), 59, *), 62, (*, 62, ((*, 64, (*, 68, (*, 68, *))), 73, (*, 73, (((*, 73, (*, 82, *)), 87, *), 99, (*, 124, (*, 134, *)))))))), 180, ((*, 192, ((*, 223, *), 236, *)), 240, (((*, 252, (*, 275, *)), 344, *), 403, (((*, 420, *), 425, (*, 437, *)), 444, (*, 448, *))))))), 450, (((((*, 454, *), 473, (*, 485, *)), 547, ((*, 633, ((*, 634, *), 658, *)), 666, ((*, 682, (*, 738, (*, 743, *))), 793, *))), 979, (((((*, 1341, ((*, 1948, (*, 2364, *)), 2625, (*, 3590, (*, 4165, *)))), 4393, *), 4470, (*, 4903, (*, 5576, *))), 6307, ((((*, 6413, *), 6617, (*, 6682, *)), 6690, *), 6709, *)), 6918, (((*, 7044, *), 7633, ((((*, 7814, *), 7971, ((*, 8031, *), 8126, *)), 8680, (*, 8982, *)), 9111, (*, 9460, (*, 13862, *)))), 18484, *))), 20722, ((*, 27166, *), 43654, (((*, 49100, ((*, 51601, *), 56578, *)), 56943, *), 59455, (((*, 61077, ((*, 65525, (*, 65939, *)), 67514, *)), 71157, (*, 74565, *)), 83934, ((((*, 87971, *), 89144, (*, 93483, *)), 94045, *), 94244, (*, 97674, (*, 97846, *))))))))\n",
      "digits.json:  ((((((*, 0, (*, 0, (*, 0, *))), 2, (*, 2, ((*, 2, (*, 2, (*, 2, (*, 2, (*, 2, *))))), 3, (*, 3, (*, 3, *))))), 4, (*, 4, *)), 5, (((*, 5, (*, 5, (*, 5, ((*, 5, (*, 5, (*, 5, *))), 6, (*, 6, *))))), 7, (*, 7, (*, 7, (*, 7, *)))), 8, ((((*, 8, (*, 8, (*, 8, *))), 9, (((((*, 9, (*, 9, *)), 15, ((*, 15, *), 19, (*, 23, *))), 25, ((*, 25, (*, 25, *)), 26, ((*, 30, *), 31, (*, 37, (*, 38, *))))), 40, *), 42, (*, 45, ((*, 45, ((*, 45, *), 47, *)), 49, *)))), 51, (*, 59, (*, 64, *))), 68, *))), 75, ((((*, 77, *), 78, (*, 78, ((*, 80, *), 84, *))), 90, ((((*, 92, *), 95, *), 99, ((*, 147, *), 173, *)), 278, (*, 292, (*, 331, *)))), 393, (((((*, 407, *), 482, (*, 496, *)), 541, *), 630, (*, 630, (*, 631, *))), 641, ((*, 659, (((*, 702, *), 758, ((*, 877, *), 882, *)), 891, *)), 929, ((*, 973, (*, 976, *)), 989, ((*, 1648, *), 2320, *)))))), 2547, (((*, 2688, *), 4468, *), 4670, (((((*, 5182, (*, 5308, *)), 5325, (*, 5364, *)), 5981, (*, 6405, ((*, 6476, *), 7054, (((*, 7414, *), 7969, *), 8139, *)))), 8488, (((*, 8695, *), 8698, ((*, 8859, *), 9801, (*, 14246, ((*, 21451, *), 33062, (*, 33466, *))))), 35795, (*, 40829, (*, 44919, *)))), 50037, ((((*, 52429, (*, 52968, *)), 55148, ((*, 58251, (*, 65677, *)), 67137, (*, 68582, *))), 68975, ((*, 82367, (*, 84782, *)), 88447, ((*, 91717, *), 92035, *))), 93239, ((*, 93826, *), 99602, *)))))\n"
     ]
    }
   ],
   "source": [
    "tree_column = build_tree_from_column(\"digits_column.txt\")\n",
    "tree_spaced_lines = build_tree_from_spaced_rows(\"digits_equal_rows.txt\")\n",
    "tree_json = build_tree_from_json(\"digits.json\")\n",
    "tree_lb7 = build_tree_from_uneven_rows(\"digits.txt\")\n",
    "\n",
    "print(\"digits.txt: \", tree_lb7)\n",
    "print(\"digits_column.txt: \", tree_column)\n",
    "print(\"digits_equal_rows.txt: \",tree_spaced_lines)\n",
    "print(\"digits.json: \", tree_json)"
   ]
  },
  {
   "cell_type": "markdown",
   "id": "38955b95-ad83-4b3b-8385-6eb4ac3ee4f7",
   "metadata": {
    "jp-MarkdownHeadingCollapsed": true,
    "tags": []
   },
   "source": [
    "## Задание 8.4 Перегрузка операции принадлежности in"
   ]
  },
  {
   "cell_type": "markdown",
   "id": "f979ba08-6f4a-4836-a1e2-83e357b39fb0",
   "metadata": {
    "tags": []
   },
   "source": [
    "$\\color{red}{Переопределите}$ классы BinaryTree , BinaryNode , EmptyNode за\n",
    "счет определения нового метода __contains__(self, value) для перегрузки\n",
    "операции принадлежности in ."
   ]
  },
  {
   "cell_type": "code",
   "execution_count": 18,
   "id": "17f69e05-7d3e-4e39-b803-f4b892a92d6c",
   "metadata": {},
   "outputs": [],
   "source": [
    "class BinaryTree:\n",
    "    def __init__(self):\n",
    "        self.root = EmptyNode()\n",
    "    def __repr__(self):\n",
    "        return repr(self.root)\n",
    "    def insert(self, value):\n",
    "        self.root = self.root.insert(value)   \n",
    "    def __contains__(self, value):\n",
    "        return value in self.root"
   ]
  },
  {
   "cell_type": "code",
   "execution_count": 19,
   "id": "79a9c6a5-0553-49f7-804b-663070550590",
   "metadata": {},
   "outputs": [],
   "source": [
    "class BinaryNode:\n",
    "    def __init__(self, left, value, right):\n",
    "        self.left = left\n",
    "        self.value = value\n",
    "        self.right = right\n",
    "    def __repr__(self):\n",
    "        return f'({self.left}, {self.value}, {self.right})'\n",
    "    def insert(self, value):\n",
    "        if value < self.value:\n",
    "            self.left = self.left.insert(value)\n",
    "        elif value >= self.value:\n",
    "            self.right = self.right.insert(value)\n",
    "        return self\n",
    "    def __contains__(self, value):\n",
    "        if self.value == value: return True\n",
    "        elif value < self.value: return value in self.left\n",
    "        else: return value in self.right"
   ]
  },
  {
   "cell_type": "code",
   "execution_count": 20,
   "id": "fb31bc40-57a8-421c-aca8-109d55d8774d",
   "metadata": {
    "tags": []
   },
   "outputs": [],
   "source": [
    "class EmptyNode:\n",
    "    def __repr__(self):\n",
    "        return '*'\n",
    "    def insert(self, value):\n",
    "        return BinaryNode(self, value, self)\n",
    "    def __contains__(self, value):\n",
    "        return False"
   ]
  },
  {
   "cell_type": "markdown",
   "id": "94726754-f383-42c4-93a7-46af57defa39",
   "metadata": {
    "tags": []
   },
   "source": [
    "$\\color{red}{Протестируйте}$ корректность выполнения операции in на трех\n",
    "примерах."
   ]
  },
  {
   "cell_type": "code",
   "execution_count": 21,
   "id": "b3b13131-a089-4a27-a2ab-d85a5b7e2d6c",
   "metadata": {
    "tags": []
   },
   "outputs": [],
   "source": [
    "tree = BinaryTree()\n",
    "tree.insert(5)\n",
    "tree.insert(3)\n",
    "tree.insert(7)\n",
    "tree.insert(2)\n",
    "tree.insert(4)\n",
    "tree.insert(6)\n",
    "tree.insert(8)\n",
    "\n",
    "assert 5 in tree\n",
    "assert 3 in tree\n",
    "assert 7 in tree\n",
    "assert 2 in tree\n",
    "assert 4 in tree\n",
    "assert 6 in tree\n",
    "assert 8 in tree\n",
    "assert 1 not in tree\n",
    "assert 9 not in tree"
   ]
  },
  {
   "cell_type": "markdown",
   "id": "53b81d0e",
   "metadata": {},
   "source": [
    "Для пустого дерева:"
   ]
  },
  {
   "cell_type": "code",
   "execution_count": 22,
   "id": "6014687e-8b16-4119-b00c-38fe87cae0ba",
   "metadata": {
    "tags": []
   },
   "outputs": [],
   "source": [
    "tree = BinaryTree()\n",
    "\n",
    "assert 1 not in tree"
   ]
  },
  {
   "cell_type": "markdown",
   "id": "c2d7159b",
   "metadata": {},
   "source": [
    "Теперь со строками:"
   ]
  },
  {
   "cell_type": "code",
   "execution_count": 30,
   "id": "b27e9480-e01a-4b8a-ae53-219fdf3097bd",
   "metadata": {
    "tags": []
   },
   "outputs": [
    {
     "data": {
      "text/plain": [
       "{'\\x00': False,\n",
       " '\\x11': False,\n",
       " '\"': False,\n",
       " '3': True,\n",
       " 'D': False,\n",
       " 'U': True,\n",
       " 'f': True,\n",
       " 'w': False,\n",
       " '\\x88': False,\n",
       " '\\x99': False,\n",
       " 'ª': False,\n",
       " '»': False}"
      ]
     },
     "execution_count": 30,
     "metadata": {},
     "output_type": "execute_result"
    }
   ],
   "source": [
    "tree = BinaryTree()\n",
    "tree.insert('a')\n",
    "tree.insert('b')\n",
    "tree.insert('3')\n",
    "tree.insert('d')\n",
    "tree.insert('U')\n",
    "tree.insert('f')\n",
    "tree.insert('g')\n",
    "\n",
    "{chr(x): chr(x) in tree for x in range(0, 200, 17)}"
   ]
  },
  {
   "cell_type": "markdown",
   "id": "5fafa8bb-1bca-4e4a-94c6-8994d4f7854e",
   "metadata": {
    "jp-MarkdownHeadingCollapsed": true,
    "tags": []
   },
   "source": [
    "## Задание 8.5 Перегрузка встроенной функции len"
   ]
  },
  {
   "cell_type": "markdown",
   "id": "066cd380-df6d-4712-a645-cccb630d842e",
   "metadata": {
    "tags": []
   },
   "source": [
    "$\\color{red}{Переопределите}$ классы BinaryTree , BinaryNode , EmptyNode за\n",
    "счет определения нового метода __len__(self) для перегрузки встроенной функции\n",
    "len , которая возвращает количество вершин в бинарном дереве поиска.\n",
    "Рекомендации по выполнению представлены в лекции к теме *Бинарное дерево поиска*.\n",
    "*Реализация на основе ООП*."
   ]
  },
  {
   "cell_type": "code",
   "execution_count": 31,
   "id": "fcbeb5f1-eb4a-4a8e-8fc7-15ec158a57a7",
   "metadata": {},
   "outputs": [],
   "source": [
    "class BinaryTree:   \n",
    "    def __init__(self):\n",
    "        self.root = EmptyNode()\n",
    "    def __repr__(self):\n",
    "        return repr(self.root)\n",
    "    def insert(self, value):\n",
    "        self.root = self.root.insert(value)   \n",
    "    def __contains__(self, value):\n",
    "        return value in self.root\n",
    "    def __len__(self):\n",
    "        return len(self.root)"
   ]
  },
  {
   "cell_type": "code",
   "execution_count": 32,
   "id": "8098a11e-b2eb-4291-b7fc-8cafbcc05e40",
   "metadata": {
    "tags": []
   },
   "outputs": [],
   "source": [
    "class BinaryNode:\n",
    "    def __len__(self):\n",
    "        return 1 + len(self.left) + len(self.right) \n",
    "    def __init__(self, left, value, right):\n",
    "        self.left = left\n",
    "        self.value = value\n",
    "        self.right = right\n",
    "    def __repr__(self):\n",
    "        return f'({self.left}, {self.value}, {self.right})'\n",
    "    def insert(self, value):\n",
    "        if value < self.value:\n",
    "            self.left = self.left.insert(value)\n",
    "        elif value >= self.value:\n",
    "            self.right = self.right.insert(value)\n",
    "        return self\n",
    "    def __contains__(self, value):\n",
    "        if self.value == value: return True\n",
    "        elif value < self.value: return value in self.left\n",
    "        else: return value in self.right"
   ]
  },
  {
   "cell_type": "code",
   "execution_count": 33,
   "id": "99e60aeb-2d6f-4760-ad54-d2ecd6610e9f",
   "metadata": {
    "tags": []
   },
   "outputs": [],
   "source": [
    "class EmptyNode:\n",
    "    def __repr__(self):\n",
    "        return '*'\n",
    "    def __len__(self):\n",
    "        return 0\n",
    "    def insert(self, value):\n",
    "        return BinaryNode(self, value, self)\n",
    "    def __contains__(self, value):\n",
    "        return False"
   ]
  },
  {
   "cell_type": "markdown",
   "id": "1a1e8bf3-029e-4fdf-a460-5a687dbbdd7c",
   "metadata": {
    "tags": []
   },
   "source": [
    "$\\color{red}{Протестируйте}$ корректность выполнения функции len на трех\n",
    "примерах."
   ]
  },
  {
   "cell_type": "code",
   "execution_count": 37,
   "id": "9cc856cd-892b-4733-a593-56a64087d259",
   "metadata": {
    "tags": []
   },
   "outputs": [
    {
     "data": {
      "text/plain": [
       "0"
      ]
     },
     "execution_count": 37,
     "metadata": {},
     "output_type": "execute_result"
    }
   ],
   "source": [
    "tree = BinaryTree()\n",
    "len(tree)"
   ]
  },
  {
   "cell_type": "code",
   "execution_count": 38,
   "id": "edab0304-265c-4f4d-a854-c8d4b0e47bdd",
   "metadata": {
    "tags": []
   },
   "outputs": [
    {
     "data": {
      "text/plain": [
       "7"
      ]
     },
     "execution_count": 38,
     "metadata": {},
     "output_type": "execute_result"
    }
   ],
   "source": [
    "tree = BinaryTree()\n",
    "tree.insert(5)\n",
    "tree.insert(3)\n",
    "tree.insert(7)\n",
    "tree.insert(2)\n",
    "tree.insert(4)\n",
    "tree.insert(6)\n",
    "tree.insert(8)\n",
    "len(tree)"
   ]
  },
  {
   "cell_type": "code",
   "execution_count": 42,
   "id": "e4224860-98bd-49e4-ad54-addc1623c097",
   "metadata": {
    "tags": []
   },
   "outputs": [
    {
     "data": {
      "text/plain": [
       "138"
      ]
     },
     "execution_count": 42,
     "metadata": {},
     "output_type": "execute_result"
    }
   ],
   "source": [
    "tree_json = build_tree_from_json(\"digits.json\")\n",
    "len(tree_json)"
   ]
  }
 ],
 "metadata": {
  "kernelspec": {
   "display_name": "Python 3 (ipykernel)",
   "language": "python",
   "name": "python3"
  },
  "language_info": {
   "codemirror_mode": {
    "name": "ipython",
    "version": 3
   },
   "file_extension": ".py",
   "mimetype": "text/x-python",
   "name": "python",
   "nbconvert_exporter": "python",
   "pygments_lexer": "ipython3",
   "version": "3.11.5"
  }
 },
 "nbformat": 4,
 "nbformat_minor": 5
}
