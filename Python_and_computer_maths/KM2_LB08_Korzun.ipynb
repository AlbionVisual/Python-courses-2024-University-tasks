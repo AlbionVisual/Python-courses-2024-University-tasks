{
 "cells": [
  {
   "cell_type": "markdown",
   "metadata": {},
   "source": [
    "# Лабораторная работа №8"
   ]
  },
  {
   "cell_type": "markdown",
   "metadata": {},
   "source": [
    "Корзун В. А. Вариант 3; 17.05.2024"
   ]
  },
  {
   "cell_type": "markdown",
   "metadata": {},
   "source": [
    "# Построение бинарного дерева поиска. Подсчет количества элементов в дереве"
   ]
  },
  {
   "cell_type": "markdown",
   "metadata": {},
   "source": [
    "## 1. Определение классов"
   ]
  },
  {
   "cell_type": "markdown",
   "metadata": {},
   "source": [
    "Бинарное дерево поиска будем описывать с помощью трех классов: BinaryTree, BinaryNode , EmptyNode , связанных друг с друго на основе композиции. Проектирование классов представлено в лекции к теме Бинарное дерево поиска. Реализация на основе ООП."
   ]
  },
  {
   "cell_type": "markdown",
   "metadata": {},
   "source": [
    "<span style='color:red'>Напишем</span> базовое определение классов BinaryTree, BinaryNode, EmptyNode на основе лекционных материалов:\n",
    "\n",
    "Базовое определение класса BinaryTree содержит метод инициализации \\_\\_init\\_\\_(self), метод строкового представления \\_\\_repr\\_\\_(self), метод вставки элемента в дерево insert(self, value).\n",
    "\n",
    "Базовое определение класса BinaryNode содержит метод инициализации \\_\\_init\\_\\_(self) и метод строкового представления \\_\\_repr\\_\\_(self).\n",
    "\n",
    "Базовое определение класса EmptyNode содержит метод строкового представления \\_\\_repr\\_\\_(self) и метод вставки элемента в дерево insert(self, value)."
   ]
  },
  {
   "cell_type": "markdown",
   "metadata": {},
   "source": [
    "### 1. Проектирование класса BinaryTree "
   ]
  },
  {
   "cell_type": "markdown",
   "metadata": {},
   "source": [
    "Класс BinaryTree определяет шаблон для создания объекта, представляющего\n",
    "бинарное дерево поиска\n",
    "\n",
    "Определение класса BinaryTree содержит ТРИ метода: \\_\\_init\\_\\_ , \\_\\_repr\\_\\_ и\n",
    "insert.\n",
    "\n",
    "_Метод инициализации_ экземпляра класса \\_\\_init\\_\\_ вызывается без аргументов и инициализирует единственный атрибут экземпляра класса root экземпляром класса EmptyNode:"
   ]
  },
  {
   "cell_type": "code",
   "execution_count": 6,
   "metadata": {},
   "outputs": [],
   "source": [
    "def __init__(self):\n",
    "    self.root = EmptyNode()"
   ]
  },
  {
   "cell_type": "markdown",
   "metadata": {},
   "source": [
    "Назначение атрибута root - это хранение ссылки на корень дерева\n",
    "\n",
    "_Метод строкового представления_ экземпляра класса \\_\\_repr\\_\\_ возвращает строковое представление для корня дерева root:"
   ]
  },
  {
   "cell_type": "code",
   "execution_count": 7,
   "metadata": {},
   "outputs": [],
   "source": [
    "def __repr__(self):\n",
    "    return repr(self.root)"
   ]
  },
  {
   "cell_type": "markdown",
   "metadata": {},
   "source": [
    "Метод insert(value) является методом вставки в дерево НОВОГО элемента. Новый элемент всегда является листом со значением value.\n",
    "\n",
    "Метод вставки элемента в дерево реализуется через метод вставки элемента в корневую вершину дерева root. При этом атрибут root переопределяется ссылкой на новый объект для представления корня:"
   ]
  },
  {
   "cell_type": "code",
   "execution_count": 8,
   "metadata": {},
   "outputs": [],
   "source": [
    "def insert(self, value):\n",
    "    self.root = self.root.insert(value)"
   ]
  },
  {
   "cell_type": "markdown",
   "metadata": {},
   "source": [
    "Определим класс BinaryTree:"
   ]
  },
  {
   "cell_type": "code",
   "execution_count": 9,
   "metadata": {},
   "outputs": [],
   "source": [
    "class BinaryTree:\n",
    "    def __init__(self):\n",
    "        self.root = EmptyNode()\n",
    "\n",
    "    def __repr__(self):\n",
    "        return repr(self.root)\n",
    "\n",
    "    def insert(self, value):\n",
    "        self.root = self.root.insert(value) "
   ]
  },
  {
   "cell_type": "markdown",
   "metadata": {},
   "source": [
    "Создать экземпляр класса BinaryTree пока нельзя, так как не определен класс\n",
    "EmptyNode"
   ]
  },
  {
   "cell_type": "code",
   "execution_count": 10,
   "metadata": {},
   "outputs": [],
   "source": [
    "tree = BinaryTree()"
   ]
  },
  {
   "cell_type": "markdown",
   "metadata": {},
   "source": [
    "### 1.2 Проектирование класса BinaryNode "
   ]
  },
  {
   "cell_type": "markdown",
   "metadata": {},
   "source": [
    "Класс BinaryNode определяет шаблон для создания объекта, представляющего элемент бинарного дерева поиска.\n",
    "\n",
    "Определение класса BinaryNode содержит ТРИ метода: \\_\\_init\\_\\_, \\_\\_repr\\_\\_ и insert.\n",
    "\n",
    "_Метод инициализации_ экземпляра класса вызывается с тремя аргументами left, value и right для инициализации одноименных атрибутов экземпляра класса left, value и right соответствующими значениями"
   ]
  },
  {
   "cell_type": "code",
   "execution_count": 11,
   "metadata": {},
   "outputs": [],
   "source": [
    "def __init__(self, left, value, right):\n",
    "    self.left = left\n",
    "    self.value = value\n",
    "    self.right = right"
   ]
  },
  {
   "cell_type": "markdown",
   "metadata": {},
   "source": [
    "Назначение атрибута left -- это хранение ссылки на корень левого поддерева.\n",
    "\n",
    "Назначение атрибута right -- это хранение ссылки на корень правого поддерева.\n",
    "\n",
    "Назначение атрибута value -- это хранение значения вершины\n",
    "\n",
    "Метод строкового представления экземпляра класса \\_\\_repr\\_\\_ возвращает кортеж, состоящий из строкового представления корня левого поддерева left, из строкового представления значения value вершины и из строкового представления корня правого поддерева right"
   ]
  },
  {
   "cell_type": "code",
   "execution_count": 12,
   "metadata": {},
   "outputs": [],
   "source": [
    "def __repr__(self):\n",
    "    return f'({self.left}, {self.value}, {self.right})'"
   ]
  },
  {
   "cell_type": "markdown",
   "metadata": {},
   "source": [
    "Метод insert(value) является методом вставки в текущую вершину НОВОЙ вершины со значением value . Метод insert содержит основной алгоритм построения бинарного дерева поиска и будет определен позже"
   ]
  },
  {
   "cell_type": "code",
   "execution_count": 13,
   "metadata": {},
   "outputs": [],
   "source": [
    "def insert(self, value):\n",
    "    ..."
   ]
  },
  {
   "cell_type": "markdown",
   "metadata": {},
   "source": [
    "Определим класс BinaryNode:"
   ]
  },
  {
   "cell_type": "code",
   "execution_count": 14,
   "metadata": {},
   "outputs": [],
   "source": [
    "class BinaryNode:\n",
    "    def __init__(self, left, value, right):\n",
    "        self.left = left\n",
    "        self.value = value\n",
    "        self.right = right\n",
    "\n",
    "    def __repr__(self):\n",
    "        return f'({self.left}, {self.value}, {self.right})'\n",
    "\n",
    "    def insert(self, value):\n",
    "        ..."
   ]
  },
  {
   "cell_type": "markdown",
   "metadata": {},
   "source": [
    "Создадим экземпляр класса BinaryNode:"
   ]
  },
  {
   "cell_type": "code",
   "execution_count": 15,
   "metadata": {},
   "outputs": [],
   "source": [
    "node = BinaryNode(None, 5, None)"
   ]
  },
  {
   "cell_type": "markdown",
   "metadata": {},
   "source": [
    "Сделаем вывод строкового представления для экземпляра класса BinaryNode:"
   ]
  },
  {
   "cell_type": "code",
   "execution_count": 16,
   "metadata": {},
   "outputs": [
    {
     "name": "stdout",
     "output_type": "stream",
     "text": [
      "(None, 5, None)\n"
     ]
    }
   ],
   "source": [
    "print(node)"
   ]
  },
  {
   "cell_type": "markdown",
   "metadata": {},
   "source": [
    "### 1.3 Проектирование класса EmptyNode"
   ]
  },
  {
   "cell_type": "markdown",
   "metadata": {},
   "source": [
    "Класс EmptyNode определяет шаблон для создания объекта, представляющего\n",
    "\"пустой\" элемент (вершину) бинарного дерева поиска без значения и без поддеревьев.\n",
    "Экземпляры класса EmptyNode будут использоваться для представления пустого\n",
    "дерева и пустых поддеревьев.\n",
    "\n",
    "Класс EmptyNode определяется ДВУМЯ методами: \\_\\_repr\\_\\_ и insert.\n",
    "\n",
    "_Метод инициализации_ экземпляра класса отсутствует, так как экземпляры класса EmptyNode не хранят никаких данных.\n",
    "\n",
    "_Метод строкового представления_ экземпляра класса \\_\\_repr\\_\\_ возвращает один символ *."
   ]
  },
  {
   "cell_type": "code",
   "execution_count": 17,
   "metadata": {},
   "outputs": [],
   "source": [
    "def __repr__(self):\n",
    "    return '*'"
   ]
  },
  {
   "cell_type": "markdown",
   "metadata": {},
   "source": [
    "Метод insert(value) является методом вставки в пустую вершину НОВОЙ вершины со значением value. Метод insert возвращает новый экземпляр класса BinaryNode со значением value. Левое и правое поддерево определяются ссылками на пустую вершину:"
   ]
  },
  {
   "cell_type": "code",
   "execution_count": 18,
   "metadata": {},
   "outputs": [],
   "source": [
    "def insert(self, value):\n",
    "    return BinaryNode(self, value, self)"
   ]
  },
  {
   "cell_type": "markdown",
   "metadata": {},
   "source": [
    "При вставке НОВОГО элемента в бинарное дерево поиска ссылка на экземпляр класса EmptyNode будет заменяться на ссылку на новый экземпляр класса BinaryNode.\n",
    "\n",
    "Экземпляр класса EmptyNode создается только один раз при создании экземпляра класса BinaryTree. Каждое пустое поддерево для экземпляров класса BinaryNode будет ссылаться на ЕДИНСТВЕННЫЙ экземпляр класса EmptyNode.\n",
    "\n",
    "Определим класс EmptyNode:"
   ]
  },
  {
   "cell_type": "code",
   "execution_count": 19,
   "metadata": {},
   "outputs": [],
   "source": [
    "class EmptyNode:\n",
    "    def __repr__(self):\n",
    "        return '*'\n",
    "\n",
    "    def insert(self, value):\n",
    "        return BinaryNode(self, value, self)"
   ]
  },
  {
   "cell_type": "markdown",
   "metadata": {},
   "source": [
    "Создадим экземпляр класса EmptyNode:"
   ]
  },
  {
   "cell_type": "code",
   "execution_count": 20,
   "metadata": {},
   "outputs": [],
   "source": [
    "empty_node = EmptyNode()"
   ]
  },
  {
   "cell_type": "markdown",
   "metadata": {},
   "source": [
    "Сделаем вывод строкового представления для экземпляра класса EmptyNode:"
   ]
  },
  {
   "cell_type": "code",
   "execution_count": 21,
   "metadata": {},
   "outputs": [
    {
     "name": "stdout",
     "output_type": "stream",
     "text": [
      "*\n"
     ]
    }
   ],
   "source": [
    "print(empty_node)"
   ]
  },
  {
   "cell_type": "markdown",
   "metadata": {},
   "source": [
    "Создадим экземпляр класса BinaryTree:"
   ]
  },
  {
   "cell_type": "code",
   "execution_count": 22,
   "metadata": {},
   "outputs": [],
   "source": [
    "tree = BinaryTree()"
   ]
  },
  {
   "cell_type": "markdown",
   "metadata": {},
   "source": [
    "Бинарное дерево поиска пусто, корень представлен экземпляром класса EmptyNode .\n",
    "Пустое дерево выводится с помощью символа *"
   ]
  },
  {
   "cell_type": "code",
   "execution_count": 23,
   "metadata": {},
   "outputs": [
    {
     "name": "stdout",
     "output_type": "stream",
     "text": [
      "*\n"
     ]
    }
   ],
   "source": [
    "print(tree)"
   ]
  },
  {
   "cell_type": "markdown",
   "metadata": {},
   "source": [
    "Вставим в дерево новый элемент со значением 10:"
   ]
  },
  {
   "cell_type": "code",
   "execution_count": 24,
   "metadata": {},
   "outputs": [],
   "source": [
    "tree.insert(10)"
   ]
  },
  {
   "cell_type": "markdown",
   "metadata": {},
   "source": [
    "Сделаем вывод дерева:"
   ]
  },
  {
   "cell_type": "code",
   "execution_count": 25,
   "metadata": {},
   "outputs": [
    {
     "name": "stdout",
     "output_type": "stream",
     "text": [
      "(*, 10, *)\n"
     ]
    }
   ],
   "source": [
    "print(tree)"
   ]
  },
  {
   "cell_type": "markdown",
   "metadata": {},
   "source": [
    "## 2. Метод вставки элемента в бинарное дерево поиска"
   ]
  },
  {
   "cell_type": "markdown",
   "metadata": {},
   "source": [
    "<span style='color:red;'>Переопределим</span> класс BinaryNode за счет определения метода вставки insert(self, value)."
   ]
  },
  {
   "cell_type": "code",
   "execution_count": 26,
   "metadata": {},
   "outputs": [],
   "source": [
    "class BinaryTree:\n",
    "    def __init__(self):\n",
    "        self.root = EmptyNode()\n",
    "\n",
    "    def __repr__(self):\n",
    "        return repr(self.root)\n",
    "\n",
    "    def insert(self, value):\n",
    "        self.root = self.root.insert(value) "
   ]
  },
  {
   "cell_type": "code",
   "execution_count": 27,
   "metadata": {},
   "outputs": [],
   "source": [
    "class BinaryNode:\n",
    "    def __init__(self, left, value, right):\n",
    "        self.left = left\n",
    "        self.value = value\n",
    "        self.right = right\n",
    "\n",
    "    def __repr__(self):\n",
    "        return f'({self.left}, {self.value}, {self.right})'\n",
    "\n",
    "    def insert(self, value):\n",
    "        if value < self.value:\n",
    "            self.left = self.left.insert(value)\n",
    "        else:\n",
    "            self.right = self.right.insert(value)\n",
    "        return self"
   ]
  },
  {
   "cell_type": "code",
   "execution_count": 28,
   "metadata": {},
   "outputs": [],
   "source": [
    "class EmptyNode:\n",
    "    def __repr__(self):\n",
    "        return '*'\n",
    "\n",
    "    def insert(self, value):\n",
    "        return BinaryNode(self, value, self)"
   ]
  },
  {
   "cell_type": "markdown",
   "metadata": {},
   "source": [
    "<span style='color:red'>Протестируем</span> корректность построения бинарного дерева поиска на основе вставки в дерево элементов некоторого итерируемого объекта. При этом важно, чтобы для элементов итерируемого объекта были определены операции сравнения. Приведём три примера построения бинарного дерева поиска на основе итерируемых объектов различных типов (например, str, range, list)."
   ]
  },
  {
   "cell_type": "code",
   "execution_count": 29,
   "metadata": {},
   "outputs": [
    {
     "name": "stdout",
     "output_type": "stream",
     "text": [
      "((*, a, *), h, (*, t, (*, z, *)))\n"
     ]
    }
   ],
   "source": [
    "stringTree = BinaryTree()\n",
    "stringTree.insert('h')\n",
    "stringTree.insert('t')\n",
    "stringTree.insert('a')\n",
    "stringTree.insert('z')\n",
    "print(stringTree)"
   ]
  },
  {
   "cell_type": "code",
   "execution_count": 30,
   "metadata": {},
   "outputs": [
    {
     "name": "stdout",
     "output_type": "stream",
     "text": [
      "(((*, -4, *), 0, *), 5, (*, 7, (*, 9, (*, 19, *))))\n"
     ]
    }
   ],
   "source": [
    "numTree = BinaryTree()\n",
    "numTree.insert(5)\n",
    "numTree.insert(7)\n",
    "numTree.insert(9)\n",
    "numTree.insert(0)\n",
    "numTree.insert(-4)\n",
    "numTree.insert(19)\n",
    "print(numTree)"
   ]
  },
  {
   "cell_type": "code",
   "execution_count": 31,
   "metadata": {},
   "outputs": [
    {
     "name": "stdout",
     "output_type": "stream",
     "text": [
      "((*, (0, 7), (*, (0, 7), *)), (1, 2), (*, (2, 56), *))\n"
     ]
    }
   ],
   "source": [
    "tupleTree = BinaryTree()\n",
    "tupleTree.insert((1,2))\n",
    "tupleTree.insert((0,7))\n",
    "tupleTree.insert((0,7))\n",
    "tupleTree.insert((2,56))\n",
    "print(tupleTree)"
   ]
  },
  {
   "cell_type": "markdown",
   "metadata": {},
   "source": [
    "## 3. Построение бинарного дерева поиска"
   ]
  },
  {
   "cell_type": "markdown",
   "metadata": {},
   "source": [
    "Задача: считать числовые данные из файла и на основании этих данных построить бинарное дерево поиска"
   ]
  },
  {
   "cell_type": "markdown",
   "metadata": {},
   "source": [
    "Файл для первого пункта выглядит так:"
   ]
  },
  {
   "cell_type": "code",
   "execution_count": null,
   "metadata": {},
   "outputs": [],
   "source": [
    "with open('digits_column.txt', 'r') as f:\n",
    "    for line in f: print(line, end='')"
   ]
  },
  {
   "cell_type": "markdown",
   "metadata": {},
   "source": [
    "Запишем в дерево:"
   ]
  },
  {
   "cell_type": "code",
   "execution_count": 7,
   "metadata": {},
   "outputs": [
    {
     "data": {
      "text/plain": [
       "((((((*, 0, *), 1, (*, 1, (*, 1, (*, 1, (*, 1, (*, 1, (*, 1, (*, 1, (*, 1, *))))))))), 2, ((*, 2, ((*, 2, (*, 2, ((*, 2, (*, 2, (*, 2, (*, 2, (*, 3, *))))), 4, *))), 5, (*, 5, (*, 6, (*, 6, *))))), 7, (((*, 7, (*, 7, *)), 8, (*, 8, (*, 8, (*, 8, *)))), 9, (*, 9, ((*, 9, ((*, 9, (*, 9, *)), 11, (*, 14, (*, 14, *)))), 18, ((*, 19, *), 29, *)))))), 30, (((((((*, 32, *), 42, ((*, 43, *), 44, (*, 63, (*, 67, (*, 67, *))))), 71, (((*, 71, *), 79, *), 80, ((*, 84, *), 95, *))), 102, ((*, 108, ((*, 117, *), 162, *)), 208, ((*, 238, *), 241, (*, 252, *)))), 257, ((((*, 287, *), 291, ((*, 387, *), 467, *)), 677, (*, 694, (*, 701, (((*, 804, *), 805, *), 807, *)))), 864, (*, 914, *))), 1512, ((((*, 1621, *), 2052, (((*, 3681, *), 3814, (*, 3880, *)), 4105, *)), 4459, (((*, 4617, (*, 5173, *)), 5675, (((*, 5747, *), 6352, (*, 6523, *)), 6587, ((((*, 6909, *), 7153, *), 7298, ((*, 7544, (*, 7695, *)), 8242, (*, 8274, (*, 8446, *)))), 8791, *))), 9856, (*, 16327, *))), 22212, (*, 23765, ((*, 27250, *), 28075, ((*, 31309, (*, 40132, *)), 42560, *))))), 48644, ((*, 51289, *), 52300, (((*, 52614, *), 52942, *), 54147, *)))), 56163, ((((*, 57502, *), 57612, *), 60529, *), 61007, ((*, 63349, *), 66629, *))), 76372, (((*, 79286, *), 79370, *), 80023, ((*, 84320, *), 90695, ((*, 90897, *), 92996, *))))"
      ]
     },
     "execution_count": 7,
     "metadata": {},
     "output_type": "execute_result"
    }
   ],
   "source": [
    "numbers = BinaryTree()\n",
    "with open('digits_column.txt', 'r') as f:\n",
    "    for line in f:\n",
    "        num = int(line.strip('\\n'))\n",
    "        numbers.insert(num)\n",
    "numbers"
   ]
  },
  {
   "cell_type": "markdown",
   "metadata": {},
   "source": [
    "Файл для второго пункта выглядит так:"
   ]
  },
  {
   "cell_type": "code",
   "execution_count": 8,
   "metadata": {},
   "outputs": [
    {
     "name": "stdout",
     "output_type": "stream",
     "text": [
      "9749 88 64902 2 64 283 650 9 2524 4 4730 1 27244 3 2724\n",
      "890 098 1 06829 1 783 59877 70923 3216 2745 7 2830 99 4 73280\n",
      "949 75736 87 31963 877 84 8389 29872 5 26496 569 036 2863 16 08\n",
      "8048 648 42 031 5 91 919 4 5328 1 4 7 721 136 312\n",
      "136 3 2 14 38275 1890 60 9 72349 29 9130 28633 980 22 0\n",
      "79 446 32418 13 5 15 54507 2 974 79000 70 34 41385 39761 814\n",
      "2602 52434 610 78 3 5 7686 98462 38 74311 490 82 744 37 1779\n",
      "615 69 84033 4013 44 02 1 193 8288 03 5 0521 03882 2 78\n",
      "27 9 5 6941 48 22 8518 02508 347 0777 003 2 43939 3509 68\n",
      "27506 5 80086 6741 6642 8345 3993 2 0 23252 92 9 62053 5 436\n"
     ]
    }
   ],
   "source": [
    "with open('digits_equal_rows.txt', 'r') as f:\n",
    "    for line in f: print(line, end='')"
   ]
  },
  {
   "cell_type": "markdown",
   "metadata": {},
   "source": [
    "Запишем в дерево:"
   ]
  },
  {
   "cell_type": "code",
   "execution_count": 10,
   "metadata": {},
   "outputs": [
    {
     "data": {
      "text/plain": [
       "(((((*, 0, (*, 0, *)), 1, (*, 1, (*, 1, (*, 1, (*, 1, *))))), 2, (((((*, 2, (*, 2, (*, 2, (*, 2, (*, 2, (*, 2, *)))))), 3, (*, 3, (*, 3, (*, 3, (*, 3, *))))), 4, ((*, 4, ((*, 4, (*, 4, *)), 5, (*, 5, (*, 5, (*, 5, (*, 5, (*, 5, (*, 5, (*, 5, *))))))))), 7, ((*, 7, *), 8, *))), 9, ((((*, 9, ((*, 9, (*, 9, *)), 13, *)), 14, (*, 15, *)), 16, (((*, 22, ((*, 22, *), 27, *)), 29, *), 31, (*, 34, *))), 36, (((*, 37, *), 38, *), 42, ((*, 44, (*, 48, *)), 60, *)))), 64, ((((((*, 68, *), 69, *), 70, (*, 78, (*, 78, *))), 79, (*, 82, *)), 84, *), 87, *))), 88, (((*, 91, (*, 92, *)), 98, (*, 99, (*, 136, (*, 136, (*, 193, *))))), 283, (((*, 312, ((*, 347, (*, 436, *)), 446, (*, 490, (*, 521, *)))), 569, ((*, 610, (*, 615, *)), 648, *)), 650, ((((*, 721, (*, 744, (*, 777, *))), 783, ((*, 814, *), 877, *)), 890, ((*, 919, *), 949, (((*, 974, *), 980, (*, 1779, *)), 1890, (*, 2508, *)))), 2524, (((*, 2602, *), 2724, ((*, 2745, (*, 2830, (*, 2863, *))), 3216, (((*, 3509, *), 3882, (*, 3993, *)), 4013, *))), 4730, ((*, 5328, ((*, 6642, *), 6741, *)), 6829, ((((*, 6941, *), 7686, *), 8048, (*, 8288, (*, 8345, *))), 8389, ((*, 8518, *), 9130, *)))))))), 9749, ((((*, 23252, *), 26496, *), 27244, (((((*, 27506, *), 28633, *), 29872, *), 31963, ((*, 32418, *), 38275, (((*, 39761, *), 41385, ((*, 43939, *), 52434, *)), 54507, *))), 59877, (*, 62053, *))), 64902, (*, 70923, ((*, 72349, *), 73280, ((*, 74311, *), 75736, (*, 79000, (((*, 80086, *), 84033, *), 98462, *)))))))"
      ]
     },
     "execution_count": 10,
     "metadata": {},
     "output_type": "execute_result"
    }
   ],
   "source": [
    "numbers = BinaryTree()\n",
    "with open('digits_equal_rows.txt', 'r') as f:\n",
    "    for line in f:\n",
    "        nums = line.strip('\\n').split()\n",
    "        for el in nums: numbers.insert(int(el))\n",
    "numbers"
   ]
  },
  {
   "cell_type": "markdown",
   "metadata": {},
   "source": [
    "Файл для третьего пункта выглядит так:"
   ]
  },
  {
   "cell_type": "code",
   "execution_count": 32,
   "metadata": {},
   "outputs": [
    {
     "name": "stdout",
     "output_type": "stream",
     "text": [
      "3900 314 617 12 5 1223 3899 00 1572 954 3606 1 74197 0935 8 77673 3 186 1 5 03476 779 9 12662\n",
      "194 2642 763 102 33510 750 48 96022 8 17 60 290 7\n",
      "58986 27 36903 0192 5139 5001 8846 38084 336 210 8 918 69063 2 279 86842 56605 3 4 6\n",
      "49804 9277 942 14 7785 5539 14 950 051 94197\n",
      "9 62848 7240 885 84 299 8 6 1359 1991 1841 3983 55 05 33226 6 27529 085\n",
      "5 321 01186 573 83140 0732 2 82414 35061 61306 21 0192 7 24708 578 89 47269 18 54450 23 144 98 5137 077 4 16171 20 2785 85492 04556\n",
      "1 9 315 7 4313 11 7 18 062 50 818\n",
      "25 87 89 99 1 5976 28 30831 086 6 61224 1817 51 9089 994 71071 265 7 468 44 4 36858 23335 81749 110 689 730 517 53558\n"
     ]
    }
   ],
   "source": [
    "with open('digits.txt', 'r') as f:\n",
    "    for line in f: print(line, end='')"
   ]
  },
  {
   "cell_type": "markdown",
   "metadata": {},
   "source": [
    "Считаем файл и поместим данные в дерево:"
   ]
  },
  {
   "cell_type": "code",
   "execution_count": 33,
   "metadata": {},
   "outputs": [],
   "source": [
    "numbers = BinaryTree()\n",
    "with open('digits.txt', 'r') as f:\n",
    "    for line in f:\n",
    "        nums = line.strip('\\n').split()\n",
    "        for el in nums: numbers.insert(int(el))"
   ]
  },
  {
   "cell_type": "code",
   "execution_count": 34,
   "metadata": {},
   "outputs": [
    {
     "data": {
      "text/plain": [
       "(((((*, 0, (*, 1, ((*, 1, ((*, 1, (*, 1, *)), 2, (*, 2, *))), 3, (*, 3, (*, 4, (*, 4, (*, 4, *))))))), 5, ((*, 5, (((*, 5, (*, 5, *)), 6, (*, 6, (*, 6, (*, 6, *)))), 7, (*, 7, (*, 7, (*, 7, (*, 7, *)))))), 8, ((*, 8, (*, 8, (*, 8, *))), 9, (*, 9, (*, 9, (*, 11, *)))))), 12, (((((*, 14, (*, 14, *)), 17, (((*, 18, ((*, 18, *), 20, *)), 21, (*, 23, (*, 25, *))), 27, (*, 28, (*, 44, *)))), 48, (((*, 50, *), 51, ((*, 51, *), 55, *)), 60, (((*, 62, *), 77, *), 84, (*, 85, (((*, 86, *), 87, *), 89, ((*, 89, *), 98, (*, 99, *))))))), 102, ((*, 110, *), 144, *)), 186, ((*, 192, (*, 192, *)), 194, ((*, 210, ((*, 265, *), 279, *)), 290, (*, 299, *))))), 314, ((((*, 315, *), 321, *), 336, ((*, 468, (*, 517, *)), 573, (*, 578, *))), 617, ((((((((*, 689, (*, 730, *)), 732, *), 750, *), 763, *), 779, (((*, 818, *), 885, *), 918, *)), 935, (*, 942, (*, 950, *))), 954, ((*, 994, *), 1186, *)), 1223, (((*, 1359, *), 1572, ((((((*, 1817, *), 1841, *), 1991, *), 2642, (*, 2785, *)), 3476, *), 3606, *)), 3899, *)))), 3900, (((((*, 3983, ((*, 4313, *), 4556, *)), 5001, (*, 5137, *)), 5139, (((*, 5539, ((*, 5976, *), 7240, *)), 7785, *), 8846, ((*, 9089, *), 9277, *))), 12662, (((((*, 16171, (*, 23335, *)), 24708, *), 27529, (*, 30831, *)), 33226, *), 33510, (((*, 35061, (*, 36858, *)), 36903, (*, 38084, (((*, 47269, *), 49804, ((*, 53558, *), 54450, *)), 56605, *))), 58986, ((((*, 61224, *), 61306, *), 62848, *), 69063, (*, 71071, *))))), 74197, (*, 77673, (((((*, 81749, *), 82414, *), 83140, (*, 85492, *)), 86842, (*, 94197, *)), 96022, *))))"
      ]
     },
     "execution_count": 34,
     "metadata": {},
     "output_type": "execute_result"
    }
   ],
   "source": [
    "numbers"
   ]
  },
  {
   "cell_type": "markdown",
   "metadata": {},
   "source": [
    "Этот код будет работать в случае если все числа расположены в столбец или в каждой строке будет одинаковое кол-во символов\n",
    "\n",
    "Сделаем считывание json файла, но сначала создадим его из digits.txt:"
   ]
  },
  {
   "cell_type": "code",
   "execution_count": 35,
   "metadata": {},
   "outputs": [],
   "source": [
    "import json"
   ]
  },
  {
   "cell_type": "code",
   "execution_count": 36,
   "metadata": {},
   "outputs": [],
   "source": [
    "ans = []\n",
    "with open('digits.txt', 'r') as f:\n",
    "    for line in f:\n",
    "        nums = line.strip('\\n').split()\n",
    "        for el in nums: \n",
    "            ans.append(int(el))\n",
    "\n",
    "with open('digits.json', 'w', encoding='utf-8') as f:\n",
    "    json.dump(ans, f, ensure_ascii=False, indent=4)"
   ]
  },
  {
   "cell_type": "markdown",
   "metadata": {},
   "source": [
    "А теперь научимся считывать его:"
   ]
  },
  {
   "cell_type": "code",
   "execution_count": 37,
   "metadata": {},
   "outputs": [
    {
     "name": "stdout",
     "output_type": "stream",
     "text": [
      "[3900, 314, 617, 12, 5, 1223, 3899, 0, 1572, 954, 3606, 1, 74197, 935, 8, 77673, 3, 186, 1, 5, 3476, 779, 9, 12662, 194, 2642, 763, 102, 33510, 750, 48, 96022, 8, 17, 60, 290, 7, 58986, 27, 36903, 192, 5139, 5001, 8846, 38084, 336, 210, 8, 918, 69063, 2, 279, 86842, 56605, 3, 4, 6, 49804, 9277, 942, 14, 7785, 5539, 14, 950, 51, 94197, 9, 62848, 7240, 885, 84, 299, 8, 6, 1359, 1991, 1841, 3983, 55, 5, 33226, 6, 27529, 85, 5, 321, 1186, 573, 83140, 732, 2, 82414, 35061, 61306, 21, 192, 7, 24708, 578, 89, 47269, 18, 54450, 23, 144, 98, 5137, 77, 4, 16171, 20, 2785, 85492, 4556, 1, 9, 315, 7, 4313, 11, 7, 18, 62, 50, 818, 25, 87, 89, 99, 1, 5976, 28, 30831, 86, 6, 61224, 1817, 51, 9089, 994, 71071, 265, 7, 468, 44, 4, 36858, 23335, 81749, 110, 689, 730, 517, 53558]\n"
     ]
    }
   ],
   "source": [
    "with open('digits.json', 'r') as json_file:\n",
    "    nums = json.load(json_file)\n",
    "    print(nums)"
   ]
  },
  {
   "cell_type": "markdown",
   "metadata": {},
   "source": [
    "И наконец запишем в дерево:"
   ]
  },
  {
   "cell_type": "code",
   "execution_count": 38,
   "metadata": {},
   "outputs": [
    {
     "data": {
      "text/plain": [
       "(((((*, 0, (*, 1, ((*, 1, ((*, 1, (*, 1, *)), 2, (*, 2, *))), 3, (*, 3, (*, 4, (*, 4, (*, 4, *))))))), 5, ((*, 5, (((*, 5, (*, 5, *)), 6, (*, 6, (*, 6, (*, 6, *)))), 7, (*, 7, (*, 7, (*, 7, (*, 7, *)))))), 8, ((*, 8, (*, 8, (*, 8, *))), 9, (*, 9, (*, 9, (*, 11, *)))))), 12, (((((*, 14, (*, 14, *)), 17, (((*, 18, ((*, 18, *), 20, *)), 21, (*, 23, (*, 25, *))), 27, (*, 28, (*, 44, *)))), 48, (((*, 50, *), 51, ((*, 51, *), 55, *)), 60, (((*, 62, *), 77, *), 84, (*, 85, (((*, 86, *), 87, *), 89, ((*, 89, *), 98, (*, 99, *))))))), 102, ((*, 110, *), 144, *)), 186, ((*, 192, (*, 192, *)), 194, ((*, 210, ((*, 265, *), 279, *)), 290, (*, 299, *))))), 314, ((((*, 315, *), 321, *), 336, ((*, 468, (*, 517, *)), 573, (*, 578, *))), 617, ((((((((*, 689, (*, 730, *)), 732, *), 750, *), 763, *), 779, (((*, 818, *), 885, *), 918, *)), 935, (*, 942, (*, 950, *))), 954, ((*, 994, *), 1186, *)), 1223, (((*, 1359, *), 1572, ((((((*, 1817, *), 1841, *), 1991, *), 2642, (*, 2785, *)), 3476, *), 3606, *)), 3899, *)))), 3900, (((((*, 3983, ((*, 4313, *), 4556, *)), 5001, (*, 5137, *)), 5139, (((*, 5539, ((*, 5976, *), 7240, *)), 7785, *), 8846, ((*, 9089, *), 9277, *))), 12662, (((((*, 16171, (*, 23335, *)), 24708, *), 27529, (*, 30831, *)), 33226, *), 33510, (((*, 35061, (*, 36858, *)), 36903, (*, 38084, (((*, 47269, *), 49804, ((*, 53558, *), 54450, *)), 56605, *))), 58986, ((((*, 61224, *), 61306, *), 62848, *), 69063, (*, 71071, *))))), 74197, (*, 77673, (((((*, 81749, *), 82414, *), 83140, (*, 85492, *)), 86842, (*, 94197, *)), 96022, *))))"
      ]
     },
     "execution_count": 38,
     "metadata": {},
     "output_type": "execute_result"
    }
   ],
   "source": [
    "numbers = BinaryTree()\n",
    "for num in nums:\n",
    "    numbers.insert(num)\n",
    "numbers"
   ]
  },
  {
   "cell_type": "markdown",
   "metadata": {},
   "source": [
    "Прекрасно, более сложную структуру файла json этот код не поддерживает, запишем всё в функцию:"
   ]
  },
  {
   "cell_type": "code",
   "execution_count": 23,
   "metadata": {},
   "outputs": [],
   "source": [
    "def get_tree_from_file(file_name):\n",
    "    \"\"\"Достаёт из файла с числами данные и записывает их в бинарное дерево поиска\n",
    "    \n",
    "    Arguments:\n",
    "\n",
    "    file_name: путь или имя к текстовому или json-типа файлу из которого надо достать информацию\n",
    "\n",
    "    Returns: объект типа BinaryTree, пустой если файл имеет расширение отличное от .txt или .json\n",
    "    \"\"\"\n",
    "    numbers = BinaryTree()\n",
    "    if file_name[-4:] == '.txt':\n",
    "        with open(file_name, 'r') as f:\n",
    "            for line in f:\n",
    "                nums = line.strip('\\n').split()\n",
    "                for el in nums: numbers.insert(int(el))\n",
    "    elif file_name[-5:] == '.json':\n",
    "        import json\n",
    "        with open(file_name, 'r') as json_file:\n",
    "            nums = json.load(json_file)\n",
    "            for num in nums:\n",
    "                numbers.insert(num)\n",
    "    return numbers"
   ]
  },
  {
   "cell_type": "code",
   "execution_count": 24,
   "metadata": {},
   "outputs": [
    {
     "name": "stdout",
     "output_type": "stream",
     "text": [
      "((((((*, 0, (*, 0, (*, 0, *))), 2, (*, 2, ((*, 2, (*, 2, (*, 2, (*, 2, (*, 2, *))))), 3, (*, 3, (*, 3, *))))), 4, (*, 4, *)), 5, (((*, 5, (*, 5, (*, 5, ((*, 5, (*, 5, (*, 5, *))), 6, (*, 6, *))))), 7, (*, 7, (*, 7, (*, 7, *)))), 8, ((((*, 8, (*, 8, (*, 8, *))), 9, (((((*, 9, (*, 9, *)), 15, ((*, 15, *), 19, (*, 23, *))), 25, ((*, 25, (*, 25, *)), 26, ((*, 30, *), 31, (*, 37, (*, 38, *))))), 40, *), 42, (*, 45, ((*, 45, ((*, 45, *), 47, *)), 49, *)))), 51, (*, 59, (*, 64, *))), 68, *))), 75, ((((*, 77, *), 78, (*, 78, ((*, 80, *), 84, *))), 90, ((((*, 92, *), 95, *), 99, ((*, 147, *), 173, *)), 278, (*, 292, (*, 331, *)))), 393, (((((*, 407, *), 482, (*, 496, *)), 541, *), 630, (*, 630, (*, 631, *))), 641, ((*, 659, (((*, 702, *), 758, ((*, 877, *), 882, *)), 891, *)), 929, ((*, 973, (*, 976, *)), 989, ((*, 1648, *), 2320, *)))))), 2547, (((*, 2688, *), 4468, *), 4670, (((((*, 5182, (*, 5308, *)), 5325, (*, 5364, *)), 5981, (*, 6405, ((*, 6476, *), 7054, (((*, 7414, *), 7969, *), 8139, *)))), 8488, (((*, 8695, *), 8698, ((*, 8859, *), 9801, (*, 14246, ((*, 21451, *), 33062, (*, 33466, *))))), 35795, (*, 40829, (*, 44919, *)))), 50037, ((((*, 52429, (*, 52968, *)), 55148, ((*, 58251, (*, 65677, *)), 67137, (*, 68582, *))), 68975, ((*, 82367, (*, 84782, *)), 88447, ((*, 91717, *), 92035, *))), 93239, ((*, 93826, *), 99602, *)))))\n",
      "((((*, 0, (*, 0, (*, 0, ((*, 0, *), 1, ((*, 1, (*, 1, (*, 1, *))), 2, (*, 2, (*, 2, *))))))), 3, (*, 3, (*, 3, (*, 3, (*, 3, *))))), 4, (((*, 4, ((*, 4, (*, 4, (*, 4, *))), 5, (*, 5, *))), 6, (*, 6, (*, 6, (*, 6, *)))), 7, (((((((*, 7, (*, 7, (*, 7, (*, 7, *)))), 8, (*, 8, *)), 9, (*, 9, (*, 9, ((*, 9, (*, 9, (*, 10, *))), 16, ((*, 16, *), 19, *))))), 26, (*, 29, (((*, 35, *), 40, (*, 44, *)), 48, *))), 57, ((*, 59, *), 60, ((*, 60, (*, 61, (*, 62, *))), 64, (*, 66, *)))), 68, ((((((*, 69, *), 74, (((*, 75, *), 77, *), 82, *)), 93, (((*, 94, *), 97, (*, 98, *)), 99, *)), 116, (*, 132, ((*, 155, *), 258, *))), 263, (((*, 364, *), 377, *), 476, (*, 499, (((*, 532, *), 555, (*, 558, *)), 560, ((*, 575, *), 651, *))))), 654, (*, 674, ((*, 684, *), 688, ((*, 709, *), 721, *))))), 778, (((*, 781, (*, 784, *)), 798, (*, 809, (*, 902, *))), 926, (((*, 1127, *), 1611, *), 1949, ((*, 4065, (*, 4338, *)), 4441, *)))))), 5000, (((*, 5226, *), 5389, ((*, 6390, (*, 6548, ((*, 6782, *), 7301, ((*, 7389, (*, 7517, (*, 7685, (*, 7740, *)))), 7835, *)))), 7998, ((((*, 8042, (*, 8822, (*, 8841, (*, 9070, *)))), 9330, (*, 9666, *)), 11868, (*, 15537, ((*, 19766, (*, 20737, *)), 25538, (*, 28080, *)))), 32579, (*, 32615, ((*, 34124, *), 39677, (*, 43401, *)))))), 45520, ((((*, 46104, *), 56115, *), 58805, (*, 59791, (*, 62120, (*, 68264, (*, 70476, *))))), 73418, ((*, 76477, *), 78222, (*, 84804, (*, 84887, *))))))\n"
     ]
    }
   ],
   "source": [
    "print(get_tree_from_file('digits.json'))\n",
    "print(get_tree_from_file('digits.txt'))"
   ]
  },
  {
   "cell_type": "markdown",
   "metadata": {},
   "source": [
    "<!--Вуаля, лекготня-->"
   ]
  },
  {
   "cell_type": "markdown",
   "metadata": {},
   "source": [
    "## 4. Перегрузка операции принадлежности in"
   ]
  },
  {
   "cell_type": "markdown",
   "metadata": {},
   "source": [
    "<span style='color:red'>Переопределим</span> классы BinaryTree, BinaryNode, EmptyNode за счет определения нового метода \\_\\_contains\\_\\_(self, value) для перегрузки операции принадлежности in. Рекомендации по выполнению представлены в лекции к теме Бинарное дерево поиска. Реализация на основе ООП. И <span style='color:red'>протестируем</span> корректность выполнения операции in на трех примерах."
   ]
  },
  {
   "cell_type": "code",
   "execution_count": 2,
   "metadata": {},
   "outputs": [],
   "source": [
    "class BinaryTree:\n",
    "    def __init__(self):\n",
    "        self.root = EmptyNode()\n",
    "\n",
    "    def __repr__(self):\n",
    "        return repr(self.root)\n",
    "\n",
    "    def insert(self, value):\n",
    "        self.root = self.root.insert(value) \n",
    "    \n",
    "    def __contains__(self, value):\n",
    "        return value in self.root"
   ]
  },
  {
   "cell_type": "code",
   "execution_count": 3,
   "metadata": {},
   "outputs": [],
   "source": [
    "class BinaryNode:\n",
    "    def __init__(self, left, value, right):\n",
    "        self.left = left\n",
    "        self.value = value\n",
    "        self.right = right\n",
    "\n",
    "    def __repr__(self):\n",
    "        return f'({self.left}, {self.value}, {self.right})'\n",
    "\n",
    "    def insert(self, value):\n",
    "        if value < self.value:\n",
    "            self.left = self.left.insert(value)\n",
    "        else:\n",
    "            self.right = self.right.insert(value)\n",
    "        return self\n",
    "    \n",
    "    def __contains__(self, value):\n",
    "        return (value in self.left) or value == self.value or (value in self.right)"
   ]
  },
  {
   "cell_type": "code",
   "execution_count": 4,
   "metadata": {},
   "outputs": [],
   "source": [
    "class EmptyNode:\n",
    "    def __repr__(self):\n",
    "        return '*'\n",
    "\n",
    "    def insert(self, value):\n",
    "        return BinaryNode(self, value, self)\n",
    "\n",
    "    def __contains__(self, value):\n",
    "        return False"
   ]
  },
  {
   "cell_type": "markdown",
   "metadata": {},
   "source": [
    "Проверим на старом добром ранее сгенерированном numbers:"
   ]
  },
  {
   "cell_type": "code",
   "execution_count": 48,
   "metadata": {},
   "outputs": [],
   "source": [
    "numbers = get_tree_from_file('digits.txt')"
   ]
  },
  {
   "cell_type": "code",
   "execution_count": 55,
   "metadata": {},
   "outputs": [
    {
     "data": {
      "text/plain": [
       "{0: True, 190: False, 380: False, 570: False, 760: False, 950: True}"
      ]
     },
     "execution_count": 55,
     "metadata": {},
     "output_type": "execute_result"
    }
   ],
   "source": [
    "{x: x in numbers for x in range(0, 1000, 190)}"
   ]
  },
  {
   "cell_type": "code",
   "execution_count": 57,
   "metadata": {},
   "outputs": [
    {
     "name": "stdout",
     "output_type": "stream",
     "text": [
      "(*, 5, *)\n",
      "((*, 1, *), 5, *)\n",
      "((*, 1, *), 5, (*, 10, *))\n",
      "((*, 1, (*, 3, *)), 5, (*, 10, *))\n",
      "((*, 1, (*, 3, (*, 4, *))), 5, (*, 10, *))\n",
      "(0, False) (1, True) (2, False) (3, True) (4, True) (5, True) (6, False) (7, False) (8, False) (9, False) "
     ]
    }
   ],
   "source": [
    "source_data = [5,1,10,3,4]\n",
    "tree = BinaryTree()\n",
    "for i in source_data:\n",
    "    tree.insert(i)\n",
    "    print(tree)\n",
    "for i in range(10):\n",
    "    print((i, i in tree), end = ' ')"
   ]
  },
  {
   "cell_type": "markdown",
   "metadata": {},
   "source": [
    "## 5. Перегрузка встроенной функции len"
   ]
  },
  {
   "cell_type": "markdown",
   "metadata": {},
   "source": [
    "<span style='color:red'>Переопредлим</span> классы BinaryTree, BinaryNode, EmptyNode за счет определения нового метода \\_\\_len\\_\\_(self) для перегрузки встроенной функции len, которая возвращает количество вершин в бинарном дереве поиска. Рекомендации по выполнению представлены в лекции к теме Бинарное дерево поиска. Реализация на основе ООП. И <span style='color:red'>протестируем</span> корректность выполнения функции len на трех примерах."
   ]
  },
  {
   "cell_type": "code",
   "execution_count": 1,
   "metadata": {},
   "outputs": [],
   "source": [
    "class BinaryTree:\n",
    "    def __init__(self):\n",
    "        self.root = EmptyNode()\n",
    "\n",
    "    def __repr__(self):\n",
    "        return repr(self.root)\n",
    "\n",
    "    def insert(self, value):\n",
    "        self.root = self.root.insert(value) \n",
    "    \n",
    "    def __contains__(self, value):\n",
    "        return value in self.root\n",
    "    \n",
    "    def __len__(self):\n",
    "        return len(self.root)"
   ]
  },
  {
   "cell_type": "code",
   "execution_count": 2,
   "metadata": {},
   "outputs": [],
   "source": [
    "class BinaryNode:\n",
    "    def __init__(self, left, value, right):\n",
    "        self.left = left\n",
    "        self.value = value\n",
    "        self.right = right\n",
    "\n",
    "    def __repr__(self):\n",
    "        return f'({self.left}, {self.value}, {self.right})'\n",
    "\n",
    "    def insert(self, value):\n",
    "        if value < self.value:\n",
    "            self.left = self.left.insert(value)\n",
    "        else:\n",
    "            self.right = self.right.insert(value)\n",
    "        return self\n",
    "    \n",
    "    def __contains__(self, value):\n",
    "        return (value in self.left) or value == self.value or (value in self.right)\n",
    "    \n",
    "    def __len__(self):\n",
    "        return len(self.left) + len(self.right) + 1"
   ]
  },
  {
   "cell_type": "code",
   "execution_count": 3,
   "metadata": {},
   "outputs": [],
   "source": [
    "class EmptyNode:\n",
    "    def __repr__(self):\n",
    "        return '*'\n",
    "\n",
    "    def insert(self, value):\n",
    "        return BinaryNode(self, value, self)\n",
    "\n",
    "    def __contains__(self, value):\n",
    "        return False\n",
    "    \n",
    "    def __len__(self):\n",
    "        return 0"
   ]
  },
  {
   "cell_type": "markdown",
   "metadata": {},
   "source": [
    "Проверим:"
   ]
  },
  {
   "cell_type": "code",
   "execution_count": 62,
   "metadata": {},
   "outputs": [
    {
     "data": {
      "text/plain": [
       "5"
      ]
     },
     "execution_count": 62,
     "metadata": {},
     "output_type": "execute_result"
    }
   ],
   "source": [
    "tree = BinaryTree()\n",
    "for i in source_data:\n",
    "    tree.insert(i)\n",
    "len(tree)"
   ]
  },
  {
   "cell_type": "code",
   "execution_count": 70,
   "metadata": {},
   "outputs": [
    {
     "data": {
      "text/plain": [
       "155"
      ]
     },
     "execution_count": 70,
     "metadata": {},
     "output_type": "execute_result"
    }
   ],
   "source": [
    "numbers = get_tree_from_file('digits.txt')\n",
    "len(numbers)"
   ]
  },
  {
   "cell_type": "code",
   "execution_count": 71,
   "metadata": {},
   "outputs": [
    {
     "data": {
      "text/plain": [
       "165"
      ]
     },
     "execution_count": 71,
     "metadata": {},
     "output_type": "execute_result"
    }
   ],
   "source": [
    "for i in range(10): numbers.insert(i**(i**2))\n",
    "len(numbers)"
   ]
  },
  {
   "cell_type": "markdown",
   "metadata": {},
   "source": [
    "<!--Пфф, легкотня, даже легче чем все предыдущие задания-->\n",
    "<!--Удачи Ваня-->\n",
    "<!--Удачи Владос-->"
   ]
  },
  {
   "cell_type": "markdown",
   "metadata": {},
   "source": [
    "## 6. Изображение дерева (в разработке...)"
   ]
  },
  {
   "cell_type": "code",
   "execution_count": 6,
   "metadata": {},
   "outputs": [],
   "source": [
    "from matplotlib import pyplot as plt\n",
    "import numpy as np"
   ]
  },
  {
   "cell_type": "markdown",
   "metadata": {},
   "source": [
    "Построим простые фигуры, занесём их в функции для более простого использования:"
   ]
  },
  {
   "cell_type": "code",
   "execution_count": 8,
   "metadata": {},
   "outputs": [],
   "source": [
    "def add_circle(center, radius, label = '', color = 'g', linestyle = '-'):\n",
    "    global ax\n",
    "    circle = plt.Circle(center, radius, fill=False, color=color, linestyle=linestyle)\n",
    "    ax.text(center[0], center[1], label,horizontalalignment='center', verticalalignment='center')\n",
    "    ax.add_artist(circle)"
   ]
  },
  {
   "cell_type": "code",
   "execution_count": 9,
   "metadata": {},
   "outputs": [],
   "source": [
    "def add_connection(C1, C2, R, color='g'):\n",
    "    vec = (np.array(C1) - np.array(C2))\n",
    "    veclen = np.sqrt(vec.dot(vec))\n",
    "    if veclen != 0: vec = vec / veclen\n",
    "    p = np.array([C1 - vec * R, C2 + vec * R])\n",
    "    plt.plot(p[:,0], p[:,1],color)"
   ]
  },
  {
   "cell_type": "code",
   "execution_count": 10,
   "metadata": {},
   "outputs": [
    {
     "data": {
      "image/png": "[encoded data removed]",
      "text/plain": [
       "<Figure size 640x480 with 1 Axes>"
      ]
     },
     "metadata": {},
     "output_type": "display_data"
    }
   ],
   "source": [
    "fig, ax = plt.subplots()\n",
    "ax.axis([0,10,0,10])\n",
    "ax.set_aspect(1)\n",
    "# circle = plt.Circle((1,1),9, fill=False, color='r')\n",
    "# ax.text(1, 1, r\"$C^2=(1,1)$\",horizontalalignment='center')\n",
    "# ax.add_artist(circle)\n",
    "C1, C2, R = (2,8), (5,2), 1\n",
    "add_connection(C1,C2,R)\n",
    "add_circle(C1, R, '1')\n",
    "add_circle(C2, R, 'Empty', linestyle='--')"
   ]
  },
  {
   "cell_type": "markdown",
   "metadata": {},
   "source": [
    "Теперь нужно подсчитать координатные оси:"
   ]
  },
  {
   "cell_type": "markdown",
   "metadata": {},
   "source": [
    "Сначала подсчитаем глубину или вложенность, от этого зависит насколько будет простираться вниз дерево, в стороны раздвигается также:"
   ]
  },
  {
   "cell_type": "code",
   "execution_count": 1,
   "metadata": {},
   "outputs": [],
   "source": [
    "class BinaryTree:\n",
    "    def __init__(self, data = []):\n",
    "        self.root = EmptyNode()\n",
    "        for i in data:\n",
    "            self.insert(i)\n",
    "\n",
    "    def __repr__(self):\n",
    "        return repr(self.root)\n",
    "\n",
    "    def insert(self, value):\n",
    "        self.root = self.root.insert(value) \n",
    "    \n",
    "    def __contains__(self, value):\n",
    "        return value in self.root\n",
    "    \n",
    "    def draw(self):\n",
    "        return self.root.get_values()\n",
    "    \n",
    "    def depth(self):\n",
    "        return self.root.depth()"
   ]
  },
  {
   "cell_type": "code",
   "execution_count": 2,
   "metadata": {},
   "outputs": [],
   "source": [
    "class BinaryNode:\n",
    "    def __init__(self, left, value, right):\n",
    "        self.left = left\n",
    "        self.value = value\n",
    "        self.right = right\n",
    "\n",
    "    def __repr__(self):\n",
    "        return f'({self.left}, {self.value}, {self.right})'\n",
    "\n",
    "    def insert(self, value):\n",
    "        if value < self.value:\n",
    "            self.left = self.left.insert(value)\n",
    "        else:\n",
    "            self.right = self.right.insert(value)\n",
    "        return self\n",
    "    \n",
    "    def __contains__(self, value):\n",
    "        return (value in self.left) or value == self.value or (value in self.right)\n",
    "    \n",
    "    def get_values(self):\n",
    "        return [self.left.get_values(), self.value, self.right.get_values()]\n",
    "    \n",
    "    def depth(self):\n",
    "        d1 = self.left.depth() + 1\n",
    "        d2 = self.right.depth() + 1\n",
    "        return max([d1,d2])"
   ]
  },
  {
   "cell_type": "code",
   "execution_count": 3,
   "metadata": {},
   "outputs": [],
   "source": [
    "class EmptyNode:\n",
    "    def __repr__(self):\n",
    "        return '*'\n",
    "\n",
    "    def insert(self, value):\n",
    "        return BinaryNode(self, value, self)\n",
    "\n",
    "    def __contains__(self, value):\n",
    "        return False\n",
    "    \n",
    "    def get_values(self):\n",
    "        return []\n",
    "    \n",
    "    def depth(self):\n",
    "        return 0"
   ]
  },
  {
   "cell_type": "markdown",
   "metadata": {},
   "source": [
    "Проверим потом на этом:"
   ]
  },
  {
   "cell_type": "code",
   "execution_count": 82,
   "metadata": {},
   "outputs": [
    {
     "data": {
      "text/plain": [
       "(7,\n",
       " (((*, 3, *), 4, ((*, 6, *), 7, ((((*, 26, *), 57, *), 68, ((*, 263, *), 654, (*, 674, *))), 778, ((*, 798, *), 926, *)))), 5000, ((*, 5389, (*, 7998, (((*, 9330, *), 11868, *), 32579, *))), 45520, ((*, 58805, *), 73418, (*, 78222, *)))))"
      ]
     },
     "execution_count": 82,
     "metadata": {},
     "output_type": "execute_result"
    }
   ],
   "source": [
    "numbers = get_tree_from_file('digits.txt')\n",
    "numbers.depth(), numbers"
   ]
  },
  {
   "cell_type": "markdown",
   "metadata": {},
   "source": [
    "Попробуем что-нибудь отрисовать:"
   ]
  },
  {
   "cell_type": "code",
   "execution_count": 14,
   "metadata": {},
   "outputs": [
    {
     "data": {
      "image/png": "[encoded data removed]",
      "text/plain": [
       "<Figure size 640x480 with 1 Axes>"
      ]
     },
     "metadata": {},
     "output_type": "display_data"
    }
   ],
   "source": [
    "depth = numbers.depth()\n",
    "fig, ax = plt.subplots()\n",
    "ax.axis([-depth - 3, depth + 3, -depth - 2, 2])\n",
    "ax.set_aspect(1)\n",
    "\n",
    "# Вершина\n",
    "buff = numbers.root\n",
    "level = 0\n",
    "add_circle((0,level), 0.5, str(buff.value))\n",
    "\n",
    "# Первый уровень\n",
    "buff1 = buff.left\n",
    "buff2 = buff.right\n",
    "level += 1\n",
    "C1, C2 = (-depth / 2,-level), (depth / 2,-level)\n",
    "add_circle(C1, 0.5, str(buff1.value))\n",
    "add_circle(C2, 0.5, str(buff2.value))\n",
    "add_connection((0,0), C1, 0.5)\n",
    "add_connection((0,0), C2, 0.5)\n",
    "\n",
    "# Часть второго уровня\n",
    "buff2 = buff1.right\n",
    "buff1 = buff1.left\n",
    "level += 1\n",
    "C4, C3 = (-depth / 4,-level), (-depth*3 / 4,-level)\n",
    "add_circle(C3, 0.5, str(buff1.value if isinstance(buff1, BinaryNode) else '*'))\n",
    "add_circle(C4, 0.5, str(buff2.value if isinstance(buff2, BinaryNode) else '*'))\n",
    "add_connection(C1, C3, 0.5)\n",
    "add_connection(C1, C4, 0.5)\n",
    "\n",
    "# Что отображать вместо EmptyNode \n",
    "# buff2 = buff1.right\n",
    "# buff1 = buff1.left\n",
    "# level += 1\n",
    "# C5, C6 = (-depth * 5 / 8,-level), (-depth*7 / 8,-level)\n",
    "# add_circle(C5, 0.5, str(buff1.value if isinstance(buff1, BinaryNode) else '*'), linestyle='-' if isinstance(buff1,BinaryNode) else '--')\n",
    "# add_circle(C6, 0.5, str(buff2.value if isinstance(buff2, BinaryNode) else '*'), linestyle='-' if isinstance(buff2,BinaryNode) else '--')\n",
    "# add_connection(C3, C5, 0.5)\n",
    "# add_connection(C3, C6, 0.5)"
   ]
  },
  {
   "cell_type": "code",
   "execution_count": 12,
   "metadata": {},
   "outputs": [
    {
     "data": {
      "text/plain": [
       "(((*, 1, *), 2, (*, 3, *)), 5, ((*, 6, *), 7, *))"
      ]
     },
     "execution_count": 12,
     "metadata": {},
     "output_type": "execute_result"
    }
   ],
   "source": [
    "numbers = BinaryTree()\n",
    "numbers.insert(5)\n",
    "numbers.insert(2)\n",
    "numbers.insert(1)\n",
    "numbers.insert(7)\n",
    "numbers.insert(3)\n",
    "numbers"
   ]
  },
  {
   "cell_type": "markdown",
   "metadata": {},
   "source": [
    "Теперь можно построить реккурсию:"
   ]
  },
  {
   "cell_type": "code",
   "execution_count": 178,
   "metadata": {},
   "outputs": [],
   "source": [
    "def buildTree(tree, C0 = (0,0),*, len_x = 1, step_y = 1):\n",
    "    \n",
    "    if isinstance(tree, BinaryNode):\n",
    "        add_circle(C0, step_y / (2**(-C0[1] / step_y)), str(tree.value))\n",
    "        C1, C2 = (C0[0] - len_x/2**(-C0[1] / step_y + 1), C0[1] - step_y), (C0[0] + len_x/2**(-C0[1] / step_y + 1), C0[1] - step_y)\n",
    "        add_connection(C0, C1, step_y / (2**(-C0[1] / step_y)))\n",
    "        buildTree(tree.left, C1, len_x = len_x, step_y = step_y)\n",
    "        add_connection(C0, C2, step_y / (2**(-C0[1] / step_y)))\n",
    "        buildTree(tree.right, C2, len_x = len_x, step_y = step_y)\n",
    "    else:\n",
    "        add_circle(C0, step_y / (2**(-C0[1] / step_y)), '*', linestyle='--')"
   ]
  },
  {
   "cell_type": "code",
   "execution_count": 179,
   "metadata": {},
   "outputs": [
    {
     "data": {
      "image/png": "[encoded data removed]",
      "text/plain": [
       "<Figure size 640x480 with 1 Axes>"
      ]
     },
     "metadata": {},
     "output_type": "display_data"
    }
   ],
   "source": [
    "depth = numbers.depth()\n",
    "fig, ax = plt.subplots()\n",
    "len_x = 2**(depth + 1)\n",
    "ax.axis([-len_x / 2, len_x / 2, -len_x / 2, 2])\n",
    "ax.set_aspect(1)\n",
    "buildTree(numbers.root, len_x=len_x / 2, step_y = (len_x / 2 - 2) / (depth + 1))"
   ]
  },
  {
   "cell_type": "markdown",
   "metadata": {},
   "source": [
    "Что-нибудь по серьёзнее?"
   ]
  },
  {
   "cell_type": "code",
   "execution_count": 180,
   "metadata": {},
   "outputs": [
    {
     "data": {
      "text/plain": [
       "(7,\n",
       " (((*, 3, *), 4, ((*, 6, *), 7, ((((*, 26, *), 57, *), 68, ((*, 263, *), 654, (*, 674, *))), 778, ((*, 798, *), 926, *)))), 5000, ((*, 5389, (*, 7998, (((*, 9330, *), 11868, *), 32579, *))), 45520, ((*, 58805, *), 73418, (*, 78222, *)))))"
      ]
     },
     "execution_count": 180,
     "metadata": {},
     "output_type": "execute_result"
    }
   ],
   "source": [
    "big_numbers = get_tree_from_file('digits.txt')\n",
    "big_numbers.depth(), big_numbers"
   ]
  },
  {
   "cell_type": "code",
   "execution_count": 181,
   "metadata": {},
   "outputs": [
    {
     "data": {
      "image/png": "[encoded data removed]",
      "text/plain": [
       "<Figure size 640x480 with 1 Axes>"
      ]
     },
     "metadata": {},
     "output_type": "display_data"
    }
   ],
   "source": [
    "depth = big_numbers.depth()\n",
    "fig, ax = plt.subplots()\n",
    "len_x = 2**(depth + 1)\n",
    "ax.axis([-len_x / 2, len_x / 2, -len_x / 2, (len_x / 2 - 2) / (depth + 1)])\n",
    "ax.set_aspect(1)\n",
    "buildTree(big_numbers.root, len_x=len_x / 2, step_y=(len_x / 2 - 2) / (depth + 1))"
   ]
  },
  {
   "cell_type": "code",
   "execution_count": null,
   "metadata": {},
   "outputs": [],
   "source": []
  }
 ],
 "metadata": {
  "kernelspec": {
   "display_name": "base",
   "language": "python",
   "name": "python3"
  },
  "language_info": {
   "codemirror_mode": {
    "name": "ipython",
    "version": 3
   },
   "file_extension": ".py",
   "mimetype": "text/x-python",
   "name": "python",
   "nbconvert_exporter": "python",
   "pygments_lexer": "ipython3",
   "version": "3.11.5"
  }
 },
 "nbformat": 4,
 "nbformat_minor": 2
}
