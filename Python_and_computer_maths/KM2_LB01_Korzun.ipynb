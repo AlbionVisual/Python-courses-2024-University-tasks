{
 "cells": [
  {
   "cell_type": "markdown",
   "id": "a9db7c2f-f60c-4b15-9c18-1f11686c875c",
   "metadata": {},
   "source": [
    "# Лабораторная работа 1\n",
    "# Задача о падении тела. Построение графиков функции"
   ]
  },
  {
   "cell_type": "markdown",
   "id": "afaa851b-a092-45cf-9d81-99619efb5af3",
   "metadata": {
    "tags": []
   },
   "source": [
    "Корзун В. А. Вариант 3 05.02.2024"
   ]
  },
  {
   "cell_type": "markdown",
   "id": "2bfebad9-2b1e-4ec5-8964-dd15c9221add",
   "metadata": {
    "tags": []
   },
   "source": [
    "# Задание 1.1. Задача о падении тела"
   ]
  },
  {
   "cell_type": "markdown",
   "id": "dd278787-25ee-426a-bb5b-184f5bc157a8",
   "metadata": {
    "tags": []
   },
   "source": [
    "**Постановка задачи**. Тело запущено под углом $\\alpha$ к горизонту на\n",
    "высоте $h_{start}$ и через время $t=T$ достигает другое тело, расположенное\n",
    "на расстоянии $s_{end}$ и высоте $h_{end}$. Тело будем считать материальной точкой массы. Движение запущенного тела осуществляется только под действием силы тяжести\n",
    "<h4 align=\"center\">$\\textbf{F}=\\textit{m (0, -g)}$</h4>\n",
    "где <i>m</i> — масса тела, <i>g</i> — ускорение свободного падения. Сопротивлением среды\n",
    "пренебрегаем.\n",
    "\n",
    "**Данные**. Задача рассматривается при следующих значениях параметров: $h_{start}=10$m, $h_{end}=30$m, $T=3$ s, $s_{end}=50$ m. Начальный момент времени движения тела полагаем равным нулю: $t=0$. Значение массы тела не влияет на функции перемещения тела.\n",
    "\n",
    "**Задания для выполнения**. $\\color{red}{Определите}$ функцию\n",
    "перемещения тела $(s_{x}(t),s_{y}(t))$ под действием силы тяжести, где\n",
    "$s_{x}(t)$ и $s_{y}(t)$ — горизонтальная и вертикальная составляющая\n",
    "положения тела в момент времени $t$, соответственно. $\\color{red}{Найдите}$ угол\n",
    "запуска тела $\\alpha$. $\\color{red}{Постройте}$ график траектории движения тела $(s_x(t),s_y(t))$ для $t\\in [0,T]$."
   ]
  },
  {
   "cell_type": "markdown",
   "id": "c5b8f0d5-1c1a-47fa-8690-bbaa6fd3c78c",
   "metadata": {
    "tags": []
   },
   "source": [
    "## Выполнение задания 1.1"
   ]
  },
  {
   "cell_type": "markdown",
   "id": "703d628d-309c-41dc-a9a8-c6480f860350",
   "metadata": {
    "tags": []
   },
   "source": [
    "### Этап 1. Импортирование модулей"
   ]
  },
  {
   "cell_type": "markdown",
   "id": "b54fb6b7-7a54-4d8a-b5b8-210895fdf271",
   "metadata": {},
   "source": [
    "Импортируем модуль <i>math</i> с математическими функциями из стандартной бибоиотеки"
   ]
  },
  {
   "cell_type": "code",
   "execution_count": 1,
   "id": "3e5c6bce-0a27-4a8a-925f-9ff45d23129e",
   "metadata": {
    "tags": []
   },
   "outputs": [],
   "source": [
    "import math"
   ]
  },
  {
   "cell_type": "markdown",
   "id": "10ca3bef-9fa0-43a2-84b5-c9d3df880bdc",
   "metadata": {},
   "source": [
    "Доступ к инструментам модуля осуществляется с применением синтаксиса уточнения\n",
    "<имя модуля>.<имя атрибута>. Например:"
   ]
  },
  {
   "cell_type": "code",
   "execution_count": 2,
   "id": "e7e6d580-91da-4852-98c7-0dac4bf4e646",
   "metadata": {
    "tags": []
   },
   "outputs": [
    {
     "data": {
      "text/plain": [
       "1.0"
      ]
     },
     "execution_count": 2,
     "metadata": {},
     "output_type": "execute_result"
    }
   ],
   "source": [
    "math.sin(math.pi/2)"
   ]
  },
  {
   "cell_type": "markdown",
   "id": "1705e75c-dbf7-41c9-9f3c-07774c43c771",
   "metadata": {},
   "source": [
    "Импортируем расширение numpy и создадим псевдоним np для доступа к\n",
    "инструментам модуля, не используя имя numpy"
   ]
  },
  {
   "cell_type": "code",
   "execution_count": 3,
   "id": "4b991d5f-8b2f-47c2-8b62-d91616536b40",
   "metadata": {
    "tags": []
   },
   "outputs": [],
   "source": [
    "import numpy as np"
   ]
  },
  {
   "cell_type": "markdown",
   "id": "4240feec-78f6-4295-8e2d-2e1977e99351",
   "metadata": {},
   "source": [
    "Расширение numpy основано на работе со структурой данных массив ( ndarray ).\n",
    "Массив ( ndarray ) не является встроенным типом данных Python, он является базовым\n",
    "типом расширения numpy ."
   ]
  },
  {
   "cell_type": "markdown",
   "id": "4bb99427-9560-490b-8d12-534d3dfadec4",
   "metadata": {},
   "source": [
    "Импортируем модуль pyplot из пакета matplotlib для построения графиков. Для\n",
    "этого примененим синтаксис <имя пакета>.<имя модуля в пакете> и создадим\n",
    "псевдоним имени модуля plt"
   ]
  },
  {
   "cell_type": "code",
   "execution_count": 4,
   "id": "0a536ece-5085-43d0-abce-3834442d1422",
   "metadata": {
    "tags": []
   },
   "outputs": [],
   "source": [
    "import matplotlib.pyplot as plt"
   ]
  },
  {
   "cell_type": "markdown",
   "id": "a76c4c54-0ee5-443e-ad5d-4e014c544a2a",
   "metadata": {},
   "source": [
    "Импортируем модуль constants из пакета расширений scipy с псевдонимом\n",
    "const . Модуль constants предоставляет доступ к значениям физических констант"
   ]
  },
  {
   "cell_type": "code",
   "execution_count": 5,
   "id": "cd5e895c-cd4e-44f6-9164-b6d5f991b422",
   "metadata": {
    "tags": []
   },
   "outputs": [],
   "source": [
    "import scipy.constants as const"
   ]
  },
  {
   "cell_type": "markdown",
   "id": "7fd2d70b-847f-4198-89e0-ed90f7ca93c7",
   "metadata": {},
   "source": [
    "Импортируем модуль sympy для символьных вычислений в Python"
   ]
  },
  {
   "cell_type": "code",
   "execution_count": 6,
   "id": "040f66f0-82fc-439b-ae6a-35a357801c54",
   "metadata": {
    "tags": []
   },
   "outputs": [],
   "source": [
    "import sympy"
   ]
  },
  {
   "cell_type": "markdown",
   "id": "c1e0509e-d6db-49c9-886f-6175699c8c1d",
   "metadata": {
    "tags": []
   },
   "source": [
    "### Этап 2. Создание переменных"
   ]
  },
  {
   "cell_type": "markdown",
   "id": "5d0f40ef-c875-47fd-b232-2614aa96f14b",
   "metadata": {},
   "source": [
    "**Переменные** создаются при первом присваивании им значений. Слева от оператора присваивания ( = ) записывается переменная, справа — выражение, результатом вычисления которого является объект: переменная = объект . Имена переменных рекомендовано задавать в нижнем регистре с использованием знака нижнего подчеркивания для смыслового разделения имени на части, например first_variable = 1 . Объявлять переменные перед их инициализацией не нужно.\n",
    "\n",
    "После присваивания всякий раз, когда переменная появляется в коде, она заменяется\n",
    "на объект, на который ссылается. Нельзя использовать переменную, которой не\n",
    "присвоено значение."
   ]
  },
  {
   "cell_type": "code",
   "execution_count": 7,
   "id": "4351c70c-806d-4e4b-940b-136636a6190a",
   "metadata": {
    "tags": []
   },
   "outputs": [],
   "source": [
    "h_start = 10 # вертикальная составляющая положения тела в момент запуска\n",
    "h_end = 3.0E+1 # вертикальная составляющая положения тела в конечный момент движения\n",
    "T = 3.0 # время полета\n",
    "s_end = 5.0e1 # горизонтальное перемещение тела за время полета"
   ]
  },
  {
   "cell_type": "markdown",
   "id": "84da9c3b-9040-465a-8891-57bbb685d9f2",
   "metadata": {},
   "source": [
    "Отобразить значение переменной можно указав ее имя в ячейке ввода в последней\n",
    "строке или с использованием встроенной функции print"
   ]
  },
  {
   "cell_type": "code",
   "execution_count": 8,
   "id": "ef921bf6-02ff-4e96-910f-c193b5f880f3",
   "metadata": {
    "tags": []
   },
   "outputs": [
    {
     "data": {
      "text/plain": [
       "30.0"
      ]
     },
     "execution_count": 8,
     "metadata": {},
     "output_type": "execute_result"
    }
   ],
   "source": [
    "h_start # переменная не в конце, не отобразится\n",
    "h_end # А эта да"
   ]
  },
  {
   "cell_type": "code",
   "execution_count": 9,
   "id": "be693ecf-e027-4e02-95d8-e81ab205069d",
   "metadata": {
    "tags": []
   },
   "outputs": [
    {
     "name": "stdout",
     "output_type": "stream",
     "text": [
      "10 30.0\n"
     ]
    }
   ],
   "source": [
    "print(h_start, h_end)"
   ]
  },
  {
   "cell_type": "markdown",
   "id": "bda263e1-91db-4ef2-b923-29fcf4923649",
   "metadata": {},
   "source": [
    "Определим значение ускорения свободного падения для дальнейших расчетов"
   ]
  },
  {
   "cell_type": "code",
   "execution_count": 10,
   "id": "9e9f89a2-759f-45d3-93dd-bd86ae71ae6e",
   "metadata": {
    "tags": []
   },
   "outputs": [
    {
     "data": {
      "text/plain": [
       "(9.80665, 'm s^-2')"
      ]
     },
     "execution_count": 10,
     "metadata": {},
     "output_type": "execute_result"
    }
   ],
   "source": [
    "g = const.g\n",
    "g, const.unit('standard acceleration of gravity')"
   ]
  },
  {
   "cell_type": "markdown",
   "id": "f6bd496b-7d2d-4f26-aa27-8490ac29ec46",
   "metadata": {},
   "source": [
    "$\\color{red}{Приведём}$ несколько примеров физических констант из модуля constants пакета расширений scipy:"
   ]
  },
  {
   "cell_type": "code",
   "execution_count": 11,
   "id": "e35f1cb4-28d9-4c65-90f7-c4ea72efce9d",
   "metadata": {
    "tags": []
   },
   "outputs": [
    {
     "data": {
      "text/plain": [
       "299792458.0"
      ]
     },
     "execution_count": 11,
     "metadata": {},
     "output_type": "execute_result"
    }
   ],
   "source": [
    "const.speed_of_light # speed of light in vacuum\n",
    "const.c # or this way"
   ]
  },
  {
   "cell_type": "code",
   "execution_count": 12,
   "id": "2588ee71-7a6c-4ac0-8373-0826558ccd81",
   "metadata": {
    "tags": []
   },
   "outputs": [
    {
     "data": {
      "text/plain": [
       "1.602176634e-19"
      ]
     },
     "execution_count": 12,
     "metadata": {},
     "output_type": "execute_result"
    }
   ],
   "source": [
    "const.elementary_charge # charge of electron\n",
    "const.e # fast way"
   ]
  },
  {
   "cell_type": "code",
   "execution_count": 13,
   "id": "3e921d46-678a-4f7b-a3a3-c491530394e1",
   "metadata": {
    "tags": []
   },
   "outputs": [
    {
     "data": {
      "text/plain": [
       "6.02214076e+23"
      ]
     },
     "execution_count": 13,
     "metadata": {},
     "output_type": "execute_result"
    }
   ],
   "source": [
    "const.Avogadro # Avogadro number"
   ]
  },
  {
   "cell_type": "markdown",
   "id": "250ebb28-13c5-46d3-97a6-cde2d861ddc1",
   "metadata": {},
   "source": [
    "Временной отрезок $[0, T]$ представим в виде последовательности чисел. Cоздадим\n",
    "последовательность равномерно распределенных чисел на отрезке $[0, T]$ с шагом\n",
    "двумя способами: на основе встроенного типа список ( list ) и на основе массива\n",
    "( ndarray ) из расширения numpy"
   ]
  },
  {
   "cell_type": "code",
   "execution_count": 14,
   "id": "31de3cec-b8c0-405e-89f4-028e6a87a729",
   "metadata": {},
   "outputs": [],
   "source": [
    "step = 0.01\n",
    "t_list = [0 + i*step for i in range(int(T/0.01))]\n",
    "t_array = np.arange(0, T, step)"
   ]
  },
  {
   "cell_type": "markdown",
   "id": "eb59fd24-1d92-42b3-8e3e-df058c19bd82",
   "metadata": {},
   "source": [
    "$\\color{red}{Сформулируем}$ спецификации функций range и arange:"
   ]
  },
  {
   "cell_type": "markdown",
   "id": "95e17b14-c9f0-4579-9eb8-d108e5663028",
   "metadata": {},
   "source": [
    "range принимает 1 аргумент обозначающий конец, 2 обозначающих соответсвенно начало и конец или 3 обозначающих начало, конец и шаг с которым нужно генерировать список значений, если начало не указано, используется 0, если шаг не указан используется 1."
   ]
  },
  {
   "cell_type": "code",
   "execution_count": 15,
   "id": "828ce088-6650-4efc-8b05-4e90d8f98400",
   "metadata": {
    "tags": []
   },
   "outputs": [
    {
     "name": "stdout",
     "output_type": "stream",
     "text": [
      "0\n",
      "1\n",
      "2\n"
     ]
    }
   ],
   "source": [
    "for i in range(3):\n",
    "    print(i)"
   ]
  },
  {
   "cell_type": "code",
   "execution_count": 16,
   "id": "f2bd31ab-a4ef-4832-913b-ee8a7370a6d9",
   "metadata": {
    "tags": []
   },
   "outputs": [
    {
     "data": {
      "text/plain": [
       "array([ 1,  4,  7, 10, 13])"
      ]
     },
     "execution_count": 16,
     "metadata": {},
     "output_type": "execute_result"
    }
   ],
   "source": [
    "np.arange(1,16,3)"
   ]
  },
  {
   "cell_type": "markdown",
   "id": "12a33648-8c25-4da3-8edd-22a9bb415e2e",
   "metadata": {},
   "source": [
    "np.arange принимает аргументы такие же как и range, только представляет данные в виде массива."
   ]
  },
  {
   "cell_type": "markdown",
   "id": "23591df0-cbb2-4f18-863b-50f94c95b018",
   "metadata": {},
   "source": [
    "<i>Замечание</i>. После создания списка ( list ) его размер изменить можно, а после создания массива ( ndarray ) его размер изменить нельзя."
   ]
  },
  {
   "cell_type": "markdown",
   "id": "712bda1b-45fd-4b06-8cfc-34e3edee5140",
   "metadata": {
    "tags": []
   },
   "source": [
    "### Этап 3. Определение функции перемещения и нахождение угла запуска тела"
   ]
  },
  {
   "cell_type": "markdown",
   "id": "24a6b69b-fb2a-4990-8b3f-985d5ad08288",
   "metadata": {
    "tags": []
   },
   "source": [
    "Полагаем, что начало прямоугольной декартовой системы координат соответствует уровню земли. Тогда в начальный момент движения тела $t=0$ имеем, что:\n",
    "<h4 align=\"center\">$s_x(0)=0, s_y(0)=h_{start}$</h4>\n",
    "Для построения функции перемещения $(s_x(t),s_y(t))$ воспользуемся вторым законом Ньютона:\n",
    "<h4 align=\"center\">$F=ma$</h4>\n",
    "где $m$ -- масса тела, ускорение движения тела $a=(s_x''(t),s_y''(t))$ и приложенная сила $F=m(0,-g)$. В результате имеем два уравнения:\n",
    "<h4 align=\"center\">$s_x''(t)=0, s_y''(t)=-g$</h4>\n",
    "На основании уравнений с учётом начальных условий можно записать аналитический вид для функций $s_x(t)$ и $s_y(t)$\n",
    "<h4 align=\"center\">$s_x(t)=s_x(0)+v_{0x} t = v_{0x} t$</h4>\n",
    "<h4 align=\"center\">$s_y(t)=s_y(0)+v_{0y} t -\\frac g2t^2 = h_{start} + v_{0y} t-\\frac g2t^2$</h4>\n",
    "где $\\textbf{v_0}=(v_{0x},v_{0y})$ обозначает неизвестную скорость движения тела в начальный момент времени $t=0$.\n",
    "\n",
    "$\\color{red}{Напишем}$ как из второго закона Ньютона и начальных условий получен аналитический вид функции перемещения $(s_x(t),s_y(t))$:\n",
    "\n",
    "Скорость X при свободном падении тела не меняется, а Y имеет постоянное ускорение равное g, по формуле пройденного пути в зависимости от времени запишем скорость и ускорение. Формула получена дифференцированием общей формулы...\n",
    "\n",
    "Из условия задачи имеем, что $s_y(T)=h_{end}$. Из этого соотношения находим значение для $v_{0y}$:"
   ]
  },
  {
   "cell_type": "code",
   "execution_count": 17,
   "id": "02281283-30d6-49bd-acb2-eb7a42380453",
   "metadata": {
    "tags": []
   },
   "outputs": [
    {
     "data": {
      "text/plain": [
       "16.666666666666668"
      ]
     },
     "execution_count": 17,
     "metadata": {},
     "output_type": "execute_result"
    }
   ],
   "source": [
    "v0_x = s_end/T\n",
    "v0_x"
   ]
  },
  {
   "cell_type": "markdown",
   "id": "43c42ef5-60d1-4248-af35-ef7bb4d2994f",
   "metadata": {},
   "source": [
    "Из условия задачи имеем, что $s_y(T)=h_{end}$. Из этого соотношения находим значение для $v_{0y}$"
   ]
  },
  {
   "cell_type": "code",
   "execution_count": 18,
   "id": "79e08b99-00f7-4503-ae65-7c5066237423",
   "metadata": {
    "tags": []
   },
   "outputs": [
    {
     "data": {
      "text/plain": [
       "21.376641666666668"
      ]
     },
     "execution_count": 18,
     "metadata": {},
     "output_type": "execute_result"
    }
   ],
   "source": [
    "v0_y = (h_end-h_start+g/2*T**2)/T\n",
    "v0_y"
   ]
  },
  {
   "cell_type": "markdown",
   "id": "c282c537-d63f-45a9-9be9-e85cc20051ce",
   "metadata": {},
   "source": [
    "Значение угла запуска тела $\\alpha$ определяем из соотношения $tan \\alpha = \\frac{v_{0x}}{v_{0y}}$:"
   ]
  },
  {
   "cell_type": "code",
   "execution_count": 19,
   "id": "da3a8512-cf3a-40a0-a867-cbca196007a0",
   "metadata": {
    "tags": []
   },
   "outputs": [
    {
     "data": {
      "text/plain": [
       "(0.9085769709547223, 52.05762579848597)"
      ]
     },
     "execution_count": 19,
     "metadata": {},
     "output_type": "execute_result"
    }
   ],
   "source": [
    "alpha = math.atan(v0_y/v0_x)\n",
    "alpha, math.degrees(alpha)"
   ]
  },
  {
   "cell_type": "markdown",
   "id": "20359965-1e04-4ead-9705-35eb5c7bb517",
   "metadata": {},
   "source": [
    "Результирующая функция перемещения имеет следующий вид:"
   ]
  },
  {
   "cell_type": "code",
   "execution_count": 20,
   "id": "49462b5d-7530-49b3-85fb-c95fc0676f93",
   "metadata": {
    "tags": []
   },
   "outputs": [
    {
     "data": {
      "text/plain": [
       "'s_x= 16.666666666666668 t'"
      ]
     },
     "execution_count": 20,
     "metadata": {},
     "output_type": "execute_result"
    }
   ],
   "source": [
    "f's_x= {v0_x} t'"
   ]
  },
  {
   "cell_type": "code",
   "execution_count": 21,
   "id": "0290949f-5c3c-4842-8ab1-11e87199274c",
   "metadata": {
    "tags": []
   },
   "outputs": [
    {
     "data": {
      "text/plain": [
       "'s_y(t) = 10 + 21.376641666666668 t - 9.80665/2*t²'"
      ]
     },
     "execution_count": 21,
     "metadata": {},
     "output_type": "execute_result"
    }
   ],
   "source": [
    "f's_y(t) = {h_start} + {v0_y} t - {g}/2*t\\N{superscript two}'"
   ]
  },
  {
   "cell_type": "markdown",
   "id": "84b73fb8-6d41-4f1b-afa1-b2e7b1f9da10",
   "metadata": {
    "tags": []
   },
   "source": [
    "### Этап 4. Построение графика траектории движения тела"
   ]
  },
  {
   "cell_type": "markdown",
   "id": "4c698621-ba45-49df-b137-94102e2523f7",
   "metadata": {},
   "source": [
    "Построение графиков функций осуществляется по координатам точек графика. Для жтого нужно создать последовательность значений $x$-координат точек графика функции и последовательность соответствующих значений $y$-координат точек графика функции.\n",
    "\n",
    "На этапе 2 было создано лве последовательности равномерно распределённых чисел на отрезке $[0, T]$ с шагом 0.01 для переменной времени $t$:"
   ]
  },
  {
   "cell_type": "code",
   "execution_count": 22,
   "id": "c828d9c2-a364-4566-b20f-917a789f41da",
   "metadata": {
    "tags": []
   },
   "outputs": [],
   "source": [
    "t_list, t_array; # ; в конце не даёт вывести результат"
   ]
  },
  {
   "cell_type": "markdown",
   "id": "f8d78a03-e097-4860-b5de-8c61f15bd639",
   "metadata": {},
   "source": [
    "Определим списки чисел, соответствующих горизонтальным и вертикальным составляющим положения тела в моменты времени t_list с использованием формул, полученных на Этапе 3:"
   ]
  },
  {
   "cell_type": "code",
   "execution_count": 23,
   "id": "53f40eb8-f860-47ad-8d0b-dae07793ef40",
   "metadata": {
    "tags": []
   },
   "outputs": [],
   "source": [
    "s_x_list = [v0_x*t for t in t_list]\n",
    "s_y_list = [h_start+v0_y*t-g*t**2/2 for t in t_list]"
   ]
  },
  {
   "cell_type": "markdown",
   "id": "0e4c0b9b-7387-48d0-8309-e42342af781f",
   "metadata": {},
   "source": [
    "Определим массивы чисел, соответствующие горизонтальным и вертикальным составляющим положения тела в момент времени t_array:"
   ]
  },
  {
   "cell_type": "code",
   "execution_count": 24,
   "id": "20fa574f-09ef-4f87-a57a-f9783a6efb20",
   "metadata": {
    "tags": []
   },
   "outputs": [],
   "source": [
    "s_x_array = v0_x*t_array\n",
    "s_y_array = h_start+v0_y*t_array-g*t_array**2/2"
   ]
  },
  {
   "cell_type": "markdown",
   "id": "00402b91-feec-4ed3-b855-8525b6963147",
   "metadata": {},
   "source": [
    "<i>Обратим внимание</i>, что арифметические действия (+, -, *, /, **) с массивами ndarray выполняются **поэлементно** без использования дополнительного синтаксиса.\n",
    "\n",
    "Строим график траектории движения тела, используя инструменты модуля pyplot пакета matplotlib. Будем использовать документацию **Help | Matplotlib Reference** для функций: figure, plot, title, xlabel, ylabel, axis, xlim, ylim."
   ]
  },
  {
   "cell_type": "code",
   "execution_count": 25,
   "id": "8e63c956-0cd2-4014-a156-64bbba692675",
   "metadata": {
    "tags": []
   },
   "outputs": [
    {
     "data": {
      "image/png": "[encoded data removed]",
      "text/plain": [
       "<Figure size 640x480 with 1 Axes>"
      ]
     },
     "metadata": {},
     "output_type": "display_data"
    }
   ],
   "source": [
    "plt.figure()\n",
    "plt.plot(s_x_list, s_y_list,'b-', lw=2)\n",
    "plt.title('Вертикальное перемещение тела')\n",
    "plt.xlabel('x (m)'); plt.ylabel('y (m)')\n",
    "\n",
    "plt.axis([0, s_end, 0, h_end+15]);"
   ]
  },
  {
   "cell_type": "markdown",
   "id": "ffab6b01-03d6-4396-ab54-0a0459baa4d9",
   "metadata": {},
   "source": [
    "При вызове функции plot из pyplot моджно использовать как списки, так и массивы:"
   ]
  },
  {
   "cell_type": "code",
   "execution_count": 26,
   "id": "755bb025-158f-4d7f-9bb3-7be2fec90dd4",
   "metadata": {
    "tags": []
   },
   "outputs": [
    {
     "data": {
      "image/png": "[encoded data removed]",
      "text/plain": [
       "<Figure size 640x480 with 1 Axes>"
      ]
     },
     "metadata": {},
     "output_type": "display_data"
    }
   ],
   "source": [
    "plt.figure()\n",
    "plt.plot(s_x_array, s_y_array, color='green', lw=2)\n",
    "plt.title('Вертикальное перемещение тела')\n",
    "plt.xlabel('x (m)'); plt.ylabel('y (m)')\n",
    "\n",
    "# Альтернативный синтаксис для установки пределов по осям:\n",
    "plt.xlim(0, s_end)\n",
    "plt.ylim(0, h_end+15);"
   ]
  },
  {
   "cell_type": "markdown",
   "id": "3d554cd4-b98d-4996-a44e-e5a4ae96d52d",
   "metadata": {
    "tags": []
   },
   "source": [
    "# Задание 1.2. Определение момента времени касания телом земли"
   ]
  },
  {
   "cell_type": "markdown",
   "id": "45f1fb42-b92e-415c-9021-0142b38db159",
   "metadata": {},
   "source": [
    "Для задачи о педении тела из Задания 1.1 $\\color{red}{найдём}$ момент времени касания телом земли (время нахождения тела в воздухе). Выполнения задания осуществим двумя  способами.\n",
    "\n",
    "1. **Точное решение** задания: найдём время качания телом земли из решения уравнения $s_y(t)=0$;\n",
    "2. **Приближённое решение** задания:\n",
    "    - Построим последовательность $s_y$ на временном отрезке $[0, t_{stop}]$, чтобы момент качания тела земли $t*$ попадал в выбранный отрезок $t* \\in [0, t_{step}]$. Отметим, что $t{stop} > T$, где значение $T$ задаётся в Задании 1.1.\n",
    "    - Найдём в построенной последовательности $s_y$ два соседних элемента последовательности, значение которых меняют знак. Т. е. Найдём значение индекса $k$, для которого $s_y[k]s_y[k+1]<0$. Это будет означать, что $0 \\in (s_y[k],s_y[k+1])$\n",
    "    - Осуществим линейную интерполяцию (опять) $s_{lin}(t)$ функции $s_t(t)$ по двум точкам $(t[k],s_y[k]$ и $(t[k+1],s_y[k+1])$ для нахождения времени $t* \\in (t[k],t[k+1])$ из условия $s_{lin}(t*)=0$. Другими словами, по координатам двух точек необходимо построить прямую линию и найти на этой прямой значени $t*$, соответствующее точке $(t*,0)$. $\\color{red}{Приведём}$ в документе формулы для линейной интерполяции и для вычисления $t*$.\n",
    "    \n",
    "$\\color{red}{Сравним}$ точное решение, полученное из решения квадратного уравнения, и приближённое решение t*."
   ]
  },
  {
   "cell_type": "markdown",
   "id": "faf7b150-e6c4-45f2-a28c-87278d9010b5",
   "metadata": {
    "tags": []
   },
   "source": [
    "## Выполнение Задания 1.2"
   ]
  },
  {
   "cell_type": "markdown",
   "id": "17820dbe-0f2c-41bd-92c5-1cd5390fe6b9",
   "metadata": {
    "tags": []
   },
   "source": [
    "### Первый способ выполнения задания (точный)"
   ]
  },
  {
   "cell_type": "markdown",
   "id": "e26dea74-86e1-4147-8e9b-2ad03b665b3f",
   "metadata": {},
   "source": [
    "Для этого способа понадобится функция solve решающая уравнения. Для этого нам понадобится модуль sympy. Но предварительно необходимо будет создать символ относительно которого уравнение будет решаться."
   ]
  },
  {
   "cell_type": "markdown",
   "id": "ed8f80f3-0104-4508-92e9-4e99e503fb8e",
   "metadata": {},
   "source": [
    "Функция принимает уравнение, символ относительно которого решается уравнение, и дополнительные параметры."
   ]
  },
  {
   "cell_type": "code",
   "execution_count": 27,
   "id": "357c819e-7de6-409a-9a37-0075dbe91809",
   "metadata": {
    "tags": []
   },
   "outputs": [
    {
     "data": {
      "text/plain": [
       "[-0.426145366626468, 4.78576698393038]"
      ]
     },
     "execution_count": 27,
     "metadata": {},
     "output_type": "execute_result"
    }
   ],
   "source": [
    "t = sympy.symbols('t')\n",
    "result = sympy.solve(h_start + v0_y*t - g*t**2/2, t)\n",
    "result"
   ]
  },
  {
   "cell_type": "markdown",
   "id": "c8ba183a-2ce8-4b21-ac6a-f3fea95cafd6",
   "metadata": {},
   "source": [
    "Выберем последнее, т. к. квадратное уравнение может иметь два решения и второе т. к. второе всегда больше:"
   ]
  },
  {
   "cell_type": "code",
   "execution_count": 28,
   "id": "5168dfa0-0481-4d7b-a5ce-c7ef9c9334e0",
   "metadata": {
    "tags": []
   },
   "outputs": [
    {
     "data": {
      "text/latex": [
       "$\\displaystyle 4.78576698393038$"
      ],
      "text/plain": [
       "4.78576698393038"
      ]
     },
     "execution_count": 28,
     "metadata": {},
     "output_type": "execute_result"
    }
   ],
   "source": [
    "t_star_exact = result[-1]; t_star_exact"
   ]
  },
  {
   "cell_type": "markdown",
   "id": "27fca3b4-0aa4-400c-a669-1ddf3bfda9d7",
   "metadata": {
    "tags": []
   },
   "source": [
    "### Второй способ выполнения задания"
   ]
  },
  {
   "cell_type": "markdown",
   "id": "d35c8f86-42ee-4f84-848c-e5defcb58ab9",
   "metadata": {},
   "source": [
    "Выберем конечное время"
   ]
  },
  {
   "cell_type": "code",
   "execution_count": 29,
   "id": "322fbbe1-4255-4a9a-a944-2be48c855ad2",
   "metadata": {
    "tags": []
   },
   "outputs": [
    {
     "data": {
      "text/plain": [
       "5.0"
      ]
     },
     "execution_count": 29,
     "metadata": {},
     "output_type": "execute_result"
    }
   ],
   "source": [
    "t_stop = T + 2; t_stop"
   ]
  },
  {
   "cell_type": "markdown",
   "id": "15423507-0cdd-452c-8057-a3d39082e989",
   "metadata": {},
   "source": [
    "Создадим список значений высот в разных промежутках времени:"
   ]
  },
  {
   "cell_type": "code",
   "execution_count": 30,
   "id": "8b86b81d-d43c-4234-adb5-788aa4571890",
   "metadata": {
    "tags": []
   },
   "outputs": [],
   "source": [
    "step = 0.01\n",
    "t_list = [i*step for i in range(int(t_stop/step))]\n",
    "s_y = [h_start+v0_y*t-g*t**2/2 for t in t_list]"
   ]
  },
  {
   "cell_type": "markdown",
   "id": "446b33e4-a7d3-4678-8f26-cd6a98c7c005",
   "metadata": {},
   "source": [
    "Найдём два элемента на которых меняется знак высоты:"
   ]
  },
  {
   "cell_type": "code",
   "execution_count": 31,
   "id": "0ba7b8d4-a3f2-4044-99cc-77211b30a4d9",
   "metadata": {
    "tags": []
   },
   "outputs": [],
   "source": [
    "k = 0\n",
    "for i, val in enumerate(s_y):\n",
    "    if s_y[i]*s_y[i+1] < 0:\n",
    "        k = i; break;"
   ]
  },
  {
   "cell_type": "markdown",
   "id": "25a8bfa9-fc76-4df4-ac1a-8ae59d30faa3",
   "metadata": {},
   "source": [
    "Проверим:"
   ]
  },
  {
   "cell_type": "code",
   "execution_count": 32,
   "id": "6c63cf8d-0594-4514-b388-3a5197975370",
   "metadata": {
    "tags": []
   },
   "outputs": [
    {
     "name": "stdout",
     "output_type": "stream",
     "text": [
      "{0.14721623666667938, 4.78} {-0.10826554916664577, 4.79}\n"
     ]
    }
   ],
   "source": [
    "print({t_list[k], s_y[k]}, {t_list[k+1], s_y[k+1]})"
   ]
  },
  {
   "cell_type": "markdown",
   "id": "3d285a1c-01c1-4087-8db6-2ac04d716179",
   "metadata": {
    "tags": []
   },
   "source": [
    "Отлично, теперь подставим их в каноническое уравнение прямой, и найдём время пересечения нуля:"
   ]
  },
  {
   "cell_type": "code",
   "execution_count": 33,
   "id": "1bf46dc0-8fd9-47b6-9327-9fc2a9c14e8b",
   "metadata": {
    "tags": []
   },
   "outputs": [
    {
     "data": {
      "text/latex": [
       "$\\displaystyle 4.78576229871688$"
      ],
      "text/plain": [
       "4.78576229871688"
      ]
     },
     "execution_count": 33,
     "metadata": {},
     "output_type": "execute_result"
    }
   ],
   "source": [
    "x = sympy.symbols('x')\n",
    "result = sympy.solve((-s_y[k])/(s_y[k+1]-s_y[k])-(x-t_list[k])/(t_list[k+1]-t_list[k]), x)\n",
    "t_star_round = result[-1]; t_star_round"
   ]
  },
  {
   "cell_type": "markdown",
   "id": "47630407-07a5-41c4-a448-d61f5b623072",
   "metadata": {},
   "source": [
    "И сравним значени с точным способом:"
   ]
  },
  {
   "cell_type": "code",
   "execution_count": 34,
   "id": "164da1ed-2449-4408-a68e-76fc36be8d0c",
   "metadata": {
    "tags": []
   },
   "outputs": [
    {
     "data": {
      "text/latex": [
       "$\\displaystyle 1.00000097899001$"
      ],
      "text/plain": [
       "1.00000097899001"
      ]
     },
     "execution_count": 34,
     "metadata": {},
     "output_type": "execute_result"
    }
   ],
   "source": [
    "t_star_exact / t_star_round"
   ]
  },
  {
   "cell_type": "markdown",
   "id": "22f699e6-474c-47ff-94e1-ee93bf00ee75",
   "metadata": {},
   "source": [
    "Неплохое совпадение!"
   ]
  },
  {
   "cell_type": "markdown",
   "id": "35827d7f-5d33-44f3-8638-a4d5673e0a27",
   "metadata": {},
   "source": [
    "# Задание 1.3. Построение графиков функций"
   ]
  },
  {
   "cell_type": "markdown",
   "id": "3ca5c2db-043f-46d6-9aa5-c8a38ca1d35a",
   "metadata": {},
   "source": [
    "$\\color{red}{Построим}$ графики функций на плоскости по координатам точек согласно варианту. Функция задана:\n",
    "\n",
    "1. Полярным уравнением $\\rho = \\rho(\\phi)$ в полярной системе координат $(\\phi,\\rho)$;\n",
    "\n",
    "2. Параметрическим уравнениями $x=x(t), y=y(t)$ в декартовой системе координат $(x, y)$.\n",
    "\n",
    "Построение графиков функций осуществляется по координатам точек графика. Для этого можно создать последовательность соответствеющих значений $y (\\rho)$-координат точек графика функции."
   ]
  },
  {
   "cell_type": "markdown",
   "id": "93d77cca-6fc7-43f5-a9fa-1a88f920c229",
   "metadata": {
    "tags": []
   },
   "source": [
    "## Выполнения Задания 1.3"
   ]
  },
  {
   "cell_type": "markdown",
   "id": "d84e86fe-1030-4b47-9b3d-432d08ceb869",
   "metadata": {},
   "source": [
    "#### Вариант 3 (Кардиоида):"
   ]
  },
  {
   "cell_type": "markdown",
   "id": "b26f9735-bd3f-4f40-9226-1ff74b676353",
   "metadata": {},
   "source": [
    "$\\rho = 2 a (1 - cos(\\phi)), a \\in R$"
   ]
  },
  {
   "cell_type": "markdown",
   "id": "72da3bc6-a4ee-476a-ba42-2a0ab873a302",
   "metadata": {},
   "source": [
    "$x = arcsin (sit(t)), y = arccos(cos(t))$"
   ]
  },
  {
   "cell_type": "markdown",
   "id": "20381348-3c53-48f8-b050-9867fed00876",
   "metadata": {},
   "source": [
    "Начнём со второй. Выберем определённые значения t для графика:"
   ]
  },
  {
   "cell_type": "code",
   "execution_count": 35,
   "id": "ce1ab198-eb40-4db1-9542-02876ceee627",
   "metadata": {
    "tags": []
   },
   "outputs": [],
   "source": [
    "step = 0.01\n",
    "t_min = -10; t_max = 10\n",
    "t_list = [t_min + i*step for i in range(int((t_max - t_min) / step))]"
   ]
  },
  {
   "cell_type": "markdown",
   "id": "62f88469-5a3b-4a95-80f1-43f7cb9255b9",
   "metadata": {},
   "source": [
    "Найдём список всех точек для каждого значения t:"
   ]
  },
  {
   "cell_type": "code",
   "execution_count": 36,
   "id": "43dd57ef-7ccc-4b9f-ae7f-cc0ac7ee6580",
   "metadata": {
    "tags": []
   },
   "outputs": [],
   "source": [
    "x_list = [math.asin(math.sin(i)) for i in t_list]\n",
    "y_list = [math.acos(math.cos(i)) for i in t_list]"
   ]
  },
  {
   "cell_type": "markdown",
   "id": "262588cc-1cc5-4793-8cec-2af7abe0f47c",
   "metadata": {},
   "source": [
    "И построим график:"
   ]
  },
  {
   "cell_type": "code",
   "execution_count": 37,
   "id": "52e43433-2be9-40f1-aa84-a1f0166be37a",
   "metadata": {
    "tags": []
   },
   "outputs": [
    {
     "data": {
      "image/png": "[encoded data removed]",
      "text/plain": [
       "<Figure size 640x480 with 1 Axes>"
      ]
     },
     "metadata": {},
     "output_type": "display_data"
    }
   ],
   "source": [
    "plt.figure()\n",
    "plt.plot(x_list, y_list,'b-', lw=2)\n",
    "plt.title('График функции заданной параметрически')\n",
    "plt.xlabel('X'); plt.ylabel('Y');"
   ]
  },
  {
   "cell_type": "markdown",
   "id": "6b475bda-aee0-4700-838c-60479cf5ce56",
   "metadata": {
    "tags": []
   },
   "source": [
    "А теперь функция кардиоида:"
   ]
  },
  {
   "cell_type": "code",
   "execution_count": 38,
   "id": "40b0d85e-bb09-4ec1-8db3-bad4e6481cc5",
   "metadata": {
    "tags": []
   },
   "outputs": [
    {
     "data": {
      "image/png": "[encoded data removed]",
      "text/plain": [
       "<Figure size 640x480 with 1 Axes>"
      ]
     },
     "metadata": {},
     "output_type": "display_data"
    }
   ],
   "source": [
    "plt.figure()\n",
    "plt.axes(projection='polar')\n",
    "phi = np.arange(0, np.pi*2, 0.05)\n",
    "a = 1\n",
    "r = np.array([2 * a * (1 - math.cos(i)) for i in phi])\n",
    "plt.plot(phi + (r<0)*np.pi,abs(r),'r.');"
   ]
  },
  {
   "cell_type": "markdown",
   "id": "4d3be7d9-889b-47b1-95bc-47704f97b7b4",
   "metadata": {},
   "source": [
    "Вуаля, погнали дальше:"
   ]
  },
  {
   "cell_type": "markdown",
   "id": "0cb705a0-d630-428f-b561-a1021f31950c",
   "metadata": {},
   "source": [
    "# Задание 1.4. Построение секущей, касательной и нормали к графику функции"
   ]
  },
  {
   "cell_type": "markdown",
   "id": "68ba4be8-faf3-4006-9c45-aa157969bd1b",
   "metadata": {},
   "source": [
    "$\\color{red}{Постройте}$ в одной графической области:\n",
    "\n",
    "- график траектории движения тела $(s_x(t),s_y(t))$ для $t\\in [0, T]$ из Задания 1.1;\n",
    "- график секущей прямой к траектории движения тела, проходящей через начальную точку при $t=0$ и конечную точку при $t=T$;\n",
    "- график касательной прямой к траектории движения тела в начальной точке при $t=0$;\n",
    "- график нормальной прямой к траектории движения тела в начальной точке при $t=0$.\n",
    "\n",
    "Построение графиков функций осуществляется по координатам точек графика. Для этого нужно создать последовательность значений $x$-координат точек графика функции и последовательность соответствующих значений $y$-координат точек графика функции. Для построения прямых линий используем только две точки."
   ]
  },
  {
   "cell_type": "markdown",
   "id": "8d2521ff-3e50-4e54-9028-bc6aedf98f5e",
   "metadata": {
    "tags": []
   },
   "source": [
    "## Выполнение Задания 1.4"
   ]
  },
  {
   "cell_type": "markdown",
   "id": "8f1b129e-cd20-4555-8fdf-58cf66247574",
   "metadata": {},
   "source": [
    "Подготовим необходимые данные для построения секущей прямой к траектории движения тела.\n",
    "\n",
    "Воспользуемся <i>векторно-параметричеким уравнением прямой</i> для заданной точки $p_{start}$, лежащей на прямой, т заданного направляющено вектора $a$.\n",
    "\n",
    "<h5 align=\"center\">$p(t)=p_{start}+a t$.</h5>\n",
    "\n",
    "Направляющий вектор можно определить как $a = p_{end} - p_{start}$, где точка $p_{end}$ лежит на прямой и отлична от точки $p_{start}$.\n",
    "\n",
    "Введём новые переменные для описания начальной точки $p_{start}$ и конечной точки $p_{end}$ через их координаты. Для новых переменных используем тип массив ( ndarray ) из numpy. Представление координат точек в виде массивов иногда эффективнее, чем представление в виде списков, для дальнейшей работы с координатами:"
   ]
  },
  {
   "cell_type": "code",
   "execution_count": 39,
   "id": "db7d148e-4e09-4639-831e-fc684f85859c",
   "metadata": {
    "tags": []
   },
   "outputs": [
    {
     "data": {
      "text/plain": [
       "(array([ 0., 10.]), array([49.83333333, 30.07994275]))"
      ]
     },
     "execution_count": 39,
     "metadata": {},
     "output_type": "execute_result"
    }
   ],
   "source": [
    "p_start = np.array([s_x_array[0], s_y_array[0]])\n",
    "p_end = np.array([s_x_array[-1], s_y_array[-1]])\n",
    "p_start, p_end"
   ]
  },
  {
   "cell_type": "markdown",
   "id": "e9f3e845-7dc2-43d4-b925-c7ba3ee6a140",
   "metadata": {},
   "source": [
    "Вычислим направляющий вектор:"
   ]
  },
  {
   "cell_type": "code",
   "execution_count": 40,
   "id": "7a99a223-3e02-4a2f-903a-e73651d5479b",
   "metadata": {
    "tags": []
   },
   "outputs": [
    {
     "data": {
      "text/plain": [
       "array([49.83333333, 20.07994275])"
      ]
     },
     "execution_count": 40,
     "metadata": {},
     "output_type": "execute_result"
    }
   ],
   "source": [
    "a = p_end - p_start; a"
   ]
  },
  {
   "cell_type": "markdown",
   "id": "3463a769-81d7-4012-b456-5e6521aeb932",
   "metadata": {},
   "source": [
    "Для построения графика прямой достаточно задания двух точек, лежащих на прямой:"
   ]
  },
  {
   "cell_type": "code",
   "execution_count": 41,
   "id": "648b30c3-4f4e-402a-90cc-a0045bf2cd89",
   "metadata": {
    "tags": []
   },
   "outputs": [],
   "source": [
    "p = [p_start + a * t for t in [-2,2]]\n",
    "p = np.array(p)"
   ]
  },
  {
   "cell_type": "markdown",
   "id": "1d9332ee-ccc5-4951-bcf8-edddae011f30",
   "metadata": {},
   "source": [
    "Построим график траектории движения тела и график секущей прямой в одной графической области:"
   ]
  },
  {
   "cell_type": "code",
   "execution_count": 42,
   "id": "c8666095-0b29-4e28-aec7-d2dd4bc1d6b9",
   "metadata": {
    "tags": []
   },
   "outputs": [
    {
     "data": {
      "image/png": "[encoded data removed]",
      "text/plain": [
       "<Figure size 640x480 with 1 Axes>"
      ]
     },
     "metadata": {},
     "output_type": "display_data"
    }
   ],
   "source": [
    "fig = plt.figure()\n",
    "plt.plot(s_x_array, s_y_array, 'b-', lw=5)\n",
    "plt.plot(p[:,0], p[:,1],'--', color='red',lw=1)\n",
    "plt.xlabel('x (m)'); plt.ylabel('y (m)')\n",
    "\n",
    "plt.axis([-10, s_end + 10, 0, h_end + 15]);"
   ]
  },
  {
   "cell_type": "markdown",
   "id": "72683360-28ef-4f21-9d25-18a01455785d",
   "metadata": {},
   "source": [
    "$\\color{red}{Построим}$ график касательной прямой к траектории движения тела в одной области с траекторией движения и секущей прямой. Для построения касательной прямой воспользуемся уравнением прямой по точке $p_{start}(x_{start},y_{start})$ и угловому коэффиценту $k$. $\\color{red}{Поясним}$ как мы определяем угловой коэффицент $k$."
   ]
  },
  {
   "cell_type": "markdown",
   "id": "491c9d04-4237-408e-ae60-1baffa627461",
   "metadata": {
    "tags": []
   },
   "source": [
    "Первая точка касательной дана, это начало графика траектории, вторую найдём суммой первой с вектором $(1, k)$, коэффицент $k$ найдём следующим образом:\n",
    "\n",
    "В задании 1.1 мы находили угол запуска тела который указывает угол касательной прямой в начальной точки траектории, а коэффицент $k$ как раз является тангенсом угла наклона прямой к оси $Ox$:"
   ]
  },
  {
   "cell_type": "code",
   "execution_count": 43,
   "id": "04421694-8eb1-40d0-8963-cbd11a409403",
   "metadata": {
    "tags": []
   },
   "outputs": [
    {
     "data": {
      "text/plain": [
       "1.2825984999999998"
      ]
     },
     "execution_count": 43,
     "metadata": {},
     "output_type": "execute_result"
    }
   ],
   "source": [
    "k_tan_start = math.tan(alpha); k_tan_start"
   ]
  },
  {
   "cell_type": "markdown",
   "id": "081cf6eb-64a5-424d-87e8-1d27012f892a",
   "metadata": {},
   "source": [
    "Найдём вторую точку прямой по вектору и совместим в один массив:"
   ]
  },
  {
   "cell_type": "code",
   "execution_count": 44,
   "id": "aa731294-b0f5-4800-b736-1c7e4cc4cb63",
   "metadata": {
    "tags": []
   },
   "outputs": [
    {
     "data": {
      "text/plain": [
       "array([[-10.      ,  -2.825985],\n",
       "       [100.      , 138.25985 ]])"
      ]
     },
     "execution_count": 44,
     "metadata": {},
     "output_type": "execute_result"
    }
   ],
   "source": [
    "p_tan = [p_start + np.array([1,k_tan_start]) * t for t in [-10,100]]\n",
    "p_tan = np.array(p_tan); p_tan"
   ]
  },
  {
   "cell_type": "markdown",
   "id": "05d33cc8-6fdc-4d18-b5f6-079d6227c281",
   "metadata": {},
   "source": [
    "Построим три графика:"
   ]
  },
  {
   "cell_type": "code",
   "execution_count": 45,
   "id": "5f3a8f2c-efb2-4480-ac0f-1859fd4f8fb0",
   "metadata": {
    "tags": []
   },
   "outputs": [
    {
     "data": {
      "image/png": "[encoded data removed]",
      "text/plain": [
       "<Figure size 640x480 with 1 Axes>"
      ]
     },
     "metadata": {},
     "output_type": "display_data"
    }
   ],
   "source": [
    "fig = plt.figure()\n",
    "plt.plot(s_x_array, s_y_array, 'b-', lw=5)\n",
    "plt.plot(p[:,0], p[:,1],'--', color='red',lw=1)\n",
    "plt.plot(p_tan[:,0],p_tan[:,1],'--', color='green',lw=1)\n",
    "plt.xlabel('x (m)'); plt.ylabel('y (m)')\n",
    "\n",
    "plt.axis([-10, s_end + 10, 0, h_end + 15]);"
   ]
  },
  {
   "cell_type": "markdown",
   "id": "f21e0a04-2a1b-4434-b3aa-41bd1c4def6e",
   "metadata": {},
   "source": [
    "$\\color{red}{Построим}$ график нормальной прямой к траектории движения тела в момент времени $t = 0$ в одной графической области с траекторией движения, секущей прямой и касательной прямой. $\\color{red}{Поясним}$ какой имеет вид уравнение нормальной прямой к траектории движения тела."
   ]
  },
  {
   "cell_type": "markdown",
   "id": "58f3249e-8f39-4076-8ce5-48a0339702cb",
   "metadata": {},
   "source": [
    "Прямую строим таким же образом, только перпендикулярно, тоесть одну из координат вектора умножаем на -1:"
   ]
  },
  {
   "cell_type": "code",
   "execution_count": 46,
   "id": "68985d65-300c-453a-9848-9ae1677f54d0",
   "metadata": {
    "tags": []
   },
   "outputs": [],
   "source": [
    "p_normal = [p_start + np.array([-k_tan_start,1]) * t for t in [-10,10]]\n",
    "p_normal = np.array(p_normal)"
   ]
  },
  {
   "cell_type": "markdown",
   "id": "02fb00db-9724-49d8-a38f-444d32dda5d7",
   "metadata": {},
   "source": [
    "Построим все графики вместе:"
   ]
  },
  {
   "cell_type": "code",
   "execution_count": 47,
   "id": "bb2051db-5401-49cb-8131-9da82dfb1f08",
   "metadata": {
    "tags": []
   },
   "outputs": [
    {
     "data": {
      "image/png": "[encoded data removed]",
      "text/plain": [
       "<Figure size 640x480 with 1 Axes>"
      ]
     },
     "metadata": {},
     "output_type": "display_data"
    }
   ],
   "source": [
    "fig = plt.figure()\n",
    "plt.plot(s_x_array, s_y_array, 'b-', lw=5)\n",
    "plt.plot(p[:,0], p[:,1],'--', color='red',lw=1)\n",
    "plt.plot(p_tan[:,0],p_tan[:,1],'--', color='green',lw=1)\n",
    "plt.plot(p_normal[:,0],p_normal[:,1],'--', color='purple',lw=1)\n",
    "plt.xlabel('x (m)'); plt.ylabel('y (m)')\n",
    "\n",
    "plt.axis([-10, s_end + 10, 0, h_end + 15]);"
   ]
  }
 ],
 "metadata": {
  "kernelspec": {
   "display_name": "Python 3 (ipykernel)",
   "language": "python",
   "name": "python3"
  },
  "language_info": {
   "codemirror_mode": {
    "name": "ipython",
    "version": 3
   },
   "file_extension": ".py",
   "mimetype": "text/x-python",
   "name": "python",
   "nbconvert_exporter": "python",
   "pygments_lexer": "ipython3",
   "version": "3.11.5"
  }
 },
 "nbformat": 4,
 "nbformat_minor": 5
}
