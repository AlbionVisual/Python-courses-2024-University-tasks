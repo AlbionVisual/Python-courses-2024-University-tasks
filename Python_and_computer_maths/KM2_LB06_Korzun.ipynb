{
 "cells": [
  {
   "cell_type": "markdown",
   "metadata": {},
   "source": [
    "# Лабораторная работа №6"
   ]
  },
  {
   "cell_type": "markdown",
   "metadata": {},
   "source": [
    "Корзун В. А. Вариант 3; 03.05.2024"
   ]
  },
  {
   "cell_type": "markdown",
   "metadata": {},
   "source": [
    "# Выравнивание списка, состоящего из итерируемых объектов, на основе рекурсии"
   ]
  },
  {
   "cell_type": "markdown",
   "metadata": {},
   "source": [
    "## Постановка задачи"
   ]
  },
  {
   "cell_type": "markdown",
   "metadata": {},
   "source": [
    "$\\color{Red}{Напишем}$ пользовательскую функцию flatten_it(nested_obj, gen) выравнивания списка на основе рекурсии, которая для списка nested_obj, содержащего различные итерируемые объекты (список, кортеж, строка, словарь, генераторный объект), возвращает либо список из всех элементов итерируемых объектов без сохранения структуры итерируемых объектов, если gen=False, либо функция возвращает генераторный объект, если gen=True, который генерирует по запросу элементы итерируемых объектов без сохранения структуры итерируемых объектов.\n",
    "\n",
    "Приведем различные примеры вызовов функции flatten_it:\n",
    "\n",
    "Пример 1. Если вложенным итерируемым объектом является список или кортеж, то функция flatten_it возвращает список, состоящий из элементов списка или кортежа без сохранения структуры вложенности для элементов. Например:"
   ]
  },
  {
   "cell_type": "code",
   "execution_count": null,
   "metadata": {},
   "outputs": [],
   "source": [
    "flatten_it([1,(2,[3]),[[4]]], gen=False)"
   ]
  },
  {
   "cell_type": "markdown",
   "metadata": {},
   "source": [
    "Возвращает:"
   ]
  },
  {
   "cell_type": "markdown",
   "metadata": {},
   "source": [
    "[1,2,3,4]"
   ]
  },
  {
   "cell_type": "markdown",
   "metadata": {},
   "source": [
    "Пример 2. Если вложенным итерируемым объектом является строка, то функция flatten_it оставляет строку без изменений, не итерируя ее по символам. Например:"
   ]
  },
  {
   "cell_type": "code",
   "execution_count": null,
   "metadata": {},
   "outputs": [],
   "source": [
    "flatten_it([\"abc\",[\"de\"]], gen=False)"
   ]
  },
  {
   "cell_type": "markdown",
   "metadata": {},
   "source": [
    "Возвращает:"
   ]
  },
  {
   "cell_type": "code",
   "execution_count": null,
   "metadata": {},
   "outputs": [],
   "source": [
    "[\"abc\",\"de\"]"
   ]
  },
  {
   "cell_type": "markdown",
   "metadata": {},
   "source": [
    "Пример 3. Если вложенным итерируемым объектом является генераторный объект, то функция flatten_it сохраняет в результирующем списке сгенерированные элементы. Например:"
   ]
  },
  {
   "cell_type": "code",
   "execution_count": null,
   "metadata": {},
   "outputs": [],
   "source": [
    "flatten_it([[[range(5)]]], gen=False)"
   ]
  },
  {
   "cell_type": "markdown",
   "metadata": {},
   "source": [
    "Возвращает:"
   ]
  },
  {
   "cell_type": "code",
   "execution_count": null,
   "metadata": {},
   "outputs": [],
   "source": [
    "[0,1,2,3,4]"
   ]
  },
  {
   "cell_type": "markdown",
   "metadata": {},
   "source": [
    "Пример 4. Если вложенным итерируемым объектом является словарь, то функция flatten_it сохраняет ключи и соответствующие им объекты в качестве элементов результирующего списка. Например:"
   ]
  },
  {
   "cell_type": "code",
   "execution_count": null,
   "metadata": {},
   "outputs": [],
   "source": [
    "flatten_it([{1: {2,3}, 4: [5]}], gen=False)"
   ]
  },
  {
   "cell_type": "markdown",
   "metadata": {},
   "source": [
    "Возвращает:"
   ]
  },
  {
   "cell_type": "code",
   "execution_count": null,
   "metadata": {},
   "outputs": [],
   "source": [
    "[1,2,3,4,5]"
   ]
  },
  {
   "cell_type": "markdown",
   "metadata": {},
   "source": [
    "## 1. Выравнивание вложенных списков"
   ]
  },
  {
   "cell_type": "markdown",
   "metadata": {},
   "source": [
    "Предположим, что нам нужно выровнять вложенный список:"
   ]
  },
  {
   "cell_type": "code",
   "execution_count": 1,
   "metadata": {},
   "outputs": [],
   "source": [
    "it_list = [[1],[2,[3]],[[[[[4]]]]],5,6,7]"
   ]
  },
  {
   "cell_type": "markdown",
   "metadata": {},
   "source": [
    "Напишем *рекурсивную функцию* flatten_list_v1(nested_obj), которая выравнивает вложенный список nested_obj и возвращает список, содержащий только элементы исходного списка без сохранения его структуры.\n",
    "\n",
    "Некоторые аспекты реализации:\n",
    "- для проверки, является ли текущий объект item списком или нет, будем использовать функцию isinstance(item, list);\n",
    "- для формирования результирующего списка result будем использовать дополненное присваивание += для списков на основе операции конкатенации +."
   ]
  },
  {
   "cell_type": "code",
   "execution_count": 2,
   "metadata": {},
   "outputs": [
    {
     "name": "stdout",
     "output_type": "stream",
     "text": [
      "\u001b[1;31mSignature:\u001b[0m  \u001b[0misinstance\u001b[0m\u001b[1;33m(\u001b[0m\u001b[0mobj\u001b[0m\u001b[1;33m,\u001b[0m \u001b[0mclass_or_tuple\u001b[0m\u001b[1;33m,\u001b[0m \u001b[1;33m/\u001b[0m\u001b[1;33m)\u001b[0m\u001b[1;33m\u001b[0m\u001b[1;33m\u001b[0m\u001b[0m\n",
      "\u001b[1;31mDocstring:\u001b[0m\n",
      "Return whether an object is an instance of a class or of a subclass thereof.\n",
      "\n",
      "A tuple, as in ``isinstance(x, (A, B, ...))``, may be given as the target to\n",
      "check against. This is equivalent to ``isinstance(x, A) or isinstance(x, B)\n",
      "or ...`` etc.\n",
      "\u001b[1;31mType:\u001b[0m      builtin_function_or_method"
     ]
    }
   ],
   "source": [
    "? isinstance"
   ]
  },
  {
   "cell_type": "code",
   "execution_count": 3,
   "metadata": {},
   "outputs": [],
   "source": [
    "def flatten_list_v1(nested_obj):\n",
    "    result = []\n",
    "    if isinstance(nested_obj,list):\n",
    "        for item in nested_obj:\n",
    "            result += flatten_list_v1(item)\n",
    "    else:\n",
    "        result += [nested_obj]\n",
    "    return result"
   ]
  },
  {
   "cell_type": "markdown",
   "metadata": {},
   "source": [
    "Протестируем функцию flatten_list_v1:"
   ]
  },
  {
   "cell_type": "code",
   "execution_count": 4,
   "metadata": {},
   "outputs": [
    {
     "data": {
      "text/plain": [
       "[1, 2, 3, 4, 5, 6, 7]"
      ]
     },
     "execution_count": 4,
     "metadata": {},
     "output_type": "execute_result"
    }
   ],
   "source": [
    "flatten_list_v1(it_list)"
   ]
  },
  {
   "cell_type": "markdown",
   "metadata": {},
   "source": [
    "### 1.1 Генераторная функция flatten_list_v2"
   ]
  },
  {
   "cell_type": "markdown",
   "metadata": {},
   "source": [
    "На основе функции flatten_list_v1 $\\color{Red}{напишем}$ генераторную функцию flatten_list_v2(nested_obj), которая выравнивает вложенный список и возвращает генератнорый объект для элементов вложенного списка.\n",
    "\n",
    "Реализация генераторной функции flatten_list_v2 будет проще реализации функции flatten_list_v1, так как не нужно объединять все объекты в единый результирующий список."
   ]
  },
  {
   "cell_type": "code",
   "execution_count": 5,
   "metadata": {},
   "outputs": [],
   "source": [
    "def flatten_list_v2(nested_obj):\n",
    "    for obj in nested_obj:\n",
    "        if isinstance(obj, list):\n",
    "            yield from flatten_list_v2(obj)\n",
    "        else: yield obj"
   ]
  },
  {
   "cell_type": "markdown",
   "metadata": {},
   "source": [
    "Протестируем функцию flatten_list_v2:"
   ]
  },
  {
   "cell_type": "code",
   "execution_count": 6,
   "metadata": {},
   "outputs": [
    {
     "data": {
      "text/plain": [
       "[1, 2, 3, 4, 5, 6, 7]"
      ]
     },
     "execution_count": 6,
     "metadata": {},
     "output_type": "execute_result"
    }
   ],
   "source": [
    "[x for x in flatten_list_v2(it_list)]"
   ]
  },
  {
   "cell_type": "markdown",
   "metadata": {},
   "source": [
    "### 1.2 Функция flatten_list"
   ]
  },
  {
   "cell_type": "markdown",
   "metadata": {},
   "source": [
    "$\\color{Red}{Объединим}$ две пользовательские функции flatten_list_v1 и flatten_list_v2 в одну пользовательскую функцию flatten_list(nested_obj, gen), которая возвращает либо список из элементов вложенных списков без сохранения структуры, если gen=False, либо возвращает генераторный объект, если gen=True. Стандартным значением для аргумента gen является объект False, а также допишем строки документации:"
   ]
  },
  {
   "cell_type": "code",
   "execution_count": 7,
   "metadata": {},
   "outputs": [],
   "source": [
    "def flatten_list(nested_obj, gen = False):\n",
    "    \"\"\"\n",
    "    Flattens all nested lists to first layer\n",
    "\n",
    "    Arguments:\n",
    "\n",
    "    nested_obj: list with nested lists to flatten\n",
    "\n",
    "    gen: wether return list or gen obj;     gen = False\n",
    "\n",
    "    Returns: list if gen = False else gen obj\n",
    "    \"\"\"\n",
    "    if gen: return flatten_list_v2(nested_obj)\n",
    "    else: return flatten_list_v1(nested_obj)"
   ]
  },
  {
   "cell_type": "markdown",
   "metadata": {},
   "source": [
    "Протестируем Функцию на трёх примерах:"
   ]
  },
  {
   "cell_type": "code",
   "execution_count": 8,
   "metadata": {},
   "outputs": [
    {
     "data": {
      "text/plain": [
       "(<generator object flatten_list_v2 at 0x0000023952D299A0>,\n",
       " [1, 2, 3, 4, 5, 6, 7])"
      ]
     },
     "execution_count": 8,
     "metadata": {},
     "output_type": "execute_result"
    }
   ],
   "source": [
    "flatten_list(it_list, gen=True), list(flatten_list(it_list, gen=True))"
   ]
  },
  {
   "cell_type": "code",
   "execution_count": 9,
   "metadata": {},
   "outputs": [
    {
     "data": {
      "text/plain": [
       "[1, 2, 3, 4, 5, 6, 7, 8, 9, 10, 11, 12, 13, 14, 15, 16, 17, 18, 19, 20, 21]"
      ]
     },
     "execution_count": 9,
     "metadata": {},
     "output_type": "execute_result"
    }
   ],
   "source": [
    "flatten_list([[[1],[2,3],4,[5,[6],7,[8,[9,[10,11,12],13],14],15,[16,17],[18]]],[19],20,21])"
   ]
  },
  {
   "cell_type": "code",
   "execution_count": 10,
   "metadata": {},
   "outputs": [
    {
     "data": {
      "text/plain": [
       "[1.0,\n",
       " 1.4142135623730951,\n",
       " 1.7320508075688772,\n",
       " 2.0,\n",
       " 2.23606797749979,\n",
       " 2.449489742783178,\n",
       " 2.6457513110645907]"
      ]
     },
     "execution_count": 10,
     "metadata": {},
     "output_type": "execute_result"
    }
   ],
   "source": [
    "[i**(1/2) for i in flatten_list([[1],[2,[3]],[[[[[4]]]]],5,6,7], gen=True)]"
   ]
  },
  {
   "cell_type": "markdown",
   "metadata": {},
   "source": [
    "## 2. Выравнивание вложенных итерируемых объектов произвольного типа"
   ]
  },
  {
   "cell_type": "markdown",
   "metadata": {},
   "source": [
    "Создадим различные итерируемые объекты: список, кортеж, строка, словарь, генераторный объект, файловый объект:"
   ]
  },
  {
   "cell_type": "code",
   "execution_count": 11,
   "metadata": {},
   "outputs": [],
   "source": [
    "it_list;"
   ]
  },
  {
   "cell_type": "code",
   "execution_count": 12,
   "metadata": {},
   "outputs": [],
   "source": [
    "it_tuple = (((7),(8)),(9),10)"
   ]
  },
  {
   "cell_type": "code",
   "execution_count": 13,
   "metadata": {},
   "outputs": [],
   "source": [
    "it_str = \"abcdefgh\""
   ]
  },
  {
   "cell_type": "code",
   "execution_count": 14,
   "metadata": {},
   "outputs": [],
   "source": [
    "it_dict = {\"key1\": 11, \"key2\": {\"key3\": 12}}"
   ]
  },
  {
   "cell_type": "code",
   "execution_count": 15,
   "metadata": {},
   "outputs": [],
   "source": [
    "it_gen = ([i,i**2,i**3] for i in range(5))"
   ]
  },
  {
   "cell_type": "code",
   "execution_count": 46,
   "metadata": {},
   "outputs": [],
   "source": [
    "it_file = open(\"flatten_file.txt\")"
   ]
  },
  {
   "cell_type": "markdown",
   "metadata": {},
   "source": [
    "Объединим все итерируемые объекты в список:"
   ]
  },
  {
   "cell_type": "code",
   "execution_count": 16,
   "metadata": {},
   "outputs": [],
   "source": [
    "it = [it_list, it_tuple, it_str, it_dict, it_gen]"
   ]
  },
  {
   "cell_type": "markdown",
   "metadata": {},
   "source": [
    "Все итерируемые объекты имеют метод \\_\\_iter\\_\\_ для создания объекта итератора:"
   ]
  },
  {
   "cell_type": "code",
   "execution_count": 17,
   "metadata": {},
   "outputs": [
    {
     "data": {
      "text/plain": [
       "[True, True, True, True, True]"
      ]
     },
     "execution_count": 17,
     "metadata": {},
     "output_type": "execute_result"
    }
   ],
   "source": [
    "['__iter__' in dir(x) for x in it]"
   ]
  },
  {
   "cell_type": "code",
   "execution_count": 18,
   "metadata": {},
   "outputs": [
    {
     "data": {
      "text/plain": [
       "[True, True, True, True, True]"
      ]
     },
     "execution_count": 18,
     "metadata": {},
     "output_type": "execute_result"
    }
   ],
   "source": [
    "[hasattr(x, '__iter__') for x in it]"
   ]
  },
  {
   "cell_type": "markdown",
   "metadata": {},
   "source": [
    "### 2.1 Функция flatten_it_v1"
   ]
  },
  {
   "cell_type": "markdown",
   "metadata": {},
   "source": [
    "На основе функции flatten_list_v1(nested_obj) $\\color{Red}{напишем}$ пользовательскую функцию flatten_it_v1(nested_obj) одного аргумента, которая выравнивает вложенную структуру из различных итерируемых объектов и возвращает список, содержащий только элементы без сохранения структуры.\n",
    "\n",
    "Для этого вместо проверки isinstance(nested_obj, list) будем использовать проверку на итерируемость объекта hasattr(nested_obj, '\\_\\_iter\\_\\_').\n",
    "\n",
    "При этом дополнительно учтем, что если итерируемым объектом является:\n",
    "- строка, то ее мы не итерируем;\n",
    "\n",
    "- словарь, то для его итерирования нужно выполнить дополнительные преобразования:"
   ]
  },
  {
   "cell_type": "code",
   "execution_count": 19,
   "metadata": {},
   "outputs": [],
   "source": [
    "def flatten_it_v1(nested_obj):\n",
    "    result = []\n",
    "    if hasattr(nested_obj, '__iter__') and not isinstance(nested_obj, str):\n",
    "        if isinstance(nested_obj, dict): \n",
    "            for i in nested_obj: result += [i] + flatten_it_v1(nested_obj[i])\n",
    "        else: \n",
    "            for item in nested_obj: result += flatten_it_v1(item)\n",
    "    else: result += [nested_obj]\n",
    "    return result"
   ]
  },
  {
   "cell_type": "markdown",
   "metadata": {},
   "source": [
    "Проверим:"
   ]
  },
  {
   "cell_type": "code",
   "execution_count": 21,
   "metadata": {},
   "outputs": [
    {
     "data": {
      "text/plain": [
       "[[[1], [2, [3]], [[[[[4]]]]], 5, 6, 7],\n",
       " ((7, 8), 9, 10),\n",
       " 'abcdefgh',\n",
       " {'key1': 11, 'key2': {'key3': 12}},\n",
       " <generator object <genexpr> at 0x0000023952D298C0>]"
      ]
     },
     "execution_count": 21,
     "metadata": {},
     "output_type": "execute_result"
    }
   ],
   "source": [
    "it"
   ]
  },
  {
   "cell_type": "code",
   "execution_count": 20,
   "metadata": {},
   "outputs": [
    {
     "name": "stdout",
     "output_type": "stream",
     "text": [
      "[1, 2, 3, 4, 5, 6, 7, 7, 8, 9, 10, 'abcdefgh', 'key1', 11, 'key2', 'key3', 12, 0, 0, 0, 1, 1, 1, 2, 4, 8, 3, 9, 27, 4, 16, 64]\n"
     ]
    }
   ],
   "source": [
    "print(flatten_it_v1(it))"
   ]
  },
  {
   "cell_type": "markdown",
   "metadata": {},
   "source": [
    "### 2.2  Генераторная функция flatten_it_v2"
   ]
  },
  {
   "cell_type": "markdown",
   "metadata": {},
   "source": [
    "На основе функций flatten_it_v1 и flatten_list_v2 $\\color{Red}{напишем}$ пользовательскую функцию flatten_it_v2(nested_obj), которая выравнивает вложенную структуру из различных итерируемых объектов и возвращает генератнорый объект элементов без сохранения структуры."
   ]
  },
  {
   "cell_type": "code",
   "execution_count": 22,
   "metadata": {},
   "outputs": [],
   "source": [
    "def flatten_it_v2(nested_obj):\n",
    "    if hasattr(nested_obj, '__iter__') and not isinstance(nested_obj, str):\n",
    "        if isinstance(nested_obj, dict): \n",
    "            for i in nested_obj: yield from ([i] + flatten_it_v1(nested_obj[i]))\n",
    "        else:\n",
    "            for obj in nested_obj:\n",
    "                yield from flatten_it_v2(obj)\n",
    "    else: yield nested_obj"
   ]
  },
  {
   "cell_type": "code",
   "execution_count": 23,
   "metadata": {},
   "outputs": [
    {
     "name": "stdout",
     "output_type": "stream",
     "text": [
      "[1, 2, 3, 4, 5, 6, 7, 7, 8, 9, 10, 'abcdefgh', 'key1', 11, 'key2', 'key3', 12]\n"
     ]
    }
   ],
   "source": [
    "print(list(flatten_it_v2(it)))"
   ]
  },
  {
   "cell_type": "markdown",
   "metadata": {},
   "source": [
    "### 2.3 Функция flatten_it"
   ]
  },
  {
   "cell_type": "markdown",
   "metadata": {},
   "source": [
    "$\\color{Red}{Объединим}$ две пользовательские функции flatten_it_v1 и flatten_it_v2 в одну функцию flatten_it(nested_obj, gen), которая возвращает либо список из элементов вложенных объектов без сохранения структуры, если gen=False, либо возвращает генераторный объект, если gen=True.\n",
    "\n",
    "Стандартным значением для аргумента gen является объект False."
   ]
  },
  {
   "cell_type": "code",
   "execution_count": 24,
   "metadata": {},
   "outputs": [],
   "source": [
    "def flatten_it(nested_obj, gen = False):\n",
    "    \"\"\"\n",
    "    Flattens all nested iterable objects except strings to first layer\n",
    "\n",
    "    Arguments:\n",
    "\n",
    "    nested_obj: any objects with something nested in them \n",
    "\n",
    "    gen: wether return list or gen obj;     gen = False\n",
    "\n",
    "    Returns: list if gen = False else gen obj\n",
    "    \"\"\"\n",
    "    if gen: return flatten_it_v2(nested_obj)\n",
    "    else: return flatten_it_v1(nested_obj)"
   ]
  },
  {
   "cell_type": "markdown",
   "metadata": {},
   "source": [
    "### 2.4 Тестирование функции"
   ]
  },
  {
   "cell_type": "code",
   "execution_count": 25,
   "metadata": {},
   "outputs": [
    {
     "data": {
      "text/plain": [
       "[1, 2, 3, 4, 5, 6, 7, 7, 8, 9, 10, 'abcdefgh', 'key1', 11, 'key2', 'key3', 12]"
      ]
     },
     "execution_count": 25,
     "metadata": {},
     "output_type": "execute_result"
    }
   ],
   "source": [
    "flatten_it(it)"
   ]
  },
  {
   "cell_type": "code",
   "execution_count": 26,
   "metadata": {},
   "outputs": [
    {
     "data": {
      "text/plain": [
       "[1, 2, 3, 4, 5, 6, 7]"
      ]
     },
     "execution_count": 26,
     "metadata": {},
     "output_type": "execute_result"
    }
   ],
   "source": [
    "flatten_it(it_list)"
   ]
  },
  {
   "cell_type": "code",
   "execution_count": 27,
   "metadata": {},
   "outputs": [
    {
     "data": {
      "text/plain": [
       "(<generator object flatten_it_v2 at 0x0000023952BB95D0>,\n",
       " [1,\n",
       "  2,\n",
       "  3,\n",
       "  4,\n",
       "  5,\n",
       "  6,\n",
       "  7,\n",
       "  7,\n",
       "  8,\n",
       "  9,\n",
       "  10,\n",
       "  'abcdefgh',\n",
       "  'key1',\n",
       "  11,\n",
       "  'key2',\n",
       "  'key3',\n",
       "  12])"
      ]
     },
     "execution_count": 27,
     "metadata": {},
     "output_type": "execute_result"
    }
   ],
   "source": [
    "flatten_it(it, True), list(flatten_it(it, True))"
   ]
  },
  {
   "cell_type": "markdown",
   "metadata": {},
   "source": [
    "## 3 Обработка циклических объектов"
   ]
  },
  {
   "cell_type": "markdown",
   "metadata": {},
   "source": [
    "Циклическими объектами в Python могут быть словари и списки. Циклический список содержит элемент, который ссылается на весь список. Циклический словарь содержит элемент <ключ>:<значение>, <значение> которого сылается на весь словарь.\n",
    "\n",
    "Создадим циклический объект списка:"
   ]
  },
  {
   "cell_type": "code",
   "execution_count": 28,
   "metadata": {},
   "outputs": [],
   "source": [
    "it_list_cyclic = it_list[:]\n",
    "it_list_cyclic.append(it_list_cyclic)"
   ]
  },
  {
   "cell_type": "markdown",
   "metadata": {},
   "source": [
    "Для отображения циклических объектов в Python используется специальный синтаксис:"
   ]
  },
  {
   "cell_type": "code",
   "execution_count": 29,
   "metadata": {},
   "outputs": [
    {
     "data": {
      "text/plain": [
       "[[1], [2, [3]], [[[[[4]]]]], 5, 6, 7, [...]]"
      ]
     },
     "execution_count": 29,
     "metadata": {},
     "output_type": "execute_result"
    }
   ],
   "source": [
    "it_list_cyclic"
   ]
  },
  {
   "cell_type": "markdown",
   "metadata": {},
   "source": [
    "Обработаем дополнительно ситуацию, когда вложенный список является циклическим объектом.\n",
    "\n",
    "Для этого изменим код пользовательской функции flatten_list_v1 из Задания 2.1, создав исключение ValueError с помощью оператора raise, когда текущий элемент item списка nested_obj ссылается на этот же список:"
   ]
  },
  {
   "cell_type": "code",
   "execution_count": 30,
   "metadata": {},
   "outputs": [],
   "source": [
    "def flatten_list_v1(nested_obj):\n",
    "    result = []\n",
    "    if isinstance(nested_obj,list):\n",
    "        for item in nested_obj:\n",
    "            if item == nested_obj:\n",
    "                raise ValueError(\"Cyclic list is found\")\n",
    "            else:\n",
    "                result += flatten_list_v1(item)\n",
    "    else:\n",
    "        result += [nested_obj]\n",
    "    return result"
   ]
  },
  {
   "cell_type": "markdown",
   "metadata": {},
   "source": [
    "Протестируем функцию flatten_list_v1:"
   ]
  },
  {
   "cell_type": "code",
   "execution_count": 31,
   "metadata": {},
   "outputs": [
    {
     "data": {
      "text/plain": [
       "[1, 2, 3, 4, 5, 6, 7]"
      ]
     },
     "execution_count": 31,
     "metadata": {},
     "output_type": "execute_result"
    }
   ],
   "source": [
    "flatten_list_v1(it_list)"
   ]
  },
  {
   "cell_type": "code",
   "execution_count": 32,
   "metadata": {},
   "outputs": [
    {
     "ename": "ValueError",
     "evalue": "Cyclic list is found",
     "output_type": "error",
     "traceback": [
      "\u001b[1;31m---------------------------------------------------------------------------\u001b[0m",
      "\u001b[1;31mValueError\u001b[0m                                Traceback (most recent call last)",
      "Cell \u001b[1;32mIn[32], line 1\u001b[0m\n\u001b[1;32m----> 1\u001b[0m flatten_list_v1(it_list_cyclic)\n",
      "Cell \u001b[1;32mIn[30], line 6\u001b[0m, in \u001b[0;36mflatten_list_v1\u001b[1;34m(nested_obj)\u001b[0m\n\u001b[0;32m      4\u001b[0m \u001b[38;5;28;01mfor\u001b[39;00m item \u001b[38;5;129;01min\u001b[39;00m nested_obj:\n\u001b[0;32m      5\u001b[0m     \u001b[38;5;28;01mif\u001b[39;00m item \u001b[38;5;241m==\u001b[39m nested_obj:\n\u001b[1;32m----> 6\u001b[0m         \u001b[38;5;28;01mraise\u001b[39;00m \u001b[38;5;167;01mValueError\u001b[39;00m(\u001b[38;5;124m\"\u001b[39m\u001b[38;5;124mCyclic list is found\u001b[39m\u001b[38;5;124m\"\u001b[39m)\n\u001b[0;32m      7\u001b[0m     \u001b[38;5;28;01melse\u001b[39;00m:\n\u001b[0;32m      8\u001b[0m         result \u001b[38;5;241m+\u001b[39m\u001b[38;5;241m=\u001b[39m flatten_list_v1(item)\n",
      "\u001b[1;31mValueError\u001b[0m: Cyclic list is found"
     ]
    }
   ],
   "source": [
    "flatten_list_v1(it_list_cyclic)"
   ]
  },
  {
   "cell_type": "markdown",
   "metadata": {},
   "source": [
    "Для того, чтобы стандартное сообщение об ошибке не выводилось, перехватим созданное нами исключение ValueError внутри функции flatten_list_v1 с использованием оператора try в сочетании с except. Если внутри блока try возникнет исключение ValueError, то процесс выполнения кода перейдет в блок оператора except, для которого указано исключение ValueError:"
   ]
  },
  {
   "cell_type": "code",
   "execution_count": 33,
   "metadata": {},
   "outputs": [
    {
     "name": "stdout",
     "output_type": "stream",
     "text": [
      "Cyclic list is found\n"
     ]
    }
   ],
   "source": [
    "try:\n",
    "    print(flatten_list_v1(it_list_cyclic))\n",
    "except ValueError as e:\n",
    "    print(e)"
   ]
  },
  {
   "cell_type": "markdown",
   "metadata": {},
   "source": [
    "### 3.1 Доопределение функции flatten_it"
   ]
  },
  {
   "cell_type": "markdown",
   "metadata": {},
   "source": [
    "$\\color{Red}{Доопределим}$ пользовательскую функцию flatten_it, добавив генерацию исключения ValueError с помощью оператора raise при обработке циклических списков и циклических словарей."
   ]
  },
  {
   "cell_type": "code",
   "execution_count": 78,
   "metadata": {},
   "outputs": [],
   "source": [
    "def flatten_it(nested_obj, gen = False):\n",
    "    \"\"\"\n",
    "    Flattens all nested iterable objects except strings to first layer\n",
    "\n",
    "    Arguments:\n",
    "\n",
    "    nested_obj: any objects with something nested in them \n",
    "\n",
    "    gen: wether return list or gen obj;     gen = False\n",
    "\n",
    "    Returns: list if gen = False else gen obj\n",
    "    \"\"\"\n",
    "\n",
    "    def flatten_it_v1(nested_obj):\n",
    "        result = []\n",
    "        if hasattr(nested_obj, '__iter__') and not isinstance(nested_obj, str):\n",
    "            if isinstance(nested_obj, dict): \n",
    "                for i in nested_obj:\n",
    "                    if i == nested_obj:\n",
    "                        raise ValueError(\"Cyclic list is found\")\n",
    "                    else:\n",
    "                        yield from ([i] + flatten_it_v1(nested_obj[i]))\n",
    "            else: \n",
    "                for obj in nested_obj:\n",
    "                    if obj == nested_obj:\n",
    "                        raise ValueError(\"Cyclic list is found\")\n",
    "                    else:\n",
    "                        yield from flatten_it_v1(obj)\n",
    "        else: result += [nested_obj]\n",
    "        return result\n",
    "\n",
    "    def flatten_it_v2(nested_obj):\n",
    "        result = []\n",
    "        if hasattr(nested_obj, '__iter__') and not isinstance(nested_obj, str):\n",
    "            if isinstance(nested_obj, dict): \n",
    "                for i in nested_obj: \n",
    "                    if i == nested_obj:\n",
    "                        raise ValueError(\"Cyclic list is found\")\n",
    "                    else:\n",
    "                        result += [i] + flatten_it_v2(nested_obj[i])\n",
    "            else: \n",
    "                for item in nested_obj:\n",
    "                    if item == nested_obj:\n",
    "                        raise ValueError(\"Cyclic list is found\")\n",
    "                    else:\n",
    "                        result += flatten_it_v2(item)\n",
    "        else: result += [nested_obj]\n",
    "        return result\n",
    "\n",
    "\n",
    "    if gen: \n",
    "        return flatten_it_v1(nested_obj)\n",
    "    else: \n",
    "        return flatten_it_v2(nested_obj)"
   ]
  },
  {
   "cell_type": "markdown",
   "metadata": {},
   "source": [
    "Проверим:"
   ]
  },
  {
   "cell_type": "code",
   "execution_count": 79,
   "metadata": {},
   "outputs": [
    {
     "ename": "ValueError",
     "evalue": "Cyclic list is found",
     "output_type": "error",
     "traceback": [
      "\u001b[1;31m---------------------------------------------------------------------------\u001b[0m",
      "\u001b[1;31mValueError\u001b[0m                                Traceback (most recent call last)",
      "Cell \u001b[1;32mIn[79], line 1\u001b[0m\n\u001b[1;32m----> 1\u001b[0m flatten_it(it_list_cyclic)\n",
      "Cell \u001b[1;32mIn[78], line 54\u001b[0m, in \u001b[0;36mflatten_it\u001b[1;34m(nested_obj, gen)\u001b[0m\n\u001b[0;32m     52\u001b[0m     \u001b[38;5;28;01mreturn\u001b[39;00m flatten_it_v1(nested_obj)\n\u001b[0;32m     53\u001b[0m \u001b[38;5;28;01melse\u001b[39;00m: \n\u001b[1;32m---> 54\u001b[0m     \u001b[38;5;28;01mreturn\u001b[39;00m flatten_it_v2(nested_obj)\n",
      "Cell \u001b[1;32mIn[78], line 44\u001b[0m, in \u001b[0;36mflatten_it.<locals>.flatten_it_v2\u001b[1;34m(nested_obj)\u001b[0m\n\u001b[0;32m     42\u001b[0m \u001b[38;5;28;01mfor\u001b[39;00m item \u001b[38;5;129;01min\u001b[39;00m nested_obj:\n\u001b[0;32m     43\u001b[0m     \u001b[38;5;28;01mif\u001b[39;00m item \u001b[38;5;241m==\u001b[39m nested_obj:\n\u001b[1;32m---> 44\u001b[0m         \u001b[38;5;28;01mraise\u001b[39;00m \u001b[38;5;167;01mValueError\u001b[39;00m(\u001b[38;5;124m\"\u001b[39m\u001b[38;5;124mCyclic list is found\u001b[39m\u001b[38;5;124m\"\u001b[39m)\n\u001b[0;32m     45\u001b[0m     \u001b[38;5;28;01melse\u001b[39;00m:\n\u001b[0;32m     46\u001b[0m         result \u001b[38;5;241m+\u001b[39m\u001b[38;5;241m=\u001b[39m flatten_it_v2(item)\n",
      "\u001b[1;31mValueError\u001b[0m: Cyclic list is found"
     ]
    }
   ],
   "source": [
    "flatten_it(it_list_cyclic)"
   ]
  },
  {
   "cell_type": "code",
   "execution_count": 73,
   "metadata": {},
   "outputs": [
    {
     "data": {
      "text/plain": [
       "{1: 2, 2: {...}}"
      ]
     },
     "execution_count": 73,
     "metadata": {},
     "output_type": "execute_result"
    }
   ],
   "source": [
    "it_dict_cyclic = {1:2}\n",
    "it_dict_cyclic[2] = it_dict_cyclic\n",
    "it_dict_cyclic"
   ]
  },
  {
   "cell_type": "code",
   "execution_count": 80,
   "metadata": {},
   "outputs": [
    {
     "name": "stdout",
     "output_type": "stream",
     "text": [
      "Cyclic list is found\n"
     ]
    }
   ],
   "source": [
    "try:\n",
    "    flatten_it(it_list_cyclic)\n",
    "except ValueError as e:\n",
    "    print(e)"
   ]
  },
  {
   "cell_type": "code",
   "execution_count": 76,
   "metadata": {},
   "outputs": [
    {
     "data": {
      "text/plain": [
       "[[[1], [2, [3]], [[[[[4]]]]], 5, 6, 7],\n",
       " ((7, 8), 9, 10),\n",
       " 'abcdefgh',\n",
       " {'key1': 11, 'key2': {'key3': 12}},\n",
       " <generator object <genexpr> at 0x0000012B72EEBBC0>,\n",
       " [1],\n",
       " [2, [3]],\n",
       " [[[[[4]]]]],\n",
       " 5,\n",
       " 6,\n",
       " 7,\n",
       " [[1], [2, [3]], [[[[[4]]]]], 5, 6, 7, [...]],\n",
       " {1: 2, 2: {...}},\n",
       " [1],\n",
       " [2, [3]],\n",
       " [[[[[4]]]]],\n",
       " 5,\n",
       " 6,\n",
       " 7,\n",
       " [[1], [2, [3]], [[[[[4]]]]], 5, 6, 7, [...]],\n",
       " {1: 2, 2: {...}}]"
      ]
     },
     "execution_count": 76,
     "metadata": {},
     "output_type": "execute_result"
    }
   ],
   "source": [
    "it += it_list_cyclic + [it_dict_cyclic]; it"
   ]
  },
  {
   "cell_type": "code",
   "execution_count": 82,
   "metadata": {},
   "outputs": [
    {
     "name": "stdout",
     "output_type": "stream",
     "text": [
      "Cyclic list is found\n"
     ]
    }
   ],
   "source": [
    "try:\n",
    "    flatten_it(it)\n",
    "except ValueError as e:\n",
    "    print(e)"
   ]
  }
 ],
 "metadata": {
  "kernelspec": {
   "display_name": "base",
   "language": "python",
   "name": "python3"
  },
  "language_info": {
   "codemirror_mode": {
    "name": "ipython",
    "version": 3
   },
   "file_extension": ".py",
   "mimetype": "text/x-python",
   "name": "python",
   "nbconvert_exporter": "python",
   "pygments_lexer": "ipython3",
   "version": "3.11.5"
  }
 },
 "nbformat": 4,
 "nbformat_minor": 2
}
