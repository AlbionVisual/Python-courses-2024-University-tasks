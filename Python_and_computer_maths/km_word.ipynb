{
 "cells": [
  {
   "cell_type": "code",
   "execution_count": 1,
   "metadata": {},
   "outputs": [],
   "source": [
    "def flatten_list(nested_obj):\n",
    "    res = []\n",
    "    if isinstance(nested_obj, list):\n",
    "        assert nested_obj not in nested_obj, \"syclic object\"\n",
    "        for i in nested_obj:\n",
    "            res += flatten_list(i)\n",
    "    else: return [nested_obj]\n",
    "    return res"
   ]
  },
  {
   "cell_type": "code",
   "execution_count": 8,
   "metadata": {},
   "outputs": [
    {
     "name": "stdout",
     "output_type": "stream",
     "text": [
      "[1, 2, 3, 4, [1, 6, '4sfa', (1, 2, 4)], [13, 5, [1, 4]]]\n",
      "[1, 2, 3, 4, 1, 6, '4sfa', (1, 2, 4), 13, 5, 1, 4]\n"
     ]
    }
   ],
   "source": [
    "lst = [1,2,3,4, [1,6,'4sfa',(1,2,4)], [13,5,[1,4]]]\n",
    "print(lst)\n",
    "print(flatten_list(lst))"
   ]
  },
  {
   "cell_type": "code",
   "execution_count": 10,
   "metadata": {},
   "outputs": [
    {
     "name": "stdout",
     "output_type": "stream",
     "text": [
      "[1, 2, 3, [...], [1, 6, '4sfa', (1, 2, 4)], [13, 5, [1, 4]]]\n"
     ]
    },
    {
     "ename": "AssertionError",
     "evalue": "syclic object",
     "output_type": "error",
     "traceback": [
      "\u001b[1;31m---------------------------------------------------------------------------\u001b[0m",
      "\u001b[1;31mAssertionError\u001b[0m                            Traceback (most recent call last)",
      "Cell \u001b[1;32mIn[10], line 3\u001b[0m\n\u001b[0;32m      1\u001b[0m lst[\u001b[38;5;241m3\u001b[39m] \u001b[38;5;241m=\u001b[39m lst\n\u001b[0;32m      2\u001b[0m \u001b[38;5;28mprint\u001b[39m(lst)\n\u001b[1;32m----> 3\u001b[0m \u001b[38;5;28mprint\u001b[39m(flatten_list(lst))\n",
      "Cell \u001b[1;32mIn[1], line 4\u001b[0m, in \u001b[0;36mflatten_list\u001b[1;34m(nested_obj)\u001b[0m\n\u001b[0;32m      2\u001b[0m res \u001b[38;5;241m=\u001b[39m []\n\u001b[0;32m      3\u001b[0m \u001b[38;5;28;01mif\u001b[39;00m \u001b[38;5;28misinstance\u001b[39m(nested_obj, \u001b[38;5;28mlist\u001b[39m):\n\u001b[1;32m----> 4\u001b[0m     \u001b[38;5;28;01massert\u001b[39;00m nested_obj \u001b[38;5;129;01mnot\u001b[39;00m \u001b[38;5;129;01min\u001b[39;00m nested_obj, \u001b[38;5;124m\"\u001b[39m\u001b[38;5;124msyclic object\u001b[39m\u001b[38;5;124m\"\u001b[39m\n\u001b[0;32m      5\u001b[0m     \u001b[38;5;28;01mfor\u001b[39;00m i \u001b[38;5;129;01min\u001b[39;00m nested_obj:\n\u001b[0;32m      6\u001b[0m         res \u001b[38;5;241m+\u001b[39m\u001b[38;5;241m=\u001b[39m flatten_list(i)\n",
      "\u001b[1;31mAssertionError\u001b[0m: syclic object"
     ]
    }
   ],
   "source": [
    "lst[3] = lst\n",
    "print(lst)\n",
    "print(flatten_list(lst))"
   ]
  },
  {
   "cell_type": "code",
   "execution_count": 11,
   "metadata": {},
   "outputs": [
    {
     "name": "stdout",
     "output_type": "stream",
     "text": [
      "[1, 2, 3, [...], [1, 6, '4sfa', (1, 2, 4)], [13, 5, [1, 4]]]\n",
      "Error: syclic object\n"
     ]
    }
   ],
   "source": [
    "try:\n",
    "    print(lst)\n",
    "    print(flatten_list(lst))\n",
    "except AssertionError:\n",
    "    print('Error: syclic object')"
   ]
  },
  {
   "cell_type": "code",
   "execution_count": null,
   "metadata": {},
   "outputs": [],
   "source": []
  }
 ],
 "metadata": {
  "kernelspec": {
   "display_name": "base",
   "language": "python",
   "name": "python3"
  },
  "language_info": {
   "codemirror_mode": {
    "name": "ipython",
    "version": 3
   },
   "file_extension": ".py",
   "mimetype": "text/x-python",
   "name": "python",
   "nbconvert_exporter": "python",
   "pygments_lexer": "ipython3",
   "version": "3.11.5"
  }
 },
 "nbformat": 4,
 "nbformat_minor": 2
}
