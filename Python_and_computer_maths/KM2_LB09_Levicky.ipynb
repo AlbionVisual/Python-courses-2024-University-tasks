{
 "cells": [
  {
   "cell_type": "markdown",
   "id": "67c5e59e-7f29-466d-89d9-fc81c2ce0301",
   "metadata": {
    "tags": []
   },
   "source": [
    "# Лабораторная работа 9"
   ]
  },
  {
   "cell_type": "markdown",
   "id": "3f01bd28-66b8-4417-96e9-1646d73d678b",
   "metadata": {
    "tags": []
   },
   "source": [
    "Обход бинарного дерева поиска. Поиск\n",
    "максимального и минимального значений"
   ]
  },
  {
   "cell_type": "markdown",
   "id": "8ca433ea-fa95-43d5-951e-e0d5e0287e5c",
   "metadata": {},
   "source": [
    "Левицкий Я. А., июнь 2024"
   ]
  },
  {
   "cell_type": "markdown",
   "id": "118cc4c6-b197-41f5-b8e1-d5b850c845ea",
   "metadata": {
    "tags": []
   },
   "source": [
    "## Задание 9.1. Центрированный обход бинарного дерева поиска"
   ]
  },
  {
   "cell_type": "markdown",
   "id": "78c3699e-0d29-4587-9134-980a7d294c63",
   "metadata": {},
   "source": [
    "1. $\\color{red}{Доопределите~или~переопределите}$ классы BinaryTree , BinaryNode , EmptyNode из Лабораторной работы 8 за счет определения нового метода lcr(self) , реализующего центрированный обход бинарного дерева поиска."
   ]
  },
  {
   "cell_type": "markdown",
   "id": "5b586e64-2eab-4c44-a41d-41179e5f8c64",
   "metadata": {},
   "source": [
    "Результатом вызова метода lcr для экземпляра класса BinaryTree должен быть\n",
    "список значений вершин дерева, отсортированных по возрастанию."
   ]
  },
  {
   "cell_type": "code",
   "execution_count": 75,
   "id": "e6b273e5-5df8-4de8-8be5-e3d227ae1f95",
   "metadata": {
    "tags": []
   },
   "outputs": [],
   "source": [
    "class BinaryTree:   \n",
    "    def __init__(self):\n",
    "        self.root = EmptyNode()\n",
    "    def __repr__(self):\n",
    "        return repr(self.root)\n",
    "    def insert(self, value):\n",
    "        self.root = self.root.insert(value)   \n",
    "    def __contains__(self, value):\n",
    "        return value in self.root\n",
    "    def __len__(self):\n",
    "        return len(self.root)\n",
    "    def lcr(self):\n",
    "        return self.root.lcr()"
   ]
  },
  {
   "cell_type": "code",
   "execution_count": 76,
   "id": "0e70f5ed-3369-4b2a-af15-d36b00c829ef",
   "metadata": {
    "tags": []
   },
   "outputs": [],
   "source": [
    "class BinaryNode:\n",
    "    def __len__(self):\n",
    "        return 1 + len(self.left) + len(self.right) \n",
    "    def __init__(self, left, value, right):\n",
    "        self.left = left\n",
    "        self.value = value\n",
    "        self.right = right\n",
    "    def __repr__(self):\n",
    "        return f'({self.left}, {self.value}, {self.right})'\n",
    "    def insert(self, value):\n",
    "        if value < self.value:\n",
    "            self.left = self.left.insert(value)\n",
    "        elif value >= self.value:\n",
    "            self.right = self.right.insert(value)\n",
    "        return self\n",
    "    def __contains__(self, value):\n",
    "        if self.value == value: return True\n",
    "        elif value < self.value: return value in self.left\n",
    "        else: return value in self.right\n",
    "    def lcr(self):\n",
    "        ans = []\n",
    "        ans += self.left.lcr()\n",
    "        ans += [self.value]\n",
    "        ans += self.right.lcr()\n",
    "        return ans"
   ]
  },
  {
   "cell_type": "code",
   "execution_count": 77,
   "id": "04edb589-4cbb-41bd-9cd5-69c4a4dba7db",
   "metadata": {
    "tags": []
   },
   "outputs": [],
   "source": [
    "class EmptyNode:\n",
    "    def __repr__(self):\n",
    "        return '*'\n",
    "    def __len__(self):\n",
    "        return 0\n",
    "    def insert(self, value):\n",
    "        return BinaryNode(self, value, self)\n",
    "    def __contains__(self, value):\n",
    "        return False\n",
    "    def lcr(self):\n",
    "        return []"
   ]
  },
  {
   "cell_type": "markdown",
   "id": "8978d6f3-947d-473b-8151-65aa37432c63",
   "metadata": {
    "tags": []
   },
   "source": [
    "1. $\\color{red}{Создайте}$ список source_data из 10^3 случайных чисел, равномерно распределенных на отрезке [0, 100]. $\\color{red}{Постройте}$ бинарное дерево поиска по списку случайных чисел и $\\color{red}{выполните}$ центрированный обход дерева с помощью метода lcr."
   ]
  },
  {
   "cell_type": "markdown",
   "id": "2e95a3f0-c01e-45fb-9117-5eeff8e009e8",
   "metadata": {
    "tags": []
   },
   "source": [
    "1. $\\color{red}{Изобразите}$ график по точкам, ординаты которых заданы списком\n",
    "source_data . В этой же графической области $\\color{red}{изобразите}$ график\n",
    "по точкам, одинаты которых заданы списком, результатом центрированного\n",
    "обхода бинарного дерева поиска."
   ]
  },
  {
   "cell_type": "code",
   "execution_count": 78,
   "id": "1ee07ca7-c0c5-4bb0-9ffc-60ff1532a889",
   "metadata": {
    "tags": []
   },
   "outputs": [],
   "source": [
    "import matplotlib.pyplot as plt"
   ]
  },
  {
   "cell_type": "code",
   "execution_count": 2,
   "id": "401bf7da-5e3b-4535-9b81-763fc11b4abf",
   "metadata": {
    "tags": []
   },
   "outputs": [],
   "source": [
    "import random as rnd"
   ]
  },
  {
   "cell_type": "markdown",
   "id": "ade9dfb3-1f6b-483d-9ee7-8364d3e263dd",
   "metadata": {
    "tags": []
   },
   "source": [
    "Cоздадим список из 10^3 случайных чисел, равномерно распределенных на отрезке [0, 100], с помощью функции uniform из модуля random"
   ]
  },
  {
   "cell_type": "code",
   "execution_count": 3,
   "id": "557c7756-8f6c-4d78-8ffd-d497cae9beb2",
   "metadata": {
    "tags": []
   },
   "outputs": [],
   "source": [
    "source_data = [rnd.uniform(0,100) for i in range(10**3)]"
   ]
  },
  {
   "cell_type": "markdown",
   "id": "d7916858-e816-48aa-bcd7-59b85f244f67",
   "metadata": {},
   "source": [
    "Построим бинарное дерево поиска на основе списка source_data"
   ]
  },
  {
   "cell_type": "code",
   "execution_count": 4,
   "id": "940a9407-deda-4a4a-ac45-4c924d23a6ce",
   "metadata": {
    "tags": []
   },
   "outputs": [
    {
     "ename": "NameError",
     "evalue": "name 'BinaryTree' is not defined",
     "output_type": "error",
     "traceback": [
      "\u001b[1;31m---------------------------------------------------------------------------\u001b[0m",
      "\u001b[1;31mNameError\u001b[0m                                 Traceback (most recent call last)",
      "Cell \u001b[1;32mIn[4], line 1\u001b[0m\n\u001b[1;32m----> 1\u001b[0m tree \u001b[38;5;241m=\u001b[39m BinaryTree()\n\u001b[0;32m      2\u001b[0m \u001b[38;5;28;01mfor\u001b[39;00m i \u001b[38;5;129;01min\u001b[39;00m source_data:\n\u001b[0;32m      3\u001b[0m     tree\u001b[38;5;241m.\u001b[39minsert(i)\n",
      "\u001b[1;31mNameError\u001b[0m: name 'BinaryTree' is not defined"
     ]
    }
   ],
   "source": [
    "tree = BinaryTree()\n",
    "for i in source_data:\n",
    "    tree.insert(i)"
   ]
  },
  {
   "cell_type": "markdown",
   "id": "d23392a0-4ec6-4c24-a63f-828c8348333e",
   "metadata": {
    "tags": []
   },
   "source": [
    "Выполним центрированный обход созданного бинарного дерева tree"
   ]
  },
  {
   "cell_type": "code",
   "execution_count": 82,
   "id": "60e34b9c-3bfa-4542-94f8-4ccb8258d72f",
   "metadata": {
    "tags": []
   },
   "outputs": [],
   "source": [
    "sorted_data = tree.lcr()"
   ]
  },
  {
   "cell_type": "markdown",
   "id": "dfc1f18f-a08f-426a-b88d-9fb478112790",
   "metadata": {
    "tags": []
   },
   "source": [
    "Для проверки корректности обхода изобразим в одной графической области значения\n",
    "исходного списка и результирующего списка после обхода дерева"
   ]
  },
  {
   "cell_type": "code",
   "execution_count": 83,
   "id": "6f90f8fe-1cf0-4406-a793-e48c2a182d90",
   "metadata": {
    "tags": []
   },
   "outputs": [
    {
     "data": {
      "text/plain": [
       "<matplotlib.legend.Legend at 0x1dcb871df90>"
      ]
     },
     "execution_count": 83,
     "metadata": {},
     "output_type": "execute_result"
    },
    {
     "data": {
      "image/png": "[encoded data removed]",
      "text/plain": [
       "<Figure size 640x480 with 1 Axes>"
      ]
     },
     "metadata": {},
     "output_type": "display_data"
    }
   ],
   "source": [
    "plt.plot(source_data,'r.', label='Initial data')\n",
    "plt.plot(sorted_data,color='blue',label='Sorted data')\n",
    "plt.title('Sequences of numbers')\n",
    "plt.legend()"
   ]
  },
  {
   "cell_type": "markdown",
   "id": "49b0ce8c-d4ba-4abc-8966-80d80e7f1164",
   "metadata": {
    "tags": []
   },
   "source": [
    "## Задание 9.2. Нахождение минимального и максимального значения"
   ]
  },
  {
   "cell_type": "markdown",
   "id": "ece02c1b-ebd5-4004-944a-52fc67e1bbb4",
   "metadata": {
    "tags": []
   },
   "source": [
    "$\\color{red}{Доопределите~или~переопределите}$ классы BinaryTree , BinaryNode ,\n",
    "EmptyNode за счет определения методов min(self) и max(self) для нахождения\n",
    "минимального и максимального значений в дереве, соответственно."
   ]
  },
  {
   "cell_type": "markdown",
   "id": "5de59b53-b22d-42a4-8c21-843530bb5e64",
   "metadata": {
    "tags": []
   },
   "source": [
    "$\\color{red}{Протестируйте}$ корректность выполнения методов min и max для дерева tree ,\n",
    "созданного в Задании 9.1."
   ]
  },
  {
   "cell_type": "code",
   "execution_count": 16,
   "id": "b0a56874-5251-4957-b943-a152702f4b06",
   "metadata": {
    "tags": []
   },
   "outputs": [],
   "source": [
    "class BinaryTree:\n",
    "    def __init__(self):\n",
    "        self.root = EmptyNode()\n",
    "    def __repr__(self):\n",
    "        return repr(self.root)\n",
    "    def insert(self, value):\n",
    "        self.root = self.root.insert(value)     \n",
    "    def __contains__(self, value):\n",
    "        return value in self.root   \n",
    "    def __len__(self):\n",
    "        return len(self.root)\n",
    "    def lcr(self):\n",
    "        return self.root.lcr()\n",
    "    def min(self):\n",
    "        if isinstance(self.root, EmptyNode):\n",
    "            return None\n",
    "        else:\n",
    "            return self.root.min()\n",
    "    def max(self):\n",
    "        if isinstance(self.root, EmptyNode):\n",
    "            return None\n",
    "        else:\n",
    "            return self.root.max()"
   ]
  },
  {
   "cell_type": "code",
   "execution_count": 21,
   "id": "3ef8b0f7-5b61-4551-a4a1-8c56e5112d68",
   "metadata": {
    "tags": []
   },
   "outputs": [],
   "source": [
    "class BinaryNode:\n",
    "    def __init__(self, left, value, right):\n",
    "        self.left = left\n",
    "        self.value = value\n",
    "        self.right = right\n",
    "    def __repr__(self):\n",
    "        return f'({self.left}, {self.value}, {self.right})'\n",
    "    def insert(self, value):\n",
    "        if value < self.value:\n",
    "            self.left = self.left.insert(value)\n",
    "        else:\n",
    "            self.right = self.right.insert(value)\n",
    "        return self  \n",
    "    def __contains__(self, value):\n",
    "        return (value in self.left) or value == self.value or (value in self.right)  \n",
    "    def __len__(self):\n",
    "        return len(self.left) + len(self.right) + 1\n",
    "    def lcr(self):\n",
    "        ans = []\n",
    "        ans += self.left.lcr()\n",
    "        ans += [self.value]\n",
    "        ans += self.right.lcr()\n",
    "        return ans\n",
    "    def min(self):\n",
    "        if isinstance(self.left, EmptyNode):\n",
    "            return self.value\n",
    "        else:\n",
    "            return self.left.min()\n",
    "    def max(self):\n",
    "        if isinstance(self.left, EmptyNode):\n",
    "            return self.value\n",
    "        else:\n",
    "            return self.right.max()"
   ]
  },
  {
   "cell_type": "code",
   "execution_count": 22,
   "id": "ac0ab6c8-322d-4bb1-a73c-269c4d6fb92d",
   "metadata": {
    "tags": []
   },
   "outputs": [],
   "source": [
    "class EmptyNode:\n",
    "    def __repr__(self):\n",
    "        return '*'\n",
    "    def insert(self, value):\n",
    "        return BinaryNode(self, value, self)\n",
    "    def __contains__(self, value):\n",
    "        return False   \n",
    "    def __len__(self):\n",
    "        return 0\n",
    "    def lcr(self):\n",
    "        return []\n",
    "    def min(self):\n",
    "        return None\n",
    "    def max(self):\n",
    "        return None"
   ]
  },
  {
   "cell_type": "code",
   "execution_count": 23,
   "id": "86284762-97a1-4bd3-9d00-722bfa65b47f",
   "metadata": {
    "tags": []
   },
   "outputs": [],
   "source": [
    "tree = BinaryTree()\n",
    "for i in source_data:\n",
    "    tree.insert(i)"
   ]
  },
  {
   "cell_type": "code",
   "execution_count": 24,
   "id": "25f1693d-d819-48fb-826e-f2130003d666",
   "metadata": {
    "tags": []
   },
   "outputs": [
    {
     "name": "stdout",
     "output_type": "stream",
     "text": [
      "whaadaaaaaaaaaaaat\n"
     ]
    },
    {
     "data": {
      "text/plain": [
       "(0.0031433850945172814, 99.79167920143124)"
      ]
     },
     "execution_count": 24,
     "metadata": {},
     "output_type": "execute_result"
    }
   ],
   "source": [
    "tree.min(), tree.max()"
   ]
  },
  {
   "cell_type": "code",
   "execution_count": 10,
   "id": "1659d02f-4f55-472a-80aa-b2cf3f9bc4da",
   "metadata": {},
   "outputs": [
    {
     "data": {
      "text/plain": [
       "((((((((*, 0.0031433850945172814, *), 0.16411865903500633, ((*, 0.32629672971515866, *), 0.36960859515767774, *)), 0.36979948478974567, (*, 0.3724150103299073, ((*, 0.3792211516295829, *), 0.4074950477154671, (((*, 0.5377530907296646, *), 0.5425374381090364, ((*, 0.8236198797857308, *), 0.8613283471628486, *)), 0.9381018229281834, (*, 0.9403052111457644, *))))), 1.0268096905565183, (((((((*, 1.1640877498286128, *), 1.1867200313742776, *), 1.3065066278469706, (((*, 1.3234463209199854, *), 1.3263145184306824, (*, 1.3542588078101714, *)), 1.4467093741823311, *)), 1.5007448068875995, ((((*, 1.5562211426820793, *), 1.5821818503923613, *), 1.9260346200840939, (*, 2.3495878926338754, *)), 2.3797221430084448, (((*, 2.438187131423697, *), 2.9205029639834734, *), 3.281116608390111, (*, 3.357852144036255, *)))), 3.445860209560525, ((*, 3.4695231374413438, *), 3.5074476034775315, *)), 3.582959365008942, *), 3.5844917184088887, ((((((*, 3.6096131663200914, *), 3.6419764081654593, *), 3.651140830536237, ((*, 3.6927946147353063, (*, 3.795261028945529, *)), 3.8181345362321206, ((*, 3.834431585877729, (*, 3.9194794563755297, *)), 3.923402360585604, *))), 3.9406572969275744, *), 3.9646969582411207, (*, 3.9818950158928113, *)), 4.011785412398783, (*, 4.081131687065309, (*, 4.1397938282605296, *))))), 4.212741481717686, ((*, 4.259604859302746, (*, 4.367747589976256, *)), 4.7850226400866, (((((((*, 4.970283650626706, *), 4.985904836784871, (*, 5.068548666058071, *)), 5.198504577572216, ((*, 5.2619491584503075, *), 5.301824193005366, (*, 5.335849852198271, *))), 5.788419532499378, (*, 5.981025138615581, (*, 6.351443485768904, *))), 6.354718093335343, (((*, 6.457182571499143, *), 6.532912275921765, (*, 6.834851515769669, *)), 6.907177752961213, (((*, 7.032901987519146, *), 7.062361320007726, *), 7.072514715905087, ((*, 7.084001799603367, ((*, 7.376980299373514, *), 7.395014377443109, *)), 7.454403304917645, ((*, 7.500287084062396, (*, 7.5516740438709595, *)), 7.686472400400268, *))))), 7.8689063244165585, ((((*, 7.917329607630197, *), 7.958832996040877, (((*, 7.995869112783394, *), 8.182782950179067, (*, 8.188547570516269, *)), 8.277083568873977, (*, 8.296698341388941, *))), 8.531922624494282, ((*, 8.56190857352046, *), 8.621105409932106, *)), 8.693000236237403, (((((*, 8.9373635458319, ((*, 9.35460440603042, *), 9.3631110908738, (((*, 9.398823205475193, *), 9.40617026526972, *), 9.513212438854024, ((*, 9.616588448094399, *), 9.62494222388014, (*, 9.925144336305081, (*, 10.541911526426551, *)))))), 10.692693187201474, ((*, 10.926432077059257, *), 10.936356843047301, ((*, 10.988513700005464, *), 11.020148426743525, *))), 11.100836616327403, ((*, 11.114098083543766, *), 11.205273567450435, (((*, 11.394095757394718, *), 11.425617936314826, *), 11.578334775822741, (*, 11.590078535241688, *)))), 11.626262325051018, (((*, 11.732032967556528, *), 11.800383334224263, *), 11.83649766007122, *)), 11.944260517964766, (*, 12.099078707023914, (((*, 12.250651163380844, *), 12.265321927583607, (*, 12.442865460337371, *)), 12.466536881519797, (((*, 12.472886471778754, *), 12.557473128713326, *), 12.559901198705514, (((*, 12.568153068165856, *), 12.686928681120913, *), 12.808201109373696, (*, 12.960055677588066, *)))))))), 13.18003755665147, (((((*, 13.205741897345257, ((*, 13.273968435709238, *), 13.667984687003543, (((*, 13.85019379411495, *), 13.897664496032391, ((*, 14.074434310544548, *), 14.152304018271789, *)), 14.20502014771814, *))), 14.275108898658761, *), 14.456333223392814, (((((((*, 14.474394828245963, *), 14.566302261638098, (((*, 14.574937006191357, (*, 14.64976937428455, *)), 14.7405388524266, *), 14.775537464206302, (*, 14.777140560959234, (*, 14.847834356971534, (*, 15.015920242041258, *))))), 15.18829804036914, (*, 15.191813596874205, *)), 15.273286482773585, *), 15.314448777060186, ((((*, 15.469246364759359, *), 15.479897765538919, *), 15.620669848009683, ((((*, 15.659074904890335, *), 15.78743579762344, ((*, 15.904624383132681, *), 15.909346153280712, ((*, 15.924297541097932, *), 16.02738059601262, ((*, 16.08692011671071, *), 16.132734540904426, (*, 16.42417867079915, *))))), 16.45215157450972, ((*, 16.533603140247678, (*, 17.02117881465136, (*, 17.305704184835236, ((*, 17.698980946329502, *), 17.720824913579925, *)))), 17.740496204470258, (*, 17.982254213100457, *))), 18.066426689972126, (*, 18.10477414366186, *))), 18.135102997862784, *)), 18.317442495896096, (*, 18.423360003236834, ((*, 18.432958702563084, ((*, 18.462073109221265, *), 18.58747615149636, *)), 18.78164512940501, ((*, 18.840861345260652, *), 18.98890844968505, *)))), 19.037200814565423, (*, 19.03951966378832, ((((*, 19.373823488737663, *), 19.434558096431655, (*, 19.53380796242762, (*, 19.69320547564064, *))), 19.72113163069268, *), 19.874134864745564, *)))), 19.93204150205553, ((((*, 20.063808719998566, *), 20.193399817392642, *), 20.239762412629826, *), 20.34331345820948, (((*, 20.366907083817754, *), 20.46174233502065, *), 20.519133047333483, *))), 20.633332518533877, (((((*, 20.640233149454623, (*, 20.670380307921477, *)), 20.75404984276814, *), 20.762452626407068, *), 20.79742359795691, ((((*, 20.9759580213547, (*, 21.01537892175086, *)), 21.207889361423483, ((*, 21.521651861488202, (*, 21.53101412610119, *)), 21.61309814856407, (*, 21.62134749295347, *))), 21.70823149663076, *), 21.82425898500955, (((*, 22.24563367047594, *), 22.29998288149829, *), 22.305377372044553, *))), 22.41887658724292, (*, 22.49002427836161, (((*, 22.751601234535734, *), 22.79100726713391, *), 22.828051339578536, *))))))), 22.9046879023861, (((*, 23.0028884323078, (*, 23.252811411774776, *)), 23.28873172196192, (((((((*, 23.34285898834494, *), 23.343438909318216, (*, 23.382233972371324, *)), 23.417823963093287, (*, 23.945404138582283, (*, 23.96146491308696, *))), 24.180186517469448, (*, 24.28477737685445, *)), 24.311027208590865, *), 24.41075787615499, (((*, 24.418426387383896, ((*, 24.525127836208927, *), 24.528410019594048, (*, 24.688100923254986, *))), 24.751579652422826, *), 24.824351185842573, (*, 24.877862235035618, (*, 25.039009279190626, *)))), 25.44406804822681, ((*, 25.489778256237816, ((*, 25.715825041903983, *), 25.883369861548843, *)), 25.921290913914497, (((*, 25.98108529077159, *), 26.046256973150474, (((*, 26.16859578666474, *), 26.290659345044276, (*, 26.38224225892538, (*, 26.42499296627413, *))), 26.483611975341926, (*, 26.49690694773913, (*, 26.519529889080896, *)))), 26.573775499973983, (*, 26.58224807766787, (((*, 26.585848554508118, *), 26.635295480042497, *), 26.66254910629724, (*, 26.694552039588626, *))))))), 26.701731200426526, (((*, 26.773448225518493, *), 26.79810553058799, ((((((*, 26.89070433360532, *), 27.022537195740338, *), 27.100754440427146, *), 27.25750086084252, (((*, 27.47974908387858, *), 27.524702505511133, (*, 27.572000460657943, *)), 27.573902088677205, (*, 27.584195568591774, (*, 27.591581865872538, *)))), 27.67156881184181, (*, 27.672050640383972, (*, 27.69603155804553, ((((*, 27.721603209701527, *), 27.941223924376413, *), 27.99086374142279, *), 27.997415379847745, *)))), 28.04156619848557, ((*, 28.043912458675734, *), 28.143110430942297, *))), 28.377652756073036, ((*, 28.400286860136205, ((*, 28.440477614817084, (*, 28.444304326950554, *)), 28.57679695688192, *)), 28.738578913935843, *)))), 28.74437729060182, ((((*, 28.75969538262735, *), 28.79284779541641, ((*, 28.87252049252306, ((*, 29.0502926583024, ((*, 29.191440713761352, *), 29.218521346081626, (*, 29.242248436913933, (*, 29.332491565498763, (*, 29.42066918785934, (*, 29.53117079882357, *)))))), 29.775096771305897, ((*, 29.80559499398727, *), 29.843118909907375, (*, 29.860720202222712, (*, 29.86752032369784, *))))), 29.883761862292168, ((((((*, 29.912211338737084, *), 29.971841769201333, *), 30.012461328533824, (((*, 30.038810248748693, *), 30.068800369794, *), 30.09465191019536, (*, 30.323118178065435, *))), 30.39387337684759, (*, 30.411032507273283, *)), 30.422026511220178, (((*, 30.73991126454141, *), 30.750247020598653, *), 30.93953089505196, (*, 30.956462717426504, *))), 30.961494772332586, (((*, 31.01374835127101, *), 31.296580175745024, ((((((*, 31.416688135337477, *), 31.46329415377983, *), 31.783223576176244, *), 31.79587868563679, (*, 31.925391234729616, *)), 32.01443312592114, ((*, 32.0568674649787, (*, 32.077879073663794, *)), 32.31665904487831, *)), 32.356574269836614, *)), 32.38111211316153, (*, 32.422354771507734, (((*, 32.422992545464794, *), 32.71638717112618, ((*, 32.72023430089853, (*, 32.730864789525405, *)), 32.75639612611596, *)), 32.83954703046459, (((*, 33.16135635686778, *), 33.21071724286618, *), 33.470434858056784, *))))))), 33.51253096094109, ((((((*, 33.55730374145715, (*, 33.585476658049785, *)), 33.63357974482529, *), 33.679328506903005, (*, 33.88470968115711, *)), 34.00407149062086, (*, 34.26869167895876, ((((*, 34.39966044125988, *), 34.49077466926141, *), 34.67430855611619, ((*, 34.77498360699441, *), 34.91109344049275, (*, 35.08700649835045, ((*, 35.12201424909976, *), 35.15473304996648, (*, 35.1658474612904, (*, 35.22379818656144, *)))))), 35.28271091151942, ((*, 35.325133726810165, *), 35.97054499554567, (((*, 36.10495478118017, *), 36.27671853732858, (*, 36.393376695198434, *)), 36.64657381436229, ((((*, 36.65629324239895, *), 36.66970869706715, (*, 36.7802854534928, (*, 36.79583555559274, (*, 36.81920057636302, *)))), 36.85992307848868, ((((*, 36.9151619568627, *), 36.97344492804265, *), 37.177401165161385, (*, 37.21497276029647, *)), 37.28232958293333, *)), 37.32444741055664, *)))))), 37.38035940416087, ((*, 37.43393589872896, ((((*, 37.49538555942548, *), 37.497327642182064, *), 37.500390668218955, (*, 37.510751770544715, ((*, 37.67360075640133, *), 37.74701689453518, *))), 37.89974803551378, ((*, 38.02039216918157, *), 38.059433461066405, (*, 38.064942138144175, *)))), 38.09842247588031, (*, 38.26446213510574, (((*, 38.37201858309226, *), 38.372157569306, ((*, 38.56001959416096, (*, 38.85226943489788, *)), 39.07577168178042, *)), 39.13906549397197, *)))), 39.243013188017905, (((((*, 39.25231041721564, *), 39.27528802749688, (*, 39.321620058140084, *)), 39.37977824734396, *), 39.41793889914506, (((((((((*, 39.48011008882971, (*, 39.51225900002435, *)), 39.525541089562935, *), 39.59381499945776, ((*, 39.6510772948835, (*, 39.713955534575796, *)), 40.041543614571296, (*, 40.124963248034916, *))), 40.16780698326781, *), 40.41964419574374, (*, 40.543779992311535, (*, 40.57129868834406, *))), 40.57369848855499, ((*, 40.63177149845605, *), 40.72292958240338, (*, 40.73511047772875, (*, 40.74647736622661, (*, 41.12541876912075, *))))), 41.18915974718569, ((((*, 41.19904789898846, *), 41.25881197254727, (*, 41.340101963578924, *)), 41.46310682587351, *), 41.56028640599905, (((*, 41.75391384585897, *), 41.78458020493407, (*, 41.79627831699405, *)), 42.07385921260547, ((*, 42.08632886206476, (*, 42.19865274992796, ((((*, 42.2461113288149, *), 42.267441716203535, *), 42.45506349246055, *), 42.50478395134591, *))), 42.657897797804935, *)))), 42.75377534635385, (((*, 42.81842215047003, *), 42.877225427804575, *), 42.91207026683216, *)), 42.93343319077061, ((((*, 43.11203407734955, *), 43.22410273747829, ((*, 43.293168973184734, *), 43.32445820606543, *)), 43.36474635420478, *), 43.37209335301403, (((((*, 43.49289599642747, (((*, 43.52066831428687, *), 43.56495802403704, (*, 43.60369088422562, *)), 43.701275733473075, (*, 44.015757440305784, *))), 44.0925942185663, *), 44.24536353158508, (*, 44.542415013423586, (*, 44.56305926063128, (*, 44.68257539605488, *)))), 44.761125187701744, *), 44.80245276401031, ((*, 45.12419368646297, *), 45.16888441255471, ((*, 45.190588301162094, *), 45.324268277251235, (*, 45.39530197294079, *))))))), 45.439473150310796, (((*, 45.478282770286704, *), 45.48090513697298, ((((*, 45.50936317899593, (*, 45.58860032944975, *)), 45.59731684377204, *), 45.59884391707074, (*, 45.83178490436678, (*, 45.85154629759751, (*, 46.0484266306383, *)))), 46.087087815062446, *)), 46.12239010416266, (*, 47.042541961283604, (*, 47.15536147710273, *)))))), 47.1721379935488, ((((((*, 47.46570049570747, (*, 47.540082878327205, (*, 47.73042266338573, (*, 47.75313948566237, *)))), 47.82053257432547, ((((*, 48.05857782361925, (*, 48.0940998102125, *)), 48.165549610108485, (*, 48.401585661719004, *)), 48.513087553747404, ((*, 48.71460579124178, *), 49.21664525461586, (*, 49.30404947108941, *))), 49.30944209862322, (((((((*, 49.366758475745506, (*, 49.40547445029052, (*, 49.45738395079078, *))), 49.807610873999074, *), 49.88942727259463, (*, 49.9038589740633, *)), 49.923772519153346, ((*, 50.047045113737795, *), 50.20772884740205, (*, 50.21449647711539, *))), 50.3337315966436, (*, 50.39991720120642, *)), 50.53192226163847, (*, 50.57777694981136, *)), 50.756171090357086, *))), 50.88551810897383, (((((*, 50.94734546284499, *), 51.258499365099595, ((*, 51.26784376692286, (*, 51.35292571150865, *)), 51.364343088605025, *)), 51.376059862634534, ((*, 51.415159394602874, (*, 51.57807526692232, *)), 51.64086967478801, *)), 51.737442459495576, ((*, 51.79628808933945, *), 51.84092733347568, *)), 51.8743843225971, (((*, 51.90013823877474, *), 51.959650736708326, *), 51.99456463613097, (*, 52.11357150805931, *)))), 52.15244348390733, ((((*, 52.193722693465595, *), 52.287168594717215, (*, 52.35032463900783, (*, 52.67720504671129, *))), 52.68360466046072, (((((((((*, 52.70949566843078, (*, 53.04333385650185, *)), 53.5833822948381, *), 53.620799438929424, *), 53.899414274809445, ((*, 53.99736136814162, *), 54.034986935606796, *)), 54.118109927484696, (*, 54.475544409964996, (*, 54.5046145475777, *))), 54.63500871723102, ((*, 54.69378964455414, *), 54.701113567492776, *)), 54.71283969517224, (((*, 54.781114880545815, *), 54.86031994168656, ((*, 55.02466146864747, *), 55.09673282356452, ((*, 55.240390685035045, *), 55.32088652642825, (((*, 55.39701058396368, *), 55.44077805685501, (*, 55.50286267460665, (*, 55.55985181683227, *))), 55.674888346352326, *)))), 55.88088593823939, (((*, 55.921428732092124, *), 56.049544093523785, (*, 56.273515147968155, (*, 56.28183252427108, *))), 56.28622248520637, (*, 56.28685821560582, (*, 56.37547816306066, (*, 56.413028759745195, *)))))), 56.47940192358707, (((*, 56.540438905528575, *), 56.56630793186132, ((*, 56.88149467246871, *), 56.885819055962784, *)), 57.087296764246055, ((*, 57.10180013212999, *), 57.13371253119255, *))), 57.14081938028479, (*, 57.26369379112926, ((((*, 57.26920099339205, *), 57.2696426399437, *), 57.40820346673099, (((*, 57.61479147990263, *), 57.82582476124784, (*, 57.84908412052653, *)), 58.003189999096804, ((((*, 58.02287246238693, *), 58.04819697980985, *), 58.140331830507705, (*, 58.38811271293511, *)), 58.53364621671355, ((((((((*, 59.05272250555023, *), 59.14869754818467, *), 59.19470542510703, (*, 59.29018136696631, *)), 59.40726930082071, (*, 59.458652847185846, *)), 59.51220781435699, (*, 59.538543725276064, (*, 59.549079976527786, *))), 59.77191289228725, (*, 59.842699895379745, (*, 59.96786793547717, *))), 60.015265620412094, ((*, 60.05174750921064, *), 60.14404592316194, *)), 60.15654044147477, *)))), 60.182621007197945, (((*, 60.27580711902784, *), 60.39313906514732, ((*, 60.46575434310504, *), 60.5572876507656, *)), 60.648030481708645, ((*, 60.76905630818852, *), 61.01303741153817, ((*, 61.0518818839467, *), 61.11970307985833, ((*, 61.152457504161795, *), 61.26280502067812, *)))))))), 61.355657616872975, (((*, 61.37181798293413, (*, 61.447648171785254, *)), 61.47563333366054, *), 61.512107682398955, ((*, 61.76763647165323, *), 61.93657536435468, ((*, 62.164085870408215, *), 62.261418742484466, (*, 62.59302709184589, (*, 62.738606605147986, *))))))), 62.766825834608696, (((((((*, 62.952874563585745, *), 63.00267108774425, *), 63.18432835344356, *), 63.21543190294038, *), 63.257267381653456, (((*, 63.379160762230136, (*, 63.645085960788414, *)), 63.648072099280206, (*, 64.00145687652564, *)), 64.06593203740532, (((*, 64.11394348370642, *), 64.24872308226011, *), 64.34811645154684, *))), 64.40181808790614, *), 64.41536196628822, ((((*, 64.58944992243237, ((*, 65.10894753117825, (*, 65.37636547460448, *)), 65.41099615792697, ((((*, 65.58508151269544, (*, 65.9310494800371, *)), 65.99536306927274, (*, 66.0217906682018, *)), 66.07513316230718, ((*, 66.1626518579161, *), 66.31182570995466, *)), 66.41976468522071, *))), 66.49393903768271, *), 66.54377176218834, ((*, 66.58951094849131, *), 66.76027758099853, ((*, 66.86386587332964, *), 66.89501649147606, (*, 66.92566132708585, *)))), 67.06395018186775, ((((*, 67.24368606573579, *), 67.34208711122494, (*, 67.35049280532301, *)), 67.35882772154764, (((*, 67.37535974475136, (*, 67.46219652450891, *)), 67.50532221110053, ((*, 67.50961471609831, *), 67.51565190201445, *)), 67.55272745912184, (((*, 67.5642790912967, *), 67.60642625336821, (*, 67.65191950786847, (*, 67.73242881669113, *))), 67.94113523653697, *))), 68.07839338412428, ((*, 68.19690310767712, (*, 68.35447947993895, (*, 68.399452988778, *))), 68.46280758373207, ((((*, 68.50277000337232, *), 68.57372138633625, *), 68.69757710800485, (*, 68.7472757970873, ((*, 68.7606243100424, *), 68.78219821960062, *))), 68.8525880181393, ((((*, 69.13944083695048, *), 69.16132982942901, *), 69.401648172802, ((*, 69.50310008843172, *), 69.71059614816066, *)), 69.71277702072418, (((*, 69.7891743215044, (*, 69.94536189786167, (*, 70.04798419955355, *))), 70.0629586249757, *), 70.20745783282243, (((*, 70.21155132317499, *), 70.23049784294987, *), 70.27143788152026, (*, 70.31012979116119, *)))))))))), 70.38345242639222, ((((((*, 70.41966535308293, *), 70.42554146119319, *), 70.43459150686567, (*, 70.57450808113191, *)), 70.70301997285338, ((*, 70.75930567320081, *), 71.02010699820745, (*, 71.09197240803803, *))), 71.11716225799252, (*, 71.36652190300354, ((*, 71.48217217068186, (*, 71.56224800871128, (*, 71.5774975108001, (*, 71.88479799956825, *)))), 72.17748054863074, (((*, 72.23988064894357, (*, 72.29879404678837, *)), 72.35669861469366, (*, 72.4827584895701, *)), 72.66418216991084, ((*, 72.78697480256845, ((*, 72.83852291539942, *), 72.85674720836388, *)), 72.9070952212233, *))))), 72.9806146077831, (((*, 73.34855670820751, *), 73.36642137790963, *), 73.41570211444001, ((*, 73.4380390934955, (*, 73.45787266886698, (*, 73.64936147887721, *))), 73.71966208894985, (((*, 74.05640255761416, *), 74.18359903724875, *), 74.44053316049812, *))))))), 74.51485801258954, ((((*, 74.58244229355127, ((*, 74.68835288332315, *), 74.93905325472882, *)), 74.95681360146172, ((*, 75.07210097331007, *), 75.1531590530696, (((((*, 75.19668280901168, (*, 75.27625443314547, *)), 75.32258430460705, *), 75.32373658827541, ((*, 75.39548750750912, *), 75.55955641971026, *)), 75.64501698584083, *), 75.72299370132353, (*, 75.74474103950175, (*, 75.9171651254913, *))))), 75.92477641036821, ((((*, 76.2451644983016, *), 76.53544018911622, ((((*, 76.58072574105569, *), 76.80342857466394, *), 76.90502248871076, (*, 77.07041644834777, *)), 77.13562615594806, (*, 77.22359400258442, *))), 77.27316873850421, (((*, 77.39421793390152, (*, 77.41569735958147, *)), 77.60057042712705, (*, 77.69979139409605, *)), 77.76692590010938, ((*, 77.79011289139777, ((*, 77.81374570234159, *), 78.03360122766756, *)), 78.10816883789197, ((((*, 78.35287094753713, (*, 78.65724272805681, *)), 78.83753150805946, *), 78.87034220664142, *), 79.0195399558065, *)))), 79.10219003594544, ((*, 79.35557641822551, (*, 79.3956026920277, (*, 79.51087844858456, ((*, 79.63742663411907, *), 79.68417790093095, *)))), 79.89716302755313, (((*, 80.07721798312618, *), 80.11230521871659, (*, 80.11288883733536, *)), 80.3156224777905, (((*, 80.39647440097757, *), 80.55908039750726, (*, 80.71820748632712, *)), 80.7737705634588, (*, 80.95572418644777, *)))))), 80.96543938563475, (((((*, 81.18563195125826, (*, 81.22494751630211, ((*, 81.22863152214863, *), 81.31874160554939, *))), 81.35093790038448, (*, 81.41672196551117, ((*, 81.56730289146657, *), 81.60305072312617, ((*, 81.61384215997614, *), 81.72218360116456, *)))), 81.81551913214614, (*, 81.87984996317071, *)), 81.91308315488786, ((((*, 82.0317847745931, *), 82.16445839317454, (*, 82.46670319272651, *)), 82.48208405826199, ((*, 82.57591240230288, (((*, 82.68284243722432, *), 82.91177319832097, ((((*, 83.08182267255641, ((*, 83.10968006440172, *), 83.1299324373896, *)), 83.1502515468261, (*, 83.3730947364445, *)), 83.45435975272648, (((*, 83.46052894254444, *), 83.51176103856184, ((*, 83.55274072855426, (*, 83.61395738831135, *)), 83.6610230513906, (*, 83.73471853113284, *))), 83.80269671324669, (*, 84.18203101258712, *))), 84.211799626544, *)), 84.28020621379922, (*, 84.37340543910817, *))), 84.44276107734636, (((*, 84.53395115527886, (*, 84.61451607551808, *)), 84.66939044523131, (*, 84.70914057326728, *)), 84.74560801172318, (((*, 85.17544600527503, ((*, 85.22477840227725, *), 85.22813905966551, *)), 85.30697347958758, *), 85.41132818242578, ((*, 85.61289719662798, (*, 85.689240758553, *)), 85.70955389135405, (*, 86.07724120470954, ((*, 86.08575299183244, *), 86.16779811218126, *))))))), 86.17293396292483, ((*, 86.30691855661759, ((*, 86.43678579801299, *), 86.48850927690734, *)), 86.70580031614179, ((*, 86.72284082807609, ((((*, 86.7275068029185, *), 86.83195032580237, *), 87.07219255011387, *), 87.18798613054973, *)), 87.40626281308013, ((((*, 87.49283097590794, *), 87.5598340663281, ((*, 87.56616772588936, *), 87.75171294325862, (*, 87.76957550073665, (*, 87.82565164796156, *)))), 87.95572414824048, (*, 88.11234117520556, ((*, 88.11261710761976, *), 88.34641785377796, *))), 88.4279938739459, ((*, 88.4880665441419, *), 88.50409025654528, (*, 88.54932220720193, *))))))), 88.64792284574328, (((((((((*, 88.67093784200762, *), 88.70248996252296, *), 89.06432595758727, *), 89.32593865149029, ((*, 89.53610853405105, *), 89.61363522151036, *)), 89.69270195781817, (*, 89.69858865069634, *)), 89.82187927121448, ((*, 89.88043716387031, *), 90.05682147657085, ((((*, 90.06184390482059, (*, 90.26881939809311, *)), 90.49183416427195, *), 90.70623317665127, *), 90.71563026669601, *))), 90.87965696078884, ((*, 90.9424964444437, (((*, 90.9851053395719, ((((*, 91.02670235653883, *), 91.07857406114242, *), 91.18957790189432, *), 91.35784042100944, *)), 91.45844397387654, *), 91.60368537087686, (((*, 91.70462408045927, *), 91.74546458981045, *), 91.76258045445307, (*, 91.81204751122092, *)))), 91.81467855187934, (((*, 91.82409128705685, (((((*, 91.98469585250149, (*, 92.12649023362243, (*, 92.28898865144201, *))), 92.35600420498842, (*, 92.36928080795256, *)), 92.37026166156176, (*, 92.75497068832144, *)), 92.80075247165254, (((*, 92.80500202427795, *), 93.24941086299305, *), 93.55123581274518, ((((*, 93.62329392092067, *), 93.67308671634827, *), 93.76008825977826, *), 93.93224998881605, (*, 94.01496554443676, *)))), 94.02930157240841, (((*, 94.31845992621126, *), 94.3511776871378, (*, 94.47599008916403, *)), 94.59917064827906, (((*, 94.68302518854883, *), 94.69702887066872, *), 94.74488291153624, (*, 94.86612866729735, *))))), 94.9087837448036, ((*, 95.02317660001296, *), 95.03424618281008, ((*, 95.04417574804496, ((*, 95.1209376047011, *), 95.20847068842986, ((*, 95.33178664962185, *), 95.33248005315477, *))), 95.4635783866544, (*, 95.5822135760489, *)))), 95.70780284816655, *))), 95.89556210759291, (((*, 95.94432011208255, (*, 96.16933403234837, *)), 96.17560693894896, (*, 96.29642893344045, ((*, 96.78507565317189, *), 96.87852112205807, ((*, 97.31696056358713, (*, 97.33052192166308, *)), 97.38838270860441, *)))), 97.57092737905899, (((((*, 97.77584410386977, *), 97.87997056815031, ((*, 97.97614197838193, *), 98.01198772397696, *)), 98.12725910039813, (*, 98.19722079452801, (*, 98.29631820770247, *))), 98.3154106508765, (*, 98.4226136270008, *)), 98.4250191643498, (*, 98.69972701155764, ((*, 98.71926473021104, (*, 98.74457400182925, *)), 98.85792029943644, (((*, 98.88245112844301, *), 98.96245182235755, *), 98.9823932050888, (*, 99.30776813080848, (*, 99.3311717880463, *)))))))), 99.35064662921336, ((*, 99.35908766543507, *), 99.39519699589728, ((*, 99.58776153520297, (*, 99.63256736859155, (*, 99.63702994085057, *))), 99.74914847266261, (*, 99.79167920143124, (*, 99.96303512526431, *))))))))"
      ]
     },
     "execution_count": 10,
     "metadata": {},
     "output_type": "execute_result"
    }
   ],
   "source": [
    "tree"
   ]
  },
  {
   "cell_type": "code",
   "execution_count": null,
   "id": "8c6d4b92-97a9-42c4-abda-ccc6b9759126",
   "metadata": {},
   "outputs": [],
   "source": []
  },
  {
   "cell_type": "code",
   "execution_count": null,
   "id": "eefb4d8f-2076-447a-9ae5-cc35b7956777",
   "metadata": {},
   "outputs": [],
   "source": []
  },
  {
   "cell_type": "code",
   "execution_count": null,
   "id": "213c657d-004b-465b-8c72-7dc523bfd1c5",
   "metadata": {},
   "outputs": [],
   "source": []
  },
  {
   "cell_type": "code",
   "execution_count": null,
   "id": "249836a8-5bb6-415a-8e78-2b733e496caa",
   "metadata": {},
   "outputs": [],
   "source": []
  },
  {
   "cell_type": "code",
   "execution_count": null,
   "id": "2d4e48ec-1c5a-4de2-b848-8fe742df8fc7",
   "metadata": {},
   "outputs": [],
   "source": []
  }
 ],
 "metadata": {
  "kernelspec": {
   "display_name": "Python 3 (ipykernel)",
   "language": "python",
   "name": "python3"
  },
  "language_info": {
   "codemirror_mode": {
    "name": "ipython",
    "version": 3
   },
   "file_extension": ".py",
   "mimetype": "text/x-python",
   "name": "python",
   "nbconvert_exporter": "python",
   "pygments_lexer": "ipython3",
   "version": "3.11.5"
  }
 },
 "nbformat": 4,
 "nbformat_minor": 5
}
