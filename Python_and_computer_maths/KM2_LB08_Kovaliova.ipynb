{
 "cells": [
  {
   "cell_type": "markdown",
   "metadata": {},
   "source": [
    "# Лабораторная работа №8\n",
    "# Построение бинарного дерева поиска. Подсчет количества элементов в дереве"
   ]
  },
  {
   "cell_type": "markdown",
   "metadata": {},
   "source": [
    "Ковалёва Алина Андреевна, май 2024 г."
   ]
  },
  {
   "cell_type": "markdown",
   "metadata": {},
   "source": [
    "# Задание 8.1 Определение классов"
   ]
  },
  {
   "cell_type": "markdown",
   "metadata": {},
   "source": [
    "Бинарное дерево поиска будем описывать с помощью трех классов: BinaryTree, BinaryNode , EmptyNode , связанных друг с другом на основе композиции. Проектирование классов представлено в лекции к теме Бинарное дерево поиска. Реализация на основе ООП."
   ]
  },
  {
   "cell_type": "markdown",
   "metadata": {},
   "source": [
    "<span style='color:red'>Напишите</span> базовое определение классов BinaryTree, BinaryNode, EmptyNode на основе лекционных материалов.\n",
    "\n",
    "Базовое определение класса BinaryTree содержит метод инициализации \\_\\_init\\_\\_(self), метод строкового представления \\_\\_repr\\_\\_(self), метод вставки элемента в дерево insert(self, value).\n",
    "\n",
    "Базовое определение класса BinaryNode содержит метод инициализации \\_\\_init\\_\\_(self) и метод строкового представления \\_\\_repr\\_\\_(self).\n",
    "\n",
    "Базовое определение класса EmptyNode содержит метод строкового представления \\_\\_repr\\_\\_(self) и метод вставки элемента в дерево insert(self, value).\n",
    "\n",
    "<span style='color:red'>Напишите</span> комментарии для каждой строки кода в определении\n",
    "классов BinaryTree, BinaryNode, EmptyNode."
   ]
  },
  {
   "cell_type": "markdown",
   "metadata": {},
   "source": [
    "## 1.1 Проектирование класса BinaryTree "
   ]
  },
  {
   "cell_type": "markdown",
   "metadata": {},
   "source": [
    "Класс BinaryTree определяет шаблон для создания объекта, представляющего\n",
    "бинарное дерево поиска\n",
    "\n",
    "Определение класса BinaryTree содержит ТРИ метода: \\_\\_init\\_\\_ , \\_\\_repr\\_\\_ и\n",
    "insert.\n",
    "\n",
    "_Метод инициализации_ экземпляра класса \\_\\_init\\_\\_ вызывается без аргументов и инициализирует единственный атрибут экземпляра класса root экземпляром класса EmptyNode:"
   ]
  },
  {
   "cell_type": "code",
   "execution_count": 111,
   "metadata": {
    "tags": []
   },
   "outputs": [],
   "source": [
    "def __init__(self):\n",
    "    self.root = EmptyNode()"
   ]
  },
  {
   "cell_type": "markdown",
   "metadata": {},
   "source": [
    "Назначение атрибута root - это хранение ссылки на корень дерева\n",
    "\n",
    "_Метод строкового представления_ экземпляра класса \\_\\_repr\\_\\_ возвращает строковое представление для корня дерева root:"
   ]
  },
  {
   "cell_type": "code",
   "execution_count": 112,
   "metadata": {
    "tags": []
   },
   "outputs": [],
   "source": [
    "def __repr__(self):\n",
    "    return repr(self.root)"
   ]
  },
  {
   "cell_type": "markdown",
   "metadata": {},
   "source": [
    "Метод insert(value) является методом вставки в дерево НОВОГО элемента. Новый элемент всегда является листом со значением value.\n",
    "\n",
    "Метод вставки элемента в дерево реализуется через метод вставки элемента в корневую вершину дерева root. При этом атрибут root переопределяется ссылкой на новый объект для представления корня:"
   ]
  },
  {
   "cell_type": "code",
   "execution_count": 113,
   "metadata": {
    "tags": []
   },
   "outputs": [],
   "source": [
    "def insert(self, value):\n",
    "    self.root = self.root.insert(value)"
   ]
  },
  {
   "cell_type": "markdown",
   "metadata": {},
   "source": [
    "Определим класс BinaryTree:"
   ]
  },
  {
   "cell_type": "code",
   "execution_count": 114,
   "metadata": {
    "tags": []
   },
   "outputs": [],
   "source": [
    "class BinaryTree:  # Определение класса BinaryTree\n",
    "    def __init__(self):  # Определение конструктора класса\n",
    "        self.root = EmptyNode()  # Инициализация корневого узла пустым узлом\n",
    "\n",
    "    def __repr__(self):  # Определение метода __repr__ для представления объекта в виде строки\n",
    "        return repr(self.root)  # Возвращает строковое представление корневого узла\n",
    "\n",
    "    def insert(self, value):  # Определение метода для вставки значения в дерево\n",
    "        self.root = self.root.insert(value)  # Вставка значения в дерево и обновление корневого узла"
   ]
  },
  {
   "cell_type": "markdown",
   "metadata": {},
   "source": [
    "Создать экземпляр класса BinaryTree пока нельзя, так как не определен класс\n",
    "EmptyNode"
   ]
  },
  {
   "cell_type": "code",
   "execution_count": 115,
   "metadata": {},
   "outputs": [],
   "source": [
    "tree = BinaryTree()"
   ]
  },
  {
   "cell_type": "markdown",
   "metadata": {},
   "source": [
    "## 1.2 Проектирование класса BinaryNode "
   ]
  },
  {
   "cell_type": "markdown",
   "metadata": {},
   "source": [
    "Класс BinaryNode определяет шаблон для создания объекта, представляющего элемент бинарного дерева поиска.\n",
    "\n",
    "Определение класса BinaryNode содержит ТРИ метода: \\_\\_init\\_\\_, \\_\\_repr\\_\\_ и insert.\n",
    "\n",
    "_Метод инициализации_ экземпляра класса вызывается с тремя аргументами left, value и right для инициализации одноименных атрибутов экземпляра класса left, value и right соответствующими значениями"
   ]
  },
  {
   "cell_type": "code",
   "execution_count": 116,
   "metadata": {},
   "outputs": [],
   "source": [
    "def __init__(self, left, value, right):\n",
    "    self.left = left\n",
    "    self.value = value\n",
    "    self.right = right"
   ]
  },
  {
   "cell_type": "markdown",
   "metadata": {},
   "source": [
    "Назначение атрибута left -- это хранение ссылки на корень левого поддерева.\n",
    "\n",
    "Назначение атрибута right -- это хранение ссылки на корень правого поддерева.\n",
    "\n",
    "Назначение атрибута value -- это хранение значения вершины\n",
    "\n",
    "Метод строкового представления экземпляра класса \\_\\_repr\\_\\_ возвращает кортеж, состоящий из строкового представления корня левого поддерева left, из строкового представления значения value вершины и из строкового представления корня правого поддерева right"
   ]
  },
  {
   "cell_type": "code",
   "execution_count": 117,
   "metadata": {},
   "outputs": [],
   "source": [
    "def __repr__(self):\n",
    "    return f'({self.left}, {self.value}, {self.right})'"
   ]
  },
  {
   "cell_type": "markdown",
   "metadata": {},
   "source": [
    "Метод insert(value) является методом вставки в текущую вершину НОВОЙ вершины со значением value . Метод insert содержит основной алгоритм построения бинарного дерева поиска и будет определен позже"
   ]
  },
  {
   "cell_type": "code",
   "execution_count": 118,
   "metadata": {
    "tags": []
   },
   "outputs": [],
   "source": [
    "def insert(self, value):\n",
    "    pass"
   ]
  },
  {
   "cell_type": "markdown",
   "metadata": {},
   "source": [
    "Определим класс BinaryNode:"
   ]
  },
  {
   "cell_type": "code",
   "execution_count": 119,
   "metadata": {
    "tags": []
   },
   "outputs": [],
   "source": [
    "class BinaryNode:  # Определение класса BinaryNode\n",
    "    def __init__(self, left, value, right):  # Инициализация объекта класса BinaryNode\n",
    "        self.left = left  # Установка левого потомка узла\n",
    "        self.value = value  # Установка значения узла\n",
    "        self.right = right  # Установка правого потомка узла\n",
    "\n",
    "    def __repr__(self):  # Определение функции __repr__ для представления узла в виде строки\n",
    "        return f'({self.left}, {self.value}, {self.right})'  # Возвращение строки, представляющей узел\n",
    "\n",
    "    def insert(self, value):  # Определение функции вставки значения в узел\n",
    "        pass  # Пока что функция не реализована"
   ]
  },
  {
   "cell_type": "markdown",
   "metadata": {},
   "source": [
    "Создадим экземпляр класса BinaryNode:"
   ]
  },
  {
   "cell_type": "code",
   "execution_count": 120,
   "metadata": {},
   "outputs": [],
   "source": [
    "node = BinaryNode(None, 5, None)"
   ]
  },
  {
   "cell_type": "markdown",
   "metadata": {},
   "source": [
    "Сделаем вывод строкового представления для экземпляра класса BinaryNode:"
   ]
  },
  {
   "cell_type": "code",
   "execution_count": 121,
   "metadata": {},
   "outputs": [
    {
     "name": "stdout",
     "output_type": "stream",
     "text": [
      "(None, 5, None)\n"
     ]
    }
   ],
   "source": [
    "print(node)"
   ]
  },
  {
   "cell_type": "markdown",
   "metadata": {},
   "source": [
    "## 1.3 Проектирование класса EmptyNode"
   ]
  },
  {
   "cell_type": "markdown",
   "metadata": {},
   "source": [
    "Класс EmptyNode определяет шаблон для создания объекта, представляющего\n",
    "\"пустой\" элемент (вершину) бинарного дерева поиска без значения и без поддеревьев.\n",
    "Экземпляры класса EmptyNode будут использоваться для представления пустого\n",
    "дерева и пустых поддеревьев.\n",
    "\n",
    "Класс EmptyNode определяется ДВУМЯ методами: \\_\\_repr\\_\\_ и insert.\n",
    "\n",
    "_Метод инициализации_ экземпляра класса отсутствует, так как экземпляры класса EmptyNode не хранят никаких данных.\n",
    "\n",
    "_Метод строкового представления_ экземпляра класса \\_\\_repr\\_\\_ возвращает один символ *."
   ]
  },
  {
   "cell_type": "code",
   "execution_count": 122,
   "metadata": {},
   "outputs": [],
   "source": [
    "def __repr__(self):\n",
    "    return '*'"
   ]
  },
  {
   "cell_type": "markdown",
   "metadata": {},
   "source": [
    "Метод insert(value) является методом вставки в пустую вершину НОВОЙ вершины со значением value. Метод insert возвращает новый экземпляр класса BinaryNode со значением value. Левое и правое поддерево определяются ссылками на пустую вершину:"
   ]
  },
  {
   "cell_type": "code",
   "execution_count": 123,
   "metadata": {},
   "outputs": [],
   "source": [
    "def insert(self, value):\n",
    "    return BinaryNode(self, value, self)"
   ]
  },
  {
   "cell_type": "markdown",
   "metadata": {},
   "source": [
    "При вставке НОВОГО элемента в бинарное дерево поиска ссылка на экземпляр класса EmptyNode будет заменяться на ссылку на новый экземпляр класса BinaryNode.\n",
    "\n",
    "Экземпляр класса EmptyNode создается только один раз при создании экземпляра класса BinaryTree. Каждое пустое поддерево для экземпляров класса BinaryNode будет ссылаться на ЕДИНСТВЕННЫЙ экземпляр класса EmptyNode.\n",
    "\n",
    "Определим класс EmptyNode:"
   ]
  },
  {
   "cell_type": "code",
   "execution_count": 124,
   "metadata": {
    "tags": []
   },
   "outputs": [],
   "source": [
    "class EmptyNode:  # Определение класса EmptyNode\n",
    "    def __repr__(self):  # Определение функции __repr__ для представления узла в виде строки\n",
    "        return '*'  # Возвращение символа '*', представляющего пустой узел\n",
    "\n",
    "    def insert(self, value):  # Определение функции вставки значения в узел\n",
    "        return BinaryNode(self, value, self)  # Возвращение нового узла BinaryNode с вставленным значением"
   ]
  },
  {
   "cell_type": "markdown",
   "metadata": {},
   "source": [
    "Создадим экземпляр класса EmptyNode:"
   ]
  },
  {
   "cell_type": "code",
   "execution_count": 125,
   "metadata": {
    "tags": []
   },
   "outputs": [],
   "source": [
    "empty_node = EmptyNode()"
   ]
  },
  {
   "cell_type": "markdown",
   "metadata": {},
   "source": [
    "Сделаем вывод строкового представления для экземпляра класса EmptyNode:"
   ]
  },
  {
   "cell_type": "code",
   "execution_count": 126,
   "metadata": {
    "tags": []
   },
   "outputs": [
    {
     "name": "stdout",
     "output_type": "stream",
     "text": [
      "*\n"
     ]
    }
   ],
   "source": [
    "print(empty_node)"
   ]
  },
  {
   "cell_type": "markdown",
   "metadata": {},
   "source": [
    "Создадим экземпляр класса BinaryTree:"
   ]
  },
  {
   "cell_type": "code",
   "execution_count": 127,
   "metadata": {
    "tags": []
   },
   "outputs": [],
   "source": [
    "tree = BinaryTree()"
   ]
  },
  {
   "cell_type": "markdown",
   "metadata": {},
   "source": [
    "Бинарное дерево поиска пусто, корень представлен экземпляром класса EmptyNode .\n",
    "Пустое дерево выводится с помощью символа *"
   ]
  },
  {
   "cell_type": "code",
   "execution_count": 128,
   "metadata": {
    "tags": []
   },
   "outputs": [
    {
     "name": "stdout",
     "output_type": "stream",
     "text": [
      "*\n"
     ]
    }
   ],
   "source": [
    "print(tree)"
   ]
  },
  {
   "cell_type": "markdown",
   "metadata": {},
   "source": [
    "Вставим в дерево новый элемент со значением 10:"
   ]
  },
  {
   "cell_type": "code",
   "execution_count": 129,
   "metadata": {
    "tags": []
   },
   "outputs": [],
   "source": [
    "tree.insert(10)"
   ]
  },
  {
   "cell_type": "markdown",
   "metadata": {},
   "source": [
    "Сделаем вывод дерева:"
   ]
  },
  {
   "cell_type": "code",
   "execution_count": 130,
   "metadata": {
    "tags": []
   },
   "outputs": [
    {
     "name": "stdout",
     "output_type": "stream",
     "text": [
      "(*, 10, *)\n"
     ]
    }
   ],
   "source": [
    "print(tree)"
   ]
  },
  {
   "cell_type": "markdown",
   "metadata": {},
   "source": [
    "# Задание 8.2 Метод вставки элемента в бинарное дерево поиска"
   ]
  },
  {
   "cell_type": "markdown",
   "metadata": {},
   "source": [
    "<span style='color:red;'>Переопределите</span> класс BinaryNode за счет определения метода вставки insert(self, value) . Рекомендации по выполнению представлены в лекции к теме Бинарное дерево поиска. Реализация на основе ООП."
   ]
  },
  {
   "cell_type": "code",
   "execution_count": 131,
   "metadata": {
    "tags": []
   },
   "outputs": [],
   "source": [
    "class BinaryTree:\n",
    "    def __init__(self):\n",
    "        self.root = EmptyNode()\n",
    "\n",
    "    def __repr__(self):\n",
    "        return repr(self.root)\n",
    "\n",
    "    def insert(self, value):\n",
    "        self.root = self.root.insert(value) "
   ]
  },
  {
   "cell_type": "code",
   "execution_count": 132,
   "metadata": {
    "tags": []
   },
   "outputs": [],
   "source": [
    "class BinaryNode:\n",
    "    def __init__(self, left, value, right):\n",
    "        self.left = left\n",
    "        self.value = value\n",
    "        self.right = right\n",
    "\n",
    "    def __repr__(self):\n",
    "        return f'({self.left}, {self.value}, {self.right})'\n",
    "\n",
    "    def insert(self, value):\n",
    "        if value < self.value:\n",
    "            self.left = self.left.insert(value)\n",
    "        else:\n",
    "            self.right = self.right.insert(value)\n",
    "        return self"
   ]
  },
  {
   "cell_type": "code",
   "execution_count": 133,
   "metadata": {
    "tags": []
   },
   "outputs": [],
   "source": [
    "class EmptyNode:\n",
    "    def __repr__(self):\n",
    "        return '*'\n",
    "\n",
    "    def insert(self, value):\n",
    "        return BinaryNode(self, value, self)"
   ]
  },
  {
   "cell_type": "markdown",
   "metadata": {},
   "source": [
    "<span style='color:red'>Протестируйте</span> корректность построения бинарного дерева поиска на основе вставки в дерево элементов некоторого итерируемого объекта. При этом важно, чтобы для элементов итерируемого объекта были определены операции сравнения. Приведём три примера построения бинарного дерева поиска на основе итерируемых объектов различных типов (например, str, range, list)."
   ]
  },
  {
   "cell_type": "code",
   "execution_count": 134,
   "metadata": {
    "tags": []
   },
   "outputs": [
    {
     "name": "stdout",
     "output_type": "stream",
     "text": [
      "((*, a, *), h, (*, t, (*, z, *)))\n"
     ]
    }
   ],
   "source": [
    "stringTree = BinaryTree()\n",
    "stringTree.insert('h')\n",
    "stringTree.insert('t')\n",
    "stringTree.insert('a')\n",
    "stringTree.insert('z')\n",
    "print(stringTree)"
   ]
  },
  {
   "cell_type": "code",
   "execution_count": 135,
   "metadata": {
    "tags": []
   },
   "outputs": [
    {
     "name": "stdout",
     "output_type": "stream",
     "text": [
      "(((*, -4, *), 0, *), 5, (*, 7, (*, 9, (*, 19, *))))\n"
     ]
    }
   ],
   "source": [
    "numTree = BinaryTree()\n",
    "numTree.insert(5)\n",
    "numTree.insert(7)\n",
    "numTree.insert(9)\n",
    "numTree.insert(0)\n",
    "numTree.insert(-4)\n",
    "numTree.insert(19)\n",
    "print(numTree)"
   ]
  },
  {
   "cell_type": "code",
   "execution_count": 136,
   "metadata": {
    "tags": []
   },
   "outputs": [
    {
     "name": "stdout",
     "output_type": "stream",
     "text": [
      "((*, (0, 7), (*, (0, 7), *)), (1, 2), (*, (2, 56), *))\n"
     ]
    }
   ],
   "source": [
    "tupleTree = BinaryTree()\n",
    "tupleTree.insert((1,2))\n",
    "tupleTree.insert((0,7))\n",
    "tupleTree.insert((0,7))\n",
    "tupleTree.insert((2,56))\n",
    "print(tupleTree)"
   ]
  },
  {
   "cell_type": "markdown",
   "metadata": {},
   "source": [
    "# Задание 8.3 Построение бинарного дерева поиска"
   ]
  },
  {
   "cell_type": "markdown",
   "metadata": {},
   "source": [
    "$\\color{red}{Прочитайте}$ числовые данные, записанные в файлы, и $\\color{red}{постройте}$ на основании этих данных бинарные деревья поиска."
   ]
  },
  {
   "cell_type": "markdown",
   "metadata": {},
   "source": [
    "Файл первого пункта выглядит так:"
   ]
  },
  {
   "cell_type": "code",
   "execution_count": null,
   "metadata": {},
   "outputs": [],
   "source": [
    "with open('digits_column.txt', 'r') as f:\n",
    "    for line in f: print(line, end='')"
   ]
  },
  {
   "cell_type": "markdown",
   "metadata": {},
   "source": [
    "Запишем в дерево:"
   ]
  },
  {
   "cell_type": "code",
   "execution_count": 21,
   "metadata": {},
   "outputs": [
    {
     "data": {
      "text/plain": [
       "((((((*, 0, *), 1, (*, 1, (*, 1, (*, 1, (*, 1, (*, 1, (*, 1, (*, 1, (*, 1, *))))))))), 2, ((*, 2, ((*, 2, (*, 2, ((*, 2, (*, 2, (*, 2, (*, 2, (*, 3, *))))), 4, *))), 5, (*, 5, (*, 6, (*, 6, *))))), 7, (((*, 7, (*, 7, *)), 8, (*, 8, (*, 8, (*, 8, *)))), 9, (*, 9, ((*, 9, ((*, 9, (*, 9, *)), 11, (*, 14, (*, 14, *)))), 18, ((*, 19, *), 29, *)))))), 30, (((((((*, 32, *), 42, ((*, 43, *), 44, (*, 63, (*, 67, (*, 67, *))))), 71, (((*, 71, *), 79, *), 80, ((*, 84, *), 95, *))), 102, ((*, 108, ((*, 117, *), 162, *)), 208, ((*, 238, *), 241, (*, 252, *)))), 257, ((((*, 287, *), 291, ((*, 387, *), 467, *)), 677, (*, 694, (*, 701, (((*, 804, *), 805, *), 807, *)))), 864, (*, 914, *))), 1512, ((((*, 1621, *), 2052, (((*, 3681, *), 3814, (*, 3880, *)), 4105, *)), 4459, (((*, 4617, (*, 5173, *)), 5675, (((*, 5747, *), 6352, (*, 6523, *)), 6587, ((((*, 6909, *), 7153, *), 7298, ((*, 7544, (*, 7695, *)), 8242, (*, 8274, (*, 8446, *)))), 8791, *))), 9856, (*, 16327, *))), 22212, (*, 23765, ((*, 27250, *), 28075, ((*, 31309, (*, 40132, *)), 42560, *))))), 48644, ((*, 51289, *), 52300, (((*, 52614, *), 52942, *), 54147, *)))), 56163, ((((*, 57502, *), 57612, *), 60529, *), 61007, ((*, 63349, *), 66629, *))), 76372, (((*, 79286, *), 79370, *), 80023, ((*, 84320, *), 90695, ((*, 90897, *), 92996, *))))"
      ]
     },
     "execution_count": 21,
     "metadata": {},
     "output_type": "execute_result"
    }
   ],
   "source": [
    "numbers = BinaryTree()\n",
    "with open('digits_column.txt', 'r') as f:\n",
    "    for line in f:\n",
    "        num = int(line.strip('\\n'))\n",
    "        numbers.insert(num)\n",
    "numbers"
   ]
  },
  {
   "cell_type": "markdown",
   "metadata": {},
   "source": [
    "Файл для второго пункта выглядит так:"
   ]
  },
  {
   "cell_type": "code",
   "execution_count": 22,
   "metadata": {},
   "outputs": [
    {
     "name": "stdout",
     "output_type": "stream",
     "text": [
      "450 20722 0979 6918 5 24 06307 4470 2 16 43654 18484 180 59455 2\n",
      "0 6 6709 51 11 7 56943 3 62 4903 4393 1341 2 6 547\n",
      "240 8 9 83934 2625 27166 07633 94244 6690 40 4 473 034 15 71157\n",
      "666 9111 49100 62 73 6617 403 6 454 64 793 3590 8680 5 444\n",
      "7971 682 7 0 59 11 34 68 425 4 192 73 448 7 94045\n",
      "344 0 99 633 61077 6413 89144 252 738 1 236 67514 743 7814 9\n",
      "7044 97674 22 8126 124 9460 87 93483 56578 65525 1948 1 8031 4 31\n",
      "1 73 2 658 634 65939 4165 0 74565 1 51601 134 223 87971 275\n",
      "420 5576 437 82 485 13862 26 97846 54 2364 9 8982 6682 68 0\n"
     ]
    }
   ],
   "source": [
    "with open('digits_equal_rows.txt', 'r') as f:\n",
    "    for line in f: print(line, end='')"
   ]
  },
  {
   "cell_type": "markdown",
   "metadata": {},
   "source": [
    "Запишем в дерево:"
   ]
  },
  {
   "cell_type": "code",
   "execution_count": 23,
   "metadata": {},
   "outputs": [
    {
     "data": {
      "text/plain": [
       "((((*, 0, (*, 0, (*, 0, ((*, 0, (*, 0, *)), 1, (*, 1, (*, 1, (*, 1, *))))))), 2, (*, 2, ((*, 2, (*, 2, *)), 3, (*, 4, (*, 4, (*, 4, *)))))), 5, ((((*, 5, *), 6, (((*, 6, (*, 6, *)), 7, ((*, 7, (*, 7, *)), 8, (*, 9, (*, 9, (*, 9, *))))), 11, ((*, 11, *), 15, *))), 16, (*, 22, *)), 24, ((((((*, 26, *), 31, *), 34, (*, 34, *)), 40, *), 51, (((*, 54, *), 59, *), 62, (*, 62, ((*, 64, (*, 68, (*, 68, *))), 73, (*, 73, (((*, 73, (*, 82, *)), 87, *), 99, (*, 124, (*, 134, *)))))))), 180, ((*, 192, ((*, 223, *), 236, *)), 240, (((*, 252, (*, 275, *)), 344, *), 403, (((*, 420, *), 425, (*, 437, *)), 444, (*, 448, *))))))), 450, (((((*, 454, *), 473, (*, 485, *)), 547, ((*, 633, ((*, 634, *), 658, *)), 666, ((*, 682, (*, 738, (*, 743, *))), 793, *))), 979, (((((*, 1341, ((*, 1948, (*, 2364, *)), 2625, (*, 3590, (*, 4165, *)))), 4393, *), 4470, (*, 4903, (*, 5576, *))), 6307, ((((*, 6413, *), 6617, (*, 6682, *)), 6690, *), 6709, *)), 6918, (((*, 7044, *), 7633, ((((*, 7814, *), 7971, ((*, 8031, *), 8126, *)), 8680, (*, 8982, *)), 9111, (*, 9460, (*, 13862, *)))), 18484, *))), 20722, ((*, 27166, *), 43654, (((*, 49100, ((*, 51601, *), 56578, *)), 56943, *), 59455, (((*, 61077, ((*, 65525, (*, 65939, *)), 67514, *)), 71157, (*, 74565, *)), 83934, ((((*, 87971, *), 89144, (*, 93483, *)), 94045, *), 94244, (*, 97674, (*, 97846, *))))))))"
      ]
     },
     "execution_count": 23,
     "metadata": {},
     "output_type": "execute_result"
    }
   ],
   "source": [
    "numbers = BinaryTree()\n",
    "with open('digits_equal_rows.txt', 'r') as f:\n",
    "    for line in f:\n",
    "        nums = line.strip('\\n').split()\n",
    "        for el in nums: numbers.insert(int(el))\n",
    "numbers"
   ]
  },
  {
   "cell_type": "code",
   "execution_count": 24,
   "metadata": {},
   "outputs": [
    {
     "data": {
      "text/plain": [
       "((((*, 0, (*, 0, (*, 0, ((*, 0, (*, 0, *)), 1, (*, 1, (*, 1, (*, 1, *))))))), 2, (*, 2, ((*, 2, (*, 2, *)), 3, (*, 4, (*, 4, (*, 4, *)))))), 5, ((((*, 5, *), 6, (((*, 6, (*, 6, *)), 7, ((*, 7, (*, 7, *)), 8, (*, 9, (*, 9, (*, 9, *))))), 11, ((*, 11, *), 15, *))), 16, (*, 22, *)), 24, ((((((*, 26, *), 31, *), 34, (*, 34, *)), 40, *), 51, (((*, 54, *), 59, *), 62, (*, 62, ((*, 64, (*, 68, (*, 68, *))), 73, (*, 73, (((*, 73, (*, 82, *)), 87, *), 99, (*, 124, (*, 134, *)))))))), 180, ((*, 192, ((*, 223, *), 236, *)), 240, (((*, 252, (*, 275, *)), 344, *), 403, (((*, 420, *), 425, (*, 437, *)), 444, (*, 448, *))))))), 450, (((((*, 454, *), 473, (*, 485, *)), 547, ((*, 633, ((*, 634, *), 658, *)), 666, ((*, 682, (*, 738, (*, 743, *))), 793, *))), 979, (((((*, 1341, ((*, 1948, (*, 2364, *)), 2625, (*, 3590, (*, 4165, *)))), 4393, *), 4470, (*, 4903, (*, 5576, *))), 6307, ((((*, 6413, *), 6617, (*, 6682, *)), 6690, *), 6709, *)), 6918, (((*, 7044, *), 7633, ((((*, 7814, *), 7971, ((*, 8031, *), 8126, *)), 8680, (*, 8982, *)), 9111, (*, 9460, (*, 13862, *)))), 18484, *))), 20722, ((*, 27166, *), 43654, (((*, 49100, ((*, 51601, *), 56578, *)), 56943, *), 59455, (((*, 61077, ((*, 65525, (*, 65939, *)), 67514, *)), 71157, (*, 74565, *)), 83934, ((((*, 87971, *), 89144, (*, 93483, *)), 94045, *), 94244, (*, 97674, (*, 97846, *))))))))"
      ]
     },
     "execution_count": 24,
     "metadata": {},
     "output_type": "execute_result"
    }
   ],
   "source": [
    "numbers = BinaryTree()\n",
    "with open('digits_equal_rows.txt', 'r') as f:\n",
    "    for line in f:\n",
    "        nums = line.strip('\\n').split()\n",
    "        for el in nums: numbers.insert(int(el))\n",
    "numbers"
   ]
  },
  {
   "cell_type": "markdown",
   "metadata": {},
   "source": [
    "Файл для третьего пункта выглядит так:"
   ]
  },
  {
   "cell_type": "code",
   "execution_count": 25,
   "metadata": {
    "tags": []
   },
   "outputs": [
    {
     "name": "stdout",
     "output_type": "stream",
     "text": [
      "5000 4 45520 7 778 73418\n",
      "5389 926 7998 58805 798 32579\n",
      "3 68 11868 78222 654 674 263 6 0057 26 9330\n",
      "116 476 060 59791 499 32615 84804 39677\n",
      "0 9 0 93 6390 15537 8042 03 1949 4 29\n",
      "9\n",
      "048 0 5 1 9 8 6\n",
      "132\n",
      "781 40 6548 560 688 74 8822 56115\n",
      "9666 6 62120 46104 4441 25538 68264\n",
      "19766 82 28080 809\n",
      "7301 5226 4065 7835 6782 43401 0651 35 99 7 2 902 3 0377\n",
      "00555 3 1 34124 4 7389 7 575 6 0558 77 2 64 3 70476\n",
      "16\n",
      "7517 60 4 258 84887 155 9 0075\n",
      "66 1611 8841 69 19 97 16 07685 684\n",
      "00 7 721 4338 532\n",
      "01 9 9070\n",
      "4 59 7 61 7740 62 8 784\n",
      "1 364 05 10 20737 098 2 76477 1127 44 94 709\n"
     ]
    }
   ],
   "source": [
    "with open('digits.txt', 'r') as f:\n",
    "    for line in f: print(line, end='')"
   ]
  },
  {
   "cell_type": "markdown",
   "metadata": {},
   "source": [
    "Считаем файл и поместим данные в дерево:"
   ]
  },
  {
   "cell_type": "code",
   "execution_count": 26,
   "metadata": {
    "tags": []
   },
   "outputs": [],
   "source": [
    "numbers = BinaryTree()\n",
    "with open('digits.txt', 'r') as f:\n",
    "    for line in f:\n",
    "        nums = line.strip('\\n').split()\n",
    "        for el in nums: numbers.insert(int(el))"
   ]
  },
  {
   "cell_type": "code",
   "execution_count": 27,
   "metadata": {
    "tags": []
   },
   "outputs": [
    {
     "data": {
      "text/plain": [
       "((((*, 0, (*, 0, (*, 0, ((*, 0, *), 1, ((*, 1, (*, 1, (*, 1, *))), 2, (*, 2, (*, 2, *))))))), 3, (*, 3, (*, 3, (*, 3, (*, 3, *))))), 4, (((*, 4, ((*, 4, (*, 4, (*, 4, *))), 5, (*, 5, *))), 6, (*, 6, (*, 6, (*, 6, *)))), 7, (((((((*, 7, (*, 7, (*, 7, (*, 7, *)))), 8, (*, 8, *)), 9, (*, 9, (*, 9, ((*, 9, (*, 9, (*, 10, *))), 16, ((*, 16, *), 19, *))))), 26, (*, 29, (((*, 35, *), 40, (*, 44, *)), 48, *))), 57, ((*, 59, *), 60, ((*, 60, (*, 61, (*, 62, *))), 64, (*, 66, *)))), 68, ((((((*, 69, *), 74, (((*, 75, *), 77, *), 82, *)), 93, (((*, 94, *), 97, (*, 98, *)), 99, *)), 116, (*, 132, ((*, 155, *), 258, *))), 263, (((*, 364, *), 377, *), 476, (*, 499, (((*, 532, *), 555, (*, 558, *)), 560, ((*, 575, *), 651, *))))), 654, (*, 674, ((*, 684, *), 688, ((*, 709, *), 721, *))))), 778, (((*, 781, (*, 784, *)), 798, (*, 809, (*, 902, *))), 926, (((*, 1127, *), 1611, *), 1949, ((*, 4065, (*, 4338, *)), 4441, *)))))), 5000, (((*, 5226, *), 5389, ((*, 6390, (*, 6548, ((*, 6782, *), 7301, ((*, 7389, (*, 7517, (*, 7685, (*, 7740, *)))), 7835, *)))), 7998, ((((*, 8042, (*, 8822, (*, 8841, (*, 9070, *)))), 9330, (*, 9666, *)), 11868, (*, 15537, ((*, 19766, (*, 20737, *)), 25538, (*, 28080, *)))), 32579, (*, 32615, ((*, 34124, *), 39677, (*, 43401, *)))))), 45520, ((((*, 46104, *), 56115, *), 58805, (*, 59791, (*, 62120, (*, 68264, (*, 70476, *))))), 73418, ((*, 76477, *), 78222, (*, 84804, (*, 84887, *))))))"
      ]
     },
     "execution_count": 27,
     "metadata": {},
     "output_type": "execute_result"
    }
   ],
   "source": [
    "numbers"
   ]
  },
  {
   "cell_type": "markdown",
   "metadata": {},
   "source": [
    "Этот код будет работать в случае если все числа расположены в столбец или в каждой строке будет одинаковое кол-во символов.\n",
    "\n",
    "Сделаем считывание json файла, но сначала создадим его из digits.txt:"
   ]
  },
  {
   "cell_type": "code",
   "execution_count": 14,
   "metadata": {
    "tags": []
   },
   "outputs": [],
   "source": [
    "import json"
   ]
  },
  {
   "cell_type": "code",
   "execution_count": 15,
   "metadata": {
    "tags": []
   },
   "outputs": [],
   "source": [
    "ans = []\n",
    "with open('digits.txt', 'r') as f:\n",
    "    for line in f:\n",
    "        nums = line.strip('\\n').split()\n",
    "        for el in nums: \n",
    "            ans.append(int(el))\n",
    "\n",
    "with open('digits.json', 'w', encoding='utf-8') as f:\n",
    "    json.dump(ans, f, ensure_ascii=False, indent=4)"
   ]
  },
  {
   "cell_type": "markdown",
   "metadata": {},
   "source": [
    "А теперь научимся считывать его:"
   ]
  },
  {
   "cell_type": "code",
   "execution_count": 16,
   "metadata": {
    "tags": []
   },
   "outputs": [
    {
     "name": "stdout",
     "output_type": "stream",
     "text": [
      "[2547, 4670, 50037, 75, 93239, 5, 393, 90, 68975, 88447, 8, 8488, 4, 68, 55148, 7, 278, 641, 929, 51, 99, 2, 9, 42, 5, 5981, 989, 40, 0, 25, 630, 45, 15, 95, 541, 659, 35795, 5, 6405, 40829, 26, 5, 8698, 9801, 5325, 630, 49, 891, 59, 8, 14246, 78, 6, 5, 7, 2, 99602, 52429, 19, 758, 173, 292, 67137, 0, 78, 3, 82367, 7054, 882, 7, 7, 5, 2320, 9, 31, 8695, 64, 5, 92, 8139, 33062, 33466, 84, 9, 6476, 482, 1648, 702, 3, 93826, 15, 44919, 5182, 2, 92035, 2, 2, 331, 23, 407, 8, 4, 4468, 631, 3, 68582, 5308, 7969, 25, 52968, 21451, 496, 45, 84782, 47, 30, 37, 973, 147, 2, 8859, 5364, 877, 38, 2688, 77, 976, 58251, 0, 91717, 65677, 2, 80, 6, 25, 45, 8, 7414]\n"
     ]
    }
   ],
   "source": [
    "with open('digits.json', 'r') as json_file:\n",
    "    nums = json.load(json_file)\n",
    "    print(nums)"
   ]
  },
  {
   "cell_type": "markdown",
   "metadata": {},
   "source": [
    "И наконец запишем в дерево:"
   ]
  },
  {
   "cell_type": "code",
   "execution_count": 17,
   "metadata": {
    "tags": []
   },
   "outputs": [
    {
     "data": {
      "text/plain": [
       "((((((*, 0, (*, 0, (*, 0, *))), 2, (*, 2, ((*, 2, (*, 2, (*, 2, (*, 2, (*, 2, *))))), 3, (*, 3, (*, 3, *))))), 4, (*, 4, *)), 5, (((*, 5, (*, 5, (*, 5, ((*, 5, (*, 5, (*, 5, *))), 6, (*, 6, *))))), 7, (*, 7, (*, 7, (*, 7, *)))), 8, ((((*, 8, (*, 8, (*, 8, *))), 9, (((((*, 9, (*, 9, *)), 15, ((*, 15, *), 19, (*, 23, *))), 25, ((*, 25, (*, 25, *)), 26, ((*, 30, *), 31, (*, 37, (*, 38, *))))), 40, *), 42, (*, 45, ((*, 45, ((*, 45, *), 47, *)), 49, *)))), 51, (*, 59, (*, 64, *))), 68, *))), 75, ((((*, 77, *), 78, (*, 78, ((*, 80, *), 84, *))), 90, ((((*, 92, *), 95, *), 99, ((*, 147, *), 173, *)), 278, (*, 292, (*, 331, *)))), 393, (((((*, 407, *), 482, (*, 496, *)), 541, *), 630, (*, 630, (*, 631, *))), 641, ((*, 659, (((*, 702, *), 758, ((*, 877, *), 882, *)), 891, *)), 929, ((*, 973, (*, 976, *)), 989, ((*, 1648, *), 2320, *)))))), 2547, (((*, 2688, *), 4468, *), 4670, (((((*, 5182, (*, 5308, *)), 5325, (*, 5364, *)), 5981, (*, 6405, ((*, 6476, *), 7054, (((*, 7414, *), 7969, *), 8139, *)))), 8488, (((*, 8695, *), 8698, ((*, 8859, *), 9801, (*, 14246, ((*, 21451, *), 33062, (*, 33466, *))))), 35795, (*, 40829, (*, 44919, *)))), 50037, ((((*, 52429, (*, 52968, *)), 55148, ((*, 58251, (*, 65677, *)), 67137, (*, 68582, *))), 68975, ((*, 82367, (*, 84782, *)), 88447, ((*, 91717, *), 92035, *))), 93239, ((*, 93826, *), 99602, *)))))"
      ]
     },
     "execution_count": 17,
     "metadata": {},
     "output_type": "execute_result"
    }
   ],
   "source": [
    "numbers = BinaryTree()\n",
    "for num in nums:\n",
    "    numbers.insert(num)\n",
    "numbers"
   ]
  },
  {
   "cell_type": "markdown",
   "metadata": {},
   "source": [
    "Прекрасно, более сложную структуру файла json этот код не поддерживает, запишем всё в функцию:"
   ]
  },
  {
   "cell_type": "code",
   "execution_count": 18,
   "metadata": {
    "tags": []
   },
   "outputs": [],
   "source": [
    "def get_tree_from_file(file_name):\n",
    "    \"\"\"Достаёт из файла с числами данные и записывает их в бинарное дерево поиска\n",
    "    \n",
    "    Arguments:\n",
    "\n",
    "    file_name: путь или имя к текстовому или json-типа файлу из которого надо достать информацию\n",
    "\n",
    "    Returns: объект типа BinaryTree, пустой если файл имеет расширение отличное от .txt или .json\n",
    "    \"\"\"\n",
    "    numbers = BinaryTree()\n",
    "    if file_name[-4:] == '.txt':\n",
    "        with open('digits.txt', 'r') as f:\n",
    "            for line in f:\n",
    "                nums = line.strip('\\n').split()\n",
    "                for el in nums: numbers.insert(int(el))\n",
    "    elif file_name[-5:] == '.json':\n",
    "        with open('digits.json', 'r') as json_file:\n",
    "            nums = json.load(json_file)\n",
    "            for num in nums:\n",
    "                numbers.insert(num)\n",
    "    return numbers"
   ]
  },
  {
   "cell_type": "code",
   "execution_count": 19,
   "metadata": {
    "tags": []
   },
   "outputs": [
    {
     "name": "stdout",
     "output_type": "stream",
     "text": [
      "((((((*, 0, (*, 0, (*, 0, *))), 2, (*, 2, ((*, 2, (*, 2, (*, 2, (*, 2, (*, 2, *))))), 3, (*, 3, (*, 3, *))))), 4, (*, 4, *)), 5, (((*, 5, (*, 5, (*, 5, ((*, 5, (*, 5, (*, 5, *))), 6, (*, 6, *))))), 7, (*, 7, (*, 7, (*, 7, *)))), 8, ((((*, 8, (*, 8, (*, 8, *))), 9, (((((*, 9, (*, 9, *)), 15, ((*, 15, *), 19, (*, 23, *))), 25, ((*, 25, (*, 25, *)), 26, ((*, 30, *), 31, (*, 37, (*, 38, *))))), 40, *), 42, (*, 45, ((*, 45, ((*, 45, *), 47, *)), 49, *)))), 51, (*, 59, (*, 64, *))), 68, *))), 75, ((((*, 77, *), 78, (*, 78, ((*, 80, *), 84, *))), 90, ((((*, 92, *), 95, *), 99, ((*, 147, *), 173, *)), 278, (*, 292, (*, 331, *)))), 393, (((((*, 407, *), 482, (*, 496, *)), 541, *), 630, (*, 630, (*, 631, *))), 641, ((*, 659, (((*, 702, *), 758, ((*, 877, *), 882, *)), 891, *)), 929, ((*, 973, (*, 976, *)), 989, ((*, 1648, *), 2320, *)))))), 2547, (((*, 2688, *), 4468, *), 4670, (((((*, 5182, (*, 5308, *)), 5325, (*, 5364, *)), 5981, (*, 6405, ((*, 6476, *), 7054, (((*, 7414, *), 7969, *), 8139, *)))), 8488, (((*, 8695, *), 8698, ((*, 8859, *), 9801, (*, 14246, ((*, 21451, *), 33062, (*, 33466, *))))), 35795, (*, 40829, (*, 44919, *)))), 50037, ((((*, 52429, (*, 52968, *)), 55148, ((*, 58251, (*, 65677, *)), 67137, (*, 68582, *))), 68975, ((*, 82367, (*, 84782, *)), 88447, ((*, 91717, *), 92035, *))), 93239, ((*, 93826, *), 99602, *)))))\n",
      "((((((*, 0, (*, 0, (*, 0, *))), 2, (*, 2, ((*, 2, (*, 2, (*, 2, (*, 2, (*, 2, *))))), 3, (*, 3, (*, 3, *))))), 4, (*, 4, *)), 5, (((*, 5, (*, 5, (*, 5, ((*, 5, (*, 5, (*, 5, *))), 6, (*, 6, *))))), 7, (*, 7, (*, 7, (*, 7, *)))), 8, ((((*, 8, (*, 8, (*, 8, *))), 9, (((((*, 9, (*, 9, *)), 15, ((*, 15, *), 19, (*, 23, *))), 25, ((*, 25, (*, 25, *)), 26, ((*, 30, *), 31, (*, 37, (*, 38, *))))), 40, *), 42, (*, 45, ((*, 45, ((*, 45, *), 47, *)), 49, *)))), 51, (*, 59, (*, 64, *))), 68, *))), 75, ((((*, 77, *), 78, (*, 78, ((*, 80, *), 84, *))), 90, ((((*, 92, *), 95, *), 99, ((*, 147, *), 173, *)), 278, (*, 292, (*, 331, *)))), 393, (((((*, 407, *), 482, (*, 496, *)), 541, *), 630, (*, 630, (*, 631, *))), 641, ((*, 659, (((*, 702, *), 758, ((*, 877, *), 882, *)), 891, *)), 929, ((*, 973, (*, 976, *)), 989, ((*, 1648, *), 2320, *)))))), 2547, (((*, 2688, *), 4468, *), 4670, (((((*, 5182, (*, 5308, *)), 5325, (*, 5364, *)), 5981, (*, 6405, ((*, 6476, *), 7054, (((*, 7414, *), 7969, *), 8139, *)))), 8488, (((*, 8695, *), 8698, ((*, 8859, *), 9801, (*, 14246, ((*, 21451, *), 33062, (*, 33466, *))))), 35795, (*, 40829, (*, 44919, *)))), 50037, ((((*, 52429, (*, 52968, *)), 55148, ((*, 58251, (*, 65677, *)), 67137, (*, 68582, *))), 68975, ((*, 82367, (*, 84782, *)), 88447, ((*, 91717, *), 92035, *))), 93239, ((*, 93826, *), 99602, *)))))\n"
     ]
    }
   ],
   "source": [
    "print(get_tree_from_file('digits.json'))\n",
    "print(get_tree_from_file('digits.txt'))"
   ]
  },
  {
   "cell_type": "markdown",
   "metadata": {},
   "source": [
    "# 4. Перегрузка операции принадлежности in"
   ]
  },
  {
   "cell_type": "markdown",
   "metadata": {},
   "source": [
    "<span style='color:red'>Переопределим</span> классы BinaryTree, BinaryNode, EmptyNode за счет определения нового метода \\_\\_contains\\_\\_(self, value) для перегрузки операции принадлежности in. Рекомендации по выполнению представлены в лекции к теме Бинарное дерево поиска. Реализация на основе ООП. И <span style='color:red'>протестируем</span> корректность выполнения операции in на трех примерах."
   ]
  },
  {
   "cell_type": "code",
   "execution_count": 4,
   "metadata": {
    "tags": []
   },
   "outputs": [],
   "source": [
    "class BinaryTree:\n",
    "    def __init__(self):\n",
    "        self.root = EmptyNode()\n",
    "\n",
    "    def __repr__(self):\n",
    "        return repr(self.root)\n",
    "\n",
    "    def insert(self, value):\n",
    "        self.root = self.root.insert(value) \n",
    "    \n",
    "    def __contains__(self, value):\n",
    "        return value in self.root"
   ]
  },
  {
   "cell_type": "code",
   "execution_count": 5,
   "metadata": {
    "tags": []
   },
   "outputs": [],
   "source": [
    "class BinaryNode:\n",
    "    def __init__(self, left, value, right):\n",
    "        self.left = left\n",
    "        self.value = value\n",
    "        self.right = right\n",
    "\n",
    "    def __repr__(self):\n",
    "        return f'({self.left}, {self.value}, {self.right})'\n",
    "\n",
    "    def insert(self, value):\n",
    "        if value < self.value:\n",
    "            self.left = self.left.insert(value)\n",
    "        else:\n",
    "            self.right = self.right.insert(value)\n",
    "        return self\n",
    "    \n",
    "    def __contains__(self, value):\n",
    "        return (value in self.left) or value == self.value or (value in self.right)"
   ]
  },
  {
   "cell_type": "code",
   "execution_count": 6,
   "metadata": {
    "tags": []
   },
   "outputs": [],
   "source": [
    "class EmptyNode:\n",
    "    def __repr__(self):\n",
    "        return '*'\n",
    "\n",
    "    def insert(self, value):\n",
    "        return BinaryNode(self, value, self)\n",
    "\n",
    "    def __contains__(self, value):\n",
    "        return False"
   ]
  },
  {
   "cell_type": "markdown",
   "metadata": {},
   "source": [
    "Проверим на старом добром ранее сгенерированном numbers:"
   ]
  },
  {
   "cell_type": "code",
   "execution_count": 149,
   "metadata": {
    "tags": []
   },
   "outputs": [],
   "source": [
    "numbers = get_tree_from_file('digits.txt')"
   ]
  },
  {
   "cell_type": "code",
   "execution_count": 150,
   "metadata": {
    "tags": []
   },
   "outputs": [
    {
     "data": {
      "text/plain": [
       "{0: False, 190: False, 380: False, 570: False, 760: False, 950: False}"
      ]
     },
     "execution_count": 150,
     "metadata": {},
     "output_type": "execute_result"
    }
   ],
   "source": [
    "{x: x in numbers for x in range(0, 1000, 190)}"
   ]
  },
  {
   "cell_type": "code",
   "execution_count": 151,
   "metadata": {
    "tags": []
   },
   "outputs": [
    {
     "name": "stdout",
     "output_type": "stream",
     "text": [
      "(*, 5, *)\n",
      "((*, 1, *), 5, *)\n",
      "((*, 1, *), 5, (*, 10, *))\n",
      "((*, 1, (*, 3, *)), 5, (*, 10, *))\n",
      "((*, 1, (*, 3, (*, 4, *))), 5, (*, 10, *))\n",
      "(0, False) (1, True) (2, False) (3, True) (4, True) (5, True) (6, False) (7, False) (8, False) (9, False) "
     ]
    }
   ],
   "source": [
    "source_data = [5,1,10,3,4]\n",
    "tree = BinaryTree()\n",
    "for i in source_data:\n",
    "    tree.insert(i)\n",
    "    print(tree)\n",
    "for i in range(10):\n",
    "    print((i, i in tree), end = ' ')"
   ]
  },
  {
   "cell_type": "markdown",
   "metadata": {},
   "source": [
    "# 5. Перегрузка встроенной функции len"
   ]
  },
  {
   "cell_type": "markdown",
   "metadata": {},
   "source": [
    "<span style='color:red'>Переопредлим</span> классы BinaryTree, BinaryNode, EmptyNode за счет определения нового метода \\_\\_len\\_\\_(self) для перегрузки встроенной функции len, которая возвращает количество вершин в бинарном дереве поиска. Рекомендации по выполнению представлены в лекции к теме Бинарное дерево поиска. Реализация на основе ООП. И <span style='color:red'>протестируем</span> корректность выполнения функции len на трех примерах."
   ]
  },
  {
   "cell_type": "code",
   "execution_count": 152,
   "metadata": {
    "tags": []
   },
   "outputs": [],
   "source": [
    "class BinaryTree:\n",
    "    def __init__(self):\n",
    "        self.root = EmptyNode()\n",
    "\n",
    "    def __repr__(self):\n",
    "        return repr(self.root)\n",
    "\n",
    "    def insert(self, value):\n",
    "        self.root = self.root.insert(value) \n",
    "    \n",
    "    def __contains__(self, value):\n",
    "        return value in self.root\n",
    "    \n",
    "    def __len__(self):\n",
    "        return len(self.root)"
   ]
  },
  {
   "cell_type": "code",
   "execution_count": 153,
   "metadata": {
    "tags": []
   },
   "outputs": [],
   "source": [
    "class BinaryNode:\n",
    "    def __init__(self, left, value, right):\n",
    "        self.left = left\n",
    "        self.value = value\n",
    "        self.right = right\n",
    "\n",
    "    def __repr__(self):\n",
    "        return f'({self.left}, {self.value}, {self.right})'\n",
    "\n",
    "    def insert(self, value):\n",
    "        if value < self.value:\n",
    "            self.left = self.left.insert(value)\n",
    "        else:\n",
    "            self.right = self.right.insert(value)\n",
    "        return self\n",
    "    \n",
    "    def __contains__(self, value):\n",
    "        return (value in self.left) or value == self.value or (value in self.right)\n",
    "    \n",
    "    def __len__(self):\n",
    "        return len(self.left) + len(self.right) + 1"
   ]
  },
  {
   "cell_type": "code",
   "execution_count": 154,
   "metadata": {
    "tags": []
   },
   "outputs": [],
   "source": [
    "class EmptyNode:\n",
    "    def __repr__(self):\n",
    "        return '*'\n",
    "\n",
    "    def insert(self, value):\n",
    "        return BinaryNode(self, value, self)\n",
    "\n",
    "    def __contains__(self, value):\n",
    "        return False\n",
    "    \n",
    "    def __len__(self):\n",
    "        return 0"
   ]
  },
  {
   "cell_type": "markdown",
   "metadata": {},
   "source": [
    "Проверим:"
   ]
  },
  {
   "cell_type": "code",
   "execution_count": 155,
   "metadata": {
    "tags": []
   },
   "outputs": [
    {
     "data": {
      "text/plain": [
       "5"
      ]
     },
     "execution_count": 155,
     "metadata": {},
     "output_type": "execute_result"
    }
   ],
   "source": [
    "tree = BinaryTree()\n",
    "for i in source_data:\n",
    "    tree.insert(i)\n",
    "len(tree)"
   ]
  },
  {
   "cell_type": "code",
   "execution_count": 156,
   "metadata": {
    "tags": []
   },
   "outputs": [
    {
     "data": {
      "text/plain": [
       "263"
      ]
     },
     "execution_count": 156,
     "metadata": {},
     "output_type": "execute_result"
    }
   ],
   "source": [
    "numbers = get_tree_from_file('digits.txt')\n",
    "len(numbers)"
   ]
  },
  {
   "cell_type": "code",
   "execution_count": 157,
   "metadata": {
    "tags": []
   },
   "outputs": [
    {
     "data": {
      "text/plain": [
       "273"
      ]
     },
     "execution_count": 157,
     "metadata": {},
     "output_type": "execute_result"
    }
   ],
   "source": [
    "for i in range(10): numbers.insert(i**(i**2))\n",
    "len(numbers)"
   ]
  },
  {
   "cell_type": "code",
   "execution_count": null,
   "metadata": {},
   "outputs": [],
   "source": []
  }
 ],
 "metadata": {
  "kernelspec": {
   "display_name": "Python 3 (ipykernel)",
   "language": "python",
   "name": "python3"
  },
  "language_info": {
   "codemirror_mode": {
    "name": "ipython",
    "version": 3
   },
   "file_extension": ".py",
   "mimetype": "text/x-python",
   "name": "python",
   "nbconvert_exporter": "python",
   "pygments_lexer": "ipython3",
   "version": "3.11.5"
  }
 },
 "nbformat": 4,
 "nbformat_minor": 4
}
