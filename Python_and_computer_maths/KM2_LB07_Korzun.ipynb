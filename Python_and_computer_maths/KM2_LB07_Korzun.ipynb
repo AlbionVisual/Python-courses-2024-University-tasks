{
 "cells": [
  {
   "cell_type": "markdown",
   "metadata": {},
   "source": [
    "# Лабораторная работа №7"
   ]
  },
  {
   "cell_type": "markdown",
   "metadata": {},
   "source": [
    "Корзун В. А. Вариант 3; 17.05.2024"
   ]
  },
  {
   "cell_type": "markdown",
   "metadata": {},
   "source": [
    "# Создание текстового файла большого объёма"
   ]
  },
  {
   "cell_type": "markdown",
   "metadata": {},
   "source": [
    "## Постановка задачи"
   ]
  },
  {
   "cell_type": "markdown",
   "metadata": {},
   "source": [
    "Напишите пользовательскую функцию"
   ]
  },
  {
   "cell_type": "code",
   "execution_count": null,
   "metadata": {},
   "outputs": [],
   "source": [
    "file_gen(file_name,\n",
    "        file_size: int,\n",
    "        type_symbols: str,\n",
    "        number_words: (int,int),\n",
    "        number_symbols: (int,int)\n",
    "        "
   ]
  },
  {
   "cell_type": "markdown",
   "metadata": {},
   "source": [
    "для создания текстового файла заданного имени и размера, строки которого будут\n",
    "состоять из случайного количества слов случайной длины и составленных из случайных\n",
    "символов. Слова в строке разделены одним пробелом."
   ]
  },
  {
   "cell_type": "markdown",
   "metadata": {},
   "source": [
    "Значения аргументов:\n",
    "\n",
    "- file_name определяет имя текстового файла;\n",
    "- file_size определяет размер текстового файла в мегабайтах;\n",
    "- type_symbols может принимать одно из трех значений: 'digits', 'latin', 'cyrillic':\n",
    "    + если type_symbols='digits', то для создания файла разрешены только цифровые символы;\n",
    "    + если type_symbols='latin', то для создания файла разрешены только прописные латинские cимволы от a до z ; cтандартное значение type_symbols='latin';\n",
    "    + если type_symbols='cyrillic', то для создания файла разрешены только прописные кириллические символы;\n",
    "- number_words является кортежем из двух целых чисел для задания количества слов в строке; количество слов в каждой строке файла определяется как случайное число из диапазона, определенного кортежем; стандартное значение number_words=(10,50);\n",
    "- number_symbols является кортежем из двух целых чисел для задания количества символов в слове; количество символов в каждом слове файла определяется как случайное число из диапазона, определенного кортежем; стандартное значение number_symbols=(5,9)."
   ]
  },
  {
   "cell_type": "markdown",
   "metadata": {},
   "source": [
    "## 1.  Запись данных в текстовый файл"
   ]
  },
  {
   "cell_type": "code",
   "execution_count": 5,
   "metadata": {},
   "outputs": [],
   "source": [
    "from time import process_time\n",
    "from random import randint"
   ]
  },
  {
   "cell_type": "markdown",
   "metadata": {},
   "source": [
    "Откроем файл с именем test.txt в текстовом режиме для записи:"
   ]
  },
  {
   "cell_type": "code",
   "execution_count": 4,
   "metadata": {},
   "outputs": [],
   "source": [
    "file_name = 'test.txt'\n",
    "f = open(file_name, 'w')"
   ]
  },
  {
   "cell_type": "markdown",
   "metadata": {},
   "source": [
    "Создадим список, состоящий из некоторых строковых объектов, каждый из которых\n",
    "заканчивается символом новой строки \\n:"
   ]
  },
  {
   "cell_type": "code",
   "execution_count": 5,
   "metadata": {},
   "outputs": [
    {
     "data": {
      "text/plain": [
       "['t\\n', 'e\\n', 's\\n', 't\\n']"
      ]
     },
     "execution_count": 5,
     "metadata": {},
     "output_type": "execute_result"
    }
   ],
   "source": [
    "lines_list = [f'{x}\\n' for x in 'test']\n",
    "lines_list"
   ]
  },
  {
   "cell_type": "markdown",
   "metadata": {},
   "source": [
    "Запишем созданные строки в файл с помощью метода writelines файлового\n",
    "объекта f:"
   ]
  },
  {
   "cell_type": "code",
   "execution_count": 6,
   "metadata": {},
   "outputs": [],
   "source": [
    "f.writelines(lines_list)"
   ]
  },
  {
   "cell_type": "markdown",
   "metadata": {},
   "source": [
    "Вызовем метод close файлового объекта f для прекращения его связи с внешним\n",
    "файлом, освобождения системных ресурсов и сброса буферизованного вывода на диск,\n",
    "если он находится в памяти:"
   ]
  },
  {
   "cell_type": "code",
   "execution_count": 7,
   "metadata": {},
   "outputs": [],
   "source": [
    "f.close()"
   ]
  },
  {
   "cell_type": "markdown",
   "metadata": {},
   "source": [
    "Прочитаем записанные данные. Для этого откроем файл в режиме для чтения 'r':"
   ]
  },
  {
   "cell_type": "code",
   "execution_count": 8,
   "metadata": {},
   "outputs": [
    {
     "name": "stdout",
     "output_type": "stream",
     "text": [
      "t\n",
      "e\n",
      "s\n",
      "t\n"
     ]
    }
   ],
   "source": [
    "with open(file_name,'r') as f:\n",
    "    for line in f:\n",
    "        print(line, end='')"
   ]
  },
  {
   "cell_type": "markdown",
   "metadata": {},
   "source": [
    "В случае записи в файл больших объемов данных целесообразнее использовать не\n",
    "списки для хранения строк, а генераторные объекты:"
   ]
  },
  {
   "cell_type": "code",
   "execution_count": 9,
   "metadata": {},
   "outputs": [],
   "source": [
    "lines_gen_expr = (f'{x}\\n' for x in range(10**4))\n",
    "def lines_gen_fun(number_lines=10**6):\n",
    "    yield from (f'{x}\\n' for x in range(number_lines))\n",
    "with open(file_name,'w') as f:\n",
    "    f.writelines(lines_gen_expr)\n",
    "    f.writelines(lines_gen_fun())"
   ]
  },
  {
   "cell_type": "markdown",
   "metadata": {},
   "source": [
    "В дальнейшем будем создавать данные для записи в файл с помощью генераторной функции.\n",
    "\n",
    "Добавим в функцию lines_gen_fun подсчет длины записанной информации в мегабайтах. Полагаем, что длина одного символа равна одному байту:"
   ]
  },
  {
   "cell_type": "code",
   "execution_count": 10,
   "metadata": {},
   "outputs": [
    {
     "name": "stdout",
     "output_type": "stream",
     "text": [
      "0.04662513732910156 Mb\n"
     ]
    }
   ],
   "source": [
    "def lines_gen_fun(number_lines = 10**4):\n",
    "    file_size = 0\n",
    "    for x in range(number_lines):\n",
    "        line = f'{x}\\n'\n",
    "        yield line\n",
    "        file_size += len(line)\n",
    "    print(f'{file_size/1024**2} Mb')\n",
    "\n",
    "with open(file_name,'w') as f:\n",
    "    f.writelines(lines_gen_fun())"
   ]
  },
  {
   "cell_type": "markdown",
   "metadata": {},
   "source": [
    "Допущение, что размер символа в строке равен одному байту, не всегда верно. В частности, для кириллических символов это не так. Более правильным решением для подсчета длины записанной информации в байтах будет использование метода encode для записываемых строк. В этом случае в коде выше вместо len(line) стоит вызывать len(line.encode('utf8')):"
   ]
  },
  {
   "cell_type": "code",
   "execution_count": 11,
   "metadata": {},
   "outputs": [
    {
     "data": {
      "text/plain": [
       "(1, 1, 1, 2)"
      ]
     },
     "execution_count": 11,
     "metadata": {},
     "output_type": "execute_result"
    }
   ],
   "source": [
    "len('f'), len('ц'), len('f'.encode('utf8')), len('ц'.encode('utf8'))"
   ]
  },
  {
   "cell_type": "markdown",
   "metadata": {},
   "source": [
    "Измеряем время, необходимое для создания файла с помощью функции lines_gen_fun:"
   ]
  },
  {
   "cell_type": "code",
   "execution_count": 12,
   "metadata": {},
   "outputs": [
    {
     "name": "stdout",
     "output_type": "stream",
     "text": [
      "0.04662513732910156 Mb\n",
      "0.015625 секунд\n"
     ]
    }
   ],
   "source": [
    "with open(file_name,'w') as f:\n",
    "    start = process_time()\n",
    "    f.writelines(lines_gen_fun())\n",
    "    end = process_time()\n",
    "    print(end - start, 'секунд')"
   ]
  },
  {
   "cell_type": "markdown",
   "metadata": {},
   "source": [
    "Внесем изменения в генераторную функцию lines_gen_fun, чтобы она отображала\n",
    "процент записанных данных в файл, если аргумент status=True. Это существенно\n",
    "увеличит время выполнения функции!"
   ]
  },
  {
   "cell_type": "code",
   "execution_count": 13,
   "metadata": {},
   "outputs": [],
   "source": [
    "def lines_gen_fun(number_lines=10**5, status=False):\n",
    "    file_size = 0\n",
    "    for x in range(number_lines):\n",
    "        line = f'{x}\\n'\n",
    "        yield line\n",
    "        file_size += len(line)\n",
    "        # отображение статуса записи в файл в процентах\n",
    "        if status:\n",
    "            status_number = x/number_lines*10**2\n",
    "            print(f'\\r{int(status_number)}%', end='', flush=True) # \\r возврат курсора в начало\n",
    "    print(f'\\r100%')\n",
    "    print(f'\\n {file_size/1024**2} Mb') "
   ]
  },
  {
   "cell_type": "markdown",
   "metadata": {},
   "source": [
    "Запишем данные в файл:"
   ]
  },
  {
   "cell_type": "code",
   "execution_count": 14,
   "metadata": {},
   "outputs": [
    {
     "name": "stdout",
     "output_type": "stream",
     "text": [
      "100%\n",
      "\n",
      " 0.013246536254882812 Mb\n",
      "3.0625 секунд\n"
     ]
    }
   ],
   "source": [
    "# предварительно вызовите в Anaconda Prompt\n",
    "# jupyter lab --NotebookApp.iopub_data_rate_limit=1.0e10\n",
    "with open(file_name,'w') as f:\n",
    "    start = process_time()\n",
    "    f.writelines(lines_gen_fun(3*10**3, status=True))\n",
    "    end = process_time()\n",
    "    print(f'{end - start} секунд')"
   ]
  },
  {
   "cell_type": "markdown",
   "metadata": {},
   "source": [
    "## 2. Генерация строк"
   ]
  },
  {
   "cell_type": "markdown",
   "metadata": {},
   "source": [
    "Определим значения для переменных, которые задают параметры создания строки для\n",
    "записи в файл:"
   ]
  },
  {
   "cell_type": "code",
   "execution_count": 15,
   "metadata": {},
   "outputs": [],
   "source": [
    "symbols_ord = (ord('a'), ord('z')) # соответствует type_symbols = 'latin'\n",
    "number_words = (10, 50)\n",
    "number_symbols = (5, 9)"
   ]
  },
  {
   "cell_type": "markdown",
   "metadata": {},
   "source": [
    "Создадим одно слово случайной длины из интервала $[5,9]$, состоящее из случайно\n",
    "выбранных латинских символов:"
   ]
  },
  {
   "cell_type": "code",
   "execution_count": 16,
   "metadata": {},
   "outputs": [
    {
     "data": {
      "text/plain": [
       "'bnailvb'"
      ]
     },
     "execution_count": 16,
     "metadata": {},
     "output_type": "execute_result"
    }
   ],
   "source": [
    "len_word = randint(*number_symbols)\n",
    "word = ''.join([chr(randint(*symbols_ord)) for i in range(len_word)])\n",
    "word"
   ]
  },
  {
   "cell_type": "markdown",
   "metadata": {},
   "source": [
    "$\\color{Red}{Напишем~код}$ для генерации строки со случайным количеством слов, случайной\n",
    "длиной слова и случайным набором символов в слове для трех множеств смволов:\n",
    "прописные латинские символы, цифровые символы, прописные кириллические\n",
    "символы. $\\color{Red}{Протестируем}$ написанный код."
   ]
  },
  {
   "cell_type": "code",
   "execution_count": 17,
   "metadata": {},
   "outputs": [
    {
     "data": {
      "text/plain": [
       "'dmyxl bzwvbwc gxablaib ksrzene iutifrn uizoc psrmxnfr nctwbd cmqlbkmq fneejyypu wipbqqiu uljbfkcn bkcbchnro tbyct fmpxbo xmvlkdo pwvwihe chzmgnd bepif mwhqzq ofigfvwsh mflhria vztnp bsckdwv colmqdos eythscdc wpecerkfh qgpxhnfe xsjaxdap svxmyynfh sxgfv zblzubij\\n'"
      ]
     },
     "execution_count": 17,
     "metadata": {},
     "output_type": "execute_result"
    }
   ],
   "source": [
    "len_line = randint(*number_words)\n",
    "line = ''\n",
    "for _ in range(len_line):\n",
    "    len_word = randint(*number_symbols)\n",
    "    word = ''.join([chr(randint(*symbols_ord)) for i in range(len_word)])\n",
    "    line += word + ' '\n",
    "line = line[:-1] + '\\n'\n",
    "line"
   ]
  },
  {
   "cell_type": "markdown",
   "metadata": {},
   "source": [
    "Теперь для числовых и кириллических:"
   ]
  },
  {
   "cell_type": "code",
   "execution_count": 18,
   "metadata": {},
   "outputs": [
    {
     "data": {
      "text/plain": [
       "'йзвпышчйь пощсфыкрз гпсээл южэхжобх жпрба нзжгф щбзпе юллаъ умюовкэ увгтщююн угпфезю фнравро ыпгмпевюж гящлыюз яхьяз кмаязциэ лшуыфшй йгнначц пэтмлхюг ьсътщ щотэхыжъ бжйрмс\\n'"
      ]
     },
     "execution_count": 18,
     "metadata": {},
     "output_type": "execute_result"
    }
   ],
   "source": [
    "symbols_ord = (ord('а'), ord('я')) # соответствует type_symbols = 'cyrillic'\n",
    "len_line = randint(*number_words)\n",
    "line = ''\n",
    "for _ in range(len_line):\n",
    "    len_word = randint(*number_symbols)\n",
    "    word = ''.join([chr(randint(*symbols_ord)) for i in range(len_word)])\n",
    "    line += word + ' '\n",
    "line = line[:-1] + '\\n'\n",
    "line"
   ]
  },
  {
   "cell_type": "markdown",
   "metadata": {},
   "source": [
    "Работает, тогда попробуем взломать пентагон:"
   ]
  },
  {
   "cell_type": "code",
   "execution_count": 19,
   "metadata": {},
   "outputs": [
    {
     "data": {
      "text/plain": [
       "'3544471 2301770 13307129 543774992 427030165 11978 05633 793085 082899 5246590 767480049 872151698 784708946 787347247 773873440 4942118 407148 594002782 487521835 2910521 809154 885074 08373148 2974274 143900 264209 97604 4925161 78061020 175239 03307140 55440380 33641067 74879 56672630 86811321 61856 2848608 43921067 98931936 776462 700886384\\n'"
      ]
     },
     "execution_count": 19,
     "metadata": {},
     "output_type": "execute_result"
    }
   ],
   "source": [
    "symbols_ord = (ord('0'), ord('9')) # соответствует type_symbols = 'digits'\n",
    "len_line = randint(*number_words)\n",
    "line = ''\n",
    "for _ in range(len_line):\n",
    "    len_word = randint(*number_symbols)\n",
    "    word = ''.join([chr(randint(*symbols_ord)) for i in range(len_word)])\n",
    "    line += word + ' '\n",
    "line = line[:-1] + '\\n'\n",
    "line"
   ]
  },
  {
   "cell_type": "markdown",
   "metadata": {},
   "source": [
    "Круто, тестируйте сами, у меня всё работает"
   ]
  },
  {
   "cell_type": "markdown",
   "metadata": {},
   "source": [
    "<!-- Хехе, добавим экзотики: -->\n",
    "<span id='block' style='color:red'>Напишем</span> генераторную функцию lines_gen_fun_v2(file_size, type_symbols, number_words, number_symbols, открой меня) для генерации строк, суммарный размер которых в мегабайтах равен file_size. <!-- А js есть?: -->\n",
    "<script>\n",
    "document.getElementsById('block')[0].style.color = 'red';\n",
    "alert('message');\n",
    "</script><!--мдааа, скуучнооо :(-->"
   ]
  },
  {
   "cell_type": "code",
   "execution_count": 3,
   "metadata": {},
   "outputs": [],
   "source": [
    "def lines_gen_fun_v2(file_size, type_symbols, number_words, number_symbols):\n",
    "    \"\"\"Генерирует поочерёдно строки со случайным кол-вом символов в слове и со случайным кол-вом слов\n",
    "\n",
    "    Arguments:\n",
    "\n",
    "    file_size: размер файла в мегабайтах\n",
    "\n",
    "    type_symbols: тип символов, digits для чисел, latin для латиницы, cyrillic для кириллицы\n",
    "\n",
    "    number_words: кортеж обозначающий минимум и максимум кол-в слов в каждой строке\n",
    "\n",
    "    number_symbols: кортеж обозначающий минимум и максимум кол-в символов в каждом слове\n",
    "\n",
    "    Yield: lines\n",
    "    \"\"\"\n",
    "    size = 0\n",
    "    symbols_ord = (0,1)\n",
    "    if type_symbols[0] == 'd':\n",
    "        symbols_ord = (ord('0'), ord('9'))\n",
    "    elif type_symbols[0] == 'c':\n",
    "        symbols_ord = (ord('а'), ord('я'))\n",
    "    elif type_symbols[0] == 'l':\n",
    "        symbols_ord = (ord('a'), ord('z'))\n",
    "    while size < file_size * 2**20:\n",
    "        len_line = randint(*number_words)\n",
    "        line = ''\n",
    "        for _ in range(len_line):\n",
    "            len_word = randint(*number_symbols)\n",
    "            word = ''.join([chr(randint(*symbols_ord)) for i in range(len_word)])\n",
    "            line += word + ' '\n",
    "        line = line[:-1] + '\\n'\n",
    "        yield line\n",
    "        size += len(line.encode('utf8'))"
   ]
  },
  {
   "cell_type": "markdown",
   "metadata": {},
   "source": [
    "Протестируем:"
   ]
  },
  {
   "cell_type": "code",
   "execution_count": 21,
   "metadata": {},
   "outputs": [
    {
     "name": "stdout",
     "output_type": "stream",
     "text": [
      "506; 563; 774; 309; 114; 955; 718; 975; 1109; "
     ]
    }
   ],
   "source": [
    "gen = lines_gen_fun_v2(0.005, 'l', (10, 100), (5, 15))\n",
    "for line in gen:\n",
    "    print(len(line), end = '; ')"
   ]
  },
  {
   "cell_type": "code",
   "execution_count": 22,
   "metadata": {},
   "outputs": [
    {
     "name": "stdout",
     "output_type": "stream",
     "text": [
      "олуяш рнзжб шфюэе дмшдхг жупьчв ибяымф чнгкс югихню мвлеээ ыицпхт юмыцъ мбждхй ойбщеб\n",
      "\n",
      "хмцээ фсаэшъ эржыш ебюлч фнйспф тдшрб дункк бытуф щсншю лекгэй тъбцо щбъевл\n",
      "\n",
      "втмяъл хюдмпю швцзнр йснтлэ мчфхй чшхуб поьчфб уемшою огбьц жтвадэ кэгяяъ мъвбъ\n",
      "\n",
      "хгпсйв хбзвй нноом ащияаь кмпыщж ижврж вблцтд ютпоя\n",
      "\n"
     ]
    }
   ],
   "source": [
    "gen = lines_gen_fun_v2(0.0005, 'c', (5, 20), (5, 6))\n",
    "for line in gen:\n",
    "    print(line)"
   ]
  },
  {
   "cell_type": "markdown",
   "metadata": {},
   "source": [
    "## 3. Запись сгенерированных строк в текстовый файл"
   ]
  },
  {
   "cell_type": "markdown",
   "metadata": {},
   "source": [
    "<span style='color:red; font-size:35px'>Напишем</span> результирующую функцию:\n",
    "\n",
    "file_gen(file_name, file_size: int, type_symbols: str, number_words: (int,int), number_symbols: (int,int))\n",
    "\n",
    "Функция file_gen должна выводить на экран:\n",
    "\n",
    "- процент записанных данных в процессе выполнения функции,\n",
    "- фактический размер записанных данных в мегабайтах,\n",
    "- время для выполнения кода функции"
   ]
  },
  {
   "cell_type": "code",
   "execution_count": 1,
   "metadata": {},
   "outputs": [],
   "source": [
    "def file_gen(file_name, file_size = 0.05, type_symbols = 'l', number_words = (10, 50), number_symbols = (5, 9)):\n",
    "    \"\"\"Переписывает файл случайными словами со случайными символами со случайным кол-вом слов\n",
    "\n",
    "    Arguments:\n",
    "\n",
    "    file_name: название или путь к файлу\n",
    "\n",
    "    file_size: размер файла в мегабайтах\n",
    "\n",
    "    type_symbols: тип символов: digits, cyrillic, latin\n",
    "\n",
    "    number_words: кортеж ограничивающий случайность кол-в слов в каждой строке\n",
    "\n",
    "    number_symbols: кортеж указывающий минимум и максимум для кол-ва символов в каждом слове\n",
    "\n",
    "    Returns: nothing\n",
    "    \"\"\"\n",
    "    gen = lines_gen_fun_v2(file_size, type_symbols, number_words, number_symbols)\n",
    "    with open(file_name, 'w') as f:\n",
    "        start = process_time()\n",
    "        count = 0\n",
    "        for line in gen:\n",
    "            count += len(line.encode('utf8'))\n",
    "            f.write(line)\n",
    "            status_number = count / (file_size * 2**20) * 100\n",
    "            print(f'\\r{int(status_number)}%', end='', flush=True)\n",
    "        end = process_time()\n",
    "        print(f'\\r100%', end = '\\n')\n",
    "        print(f'{end - start} секунд')\n",
    "        print(f'\\n {count/1024**2} Mb')"
   ]
  },
  {
   "cell_type": "code",
   "execution_count": 24,
   "metadata": {},
   "outputs": [
    {
     "name": "stdout",
     "output_type": "stream",
     "text": [
      "100%\n",
      "0.609375 секунд\n",
      "\n",
      " 0.10018444061279297 Mb\n"
     ]
    }
   ],
   "source": [
    "file_gen('test.txt', 0.1)"
   ]
  },
  {
   "cell_type": "code",
   "execution_count": 25,
   "metadata": {},
   "outputs": [
    {
     "name": "stdout",
     "output_type": "stream",
     "text": [
      "100%\n",
      "1.109375 секунд\n",
      "\n",
      " 0.3001556396484375 Mb\n"
     ]
    }
   ],
   "source": [
    "file_gen('cyrillic.txt', 0.3, 'cyrillyc')"
   ]
  },
  {
   "cell_type": "code",
   "execution_count": 13,
   "metadata": {},
   "outputs": [
    {
     "name": "stdout",
     "output_type": "stream",
     "text": [
      "100%\n",
      "0.03125 секунд\n",
      "\n",
      " 0.0005369186401367188 Mb\n"
     ]
    }
   ],
   "source": [
    "file_gen('digits.txt', 0.0005, 'diguts', (1, 15), (1, 5))"
   ]
  },
  {
   "cell_type": "code",
   "execution_count": null,
   "metadata": {},
   "outputs": [],
   "source": []
  }
 ],
 "metadata": {
  "kernelspec": {
   "display_name": "base",
   "language": "python",
   "name": "python3"
  },
  "language_info": {
   "codemirror_mode": {
    "name": "ipython",
    "version": 3
   },
   "file_extension": ".py",
   "mimetype": "text/x-python",
   "name": "python",
   "nbconvert_exporter": "python",
   "pygments_lexer": "ipython3",
   "version": "3.11.5"
  }
 },
 "nbformat": 4,
 "nbformat_minor": 2
}
