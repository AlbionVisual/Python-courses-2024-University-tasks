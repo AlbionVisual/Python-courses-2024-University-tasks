{
 "cells": [
  {
   "cell_type": "markdown",
   "metadata": {
    "editable": true,
    "slideshow": {
     "slide_type": ""
    },
    "tags": []
   },
   "source": [
    "# Управляемая самостоятельная работа 1\n",
    "\n",
    "# Функции в Pyhon. Инструменты функционального программирования"
   ]
  },
  {
   "cell_type": "markdown",
   "metadata": {
    "editable": true,
    "slideshow": {
     "slide_type": ""
    },
    "tags": []
   },
   "source": [
    "Корзун Влад, апрель 2024"
   ]
  },
  {
   "cell_type": "markdown",
   "metadata": {
    "editable": true,
    "slideshow": {
     "slide_type": ""
    },
    "tags": []
   },
   "source": [
    "При выполнении заданий можно пользоваться только справочной системой Python, доступной через меню **Help | Python Reference**. Для получения информации об объектах можно использовать функцию `help` и команду JupyterLab `?` "
   ]
  },
  {
   "cell_type": "markdown",
   "metadata": {
    "editable": true,
    "slideshow": {
     "slide_type": ""
    },
    "tags": []
   },
   "source": [
    "## Задание 1. Функция суммирования (2 балла)"
   ]
  },
  {
   "cell_type": "markdown",
   "metadata": {
    "editable": true,
    "slideshow": {
     "slide_type": ""
    },
    "tags": []
   },
   "source": [
    "Напишите пользовательскую функцию `func1` с произвольным количеством позиционных и ключевых аргументов одного типа (числовые типы, строки, кортежи, списки), которая возвращает результат применения операции сложения ко всем аргументам функции. При вызове функции без аргументов она должны возвращать `None`."
   ]
  },
  {
   "cell_type": "markdown",
   "metadata": {},
   "source": [
    "### Реализация"
   ]
  },
  {
   "cell_type": "code",
   "execution_count": 1,
   "metadata": {},
   "outputs": [],
   "source": [
    "def func1(*args, **kargs):\n",
    "    s = list(args) + list(kargs.values())\n",
    "    if len(s) == 0: return None\n",
    "    res = s[0]\n",
    "    for i in s[1:]: res += i \n",
    "    return res"
   ]
  },
  {
   "cell_type": "markdown",
   "metadata": {
    "editable": true,
    "slideshow": {
     "slide_type": ""
    },
    "tags": []
   },
   "source": [
    "### Тестирование"
   ]
  },
  {
   "cell_type": "code",
   "execution_count": 2,
   "metadata": {
    "editable": true,
    "scrolled": true,
    "slideshow": {
     "slide_type": ""
    },
    "tags": []
   },
   "outputs": [
    {
     "name": "stdout",
     "output_type": "stream",
     "text": [
      "(6+4j)\n",
      "w1s2\n",
      "(1, 2)\n",
      "[1, 2, 3, 4]\n"
     ]
    }
   ],
   "source": [
    "print(func1(1, a2=2., a3=complex(3,4)))\n",
    "print(func1(k1='w1', k2='s2'))\n",
    "print(func1((1,),(2,)))\n",
    "print(func1([1], [2], l3=[3], l4=[4]))\n",
    "func1()"
   ]
  },
  {
   "cell_type": "markdown",
   "metadata": {
    "editable": true,
    "slideshow": {
     "slide_type": ""
    },
    "tags": []
   },
   "source": [
    "## Задание 2. Вычисления со списками и массивами (2 балла)"
   ]
  },
  {
   "cell_type": "markdown",
   "metadata": {
    "editable": true,
    "slideshow": {
     "slide_type": ""
    },
    "tags": []
   },
   "source": [
    "### Задание 2.1"
   ]
  },
  {
   "cell_type": "markdown",
   "metadata": {
    "editable": true,
    "slideshow": {
     "slide_type": ""
    },
    "tags": []
   },
   "source": [
    "Постройте список `x` со значениями, равномерно распределенными на отрезке $[a,b]$ с шагом $step$, где $a=0$, $b=2$, $step=0.1$.\n",
    "\n",
    "Вычислите значения $y = \\sin^2(x) + e^{3 x}$ по значениям из списка `x` двумя способами: с использованием включения и с использованием функции `map`. Переменная `y` должна быть списком."
   ]
  },
  {
   "cell_type": "code",
   "execution_count": 7,
   "metadata": {},
   "outputs": [],
   "source": [
    "import math"
   ]
  },
  {
   "cell_type": "code",
   "execution_count": 3,
   "metadata": {},
   "outputs": [],
   "source": [
    "a = 0; b = 2; step = 0.1\n",
    "N = int((b - a) / step)\n",
    "x = [a + i*step for i in range(N + 1)]"
   ]
  },
  {
   "cell_type": "code",
   "execution_count": 44,
   "metadata": {},
   "outputs": [],
   "source": [
    "y = [math.sin(i)**2 + math.e**(3*i) for i in x]\n",
    "y = list(map(lambda i: math.sin(i)**2 + math.e**(3*i), x))"
   ]
  },
  {
   "cell_type": "markdown",
   "metadata": {
    "editable": true,
    "slideshow": {
     "slide_type": ""
    },
    "tags": []
   },
   "source": [
    "### Задание 2.2"
   ]
  },
  {
   "cell_type": "markdown",
   "metadata": {
    "editable": true,
    "slideshow": {
     "slide_type": ""
    },
    "tags": []
   },
   "source": [
    "Постройте массив `x` со значениями, равномерно распределенными на отрезке $[a,b]$ с шагом $step$, где $a=0$, $b=2$, $step=0.1$.\n",
    "\n",
    "\n",
    "Вычислите значения $y = \\sin^2(x) + e^{3 x}$ по значениям из массива `x`, не используя циклы, включения и функцию `map`. Переменная `y` должна быть массивом. Объедините массивы `x` и `y` в матрицу из двух столбцов.  "
   ]
  },
  {
   "cell_type": "code",
   "execution_count": 20,
   "metadata": {},
   "outputs": [],
   "source": [
    "import numpy as np"
   ]
  },
  {
   "cell_type": "code",
   "execution_count": 77,
   "metadata": {},
   "outputs": [],
   "source": [
    "x = np.arange(0, 2.01, 0.1)\n",
    "y = np.sin(x)**2 + np.e**(3*x)\n",
    "matrix = np.transpose([x, y])"
   ]
  },
  {
   "cell_type": "markdown",
   "metadata": {
    "editable": true,
    "slideshow": {
     "slide_type": ""
    },
    "tags": []
   },
   "source": [
    "## Задание 3. Генераторная функция и функция reduce (3 балла)"
   ]
  },
  {
   "cell_type": "markdown",
   "metadata": {
    "editable": true,
    "slideshow": {
     "slide_type": ""
    },
    "tags": []
   },
   "source": [
    "### Задание 3.1"
   ]
  },
  {
   "cell_type": "markdown",
   "metadata": {},
   "source": [
    "Напишите генераторную функцию `func3` для генерации членов геометрической прогрессии $b_1 = 1$, $b_{n+1} = 5 b_n$, $n=1, 2, \\ldots$.\n",
    "\n",
    "На основе генераторной функции создайте кортеж из 10 первых членов геометрической прогрессии. "
   ]
  },
  {
   "cell_type": "code",
   "execution_count": 5,
   "metadata": {},
   "outputs": [
    {
     "name": "stdout",
     "output_type": "stream",
     "text": [
      "(1, 5, 25, 125, 625, 3125, 15625, 78125, 390625, 1953125)\n"
     ]
    }
   ],
   "source": [
    "def func3():\n",
    "    b = 1\n",
    "    while True:\n",
    "        yield b\n",
    "        b *= 5\n",
    "\n",
    "gen_obj = func3()\n",
    "print(tuple(next(gen_obj) for _ in range(10)))"
   ]
  },
  {
   "cell_type": "markdown",
   "metadata": {},
   "source": [
    "### Задание 3.2"
   ]
  },
  {
   "cell_type": "markdown",
   "metadata": {},
   "source": [
    "Вычислите 10-ый член геометрической прогрессии с помощью функции `reduce` из модуля `functools Функцию `func3` использовать не нужно."
   ]
  },
  {
   "cell_type": "code",
   "execution_count": 86,
   "metadata": {},
   "outputs": [
    {
     "data": {
      "text/plain": [
       "1953125"
      ]
     },
     "execution_count": 86,
     "metadata": {},
     "output_type": "execute_result"
    }
   ],
   "source": [
    "from functools import reduce\n",
    "\n",
    "def geo(prev, coff):\n",
    "    return prev * coff\n",
    "\n",
    "k = 5; b1 = 1; n = 10\n",
    "reduce(geo, [b1] + [k] * (n-1))"
   ]
  },
  {
   "cell_type": "markdown",
   "metadata": {
    "editable": true,
    "slideshow": {
     "slide_type": ""
    },
    "tags": []
   },
   "source": [
    "## Задание 4. Счетчик вызовов функции (3 балла)"
   ]
  },
  {
   "cell_type": "markdown",
   "metadata": {},
   "source": [
    "Напишите пользовательскую функцию `func4` с произвольным количеством позиционных и ключевых аргументов. Функция `func4` должна возвращать кортеж, состоящий из трех элементов. Первый элемент кортежа содержит число, соответствующее количеству вызовов пользовательской функции `func4`. Второй элемент кортежа содержит количество позиционных аргументов при вызове функции. Третий элемент кортежа содержит список ключей для ключевых аргументов при вызове функции `func4`.\n",
    "\n",
    "Напишите две версии пользовательской функции `func4`: в одной версии счетчик вызовов реализуется с использованием глобальной переменной, во второй версии с использованием синтаксиса функций-замыканий."
   ]
  },
  {
   "cell_type": "markdown",
   "metadata": {},
   "source": [
    "### Реализация"
   ]
  },
  {
   "cell_type": "code",
   "execution_count": 72,
   "metadata": {},
   "outputs": [],
   "source": [
    "n = 0\n",
    "def func4(*args, **kargs):\n",
    "    global n; n += 1\n",
    "    return (n, len(args), list(kargs.keys()))"
   ]
  },
  {
   "cell_type": "code",
   "execution_count": null,
   "metadata": {},
   "outputs": [],
   "source": [
    "def sweet():\n",
    "    n = 0\n",
    "    def set(*args, **kargs):\n",
    "        nonlocal n; n += 1\n",
    "        return (n, len(args), list(kargs.keys()))\n",
    "    return set\n",
    "func4 = sweet()"
   ]
  },
  {
   "cell_type": "markdown",
   "metadata": {},
   "source": [
    "### Тестирование"
   ]
  },
  {
   "cell_type": "code",
   "execution_count": 73,
   "metadata": {
    "tags": []
   },
   "outputs": [
    {
     "data": {
      "text/plain": [
       "(1, 5, ['key1', 'key2', 'key3'])"
      ]
     },
     "execution_count": 73,
     "metadata": {},
     "output_type": "execute_result"
    }
   ],
   "source": [
    "func4(*range(5), key1=3, key2=4, key3=5)"
   ]
  },
  {
   "cell_type": "code",
   "execution_count": 74,
   "metadata": {},
   "outputs": [
    {
     "data": {
      "text/plain": [
       "(2, 101, [])"
      ]
     },
     "execution_count": 74,
     "metadata": {},
     "output_type": "execute_result"
    }
   ],
   "source": [
    "func4(*range(100), 1)"
   ]
  },
  {
   "cell_type": "code",
   "execution_count": 75,
   "metadata": {
    "tags": []
   },
   "outputs": [
    {
     "data": {
      "text/plain": [
       "(3, 0, [])"
      ]
     },
     "execution_count": 75,
     "metadata": {},
     "output_type": "execute_result"
    }
   ],
   "source": [
    "func4()"
   ]
  }
 ],
 "metadata": {
  "kernelspec": {
   "display_name": "Python 3 (ipykernel)",
   "language": "python",
   "name": "python3"
  },
  "language_info": {
   "codemirror_mode": {
    "name": "ipython",
    "version": 3
   },
   "file_extension": ".py",
   "mimetype": "text/x-python",
   "name": "python",
   "nbconvert_exporter": "python",
   "pygments_lexer": "ipython3",
   "version": "3.11.5"
  }
 },
 "nbformat": 4,
 "nbformat_minor": 4
}
