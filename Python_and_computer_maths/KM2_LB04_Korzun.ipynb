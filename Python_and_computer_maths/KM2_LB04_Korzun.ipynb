{
 "cells": [
  {
   "cell_type": "markdown",
   "metadata": {},
   "source": [
    "# Лабораторная работа №4\n",
    "# Правильный многоугольник Рело. Векторизация вычислений в numpy"
   ]
  },
  {
   "cell_type": "markdown",
   "metadata": {},
   "source": [
    "Корзун В. А. Вариант 3 07.04.2024"
   ]
  },
  {
   "cell_type": "markdown",
   "metadata": {},
   "source": [
    "# 1. Построение треугольника Рёло"
   ]
  },
  {
   "cell_type": "markdown",
   "metadata": {},
   "source": [
    "Построим представление границы правильного треугольника Рёло в виде матрицы, каждая строка которой содержит координаты точек, описывающих границу.\n",
    "\n",
    "Полагаем, что заданы координаты центра правильного треугольника Рело center, ширина треугольника Рело r и количество точек для описания одной стороны треугольника Рело N."
   ]
  },
  {
   "cell_type": "code",
   "execution_count": 2,
   "metadata": {},
   "outputs": [],
   "source": [
    "import numpy as np\n",
    "import matplotlib.pyplot as plt"
   ]
  },
  {
   "cell_type": "code",
   "execution_count": 10,
   "metadata": {},
   "outputs": [],
   "source": [
    "n = 101 # количество вершин треугольника Рело\n",
    "center = np.array([0,0]) # координаты центра треугольника Рело\n",
    "r = 10. # ширина треугольника Рело\n",
    "N = 100 # количество точек для описания одной стороны треугольника Рело"
   ]
  },
  {
   "cell_type": "markdown",
   "metadata": {},
   "source": [
    "## 1.1 Вычисление координат вершин правильного треугольника"
   ]
  },
  {
   "cell_type": "markdown",
   "metadata": {},
   "source": [
    "Вершины правильного многоугольника расположены на окружности, описанной вокруг многоугольника. Радиус окружности R, описанной вокруг правильного $n$-угольника с длиной стороны l, вычисляется по формуле:\n",
    "\n",
    "$$ R = \\frac{l}{2 \\sin{\\pi / n}} $$"
   ]
  },
  {
   "cell_type": "markdown",
   "metadata": {},
   "source": [
    "Длина $l$ стороны правильного треугольника, на котором будем строить треугольник\n",
    "Рело, совпадает с шириной треугольника Рело $r$."
   ]
  },
  {
   "cell_type": "code",
   "execution_count": 12,
   "metadata": {},
   "outputs": [],
   "source": [
    "l = r # !!! равенство справедливо только для треугольника Рело"
   ]
  },
  {
   "cell_type": "markdown",
   "metadata": {},
   "source": [
    "Вычислим радиус описанной окружности $R$:"
   ]
  },
  {
   "cell_type": "code",
   "execution_count": 13,
   "metadata": {},
   "outputs": [],
   "source": [
    "R = l/(2*np.sin(np.pi/n))"
   ]
  },
  {
   "cell_type": "markdown",
   "metadata": {},
   "source": [
    "Зафиксируем прямоугольную декартову систему координат. Центр треугольника\n",
    "размещаем в точке center . Построим матрицу vertices с координатами вершин\n",
    "правильного треугольника, используя параметрическое описание точек описанной\n",
    "окружности по формуле $x(t) = x_0 + R \\cos t, y(t) = y_0 + R \\sin t$ для значений $t \\in \\{0, 2\\pi/3, 4\\pi/3\\}$"
   ]
  },
  {
   "cell_type": "code",
   "execution_count": 14,
   "metadata": {},
   "outputs": [
    {
     "data": {
      "text/plain": [
       "array([[ 160.77241618,    0.        ],\n",
       "       [ 160.46141756,    9.99516282],\n",
       "       [ 159.52962488,   19.9516563 ],\n",
       "       [ 157.98064308,   29.8309607 ],\n",
       "       [ 155.82046486,   39.59485491],\n",
       "       [ 153.05744753,   49.20556431],\n",
       "       [ 149.70228068,   58.62590694],\n",
       "       [ 145.76794478,   67.81943733],\n",
       "       [ 141.26966102,   76.7505875 ],\n",
       "       [ 136.22483238,   85.38480454],\n",
       "       [ 130.65297633,   93.68868437],\n",
       "       [ 124.5756493 ,  101.63010088],\n",
       "       [ 118.01636329,  109.17833027],\n",
       "       [ 111.00049489,  116.30416991],\n",
       "       [ 103.55518714,  122.98005132],\n",
       "       [  95.70924448,  129.18014679],\n",
       "       [  87.49302136,  134.88046937],\n",
       "       [  78.93830473,  140.05896562],\n",
       "       [  70.07819113,  144.69560094],\n",
       "       [  60.94695863,  148.77243709],\n",
       "       [  51.57993419,  152.27370158],\n",
       "       [  42.013357  ,  155.18584871],\n",
       "       [  32.28423829,  157.49761193],\n",
       "       [  22.43021814,  159.20004748],\n",
       "       [  12.48941983,  160.28656898],\n",
       "       [   2.50030238,  160.75297289],\n",
       "       [  -7.49848825,  160.59745477],\n",
       "       [ -17.46826869,  159.8206163 ],\n",
       "       [ -27.37046779,  158.42546291],\n",
       "       [ -37.16677587,  156.41739218],\n",
       "       [ -46.81929291,  153.80417295],\n",
       "       [ -56.29067521,  150.59591525],\n",
       "       [ -65.54427981,  146.80503121],\n",
       "       [ -74.54430633,  142.44618703],\n",
       "       [ -83.25593541,  137.53624622],\n",
       "       [ -91.64546345,  132.09420439],\n",
       "       [ -99.680433  ,  126.14111574],\n",
       "       [-107.32975832,  119.70001163],\n",
       "       [-114.56384565,  112.79581142],\n",
       "       [-121.35470772,  105.45522614],\n",
       "       [-127.676072  ,   97.70665507],\n",
       "       [-133.50348236,   89.58007593],\n",
       "       [-138.81439368,   81.10692888],\n",
       "       [-143.58825908,   72.31999488],\n",
       "       [-147.8066094 ,   63.25326887],\n",
       "       [-151.45312466,   53.94182824],\n",
       "       [-154.51369721,   44.42169717],\n",
       "       [-156.97648628,   34.72970718],\n",
       "       [-158.83196382,   24.90335469],\n",
       "       [-160.07295134,   14.98065597],\n",
       "       [-160.69464772,    5.        ],\n",
       "       [-160.69464772,   -5.        ],\n",
       "       [-160.07295134,  -14.98065597],\n",
       "       [-158.83196382,  -24.90335469],\n",
       "       [-156.97648628,  -34.72970718],\n",
       "       [-154.51369721,  -44.42169717],\n",
       "       [-151.45312466,  -53.94182824],\n",
       "       [-147.8066094 ,  -63.25326887],\n",
       "       [-143.58825908,  -72.31999488],\n",
       "       [-138.81439368,  -81.10692888],\n",
       "       [-133.50348236,  -89.58007593],\n",
       "       [-127.676072  ,  -97.70665507],\n",
       "       [-121.35470772, -105.45522614],\n",
       "       [-114.56384565, -112.79581142],\n",
       "       [-107.32975832, -119.70001163],\n",
       "       [ -99.680433  , -126.14111574],\n",
       "       [ -91.64546345, -132.09420439],\n",
       "       [ -83.25593541, -137.53624622],\n",
       "       [ -74.54430633, -142.44618703],\n",
       "       [ -65.54427981, -146.80503121],\n",
       "       [ -56.29067521, -150.59591525],\n",
       "       [ -46.81929291, -153.80417295],\n",
       "       [ -37.16677587, -156.41739218],\n",
       "       [ -27.37046779, -158.42546291],\n",
       "       [ -17.46826869, -159.8206163 ],\n",
       "       [  -7.49848825, -160.59745477],\n",
       "       [   2.50030238, -160.75297289],\n",
       "       [  12.48941983, -160.28656898],\n",
       "       [  22.43021814, -159.20004748],\n",
       "       [  32.28423829, -157.49761193],\n",
       "       [  42.013357  , -155.18584871],\n",
       "       [  51.57993419, -152.27370158],\n",
       "       [  60.94695863, -148.77243709],\n",
       "       [  70.07819113, -144.69560094],\n",
       "       [  78.93830473, -140.05896562],\n",
       "       [  87.49302136, -134.88046937],\n",
       "       [  95.70924448, -129.18014679],\n",
       "       [ 103.55518714, -122.98005132],\n",
       "       [ 111.00049489, -116.30416991],\n",
       "       [ 118.01636329, -109.17833027],\n",
       "       [ 124.5756493 , -101.63010088],\n",
       "       [ 130.65297633,  -93.68868437],\n",
       "       [ 136.22483238,  -85.38480454],\n",
       "       [ 141.26966102,  -76.7505875 ],\n",
       "       [ 145.76794478,  -67.81943733],\n",
       "       [ 149.70228068,  -58.62590694],\n",
       "       [ 153.05744753,  -49.20556431],\n",
       "       [ 155.82046486,  -39.59485491],\n",
       "       [ 157.98064308,  -29.8309607 ],\n",
       "       [ 159.52962488,  -19.9516563 ],\n",
       "       [ 160.46141756,   -9.99516282]])"
      ]
     },
     "execution_count": 14,
     "metadata": {},
     "output_type": "execute_result"
    }
   ],
   "source": [
    "t = np.arange(0,2*np.pi,2*np.pi/n)\n",
    "vertices = center + R*np.transpose([np.cos(t), np.sin(t)])\n",
    "vertices"
   ]
  },
  {
   "cell_type": "markdown",
   "metadata": {},
   "source": [
    "**Обратите внимение:** массив vertices вычислен без использования циклов. Это пример векторизации вычислений в numpy.\n",
    "\n",
    "Для доступа к элементам матрицы в numpy можно использовать индексацию с двумя индексами"
   ]
  },
  {
   "cell_type": "code",
   "execution_count": 15,
   "metadata": {},
   "outputs": [
    {
     "data": {
      "text/plain": [
       "(160.77241618042123,\n",
       " array([160.77241618,   0.        ]),\n",
       " array([   0.        ,    9.99516282,   19.9516563 ,   29.8309607 ,\n",
       "          39.59485491,   49.20556431,   58.62590694,   67.81943733,\n",
       "          76.7505875 ,   85.38480454,   93.68868437,  101.63010088,\n",
       "         109.17833027,  116.30416991,  122.98005132,  129.18014679,\n",
       "         134.88046937,  140.05896562,  144.69560094,  148.77243709,\n",
       "         152.27370158,  155.18584871,  157.49761193,  159.20004748,\n",
       "         160.28656898,  160.75297289,  160.59745477,  159.8206163 ,\n",
       "         158.42546291,  156.41739218,  153.80417295,  150.59591525,\n",
       "         146.80503121,  142.44618703,  137.53624622,  132.09420439,\n",
       "         126.14111574,  119.70001163,  112.79581142,  105.45522614,\n",
       "          97.70665507,   89.58007593,   81.10692888,   72.31999488,\n",
       "          63.25326887,   53.94182824,   44.42169717,   34.72970718,\n",
       "          24.90335469,   14.98065597,    5.        ,   -5.        ,\n",
       "         -14.98065597,  -24.90335469,  -34.72970718,  -44.42169717,\n",
       "         -53.94182824,  -63.25326887,  -72.31999488,  -81.10692888,\n",
       "         -89.58007593,  -97.70665507, -105.45522614, -112.79581142,\n",
       "        -119.70001163, -126.14111574, -132.09420439, -137.53624622,\n",
       "        -142.44618703, -146.80503121, -150.59591525, -153.80417295,\n",
       "        -156.41739218, -158.42546291, -159.8206163 , -160.59745477,\n",
       "        -160.75297289, -160.28656898, -159.20004748, -157.49761193,\n",
       "        -155.18584871, -152.27370158, -148.77243709, -144.69560094,\n",
       "        -140.05896562, -134.88046937, -129.18014679, -122.98005132,\n",
       "        -116.30416991, -109.17833027, -101.63010088,  -93.68868437,\n",
       "         -85.38480454,  -76.7505875 ,  -67.81943733,  -58.62590694,\n",
       "         -49.20556431,  -39.59485491,  -29.8309607 ,  -19.9516563 ,\n",
       "          -9.99516282]))"
      ]
     },
     "execution_count": 15,
     "metadata": {},
     "output_type": "execute_result"
    }
   ],
   "source": [
    "vertices[0,0], vertices[0,:], vertices[:,1]"
   ]
  },
  {
   "cell_type": "markdown",
   "metadata": {},
   "source": [
    "Построим изображение вершин треугольника:"
   ]
  },
  {
   "cell_type": "code",
   "execution_count": 16,
   "metadata": {},
   "outputs": [
    {
     "data": {
      "text/plain": [
       "(-176.76800091056373,\n",
       " 176.84576937523005,\n",
       " -176.82827017740553,\n",
       " 176.82827017740553)"
      ]
     },
     "execution_count": 16,
     "metadata": {},
     "output_type": "execute_result"
    },
    {
     "data": {
      "image/png": "[encoded data removed]",
      "text/plain": [
       "<Figure size 640x480 with 1 Axes>"
      ]
     },
     "metadata": {},
     "output_type": "display_data"
    }
   ],
   "source": [
    "plt.plot(vertices[:,0],vertices[:,1],'r.',markersize=20)\n",
    "plt.axis('equal')"
   ]
  },
  {
   "cell_type": "markdown",
   "metadata": {},
   "source": [
    "## 1.2 Предстваление одной стороны треугольника Рёло"
   ]
  },
  {
   "cell_type": "markdown",
   "metadata": {},
   "source": [
    "Обозначим через $\\alpha$ центральный угол, соответствующий стороне правильног $n$-угольника. Тогда:\n",
    "\n",
    "$$\\alpha = 2\\pi/n$$\n",
    "\n",
    "Обозначим через $\\beta$ центральный угол, соответствующий стороне правильного многоугольника Рело, когда центр окружности расположен в вершине правильного многоугольника. Тогда:\n",
    "\n",
    "$$\\beta = \\alpha / 2$$\n",
    "\n",
    "Необходимо построить матрицу с координатами точек, описывающих одну сторону треугольника Рело относительно вершины vertices[0] . Сторона представляет собой дугу окружности радиуса с центром в точке vertices[0] и значением угла $[\\pi - \\beta / 2, \\pi + \\beta / 2]$\n",
    "\n",
    "Вычислим значения введённых величин $\\alpha$ и $\\beta$:"
   ]
  },
  {
   "cell_type": "code",
   "execution_count": 9,
   "metadata": {},
   "outputs": [],
   "source": [
    "alpha = 2*np.pi/n\n",
    "beta = alpha/2"
   ]
  },
  {
   "cell_type": "markdown",
   "metadata": {},
   "source": [
    "Вычислим массив angle значений угла для построения координат точек стороны треугольника Рело, состоящий из N элементов:"
   ]
  },
  {
   "cell_type": "code",
   "execution_count": 10,
   "metadata": {},
   "outputs": [],
   "source": [
    "angle = np.linspace(-beta/2, beta/2, N)"
   ]
  },
  {
   "cell_type": "markdown",
   "metadata": {},
   "source": [
    "Вычислим матрицу side0 с координатами точек первой стороны треугольника Рело,\n",
    "используя параметрическое описание окружности с центром в точке vertices[0]\n",
    "радиусом r для значений угла на отрезке $[\\pi - \\beta / 2, \\pi + \\beta /2]$."
   ]
  },
  {
   "cell_type": "code",
   "execution_count": 11,
   "metadata": {},
   "outputs": [],
   "source": [
    "side0 = vertices[0] + r*np.transpose([np.cos(angle + np.pi), np.sin(angle + np.pi)])"
   ]
  },
  {
   "cell_type": "markdown",
   "metadata": {},
   "source": [
    "Построим изображение вершин и стороны треугольника Рело:"
   ]
  },
  {
   "cell_type": "code",
   "execution_count": 15,
   "metadata": {},
   "outputs": [
    {
     "data": {
      "text/plain": [
       "(-4.726350454318064, 6.273495698858845, -5.499999999999999, 5.500000000000001)"
      ]
     },
     "execution_count": 15,
     "metadata": {},
     "output_type": "execute_result"
    },
    {
     "data": {
      "image/png": "[encoded data removed]",
      "text/plain": [
       "<Figure size 640x480 with 1 Axes>"
      ]
     },
     "metadata": {},
     "output_type": "display_data"
    }
   ],
   "source": [
    "plt.plot(vertices[:,0],vertices[:,1],'r.',markersize=20)\n",
    "plt.plot(side0[:,0],side0[:,1],'b-',markersize=20)\n",
    "plt.axis('equal');"
   ]
  },
  {
   "cell_type": "markdown",
   "metadata": {},
   "source": [
    "Вычислим матрицу side1 с координатами точек, описывающих сторону треугольника Рело относительно второй вершины vertices[1] . Сторона представляет собой дугу окружности радиуса с центром в точке vertices[1] и значением угла $[\\pi - \\beta / 2 + \\alpha, \\pi + \\beta / 2 + \\alpha]$\n"
   ]
  },
  {
   "cell_type": "code",
   "execution_count": 13,
   "metadata": {},
   "outputs": [],
   "source": [
    "side1 = vertices[1] + r*np.transpose([np.cos(angle + np.pi + alpha),\n",
    "                                      np.sin(angle + np.pi + alpha)])"
   ]
  },
  {
   "cell_type": "markdown",
   "metadata": {},
   "source": [
    "Построим изображение вершин и двух сторон треугольника Рело:"
   ]
  },
  {
   "cell_type": "code",
   "execution_count": 16,
   "metadata": {},
   "outputs": [
    {
     "data": {
      "image/png": "[encoded data removed]",
      "text/plain": [
       "<Figure size 640x480 with 1 Axes>"
      ]
     },
     "metadata": {},
     "output_type": "display_data"
    }
   ],
   "source": [
    "plt.plot(vertices[:,0],vertices[:,1],'r.',markersize=20)\n",
    "plt.plot(side0[:,0],side0[:,1],'b-',markersize=20)\n",
    "plt.plot(side1[:,0],side1[:,1],'g-',markersize=20)\n",
    "plt.axis('equal');"
   ]
  },
  {
   "cell_type": "markdown",
   "metadata": {},
   "source": [
    "## 1.3 Моделирование границы треугольника Рёло"
   ]
  },
  {
   "cell_type": "markdown",
   "metadata": {},
   "source": [
    "Создадим СПИСОК из матриц, каждая их которых содержит координаты точек одной из сторон треугольника Рело:"
   ]
  },
  {
   "cell_type": "code",
   "execution_count": 17,
   "metadata": {},
   "outputs": [],
   "source": [
    "list_sides = [vertices[i] +\n",
    "              r*np.transpose([np.cos(angle + np.pi + i*alpha),\n",
    "                              np.sin(angle + np.pi + i*alpha)])\n",
    "              for i in range(n)]"
   ]
  },
  {
   "cell_type": "markdown",
   "metadata": {},
   "source": [
    "С помощью фунции concatenate из расширения numpy объединим массивы, созданные для каждой из сторон треугольника Рело, в единый массив sides:"
   ]
  },
  {
   "cell_type": "code",
   "execution_count": 18,
   "metadata": {},
   "outputs": [],
   "source": [
    "sides = np.concatenate(list_sides)"
   ]
  },
  {
   "cell_type": "markdown",
   "metadata": {},
   "source": [
    "Построим изображение вершин и всех сторон треугольника Рело:"
   ]
  },
  {
   "cell_type": "code",
   "execution_count": 22,
   "metadata": {},
   "outputs": [
    {
     "data": {
      "image/png": "[encoded data removed]",
      "text/plain": [
       "<Figure size 640x480 with 1 Axes>"
      ]
     },
     "metadata": {},
     "output_type": "display_data"
    }
   ],
   "source": [
    "plt.plot(vertices[:,0],vertices[:,1],'r.',markersize=20)\n",
    "plt.plot(sides[:,0],sides[:,1],'b-',markersize=20)\n",
    "plt.axis('equal');"
   ]
  },
  {
   "cell_type": "markdown",
   "metadata": {},
   "source": [
    "# 2 Построение правильного многоугольника Рёло"
   ]
  },
  {
   "cell_type": "markdown",
   "metadata": {},
   "source": [
    "$\\color{Red}{Создание}$ матричного описания границы правильного многоугольника Рёло для произвольных значений переменных n, center, r, N, следуя аналогичным рассуждениям из Задания 4.1 (вычисление координат вершин, представление одной стороны, моделирование всей границы). Помните, что количество вершин многоугольника должно быть нечетным.\n",
    "\n",
    "Обратите внимание, что длина стороны $l$ правильного многоугольника, на основании которого строится многоугольник Рело, является неизвестной величиной и должна быть выражена через количество вершин $n$ и ширину $r$ многоугольника Рело. $\\color{Red}{Напишем}$ подробно, как получена аналитическая зависимость $l$ от $n$ и $r$. Объяснения оформим в тексте документа с лабораторной работой."
   ]
  },
  {
   "cell_type": "markdown",
   "metadata": {},
   "source": [
    "## 2.1 Вычисление координат вершин правильного многоугольника"
   ]
  },
  {
   "cell_type": "markdown",
   "metadata": {},
   "source": [
    "$\\alpha$ - центральный угол, $\\beta = \\alpha / 2$, ширина фигуры есть расстояние от одной вершины к одной из противоположных, по теореме косинусов получим что $l$ выражается через $r$ и $n$:\n",
    "\n",
    "$$l^2 = 2 r^2 (1 - \\cos{\\frac{180}{n}})"
   ]
  },
  {
   "cell_type": "code",
   "execution_count": null,
   "metadata": {},
   "outputs": [],
   "source": [
    "alpha = 360 / n\n",
    "beta = alpha / 2\n",
    "l = np.sqrt(2 * r**2 * (1 - np.cos(np.pi / n)))"
   ]
  },
  {
   "cell_type": "markdown",
   "metadata": {},
   "source": [
    "Вершины правильного многоугольника расположены на окружности, описанной вокруг многоугольника. Радиус окружности R, описанной вокруг правильного $n$-угольника с длиной стороны $l$, вычисляется по формуле:\n",
    "\n",
    "$$ R = \\frac{l}{2 \\sin{\\pi / n}} $$"
   ]
  },
  {
   "cell_type": "code",
   "execution_count": null,
   "metadata": {},
   "outputs": [],
   "source": [
    "R = l / (2 * np.sin(np.pi / n))"
   ]
  },
  {
   "cell_type": "markdown",
   "metadata": {},
   "source": [
    "Зафиксируем прямоугольную декартову систему координат. Центр треугольника\n",
    "размещаем в точке center . Построим матрицу vertices с координатами вершин\n",
    "правильного треугольника, используя параметрическое описание точек описанной\n",
    "окружности по формуле $x(t) = x_0 + R \\cos t, y(t) = y_0 + R \\sin t$ для значений $t \\in \\{0, 2\\pi/3, 4\\pi/3\\}$"
   ]
  },
  {
   "cell_type": "code",
   "execution_count": null,
   "metadata": {},
   "outputs": [
    {
     "data": {
      "text/plain": [
       "array([[ 5.77350269,  0.        ],\n",
       "       [-2.88675135,  5.        ],\n",
       "       [-2.88675135, -5.        ]])"
      ]
     },
     "metadata": {},
     "output_type": "display_data"
    }
   ],
   "source": [
    "t = np.arange(0,2*np.pi,2*np.pi/n)\n",
    "vertices = center + R*np.transpose([np.cos(t), np.sin(t)])\n",
    "vertices"
   ]
  },
  {
   "cell_type": "markdown",
   "metadata": {},
   "source": [
    "## 2.2 Моделирование границ многоугольника Рёло"
   ]
  },
  {
   "cell_type": "markdown",
   "metadata": {},
   "source": [
    "Вычислим массив angle значений угла для построения координат точек стороны треугольника Рело, состоящий из N элементов:"
   ]
  },
  {
   "cell_type": "code",
   "execution_count": null,
   "metadata": {},
   "outputs": [],
   "source": [
    "angle = np.linspace(-beta/2, beta/2, N)"
   ]
  },
  {
   "cell_type": "markdown",
   "metadata": {},
   "source": [
    "Создадим СПИСОК из матриц, каждая их которых содержит координаты точек одной из сторон треугольника Рело:"
   ]
  },
  {
   "cell_type": "code",
   "execution_count": null,
   "metadata": {},
   "outputs": [],
   "source": [
    "list_sides = [vertices[i] +\n",
    "              r*np.transpose([np.cos(angle + np.pi + i*alpha),\n",
    "                              np.sin(angle + np.pi + i*alpha)])\n",
    "              for i in range(n)]"
   ]
  },
  {
   "cell_type": "markdown",
   "metadata": {},
   "source": [
    "С помощью фунции concatenate из расширения numpy объединим массивы, созданные для каждой из сторон треугольника Рело, в единый массив sides:"
   ]
  },
  {
   "cell_type": "code",
   "execution_count": null,
   "metadata": {},
   "outputs": [],
   "source": [
    "sides = np.concatenate(list_sides)"
   ]
  },
  {
   "cell_type": "markdown",
   "metadata": {},
   "source": [
    "# 3 Результирующая пользовательская функция"
   ]
  },
  {
   "cell_type": "markdown",
   "metadata": {},
   "source": [
    "a) $\\color{Red}{Наишем}$ пользовательскую функцию regular_polygon_Relo(n, center, r, N) на основании кода из Задания 4.2. Функция должна возвращать матрицу, каждая строка которой содержит координаты точек, описывающих границу правильного\n",
    "многоугольника Рело.\n",
    "\n",
    "Аргументы пользовательской функции:\n",
    "\n",
    "-  n : количество вершин правильного многоугольника Рело; является нечетным целым числом большим 2; стандартное значение $n = 3$;\n",
    "- center : массив координат центра правильного многоугольника Рело; стандартное значение $center = np.array([0,0])$;\n",
    "- r : ширина правильного многоугольника Рело; является положительным числом; стандартное значение $r = 1$;\n",
    "- N : количество точек для описания одной стороны правильного многоугольника Рело; является натуральным числом;  cтандартное значение $N = 100$.\n",
    "\n",
    "Код функции не должен использовать переменные из глобальной области видимости модуля. Внутри функции не должно oсуществляться отображение многоугольника Рело.\n",
    "\n",
    "b) $\\color{Red}{Осуществим}$ контроль за значениями аргументов при вызове функции с помощью оператора assert.\n",
    "\n",
    "c) $\\color{Red}{Укажем}$ аннотации типов и $\\color{Red}{оформим}$ строки документации. $\\color{Red}{Осуществим}$ доступ\n",
    "к аннотации типов и к строкам документации через атрибуты объекта функции.\n",
    "\n",
    "d) $\\color{Red}{Создадим}$ модуль relo.py, в котором будет содержаться пользовательская\n",
    "функция regular_polygon_Relo."
   ]
  },
  {
   "cell_type": "code",
   "execution_count": 21,
   "metadata": {},
   "outputs": [],
   "source": [
    "def regular_polygon_Relo(n = 3, center = np.array([0,0]), r = 1, N = 100):\n",
    "    \"\"\"Функция создающая координаты точек составляющих стороны многоугольника Рёло в зависимости от кол-ва сторон, точки начала, ширины фигуры и кол-ва точек на сторону\n",
    "\n",
    "    Arguments:\n",
    "\n",
    "    n: кол-во сторон многоугольника (n - нечётное). По умолчанию 3\n",
    "\n",
    "    center: массив состоящий из двух чисел показывающих положения точки центра фигуры. По умолчанию np.array([0,0])\n",
    "\n",
    "    r: ширина многоугольника Рёло. По умолчанию 1\n",
    "\n",
    "    N: кол-во точек на одну сторону. По умолчанию 100\n",
    "\n",
    "    Return: матрица. Массив состоящий из массивов двух чисел\n",
    "    \"\"\"\n",
    "\n",
    "    assert n % 2 != 0, 'Кол-во сторон должно быть нечётным'\n",
    "    assert n > 2, 'Кол-во сторон больше двух'\n",
    "    assert r > 0, 'Ширина должна быть положительной'\n",
    "    assert N >= 0, 'Кол-во точек N на сторону неотрицательно'\n",
    "    \n",
    "    alpha = 360 / n\n",
    "    beta = alpha / 2\n",
    "    l = np.sqrt(2 * r**2 * (1 - np.cos(np.pi / n)))\n",
    "    R = l / (2 * np.sin(np.pi / n))\n",
    "    t = np.arange(0,2*np.pi,2*np.pi/n)\n",
    "    vertices = center + R*np.transpose([np.cos(t), np.sin(t)])\n",
    "    angle = np.linspace(-beta/2, beta/2, N)\n",
    "    list_sides = [vertices[i] +\n",
    "                  r*np.transpose([np.cos(angle + np.pi + i*alpha),\n",
    "                                  np.sin(angle + np.pi + i*alpha)])\n",
    "                  for i in range(n)]\n",
    "    sides = np.concatenate(list_sides)\n",
    "    \n",
    "    return sides\n"
   ]
  },
  {
   "cell_type": "markdown",
   "metadata": {},
   "source": [
    "## 4 Тестирование функции"
   ]
  },
  {
   "cell_type": "markdown",
   "metadata": {},
   "source": [
    "a) $\\color{Red}{Протестируем}$ функцию regular_polygon_Relo из модуля relo для различных значений аргументов в предположении, что корректность вводимых данных НЕ гарантируется. Предварительно очистите ядро Python.\n",
    "\n",
    "b) $\\color{Red}{Построим}$ в одной системе координат правильные многоугольники Рело для различных значений вершин n , положений центра center , ширины r и количества точек для представления одной стороны N . При этом $\\color{Red}{вызовем}$ функцию regular_polygon_Relo с различными способами указания аргументов:\n",
    "\n",
    "- все аргументы позиционные,\n",
    "- все аргументы ключевые,\n",
    "- аргументы позиционные и ключевые,\n",
    "- все аргументы определяются стандартными значениями.\n"
   ]
  },
  {
   "cell_type": "code",
   "execution_count": 9,
   "metadata": {},
   "outputs": [
    {
     "data": {
      "image/png": "[encoded data removed]",
      "text/plain": [
       "<Figure size 640x480 with 1 Axes>"
      ]
     },
     "metadata": {},
     "output_type": "display_data"
    }
   ],
   "source": [
    "import relo\n",
    "import numpy as np\n",
    "import matplotlib.pyplot as plt\n",
    "\n",
    "sides = relo.regular_polygon_Relo(101, np.array([-1,1]), 1, 100)\n",
    "plt.plot(sides[:,0],sides[:,1],'-',markersize=10, c = 'purple')\n",
    "sides = relo.regular_polygon_Relo(n = 5, center = np.array([0,0]), r = 2, N = 100)\n",
    "plt.plot(sides[:,0],sides[:,1],'b-',markersize=10)\n",
    "sides = relo.regular_polygon_Relo()\n",
    "plt.plot(sides[:,0],sides[:,1],'r-',markersize=10)\n",
    "sides = relo.regular_polygon_Relo(7, np.array([1,0]), N = 100, r = 1)\n",
    "plt.plot(sides[:,0],sides[:,1],'g-',markersize=10)\n",
    "plt.axis('equal');"
   ]
  },
  {
   "cell_type": "code",
   "execution_count": null,
   "metadata": {},
   "outputs": [],
   "source": []
  }
 ],
 "metadata": {
  "kernelspec": {
   "display_name": "base",
   "language": "python",
   "name": "python3"
  },
  "language_info": {
   "codemirror_mode": {
    "name": "ipython",
    "version": 3
   },
   "file_extension": ".py",
   "mimetype": "text/x-python",
   "name": "python",
   "nbconvert_exporter": "python",
   "pygments_lexer": "ipython3",
   "version": "3.11.5"
  }
 },
 "nbformat": 4,
 "nbformat_minor": 2
}
